{
 "cells": [
  {
   "cell_type": "code",
   "execution_count": 1,
   "metadata": {},
   "outputs": [],
   "source": [
    "import numpy as np\n",
    "import pandas as pd\n",
    "import gc\n",
    "#from pandas_profiling import ProfileReport\n",
    "\n",
    "df_mod = pd.read_csv(r'C:\\Users\\conno\\Documents\\School\\Brazil\\MAI_5003\\Projetos\\Home_Credit\\Python\\Feature_Engineering\\modelling_table_2.csv')\n",
    "df_bur =  pd.read_csv(r'C:\\Users\\conno\\Documents\\School\\Brazil\\MAI_5003\\Projetos\\Home_Credit\\Data\\bureau.csv')\n",
    "df_prev = pd.read_csv(r'C:\\Users\\conno\\Documents\\School\\Brazil\\MAI_5003\\Projetos\\Home_Credit\\Data\\previous_application.csv')"
   ]
  },
  {
   "cell_type": "code",
   "execution_count": 2,
   "metadata": {},
   "outputs": [],
   "source": [
    "# Drop the index column\n",
    "df_mod = df_mod.drop(df_mod.columns[0], axis=1)"
   ]
  },
  {
   "cell_type": "code",
   "execution_count": 3,
   "metadata": {},
   "outputs": [],
   "source": [
    "# Create copies of the original datasets\n",
    "df_bur_add = df_bur\n",
    "df_mod_add = df_mod\n",
    "df_prev_add = df_prev"
   ]
  },
  {
   "cell_type": "code",
   "execution_count": 4,
   "metadata": {},
   "outputs": [],
   "source": [
    "# Add a column for the number of previous loans in the last month, 3 months, 6 months, 1 year\n",
    "### ~~~ LAST MONTH ~~~ ### \n",
    "df_bur_l1m = df_bur_add[df_bur_add.DAYS_CREDIT > -31].groupby('SK_ID_CURR',as_index=False)['SK_ID_BUREAU'].count().rename(columns = {'SK_ID_BUREAU': 'num_loans_l1m'})\n",
    "# Join to our original dataset\n",
    "df_mod_add = df_mod_add.merge(df_bur_l1m, on = 'SK_ID_CURR', how = 'left')\n",
    "# Replace the false conditions with 0\n",
    "df_mod_add['num_loans_l1m'] = df_mod_add['num_loans_l1m'].fillna(0)\n",
    "\n",
    "### ~~~ LAST 3 MONTHS ~~~ ### \n",
    "df_bur_l3m = df_bur_add[df_bur_add.DAYS_CREDIT > -91].groupby('SK_ID_CURR',as_index=False)['SK_ID_BUREAU'].count().rename(columns = {'SK_ID_BUREAU': 'num_loans_l3m'})\n",
    "# Join to our original dataset\n",
    "df_mod_add = df_mod_add.merge(df_bur_l3m, on = 'SK_ID_CURR', how = 'left')\n",
    "# Replace the false conditions with 0\n",
    "df_mod_add['num_loans_l3m'] = df_mod_add['num_loans_l3m'].fillna(0)\n",
    "\n",
    "### ~~~ LAST 6 MONTHS ~~~ ### \n",
    "df_bur_l6m = df_bur_add[df_bur_add.DAYS_CREDIT > -181].groupby('SK_ID_CURR',as_index=False)['SK_ID_BUREAU'].count().rename(columns = {'SK_ID_BUREAU': 'num_loans_l6m'})\n",
    "# Join to our original dataset\n",
    "df_mod_add = df_mod_add.merge(df_bur_l6m, on = 'SK_ID_CURR', how = 'left')\n",
    "# Replace the false conditions with 0\n",
    "df_mod_add['num_loans_l6m'] = df_mod_add['num_loans_l6m'].fillna(0)\n",
    "\n",
    "### ~~~ LAST 12 MONTHS ~~~ ### \n",
    "df_bur_l12m = df_bur_add[df_bur_add.DAYS_CREDIT > -366].groupby('SK_ID_CURR',as_index=False)['SK_ID_BUREAU'].count().rename(columns = {'SK_ID_BUREAU': 'num_loans_l12m'})\n",
    "# Join to our original dataset\n",
    "df_mod_add = df_mod_add.merge(df_bur_l12m, on = 'SK_ID_CURR', how = 'left')\n",
    "# Replace the false conditions with 0\n",
    "df_mod_add['num_loans_l12m'] = df_mod_add['num_loans_l12m'].fillna(0)\n",
    "\n",
    "# Check correlation to make sure the code was correct (should not = 1)\n",
    "\n",
    "#df_mod_add['num_loans_l3m'].corr(df_mod_add['num_loans_l1m'])\n",
    "#df_mod_add['num_loans_l6m'].corr(df_mod_add['num_loans_l3m'])\n",
    "#df_mod_add['num_loans_l12m'].corr(df_mod_add['num_loans_l6m'])"
   ]
  },
  {
   "cell_type": "code",
   "execution_count": 21,
   "metadata": {},
   "outputs": [],
   "source": [
    "# Calculate the current length left on the loan by dividing the current amount of credit by the loan annuity\n",
    "### Credit / Annuity ### \n",
    "df_mod_add['remaining_pmts'] = df_mod_add['AMT_CREDIT'] / df_mod_add['AMT_ANNUITY']"
   ]
  },
  {
   "cell_type": "code",
   "execution_count": 6,
   "metadata": {},
   "outputs": [],
   "source": [
    "# Loan to Income Ratio\n",
    "df_mod_add['credit_income_ratio'] = df_mod_add['AMT_CREDIT'] / df_mod_add['AMT_INCOME_TOTAL']"
   ]
  },
  {
   "cell_type": "code",
   "execution_count": 7,
   "metadata": {},
   "outputs": [],
   "source": [
    "#df_mod_add.drop(columns=['sum_tot_credit_debt'])\n",
    "# Total Credit Debt\n",
    "df_bur_tot_debt = df_bur_add.groupby('SK_ID_CURR',as_index=False)['AMT_CREDIT_SUM_DEBT'].sum().rename(columns = {'AMT_CREDIT_SUM_DEBT': 'sum_tot_credit_debt'})\n",
    "# Join to our original dataset\n",
    "df_mod_add = df_mod_add.merge(df_bur_tot_debt, on = 'SK_ID_CURR', how = 'left')\n",
    "# Replace the missings with 0\n",
    "df_mod_add['sum_tot_credit_debt'] = df_mod_add['sum_tot_credit_debt'].fillna(0)"
   ]
  },
  {
   "cell_type": "code",
   "execution_count": 8,
   "metadata": {},
   "outputs": [],
   "source": [
    "# Total Credit Limit\n",
    "df_bur_tot_lim = df_bur_add.groupby('SK_ID_CURR',as_index=False)['AMT_CREDIT_SUM'].sum().rename(columns = {'AMT_CREDIT_SUM': 'sum_tot_credit_lim'})\n",
    "# Join to our original dataset\n",
    "df_mod_add = df_mod_add.merge(df_bur_tot_lim, on = 'SK_ID_CURR', how = 'left')\n",
    "# Replace the missings with 0\n",
    "df_mod_add['sum_tot_credit_lim'] = df_mod_add['sum_tot_credit_lim'].fillna(0)"
   ]
  },
  {
   "cell_type": "code",
   "execution_count": 9,
   "metadata": {},
   "outputs": [],
   "source": [
    "# Total Credit Debt / Limit Ratio\n",
    "df_mod_add['tot_debt_lim_ratio'] = df_mod_add['sum_tot_credit_debt'] / df_mod_add['sum_tot_credit_lim']\n",
    "# Fill NaNs (no limit, no debt, with 0s)\n",
    "df_mod_add['tot_debt_lim_ratio'] = df_mod_add['tot_debt_lim_ratio'].fillna(0)\n",
    "\n",
    "# Fill infinites (debt & no limit, with 1s)\n",
    "df_mod_add['tot_debt_lim_ratio'].replace(np.inf, 1,inplace=True)"
   ]
  },
  {
   "cell_type": "code",
   "execution_count": 10,
   "metadata": {},
   "outputs": [],
   "source": [
    "# HomeCredit Loan / Limit Ratio\n",
    "df_mod_add['loan_tot_lim_ratio'] = df_mod_add['AMT_CREDIT'] / df_mod_add['sum_tot_credit_lim']\n",
    "# Fill infinites (No previous limit, with 1s)\n",
    "df_mod_add['loan_tot_lim_ratio'].replace(np.inf, 1,inplace=True)"
   ]
  },
  {
   "cell_type": "code",
   "execution_count": 11,
   "metadata": {},
   "outputs": [],
   "source": [
    "# Boolean value to represent a previous customer with Home Credit who has paid off all of their loans on time\n",
    "\n",
    "# Boolean for whether the customer is a previously approved customer\n",
    "df_mod_add['prev_ap_cust'] = np.minimum(1,df_mod_add['cnt_approved_contract_previous'])\n",
    "\n",
    "# Boolean for whether the customer paid off their previous Home Credit loans appropriately\n",
    "# These three attributes measure whether the customer was past due:\n",
    "# For Credit Cards: max_credit_card_sk_dpd_def_previous - Maximum days past due with tolerance on credit card\n",
    "# For Installments: max_installments_gap_days_payment_previous - Maximum installments gap (when whas paid versus when was supposed to be payd) in days\n",
    "# Give 15 grace days here:\n",
    "df_mod_add['max_installments_gap_days_payment_previous_grace'] = df_mod_add['max_installments_gap_days_payment_previous']\n",
    "df_mod_add.loc[df_mod_add['max_installments_gap_days_payment_previous'] < 46, 'max_installments_gap_days_payment_previous_grace'] = 0\n",
    "\n",
    "# For POS Cash: max_pos_cash_sk_dpd_previous - Maximum days past due on pos cash\n",
    "\n",
    "# If all of these are 0, then the customer did not have any payment problems\n",
    "df_mod_add['no_prev_hc_bad_pmt'] = 1 - np.minimum(df_mod_add[['max_credit_card_sk_dpd_def_previous','max_installments_gap_days_payment_previous_grace','max_pos_cash_sk_dpd_previous']].max(axis=1),1)\n",
    "#np.maximum(df_mod_add['max_credit_card_sk_dpd_def_previous'],df_mod_add['max_installments_gap_days_payment_previous'],df_mod_add['max_pos_cash_sk_dpd_previous'])\n",
    "\n",
    "df_mod_add['prev_hc_good_pmt'] = np.minimum(df_mod_add['prev_ap_cust'],df_mod_add['no_prev_hc_bad_pmt'])\n",
    "df_mod_add = df_mod_add.drop(columns=['no_prev_hc_bad_pmt','max_installments_gap_days_payment_previous_grace'])"
   ]
  },
  {
   "cell_type": "code",
   "execution_count": 12,
   "metadata": {},
   "outputs": [],
   "source": [
    "# Amount already paid on the loan\n",
    "df_mod_add['amt_paid_down'] = df_mod_add['AMT_GOODS_PRICE'] - df_mod_add['AMT_CREDIT']"
   ]
  },
  {
   "cell_type": "code",
   "execution_count": 13,
   "metadata": {},
   "outputs": [],
   "source": [
    "def iv_woe(data, target, bins=10, show_woe=False):\n",
    "    \n",
    "    #Empty Dataframe\n",
    "    newDF,woeDF = pd.DataFrame(), pd.DataFrame()\n",
    "    \n",
    "    #Extract Column Names\n",
    "    cols = data.columns\n",
    "    \n",
    "    #Run WOE and IV on all the independent variables\n",
    "    for ivars in cols[~cols.isin([target])]:\n",
    "        if (data[ivars].dtype.kind in 'bifc') and (len(np.unique(data[ivars]))>10):\n",
    "            binned_x = pd.qcut(data[ivars], bins,  duplicates='drop')\n",
    "            d0 = pd.DataFrame({'x': binned_x, 'y': data[target]})\n",
    "        else:\n",
    "            d0 = pd.DataFrame({'x': data[ivars], 'y': data[target]})\n",
    "        d = d0.groupby(\"x\", as_index=False).agg({\"y\": [\"count\", \"sum\"]})\n",
    "        d.columns = ['Cutoff', 'N', 'Events']\n",
    "        d['% of Events'] = np.maximum(d['Events'], 0.5) / d['Events'].sum()\n",
    "        d['Non-Events'] = d['N'] - d['Events']\n",
    "        d['% of Non-Events'] = np.maximum(d['Non-Events'], 0.5) / d['Non-Events'].sum()\n",
    "        d['WoE'] = np.log(d['% of Events']/d['% of Non-Events'])\n",
    "        d['IV'] = d['WoE'] * (d['% of Events'] - d['% of Non-Events'])\n",
    "        d.insert(loc=0, column='Variable', value=ivars)\n",
    "        #print(\"Information value of \" + ivars + \" is \" + str(round(d['IV'].sum(),6)))\n",
    "        temp =pd.DataFrame({\"Variable\" : [ivars], \"IV\" : [d['IV'].sum()]}, columns = [\"Variable\", \"IV\"])\n",
    "        newDF=pd.concat([newDF,temp], axis=0)\n",
    "        woeDF=pd.concat([woeDF,d], axis=0)\n",
    "\n",
    "        #Show WOE Table\n",
    "        if show_woe == True:\n",
    "            print(d)\n",
    "    return newDF, woeDF"
   ]
  },
  {
   "cell_type": "code",
   "execution_count": 14,
   "metadata": {},
   "outputs": [
    {
     "data": {
      "text/plain": [
       "NearestNeighbors(n_neighbors=500)"
      ]
     },
     "execution_count": 14,
     "metadata": {},
     "output_type": "execute_result"
    }
   ],
   "source": [
    "#from sklearn.cluster import KMeans\n",
    "\n",
    "# Calculate the mean Target of the 500 nearest neighbors using only the highest IV attributes\n",
    "# Attributes to be used in KNN\n",
    "x_df_mod_knn = df_mod_add[['EXT_SOURCE_3','EXT_SOURCE_1','EXT_SOURCE_2','remaining_pmts']]\n",
    "\n",
    "from sklearn.neighbors import NearestNeighbors\n",
    "neigh = NearestNeighbors(n_neighbors=500)\n",
    "neigh.fit(x_df_mod_knn)"
   ]
  },
  {
   "cell_type": "code",
   "execution_count": 15,
   "metadata": {},
   "outputs": [],
   "source": [
    "# Loop through each value in the dataframe and find the mean target for each value\n",
    "df_mod_add['mean_knn_target'] = -9"
   ]
  },
  {
   "cell_type": "code",
   "execution_count": 16,
   "metadata": {},
   "outputs": [],
   "source": [
    "# Progress bar\n",
    "import time, sys\n",
    "from IPython.display import clear_output\n",
    "\n",
    "def update_progress(progress):\n",
    "    bar_length = 20\n",
    "    if isinstance(progress, int):\n",
    "        progress = float(progress)\n",
    "    if not isinstance(progress, float):\n",
    "        progress = 0\n",
    "    if progress < 0:\n",
    "        progress = 0\n",
    "    if progress >= 1:\n",
    "        progress = 1\n",
    "\n",
    "    block = int(round(bar_length * progress))\n",
    "\n",
    "    clear_output(wait = True)\n",
    "    text = \"Progress: [{0}] {1:.1f}%\".format( \"#\" * block + \"-\" * (bar_length - block), progress * 100)\n",
    "    print(text)"
   ]
  },
  {
   "cell_type": "code",
   "execution_count": 17,
   "metadata": {},
   "outputs": [
    {
     "name": "stdout",
     "output_type": "stream",
     "text": [
      "Progress: [####################] 100.0%\n"
     ]
    }
   ],
   "source": [
    "# Calculate the mean Target of the 500 nearest neighbors using only the highest IV attributes\n",
    "# Attributes to be used in KNN\n",
    "x_df_mod_knn = df_mod_add[['EXT_SOURCE_3','EXT_SOURCE_1','EXT_SOURCE_2','remaining_pmts']]\n",
    "\n",
    "for i,r in x_df_mod_knn.iterrows():\n",
    "    nn = neigh.kneighbors([r],return_distance=False)\n",
    "    nn_df = df_mod_add.iloc[list(nn[0,:])]\n",
    "    df_mod_add.loc[i, 'mean_knn_target'] = nn_df['TARGET'].mean()\n",
    "    \n",
    "    update_progress(i / x_df_mod_knn.shape[0])\n",
    "\n",
    "update_progress(1)"
   ]
  },
  {
   "cell_type": "code",
   "execution_count": 20,
   "metadata": {},
   "outputs": [
    {
     "data": {
      "text/plain": [
       "count    307511.000000\n",
       "mean          0.077868\n",
       "std           0.066178\n",
       "min           0.000000\n",
       "25%           0.030000\n",
       "50%           0.058000\n",
       "75%           0.104000\n",
       "max           0.446000\n",
       "Name: mean_knn_target, dtype: float64"
      ]
     },
     "execution_count": 20,
     "metadata": {},
     "output_type": "execute_result"
    }
   ],
   "source": [
    "#df_mod_add['mean_knn_target'].value_counts()\n",
    "#df_mod_add['mean_knn_target'].describe()"
   ]
  },
  {
   "cell_type": "code",
   "execution_count": 23,
   "metadata": {},
   "outputs": [],
   "source": [
    "iv, woe = iv_woe(data=df_mod_add,target='TARGET',bins=10,show_woe=False)\n",
    "\n",
    "iv = iv.sort_values(by='IV',ascending=False)\n",
    "iv.to_csv('Information_Value_NewTable2.csv')"
   ]
  },
  {
   "cell_type": "code",
   "execution_count": 24,
   "metadata": {},
   "outputs": [],
   "source": [
    "df_mod_add.to_csv('modeling_table_3.csv')"
   ]
  }
 ],
 "metadata": {
  "kernelspec": {
   "display_name": "Python 3",
   "language": "python",
   "name": "python3"
  },
  "language_info": {
   "codemirror_mode": {
    "name": "ipython",
    "version": 3
   },
   "file_extension": ".py",
   "mimetype": "text/x-python",
   "name": "python",
   "nbconvert_exporter": "python",
   "pygments_lexer": "ipython3",
   "version": "3.7.6"
  }
 },
 "nbformat": 4,
 "nbformat_minor": 4
}
