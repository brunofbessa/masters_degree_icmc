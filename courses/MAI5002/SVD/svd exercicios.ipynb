{
 "cells": [
  {
   "cell_type": "markdown",
   "metadata": {},
   "source": [
    "# <font color='blue'>Decomposição em Valores Singulares<br><br> (Singular Value Decomposition  - SVD)</font>\n",
    "\n",
    "## Exercícios\n",
    "\n",
    "## Luis Gustavo Nonato  \n",
    "\n",
    "ICMC-USP\n",
    "\n",
    "----"
   ]
  },
  {
   "cell_type": "code",
   "execution_count": null,
   "metadata": {},
   "outputs": [],
   "source": [
    "import numpy as np\n",
    "import matplotlib.pyplot as plt\n",
    "%matplotlib inline"
   ]
  },
  {
   "cell_type": "markdown",
   "metadata": {},
   "source": [
    "### Exercício 1) \n",
    "Considere a matriz $\\mathbf{A}$ abaixo cujos elementos são números inteiros no intervalo $[0,10)$ gerados randomicamente. Suponha que as colunas de $\\mathbf{A}$ sejam pontos em um espaço $\\mathbb{R}^n$. \n",
    "\n",
    "a) Qual o posto da matriz $\\mathbf{A}$?\n",
    "\n",
    "b) Encontre a matriz com metade do posto de $\\mathbf{A}$ que melhor aproxima $\\mathbf{A}$.\n",
    "\n",
    "c) Qual o erro de aproximação na norma $L^2$?"
   ]
  },
  {
   "cell_type": "code",
   "execution_count": null,
   "metadata": {},
   "outputs": [],
   "source": [
    "n = 20\n",
    "A = np.random.randint(0,10,size=(n,n))"
   ]
  },
  {
   "cell_type": "markdown",
   "metadata": {},
   "source": [
    "### Exercício 2)\n",
    "Calcule o erro de aproximação do exercício anterior utilizando os valores singulares e justifique sua resposta:"
   ]
  },
  {
   "cell_type": "code",
   "execution_count": null,
   "metadata": {},
   "outputs": [],
   "source": []
  },
  {
   "cell_type": "markdown",
   "metadata": {},
   "source": [
    "### Exercício 3) \n",
    "Considere o conjunto de pontos, gerados na célula abaixo, armazenados como colunas da matriz $\\mathbf{X}$.\n",
    "\n",
    "a) Faça um scatter plot dos pontos e note que eles estão alinhados com uma reta, porém possuem um grau de ruído. \n",
    "\n",
    "b) Utilize SVD para remover o ruido dos dados, alinhando-os mais precisamente à forma de uma reta."
   ]
  },
  {
   "cell_type": "code",
   "execution_count": null,
   "metadata": {},
   "outputs": [],
   "source": [
    "n = 100\n",
    "t = np.linspace(0,1,n)\n",
    "X = np.zeros((2,n))\n",
    "X[0,:] = 2*t\n",
    "X[1,:] = X[0,:]+np.random.uniform(-0.3,0.3,n)"
   ]
  },
  {
   "cell_type": "markdown",
   "metadata": {},
   "source": [
    "### Exercício 4)\n",
    "Considere a matriz abaixo onde as colunas correspondem às direções principais de um conjunto de dados no espaço $\\mathbb{R}^7$. Sabendo que as colunas estão ordenadas de acordo com as variâncias dos dados em ordem decrescente da esquerda para a direita e que as variâncias estão igualmente espaçadas no intervalo $[1^{-3},2]$. Construa um conjunto de $n$ pontos $\\mathbf{X}$ (cada ponto é uma coluna de $\\mathbf{X}$) cujas direções principais são dadas pela matriz abaixo.\n",
    "\n",
    "$$\n",
    "\\begin{bmatrix}\n",
    "-0.28 & -0.76  & 0.33  & 0.39 & -0.11 & -0.15 &  0.2 \\\\\n",
    "-0.47  & 0.41  & 0.17  & 0.58 & -0.12  & 0.39 & -0.27\\\\\n",
    "-0.41 & -0.29 & -0.21 & -0.48 & -0.04  & 0.68  & 0.1 \\\\\n",
    "-0.32 & -0.1  & -0.76  & 0.27 &  0.41 & -0.25 & -0.05\\\\\n",
    "-0.36 & -0.02  & 0.43 & -0.35 & 0.53 & -0.24 & -0.48\\\\\n",
    "-0.46  & 0.15 & -0.12 & -0.28 & -0.66 & -0.48 &  -0.05\\\\\n",
    "-0.3  &  0.36 &  0.2  & -0.05  & 0.29 & -0.1 &   0.8 \n",
    "\\end{bmatrix}\n",
    "$$\n",
    "\n",
    "Verifique a corretude dos dados gerados calculando suas direções principais associadas."
   ]
  },
  {
   "cell_type": "code",
   "execution_count": null,
   "metadata": {
    "scrolled": true
   },
   "outputs": [],
   "source": [
    "import numpy as np\n",
    "\n",
    "U = np.asarray([[-0.28, -0.76,  0.33,  0.39, -0.11, -0.15,  0.2 ],\n",
    "                [-0.47,  0.41,  0.17,  0.58, -0.12,  0.39, -0.27],\n",
    "                [-0.41, -0.29, -0.21, -0.48, -0.04,  0.68,  0.1 ],\n",
    "                [-0.32, -0.10, -0.76,  0.27,  0.41, -0.25, -0.05],\n",
    "                [-0.36, -0.02,  0.43, -0.35,  0.53, -0.24, -0.48],\n",
    "                [-0.46,  0.15, -0.12, -0.28, -0.66, -0.48, -0.05],\n",
    "                [-0.30,  0.36,  0.20, -0.05,  0.29, -0.10,   0.8]]) \n",
    "\n"
   ]
  },
  {
   "cell_type": "markdown",
   "metadata": {},
   "source": [
    "### Exercício 5)\n",
    "Construa uma transformação linear que leve os vetores $v_1=[1,0,1]$ e $v_2=[0,1,0]$ nos vetores $u_1=[2,1]$ e $u_2=[-0.5,1]$. Verifique a corretude da transformação construida."
   ]
  },
  {
   "cell_type": "code",
   "execution_count": null,
   "metadata": {},
   "outputs": [],
   "source": []
  },
  {
   "cell_type": "markdown",
   "metadata": {},
   "source": [
    "### Exercício 6)\n",
    "Considere a matriz $\\mathbf{X}$ gerada na célula abaixo, cujas colunas correspondem a pontos em um espaço de dimensão $20$. Utilize análise de componentes principais (calculada via SVD) para projetar os pontos em um espaço de dimensão 2 e visualize os pontos projetados através de um scatter plot."
   ]
  },
  {
   "cell_type": "code",
   "execution_count": null,
   "metadata": {},
   "outputs": [],
   "source": [
    "from sklearn.datasets import make_blobs\n",
    "X, _ = make_blobs(200,20)\n",
    "X = X.T"
   ]
  }
 ],
 "metadata": {
  "kernelspec": {
   "display_name": "Python 3",
   "language": "python",
   "name": "python3"
  },
  "language_info": {
   "codemirror_mode": {
    "name": "ipython",
    "version": 3
   },
   "file_extension": ".py",
   "mimetype": "text/x-python",
   "name": "python",
   "nbconvert_exporter": "python",
   "pygments_lexer": "ipython3",
   "version": "3.7.1"
  }
 },
 "nbformat": 4,
 "nbformat_minor": 2
}
