{
 "cells": [
  {
   "cell_type": "markdown",
   "metadata": {},
   "source": [
    "# <font color='blue'>MAI5002 - Fundamentos de Matemática Aplicada</font>\n",
    "\n",
    "## <font color='blue'>Ortogonalidade - Solução dos Exercícios </font>\n",
    "\n",
    "### Material produzido por Luis Gustavo Nonato \n",
    "\n",
    "ICMC-USP\n",
    "\n",
    "----"
   ]
  },
  {
   "cell_type": "code",
   "execution_count": 22,
   "metadata": {},
   "outputs": [],
   "source": [
    "import numpy as np\n",
    "import matplotlib.pyplot as plt"
   ]
  },
  {
   "cell_type": "markdown",
   "metadata": {},
   "source": [
    "### Exercício 1)\n",
    "O arquivo `teste_matriz.dat` (disponível para download no repositório) armazena uma matriz com 10 linhas e 7 colunas. Leia a matriz e verifique se as colunas são ortogonais."
   ]
  },
  {
   "cell_type": "code",
   "execution_count": 6,
   "metadata": {},
   "outputs": [
    {
     "name": "stdout",
     "output_type": "stream",
     "text": [
      "[[ 1.  0.  0.  0. -0. -0. -0.]\n",
      " [ 0.  1.  0. -0. -0.  0. -0.]\n",
      " [ 0.  0.  1.  0. -0.  0. -0.]\n",
      " [ 0. -0.  0.  1. -0. -0.  0.]\n",
      " [-0. -0. -0. -0.  1. -0. -0.]\n",
      " [-0.  0.  0. -0. -0.  1.  0.]\n",
      " [-0. -0. -0.  0. -0.  0.  1.]]\n"
     ]
    }
   ],
   "source": [
    "# Solução\n"
   ]
  },
  {
   "cell_type": "markdown",
   "metadata": {},
   "source": [
    "### Exercício 2)\n",
    "Construa uma transformação linear que leva vetores de $\\mathbb{R}^5$ para o sub-espaço $\\mathcal{S}$ gerado pelos vetores $[1,1,1]$ e $[0,0,1]$ em $\\mathbb{R}^3$. Verificar que a transformação obtida está realizando o mapeamento corretamente."
   ]
  },
  {
   "cell_type": "code",
   "execution_count": 12,
   "metadata": {},
   "outputs": [
    {
     "name": "stdout",
     "output_type": "stream",
     "text": [
      "[[1. 0. 1. 1. 2.]\n",
      " [1. 0. 1. 1. 2.]\n",
      " [1. 1. 0. 2. 1.]]\n"
     ]
    }
   ],
   "source": [
    "# Solução"
   ]
  },
  {
   "cell_type": "markdown",
   "metadata": {},
   "source": [
    "### Exercício 3)\n",
    "Construa uma transformação linear $\\mathbf{A}:\\mathbb{R}^5\\rightarrow\\mathbb{R}^3$ de modo que os vetores $[1,1,0,0,0]$ e $[0,1,0,0,0]$ sejam o complemento ortogonal do espaço linha.\n",
    "Vefique que a transformação encontrada está correta."
   ]
  },
  {
   "cell_type": "code",
   "execution_count": 19,
   "metadata": {},
   "outputs": [
    {
     "name": "stdout",
     "output_type": "stream",
     "text": [
      "[0 0 0]\n",
      "[0 0 0]\n"
     ]
    }
   ],
   "source": [
    "# Solução\n",
    "\n"
   ]
  },
  {
   "cell_type": "markdown",
   "metadata": {},
   "source": [
    "### Exercício 4)\n",
    "Construa uma transformação linear que mapeie o hiperplano $x_1+x_2+x_3+x_4+x_5=0$ para o  espaço $\\mathbb{R}^2$ e visualize o resultado da transformação para alguns pontos gerados sobre o hiperplano."
   ]
  },
  {
   "cell_type": "code",
   "execution_count": 26,
   "metadata": {},
   "outputs": [
    {
     "name": "stdout",
     "output_type": "stream",
     "text": [
      "[0. 0. 0. 0. 0. 0. 0. 0. 0. 0. 0. 0. 0. 0. 0. 0. 0. 0. 0. 0. 0. 0. 0. 0.\n",
      " 0. 0. 0. 0. 0. 0. 0. 0. 0. 0. 0. 0. 0. 0. 0. 0. 0. 0. 0. 0. 0. 0. 0. 0.\n",
      " 0. 0. 0. 0. 0. 0. 0. 0. 0. 0. 0. 0. 0. 0. 0. 0. 0. 0. 0. 0. 0. 0. 0. 0.\n",
      " 0. 0. 0. 0. 0. 0. 0. 0. 0. 0. 0. 0. 0. 0. 0. 0. 0. 0. 0. 0. 0. 0. 0. 0.\n",
      " 0. 0. 0. 0.]\n"
     ]
    }
   ],
   "source": [
    "# Solução\n"
   ]
  },
  {
   "cell_type": "markdown",
   "metadata": {},
   "source": [
    "### Exercício 5)\n",
    "No exercício anterior, podemos afirmar que qualquer ponto  (diferente de $[0,0]$) sobre o hiperplano $x_1+x_2+x_3+x_4+x_5=0$ será mapeado para um ponto diferente de $[0,0]$ em $\\mathbb{R}^2$? Em caso afirmativo justifique sua resposta, em caso negativo, dê exemplo de um ponto sobre no hiperplano que é mapeado na origem do espaço $\\mathbb{R}^2$."
   ]
  },
  {
   "cell_type": "code",
   "execution_count": 33,
   "metadata": {},
   "outputs": [
    {
     "name": "stdout",
     "output_type": "stream",
     "text": [
      "ponto z=a*y1+b*y2 pertence ao plano? True\n",
      "A imagem de z= [-1.5  1.  -1.5  1.   1. ] pela transformação A é [0. 0.]\n"
     ]
    }
   ],
   "source": [
    "# Solução"
   ]
  },
  {
   "cell_type": "markdown",
   "metadata": {},
   "source": [
    "### Exercício 6) \n",
    "Considere a transformação linear dada pela matriz \n",
    "$$\n",
    "\\left(\\begin{array}{ccccccc}\n",
    "3 & 9 & 6 & 6 & 9 & 3 & 1\\\\\n",
    "2 & 0 & 9 & 2 & 0 & 5 & 3\\\\\n",
    "0 & 0 & 1 & 0 & 1 & 0 & 2\n",
    "\\end{array}\\right)\n",
    "$$\n",
    "\n",
    "a) Qual a dimensão do núcleo da transformação?<br>\n",
    "b) Encontre uma base para o espaço núcleo.<br>\n",
    "c) Verifique que a base encontrada está gerando o  núcleo."
   ]
  },
  {
   "cell_type": "code",
   "execution_count": 14,
   "metadata": {},
   "outputs": [
    {
     "name": "stdout",
     "output_type": "stream",
     "text": [
      "\n",
      "Determinante de\n",
      " [[3 9 6]\n",
      " [2 0 9]\n",
      " [0 0 1]]  =  -17.999999999999996\n",
      "\n",
      "Dimensão do núcleo de\n",
      " [[3 9 6 6 9 3 1]\n",
      " [2 0 9 2 0 5 3]\n",
      " [0 0 1 0 1 0 2]] \n",
      " é 4\n"
     ]
    }
   ],
   "source": [
    "# Solução\n",
    "B = np.asarray([[3, 9, 6, 6, 9, 3, 1],\n",
    "                [2, 0, 9, 2, 0, 5, 3],\n",
    "                [0, 0, 1 , 0, 1, 0, 2]])\n"
   ]
  },
  {
   "cell_type": "code",
   "execution_count": 17,
   "metadata": {},
   "outputs": [
    {
     "name": "stdout",
     "output_type": "stream",
     "text": [
      "[[ 0. -0.  0. -0.]\n",
      " [ 0.  0.  0.  0.]\n",
      " [ 0.  0.  0.  0.]]\n"
     ]
    }
   ],
   "source": [
    "# Verificando que os vetores calculados estão no núcleo\n",
    "\n",
    "np.set_printoptions(precision=5,suppress=True)\n",
    "print(np.dot(B,base))"
   ]
  },
  {
   "cell_type": "markdown",
   "metadata": {},
   "source": [
    "### Exercício 7)\n",
    "Sabemos que para toda transformação linear $\\mathbf{X}$, os vetores que pertencem ao espaço linha de $\\mathbf{X}$ são ortogonais aos vetores que estão no espaço nulo de $\\mathbf{X}$.\n",
    "\n",
    "Considerando a propriedade acima, construa uma transformação linear cujo núcleo (espaço nulo) é gerado pelos vetores $\\mathbf{x}_1=[1,1,0,1]$ e $\\mathbf{x}_2=[0,1,0,1]$."
   ]
  },
  {
   "cell_type": "markdown",
   "metadata": {},
   "source": [
    "### Exercício 8)\n",
    "Escreva um código para, dada uma base qualquer de um subespaço, encontrar uma base ortonormal para este mesmo subespaço. Teste o seu código para a base dada como colunas da matriz $\\mathbf{V}$ gerada no código abaixo. Verifique que a base obtida é de fato ortonormal."
   ]
  },
  {
   "cell_type": "code",
   "execution_count": 1,
   "metadata": {},
   "outputs": [
    {
     "name": "stdout",
     "output_type": "stream",
     "text": [
      "[[17  7 10  0 16 14 13 14  0  0]\n",
      " [15  6 17  5  3 11 15 19  9  9]\n",
      " [ 9 12 19 13  8  8  9 12 17 17]\n",
      " [16  5 19  6  0 17  7 16 10  7]\n",
      " [ 0  4 14  9  1 19 17  3  1  9]\n",
      " [ 9  2 18 11 10 13  0 19  2  1]\n",
      " [12  1 14  4 11 16 10 17 14  9]\n",
      " [18 12 10 19 13 17  9  1  7  9]\n",
      " [ 2 18  1  7 17  4  8 12  5 12]\n",
      " [ 4  0 16  0 10  8 13  5 10 19]\n",
      " [ 5  3  8 14 12 11  8  0 14 12]\n",
      " [ 3 17  6  6 15 13  8 13  1 12]\n",
      " [ 6  8 10 16  7  7 11 15  8 11]\n",
      " [ 2 15  0 10  8 12  9  0  1 16]\n",
      " [ 1 15 18  7  3 15 11 14  2 15]\n",
      " [ 0 10 12 18 17 18  0  3  1  9]\n",
      " [19  9  1 19 13  9  7 19 12  4]\n",
      " [ 7 16  6 17 18 15  1 14  8  0]\n",
      " [ 6 13  3 13  3  9  5 18 16 10]\n",
      " [10 19  4 13 11  0  1  4 19 17]]\n"
     ]
    }
   ],
   "source": [
    "# Solução"
   ]
  },
  {
   "cell_type": "markdown",
   "metadata": {},
   "source": [
    "### Exercício 9) \n",
    "Considere o espaço gerado pelos vetores $[1,1,1]$ e $[1,0,1]$. Construa uma base ortogonal para este espaço e encontre a projeção de qualquer ponto de $\\mathbb{R}^3$ sobre plano gerado pelos vetores ortogonais."
   ]
  }
 ],
 "metadata": {
  "kernelspec": {
   "display_name": "Python 3",
   "language": "python",
   "name": "python3"
  },
  "language_info": {
   "codemirror_mode": {
    "name": "ipython",
    "version": 3
   },
   "file_extension": ".py",
   "mimetype": "text/x-python",
   "name": "python",
   "nbconvert_exporter": "python",
   "pygments_lexer": "ipython3",
   "version": "3.7.1"
  }
 },
 "nbformat": 4,
 "nbformat_minor": 2
}
