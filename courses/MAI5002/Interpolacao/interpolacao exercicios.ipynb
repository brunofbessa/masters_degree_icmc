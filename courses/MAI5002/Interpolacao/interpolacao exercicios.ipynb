{
 "cells": [
  {
   "cell_type": "markdown",
   "metadata": {},
   "source": [
    "# <font color='blue'>Interpolação de Funções</font>\n",
    "\n",
    "## Exercícios\n",
    "\n",
    "### Material produzido por Luis Gustavo Nonato\n",
    "\n",
    "ICMC-USP\n",
    "\n",
    "----"
   ]
  },
  {
   "cell_type": "code",
   "execution_count": 1,
   "metadata": {},
   "outputs": [],
   "source": [
    "import numpy as np\n",
    "import matplotlib.pyplot as plt\n",
    "from scipy.interpolate import CubicSpline\n",
    "from scipy.interpolate import lagrange"
   ]
  },
  {
   "cell_type": "markdown",
   "metadata": {},
   "source": [
    "### Exercício 1)\n",
    "Dados um conjunto de pontos $\\{x_1,\\ldots,x_n\\}$ e valores $\\{y_1,\\ldots ,y_n\\}$, quais as hipóteses para que o polinômio interpolador exista e seja único?"
   ]
  },
  {
   "cell_type": "markdown",
   "metadata": {},
   "source": [
    "**Solução**\n",
    "\n"
   ]
  },
  {
   "cell_type": "markdown",
   "metadata": {},
   "source": [
    "### Exercício 2)\n",
    "Sabendo que a equação $x−\\exp(−x)=0$ tem uma raiz em [0,1], pode-se aproximar tal raiz utilizando um polinômio interpolador sobre 3 pontos. Encontre uma aproximação para a raiz utilizando tal esquema. Compare o resultado obtido com o zero encontrado pelo método de Newton."
   ]
  },
  {
   "cell_type": "markdown",
   "metadata": {},
   "source": [
    "**Solução**\n",
    "\n"
   ]
  },
  {
   "cell_type": "code",
   "execution_count": null,
   "metadata": {},
   "outputs": [],
   "source": []
  },
  {
   "cell_type": "markdown",
   "metadata": {},
   "source": [
    "### Exercício 3)\n",
    "Considere a função $f(x) = \\cos(x)$ definida no intervalo $[0,1]$. Suponha que $f$ deva ser aproximada por um polinômio interpolador de grau $n$ de tal forma que o erro de aproximação seja menor ou igual a $10^{-1}$. Supondo uma amostragem de $f$ com pontos igualmente espaçados, encontre um valor de $n$ de modo que tal erro seja atingido.\n",
    "\n",
    "Uma vez encontrado o grau do polinômio, defina o número de pontos que devem ser utilizados na aproximação e faça os gráficos de $f(x) = \\cos(x)$ e do polinômio interpolador."
   ]
  },
  {
   "cell_type": "markdown",
   "metadata": {},
   "source": [
    "**Solução**\n",
    "\n"
   ]
  },
  {
   "cell_type": "code",
   "execution_count": null,
   "metadata": {},
   "outputs": [],
   "source": []
  },
  {
   "cell_type": "markdown",
   "metadata": {},
   "source": [
    "### Exercício 4)\n",
    "Considere a matriz abaixo, onde a primeira linha corresponde a coordenada $x$ e a segunda a coordenada $y$ dos pontos que definem a figura apresentada.\n",
    "\n",
    "Construa uma aproximação suave da figura utilizando splines cúbicas."
   ]
  },
  {
   "cell_type": "code",
   "execution_count": 2,
   "metadata": {},
   "outputs": [
    {
     "data": {
      "text/plain": [
       "[<matplotlib.lines.Line2D at 0x1281ef198>]"
      ]
     },
     "execution_count": 2,
     "metadata": {},
     "output_type": "execute_result"
    },
    {
     "data": {
      "image/png": "[encoded data removed]",
      "text/plain": [
       "<Figure size 432x288 with 1 Axes>"
      ]
     },
     "metadata": {
      "needs_background": "light"
     },
     "output_type": "display_data"
    }
   ],
   "source": [
    "ptos = np.array([[1.0, 0.5, 1.0, 1.0, 2.0, 2.5, 2.0, 1.0, 0.3, 0.7, 0.0, -0.7, -0.3, -1.0, -2.0, -2.5, -2.0, -1.0, -1.0, -0.5, -1.0, 1.0],\n",
    "                 [0.0, 0.7, 1.5, 4.0, 4.0, 4.0, 4.5, 4.5, 5.0, 5.5, 6.5, 5.5, 5.0, 4.5, 4.5, 4.0, 4.0, 4.0, 1.5, 0.7, 0.0, 0.0]])\n",
    "\n",
    "plt.plot(ptos[0,:],ptos[1,:])"
   ]
  },
  {
   "cell_type": "code",
   "execution_count": null,
   "metadata": {},
   "outputs": [],
   "source": [
    "# Solucção"
   ]
  },
  {
   "cell_type": "markdown",
   "metadata": {},
   "source": [
    "### Exercício 5)\n",
    "Considere o conjunto de valores $y_i$ fornecidos na célula abaixo e suponha que o domínio esteja definio no intervalo $[-\\pi,\\pi]$. Realize interpolação usando polinômios de Lagrande e Splines Cúbicas. Compare graficamente as duas soluções."
   ]
  },
  {
   "cell_type": "code",
   "execution_count": null,
   "metadata": {},
   "outputs": [],
   "source": [
    "x = np.linspace(-np.pi,np.pi,15)\n",
    "y = np.sin(2*x**2) - 0.5/(1+x) + np.random.uniform(-0.3,0.3,15)\n",
    "\n",
    "plt.scatter(x,y)"
   ]
  },
  {
   "cell_type": "code",
   "execution_count": null,
   "metadata": {},
   "outputs": [],
   "source": []
  }
 ],
 "metadata": {
  "kernelspec": {
   "display_name": "Python 3",
   "language": "python",
   "name": "python3"
  },
  "language_info": {
   "codemirror_mode": {
    "name": "ipython",
    "version": 3
   },
   "file_extension": ".py",
   "mimetype": "text/x-python",
   "name": "python",
   "nbconvert_exporter": "python",
   "pygments_lexer": "ipython3",
   "version": "3.7.1"
  }
 },
 "nbformat": 4,
 "nbformat_minor": 2
}
