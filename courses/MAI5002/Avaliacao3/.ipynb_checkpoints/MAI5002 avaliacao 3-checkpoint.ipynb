{
 "cells": [
  {
   "cell_type": "markdown",
   "metadata": {
    "id": "3J8Vh1kwEk1V"
   },
   "source": [
    "# <font color='blue'>MAI5002 - Fundamentos de Matemática Aplicada</font>\n",
    "\n",
    "## Terceira Avaliação 04/12/2020\n",
    "\n",
    "### Prof. Luis Gustavo Nonato  \n",
    "\n",
    "ICMC-USP\n",
    "\n",
    "----"
   ]
  },
  {
   "cell_type": "markdown",
   "metadata": {
    "id": "85BABrsiEk1Z"
   },
   "source": [
    "## <font color='blue'> Instruções para Avaliação 3</font>\n",
    "<font color='blue'> Os seguintes passos devem ser seguidos para realizar a avaliação:\n",
    "\n",
    "1. Assine a lista de presença `lista de presenca` disponível no arquivo que está no diretório _Avaliacao 3/Entrega Avaliacao 3_ do repositório Google Drive\n",
    "2. Baixe e renomeie o notebook `MAI5002 avaliacao 3.ipynb` com seu nome e número USP\n",
    "3. Uma vez que tenha concluído a avaliação, faça upload do notebook (renomeado) no diretório _Avaliacao 3/Entrega Avaliacao 3_\n",
    "\n",
    "O diretório _Avaliacao 3/Entrega Avaliacao 3_ estará aberto para upload até as 17h do dia 06/12. Após esta data e horário não será possível fazer o upload.\n",
    "\n",
    "Você precisa incluir o código Python que calcula o resultado da questão. \n",
    "Todas as questões da prova valem 2.5 pontos.\n",
    "</font>"
   ]
  },
  {
   "cell_type": "markdown",
   "metadata": {
    "id": "uc6pjyPrEk1b"
   },
   "source": [
    "<font color='red'> Não esqueça de renomear o notebook com seu nome e número USP antes de fazer upload no Drive. <br><br>Por exemplo: <br><br> **Gustavo_Nonato_3223813.ipynb** <br><br> Insira também seu nome e número USP na célula abaixo.</font>\n",
    "\n",
    "---"
   ]
  },
  {
   "cell_type": "markdown",
   "metadata": {
    "id": "c6j1NEduEk1d"
   },
   "source": [
    "**Nome:** \n",
    "\n",
    "**\\#USP:** \n",
    "\n",
    "---"
   ]
  },
  {
   "cell_type": "markdown",
   "metadata": {
    "id": "e41G6ecQEk1f"
   },
   "source": [
    "### Questão 1) \n",
    "A área de um cone de altura $h$ e raio $r$ é dada pela função\n",
    "\n",
    "$$\n",
    "A(r,h)=\\pi r(r+\\sqrt{h^2+r^2})\n",
    "$$\n",
    "\n",
    "Utilize o método de Newton para encontar o raio de um cone com altura $h=9$ e área de 750."
   ]
  },
  {
   "cell_type": "code",
   "execution_count": null,
   "metadata": {
    "id": "DlhTxgWhEk1i"
   },
   "outputs": [],
   "source": [
    "#Solução\n",
    "\n"
   ]
  },
  {
   "cell_type": "markdown",
   "metadata": {},
   "source": [
    "### Questão 2)\n",
    "Encontre a solução do sistema de equações abaixo que está no quadrante $x>0$ e $y>0$.\n",
    "\n",
    "$$\n",
    "h_1(x,y)=1-x\\cos(y)-x=0\\\\\n",
    "h_2(x,y)=x\\sin(y)-0.1x^2 + e^{-x}-1=0 \n",
    "$$"
   ]
  },
  {
   "cell_type": "code",
   "execution_count": null,
   "metadata": {},
   "outputs": [],
   "source": []
  },
  {
   "cell_type": "markdown",
   "metadata": {},
   "source": [
    "### Questão 3)\n",
    "Quais devem ser as dimensões de um paralelepípedo com área 50$cm^3$ para que ele tenha volume máximo?\n",
    "\n",
    "**Dica**: Lembre-se que a área do paralelepípedo é: $A=2ab+2bc+2ac$, onde $a,b,c$ são os comprimentos dos lados."
   ]
  },
  {
   "cell_type": "code",
   "execution_count": null,
   "metadata": {},
   "outputs": [],
   "source": []
  },
  {
   "cell_type": "markdown",
   "metadata": {},
   "source": [
    "### Questão 4)\n",
    "Considere o conjunto de pontos gerados na célula abaixo. Interpole os pontos utilizando splines cúbicas e faça o gráfico dos pontos e do gráfico da função interpoladora."
   ]
  },
  {
   "cell_type": "code",
   "execution_count": 11,
   "metadata": {},
   "outputs": [],
   "source": [
    "X = np.zeros((2,30))\n",
    "X[0,:] = np.linspace(-1,1,30)\n",
    "X[1,:] = np.random.normal(0,0.5,30)"
   ]
  }
 ],
 "metadata": {
  "colab": {
   "collapsed_sections": [],
   "name": "MAI5002 avaliacao 2.ipynb",
   "provenance": []
  },
  "kernelspec": {
   "display_name": "Python 3",
   "language": "python",
   "name": "python3"
  },
  "language_info": {
   "codemirror_mode": {
    "name": "ipython",
    "version": 3
   },
   "file_extension": ".py",
   "mimetype": "text/x-python",
   "name": "python",
   "nbconvert_exporter": "python",
   "pygments_lexer": "ipython3",
   "version": "3.8.3"
  }
 },
 "nbformat": 4,
 "nbformat_minor": 1
}
