{
 "cells": [
  {
   "cell_type": "markdown",
   "metadata": {
    "id": "3J8Vh1kwEk1V"
   },
   "source": [
    "# <font color='blue'>MAI5002 - Fundamentos de Matemática Aplicada</font>\n",
    "\n",
    "## Terceira Avaliação 04/12/2020\n",
    "\n",
    "### Prof. Luis Gustavo Nonato  \n",
    "\n",
    "ICMC-USP\n",
    "\n",
    "----"
   ]
  },
  {
   "cell_type": "markdown",
   "metadata": {
    "id": "85BABrsiEk1Z"
   },
   "source": [
    "## <font color='blue'> Instruções para Avaliação 3</font>\n",
    "<font color='blue'> Os seguintes passos devem ser seguidos para realizar a avaliação:\n",
    "\n",
    "1. Assine a lista de presença `lista de presenca` disponível no arquivo que está no diretório _Avaliacao 3/Entrega Avaliacao 3_ do repositório Google Drive\n",
    "2. Baixe e renomeie o notebook `MAI5002 avaliacao 3.ipynb` com seu nome e número USP\n",
    "3. Uma vez que tenha concluído a avaliação, faça upload do notebook (renomeado) no diretório _Avaliacao 3/Entrega Avaliacao 3_\n",
    "\n",
    "O diretório _Avaliacao 3/Entrega Avaliacao 3_ estará aberto para upload até as 17h do dia 06/12. Após esta data e horário não será possível fazer o upload.\n",
    "\n",
    "Você precisa incluir o código Python que calcula o resultado da questão. \n",
    "Todas as questões da prova valem 2.5 pontos.\n",
    "</font>"
   ]
  },
  {
   "cell_type": "markdown",
   "metadata": {
    "id": "uc6pjyPrEk1b"
   },
   "source": [
    "<font color='red'> Não esqueça de renomear o notebook com seu nome e número USP antes de fazer upload no Drive. <br><br>Por exemplo: <br><br> **Gustavo_Nonato_3223813.ipynb** <br><br> Insira também seu nome e número USP na célula abaixo.</font>\n",
    "\n",
    "---"
   ]
  },
  {
   "cell_type": "markdown",
   "metadata": {
    "id": "c6j1NEduEk1d"
   },
   "source": [
    "**Nome:** Bruno Fernandes Bessa de Oliveira\n",
    "\n",
    "**\\#USP:** 5881890\n",
    "\n",
    "---"
   ]
  },
  {
   "cell_type": "markdown",
   "metadata": {
    "id": "e41G6ecQEk1f"
   },
   "source": [
    "### Questão 1) \n",
    "A área de um cone de altura $h$ e raio $r$ é dada pela função\n",
    "\n",
    "$$\n",
    "A(r,h)=\\pi r(r+\\sqrt{h^2+r^2})\n",
    "$$\n",
    "\n",
    "Utilize o método de Newton para encontar o raio de um cone com altura $h=9$ e área de 750."
   ]
  },
  {
   "cell_type": "code",
   "execution_count": 1,
   "metadata": {
    "id": "DlhTxgWhEk1i"
   },
   "outputs": [],
   "source": [
    "import numpy as np\n",
    "import matplotlib.pyplot as plt\n",
    "import scipy.interpolate"
   ]
  },
  {
   "cell_type": "markdown",
   "metadata": {},
   "source": [
    "Vamos utlizar o método de Newton para obter o zero da função f. \n",
    "$$\n",
    "f(r, h) = \\pi r(r+\\sqrt{h^2+r^2}) -A\n",
    "$$\n",
    "$$\n",
    "\\frac{df}{dr}(r, h) = \\frac{\\pi(r+\\sqrt{h^2+r^2})^2}{\\sqrt{h^2+r^2}}\n",
    "$$"
   ]
  },
  {
   "cell_type": "code",
   "execution_count": 2,
   "metadata": {},
   "outputs": [
    {
     "name": "stdout",
     "output_type": "stream",
     "text": [
      "Utiizando método de Newton inicializado com valor da ordem de grandeza de h: r_inicio = 9.\n",
      "Zero da função r = 10.102142188104505 encontrado.\n",
      "f(r) = 0.0\n",
      "Visualização do ponto zero da função:\n"
     ]
    },
    {
     "data": {
      "text/plain": [
       "<matplotlib.collections.PathCollection at 0x11dbcb340>"
      ]
     },
     "execution_count": 2,
     "metadata": {},
     "output_type": "execute_result"
    },
    {
     "data": {
      "image/png": "[encoded data removed]",
      "text/plain": [
       "<Figure size 432x288 with 1 Axes>"
      ]
     },
     "metadata": {
      "needs_background": "light"
     },
     "output_type": "display_data"
    }
   ],
   "source": [
    "# Solução:\n",
    "\n",
    "r = np.linspace(0,20,1000)\n",
    "h = 9\n",
    "A = 750\n",
    "f   = lambda r: np.pi * r * (r + np.sqrt(h**2 + r**2)) - A\n",
    "df  = lambda r: np.pi * (r + np.sqrt(h**2 + r**2))**2 / (np.sqrt(h**2 + r**2))\n",
    "\n",
    "def Newton_Parelepipedae(r_inicio):\n",
    "    ri = r_inicio\n",
    "    i = 1\n",
    "    for i in range(20):\n",
    "        ri = ri - f(ri)/df(ri)\n",
    "        i += 1\n",
    "    return ri\n",
    "\n",
    "r_inicio = h\n",
    "r_0 = Newton_Parelepipedae(r_inicio)\n",
    "\n",
    "print('Utiizando método de Newton inicializado com valor da ordem de grandeza de h: r_inicio = {}.'.format(r_inicio))\n",
    "print('Zero da função r = {} encontrado.'.format(r_0))\n",
    "print('f(r) = {}'.format(f(r_0)))\n",
    "print('Visualização do ponto zero da função:')\n",
    "plt.plot(r, f(r))\n",
    "plt.scatter(r_0,f(r_0),color='red')"
   ]
  },
  {
   "cell_type": "markdown",
   "metadata": {},
   "source": [
    "### Questão 2)\n",
    "Encontre a solução do sistema de equações abaixo que está no quadrante $x>0$ e $y>0$.\n",
    "\n",
    "$$\n",
    "h_1(x,y)=1-x\\cos(y)-x=0\\\\\n",
    "h_2(x,y)=x\\sin(y)-0.1x^2 + e^{-x}-1=0 \n",
    "$$"
   ]
  },
  {
   "cell_type": "markdown",
   "metadata": {},
   "source": [
    "Utiizaremos o método de Newton aplicado ao sistema de equações proposto. Para este fim vamos calcular a matriz Jacobiana:\n",
    "$$\n",
    "J = \n",
    "\\begin{bmatrix}\n",
    "\\frac{\\partial h_1}{\\partial x} & \\frac{\\partial h_1}{\\partial y} \\\\  \n",
    "\\frac{\\partial h_2}{\\partial x} & \\frac{\\partial h_2}{\\partial y} \\\\ \n",
    "\\end{bmatrix}=\n",
    "\\begin{bmatrix}\n",
    "-cos(y)-1 & sin(y)-0.2x - e^{-x} \\\\\n",
    "xsin(y)   & xcos(y)\n",
    "\\end{bmatrix}\n",
    "$$\n",
    "\n",
    "Ademais, vamos inicializar o método com pontos no primeiro quadrante: (x, y) = (0.5, 0.5)"
   ]
  },
  {
   "cell_type": "code",
   "execution_count": 3,
   "metadata": {},
   "outputs": [
    {
     "name": "stdout",
     "output_type": "stream",
     "text": [
      "A solução do sistema encontrada foi: (x, y) = (0.63,0.94)\n"
     ]
    }
   ],
   "source": [
    "# Solução:\n",
    "\n",
    "h1 = lambda x, y: 1 - x*np.cos(y) - x\n",
    "h2 = lambda x, y: x*np.sin(y) - 0.1*x**2 + np.exp(-x) -1\n",
    "J = lambda x, y: np.array([[-1*np.cos(y) - 1, np.sin(y) - 0.2*x - np.exp(-x)],\n",
    "                           [x*np.sin(y)     , x*np.cos(y)                   ]])\n",
    "\n",
    "# condições iniciais\n",
    "x_inicio = np.array([.5, .5])\n",
    "\n",
    "def Newton_Sistema(x_inicio):\n",
    "    xi = x_inicio\n",
    "    H = np.zeros(2)\n",
    "    for i in range(20):\n",
    "        H[:] = [h1(xi[0], xi[1]), h2(xi[0], xi[1])]\n",
    "        Dx = np.linalg.solve(J(xi[0], xi[1]), -H)\n",
    "        xi = xi + Dx\n",
    "    return xi\n",
    "    \n",
    "p_solucao = Newton_Sistema(x_inicio)\n",
    "print('A solução do sistema encontrada foi: (x, y) = ({:.2f},{:.2f})'.format(p_solucao[0], p_solucao[1]))"
   ]
  },
  {
   "cell_type": "markdown",
   "metadata": {},
   "source": [
    "Porém se investigarmos mais a fundo a natureza das funções obtidas veremos que no primeiro quadrante há uma família de soluções, pois há a formação de modos harmônicos nas soluções do sistema. A solução geral será (para k um número natural):\n",
    "$$\n",
    "x, y = 0.63, 0.94 + 2k\\pi\\\\\n",
    "$$\n",
    "\n",
    "Vamos mostrar graficamente abaixo a natureza harmônica da solução."
   ]
  },
  {
   "cell_type": "code",
   "execution_count": 4,
   "metadata": {},
   "outputs": [
    {
     "data": {
      "text/plain": [
       "<matplotlib.collections.PathCollection at 0x11dce3760>"
      ]
     },
     "execution_count": 4,
     "metadata": {},
     "output_type": "execute_result"
    },
    {
     "data": {
      "image/png": "[encoded data removed]",
      "text/plain": [
       "<Figure size 432x288 with 1 Axes>"
      ]
     },
     "metadata": {
      "needs_background": "light"
     },
     "output_type": "display_data"
    }
   ],
   "source": [
    "xx1, xx2 = np.meshgrid(np.linspace(-1, 30, 1000),np.linspace(-1, 30, 1000))\n",
    "zz1 = 1 - xx1*np.cos(xx2) - xx1\n",
    "zz2 = xx1*np.sin(xx2) - 0.1*xx1**2 + np.exp(-1*xx1) -1\n",
    "\n",
    "fig, ax = plt.subplots()\n",
    "ax.set_aspect('equal')\n",
    "ax.set_xlabel('$x$')\n",
    "ax.set_ylabel('$y$')\n",
    "CS1 = ax.contour(xx1, xx2, zz1,levels = [0.0],colors='b')\n",
    "CS2 = ax.contour(xx1, xx2, zz2,levels = [0.0],colors='g')\n",
    "plt.scatter(p_solucao[0], p_solucao[1],color='red')"
   ]
  },
  {
   "cell_type": "code",
   "execution_count": 5,
   "metadata": {},
   "outputs": [
    {
     "name": "stdout",
     "output_type": "stream",
     "text": [
      "Demonstrando numericamente que a solução periódica resolve o sistema (k inteiro aleatório, 4 casas decimais): \n",
      "\n",
      "k=761: h1=-0.0000,  h2=-0.0000\n",
      "k=426: h1=-0.0000,  h2=-0.0000\n",
      "k=285: h1=-0.0000,  h2=-0.0000\n",
      "k=691: h1=-0.0000,  h2=-0.0000\n",
      "k=990: h1=-0.0000,  h2=-0.0000\n",
      "k=84: h1=-0.0000,  h2=-0.0000\n",
      "k=839: h1=-0.0000,  h2=-0.0000\n",
      "k=740: h1=-0.0000,  h2=-0.0000\n",
      "k=984: h1=-0.0000,  h2=-0.0000\n",
      "k=658: h1=-0.0000,  h2=-0.0000\n"
     ]
    }
   ],
   "source": [
    "print('Demonstrando numericamente que a solução periódica resolve o sistema (k inteiro aleatório, 4 casas decimais): \\n')\n",
    "\n",
    "for i in range(10):\n",
    "    k = np.random.randint(0, 1000)\n",
    "    h1_teste = h1(p_solucao[0], p_solucao[1] + 2*k*np.pi)\n",
    "    h2_teste = h2(p_solucao[0], p_solucao[1] + 2*k*np.pi)\n",
    "    print('k={}: h1={:.4f},  h2={:.4f}'.format(k, h1_teste, h2_teste))"
   ]
  },
  {
   "cell_type": "markdown",
   "metadata": {},
   "source": [
    "### Questão 3)\n",
    "Quais devem ser as dimensões de um paralelepípedo com área 50$cm^2$ para que ele tenha volume máximo?\n",
    "\n",
    "**Dica**: Lembre-se que a área do paralelepípedo é: $A=2ab+2bc+2ac$, onde $a,b,c$ são os comprimentos dos lados."
   ]
  },
  {
   "cell_type": "markdown",
   "metadata": {},
   "source": [
    "Utilizaremos os multiplicadores de Lagrange para encontrar o mínimo da função volume. Para tanto, definiremos o volume como um número negativo. Teremos:\n",
    "$$\n",
    "f = -abc \\\\\n",
    "g = 2(ab + bc + ac) - 50 \\\\\n",
    "$$\n",
    "\n",
    "Pelo método de Lagrange temos\n",
    "$$\n",
    "F = f - \\lambda g \\\\\n",
    "\\nabla F = 0\n",
    "$$\n",
    "\n",
    "Resultando no sistema abaixo:\n",
    "$$\n",
    "h_1 = -bc + 2 \\lambda (b + c) \\\\\n",
    "h_2 = -ac + 2 \\lambda (a + c) \\\\\n",
    "h_3 = -ab + 2 \\lambda (a + b) \\\\\n",
    "h_4 = 2 \\lambda (ab + bc + ac)\n",
    "$$\n",
    "\n",
    "A matrix Jacobiana será dada por:\n",
    "$$\n",
    "J = \n",
    "\\begin{bmatrix}\n",
    "\\frac{\\partial h_1}{\\partial a} & \\frac{\\partial h_1}{\\partial b} & \\frac{\\partial h_1}{\\partial c} & \\frac{\\partial h_1}{\\partial \\lambda}\\\\  \n",
    "\\frac{\\partial h_2}{\\partial a} & \\frac{\\partial h_2}{\\partial b} & \\frac{\\partial h_2}{\\partial c} & \\frac{\\partial h_2}{\\partial \\lambda}\\\\ \n",
    "\\frac{\\partial h_3}{\\partial a} & \\frac{\\partial h_3}{\\partial b} & \\frac{\\partial h_3}{\\partial c} & \\frac{\\partial h_3}{\\partial \\lambda}\\\\ \n",
    "\\frac{\\partial h_4}{\\partial a} & \\frac{\\partial h_4}{\\partial b} & \\frac{\\partial h_4}{\\partial c} & \\frac{\\partial h_4}{\\partial \\lambda}\\\\ \n",
    "\\end{bmatrix} =\n",
    "\\begin{bmatrix}\n",
    "0              & -c+2 \\lambda   & -b+2 \\lambda   & 2(b+c) \\\\\n",
    "-c+2 \\lambda   & 0              & -a+2 \\lambda   & 2(a+c) \\\\\n",
    "-b+2 \\lambda   & -a+2 \\lambda   & 0              & 2(b+b) \\\\\n",
    "2 \\lambda(b+c) & 2 \\lambda(a+c) & 2 \\lambda(b+a) & 0 \\\\\n",
    "\\end{bmatrix}\n",
    "$$"
   ]
  },
  {
   "cell_type": "code",
   "execution_count": 6,
   "metadata": {},
   "outputs": [
    {
     "name": "stdout",
     "output_type": "stream",
     "text": [
      "A solução é: \n",
      " a=2.8868\n",
      " b=2.8868\n",
      " c=2.8868\n",
      " lambda=0.7217\n"
     ]
    }
   ],
   "source": [
    "# a, b, c, lambda = x[0], x[1], x[2], x[3]\n",
    "A = 50\n",
    "f = lambda x: -x[0]*x[1]*[2] \n",
    "g = lambda x: 2*(x[0]*x[1] + x[1]*x[2] + x[0]*x[2]) - A\n",
    "\n",
    "h1 = lambda x:   -x[1]*x[2] + 2*x[3]*(x[1] + x[2])\n",
    "h2 = lambda x:   -x[0]*x[2] + 2*x[3]*(x[0] + x[2])\n",
    "h3 = lambda x:   -x[0]*x[1] + 2*x[3]*(x[0] + x[1])\n",
    "h4 = lambda x: 2*(x[0]*x[1] + x[1]*x[2] + x[0]*x[2]) - A\n",
    "\n",
    "J = lambda x: np.array([[              0,   -x[2] + 2*x[3],   -x[1] + 2*x[3], 2*(x[1] + x[2])],\n",
    "                        [ -x[2] + 2*x[3],                0,   -x[0] + 2*x[3], 2*(x[0] + x[2])],\n",
    "                        [ -x[1] + 2*x[3],   -x[0] + 2*x[3],                0, 2*(x[0] + x[1])],\n",
    "                        [2*(x[1] + x[2]),   2*(x[0] + x[2]), 2*(x[1] + x[0]),              0]])\n",
    "\n",
    "def Newton_Volume(x_0):\n",
    "    n = 1000\n",
    "    x = np.array(x_0)  \n",
    "    H = np.zeros(4)\n",
    "    for i in range(1, n):\n",
    "        H[:] = [h1(x), h2(x), h3(x), h4(x)]\n",
    "        dx   = np.linalg.solve(J(x), -H)\n",
    "        x    = x + dx    \n",
    "    return(x)\n",
    "\n",
    "x0 = np.array([3.1, 3.1, 3.1, 1])\n",
    "s = Newton_Volume(x0)\n",
    "print('A solução é: \\n a={:.4f}\\n b={:.4f}\\n c={:.4f}\\n lambda={:.4f}'.format(s[0], s[1], s[2], s[3]))"
   ]
  },
  {
   "cell_type": "markdown",
   "metadata": {},
   "source": [
    "### Questão 4)\n",
    "Considere o conjunto de pontos gerados na célula abaixo. Interpole os pontos utilizando splines cúbicas e faça o gráfico dos pontos e do gráfico da função interpoladora."
   ]
  },
  {
   "cell_type": "code",
   "execution_count": 7,
   "metadata": {},
   "outputs": [],
   "source": [
    "X = np.zeros((2,30))\n",
    "X[0,:] = np.linspace(-1,1,30)\n",
    "X[1,:] = np.random.normal(0,0.5,30)"
   ]
  },
  {
   "cell_type": "markdown",
   "metadata": {},
   "source": [
    "Os pontos originais gerados são:"
   ]
  },
  {
   "cell_type": "code",
   "execution_count": 8,
   "metadata": {},
   "outputs": [
    {
     "data": {
      "text/plain": [
       "<matplotlib.collections.PathCollection at 0x12147a2e0>"
      ]
     },
     "execution_count": 8,
     "metadata": {},
     "output_type": "execute_result"
    },
    {
     "data": {
      "image/png": "[encoded data removed]",
      "text/plain": [
       "<Figure size 432x288 with 1 Axes>"
      ]
     },
     "metadata": {
      "needs_background": "light"
     },
     "output_type": "display_data"
    }
   ],
   "source": [
    "plt.scatter(X[0], X[1])"
   ]
  },
  {
   "cell_type": "markdown",
   "metadata": {},
   "source": [
    "Vamos utilizar a implementação das splines cúbicas da biblioteca scipy:"
   ]
  },
  {
   "cell_type": "code",
   "execution_count": 9,
   "metadata": {},
   "outputs": [
    {
     "data": {
      "text/plain": [
       "[<matplotlib.lines.Line2D at 0x1214c8580>]"
      ]
     },
     "execution_count": 9,
     "metadata": {},
     "output_type": "execute_result"
    },
    {
     "data": {
      "image/png": "[encoded data removed]",
      "text/plain": [
       "<Figure size 432x288 with 1 Axes>"
      ]
     },
     "metadata": {
      "needs_background": "light"
     },
     "output_type": "display_data"
    }
   ],
   "source": [
    "cs = scipy.interpolate.CubicSpline(X[0], X[1])\n",
    "\n",
    "t = np.linspace(-1.0, 1.0, 1000)\n",
    "pcs = cs(t)\n",
    "\n",
    "plt.scatter(X[0], X[1])\n",
    "plt.plot(t,pcs)"
   ]
  }
 ],
 "metadata": {
  "colab": {
   "collapsed_sections": [],
   "name": "MAI5002 avaliacao 2.ipynb",
   "provenance": []
  },
  "kernelspec": {
   "display_name": "Python 3",
   "language": "python",
   "name": "python3"
  },
  "language_info": {
   "codemirror_mode": {
    "name": "ipython",
    "version": 3
   },
   "file_extension": ".py",
   "mimetype": "text/x-python",
   "name": "python",
   "nbconvert_exporter": "python",
   "pygments_lexer": "ipython3",
   "version": "3.8.5"
  }
 },
 "nbformat": 4,
 "nbformat_minor": 1
}
