{
 "cells": [
  {
   "cell_type": "markdown",
   "metadata": {},
   "source": [
    "# <font color='blue'>Equações Não Lineares</font>\n",
    "\n",
    "## Solução dos Exercícios\n",
    "\n",
    "### Material produzido por Luis Gustavo Nonato\n",
    "\n",
    "ICMC-USP\n",
    "\n",
    "----"
   ]
  },
  {
   "cell_type": "code",
   "execution_count": null,
   "metadata": {},
   "outputs": [],
   "source": [
    "import numpy as np\n",
    "import matplotlib.pyplot as plt"
   ]
  },
  {
   "cell_type": "markdown",
   "metadata": {},
   "source": [
    "### Exercício 1)\n",
    "Encontre todas as raízes da função $f(x)=x^2-\\sin(x)$ utilizando o método de Newton."
   ]
  },
  {
   "cell_type": "code",
   "execution_count": null,
   "metadata": {},
   "outputs": [],
   "source": []
  },
  {
   "cell_type": "markdown",
   "metadata": {},
   "source": [
    "### Exercício 2)\n",
    "Encontre a solução da equação $\\sin(x)=\\frac{x}{4}$. Analise como o método de Newton se comporta neste caso e tende entender geometricamente o que está acontecendo."
   ]
  },
  {
   "cell_type": "code",
   "execution_count": null,
   "metadata": {},
   "outputs": [],
   "source": []
  },
  {
   "cell_type": "markdown",
   "metadata": {},
   "source": [
    "### Exercício 3)\n",
    "Encontre a solução para o seguinte sistema de equações:\n",
    "\n",
    "$$\n",
    "h_1(x,y)= x^2+xy^2 = 9\\\\\n",
    "h_2(x,y)= 3x^2y-y^3=4\n",
    "$$\n",
    "\n",
    "Faça a representação gráfica das curvas no intervalo $x\\in[-5,5]$ e $y\\in[-5,5]$ e verifique visualmente se a solução encontrada está correta. Veja se consegue definir condições iniciais para atingir todas as soluções que podem ser visualizadas na representação gráfica."
   ]
  },
  {
   "cell_type": "code",
   "execution_count": null,
   "metadata": {},
   "outputs": [],
   "source": []
  },
  {
   "cell_type": "markdown",
   "metadata": {},
   "source": [
    "### Exercício 4)\n",
    "Utilize o método de Newton e Quase-Newton para encontrar o ponto de mínimo da função:\n",
    "\n",
    "$$\n",
    "f(x,y)=(y-x^2)^2+(1-x)^2\n",
    "$$\n",
    "\n",
    "Compare a velocidade de convergência dos dois métodos."
   ]
  },
  {
   "cell_type": "code",
   "execution_count": null,
   "metadata": {},
   "outputs": [],
   "source": []
  },
  {
   "cell_type": "markdown",
   "metadata": {},
   "source": [
    "### Exercício 5)\n",
    "Utilize os multiplicadores de Lagrange para determinar todos os pontos que sejam solução de \n",
    "\n",
    "$$\\min x^2y \\quad \\mbox{sujeito a } \\\\ x^2+2y^2=6$$"
   ]
  },
  {
   "cell_type": "code",
   "execution_count": null,
   "metadata": {},
   "outputs": [],
   "source": []
  },
  {
   "cell_type": "markdown",
   "metadata": {},
   "source": [
    "## Exercício 6)\n",
    "Repita o exercício anterior utilizando o método Quase-Newton. Utilizando condições iniciais apropriadas, veja se consegue encontrar todas as soluções. "
   ]
  },
  {
   "cell_type": "code",
   "execution_count": null,
   "metadata": {},
   "outputs": [],
   "source": []
  },
  {
   "cell_type": "markdown",
   "metadata": {},
   "source": [
    "### Exercício 7) \n",
    "\n",
    "Encontre o ponto da parábola $y=x^2$ que está mais próximo do ponto $(3,1)$."
   ]
  },
  {
   "cell_type": "code",
   "execution_count": null,
   "metadata": {},
   "outputs": [],
   "source": []
  },
  {
   "cell_type": "markdown",
   "metadata": {},
   "source": [
    "### Exercício 8)\n",
    "\n",
    "Determine a curva de nível de $f(x,y)=x^2+16y^2$ que seja tangente à curva $xy=1$, $x>0$ e $y>0$. Qual o ponto de tangência?"
   ]
  },
  {
   "cell_type": "code",
   "execution_count": null,
   "metadata": {},
   "outputs": [],
   "source": []
  },
  {
   "cell_type": "markdown",
   "metadata": {},
   "source": [
    "### Exercício 9)\n",
    "Encontre os pontos da curva $x^2−6xy−7y^2+80=0$ mais próximos da origem. Desenhe a curva."
   ]
  },
  {
   "cell_type": "code",
   "execution_count": null,
   "metadata": {},
   "outputs": [],
   "source": []
  },
  {
   "cell_type": "markdown",
   "metadata": {},
   "source": [
    "### Exercício 10)\n",
    "O pacote <font color='blue'> optimize </font> do <font color='blue'> scipy </font> possui uma função <font color='blue'> fsolve </font> que implementa um método para encontrar a raiz de um sistema de equações não lineares. O código abaixo fornece um exemplo da função para encontrar a solução de:\n",
    "\n",
    "$$\n",
    "x^2 + y^2 - 4 = 0\\\\\n",
    "x^2−6xy−7y^2+80 = 0\n",
    "$$"
   ]
  },
  {
   "cell_type": "code",
   "execution_count": null,
   "metadata": {},
   "outputs": [],
   "source": [
    "# exemplo do método fsolve\n",
    "from scipy.optimize import fsolve\n",
    "\n",
    "f = lambda x: [x[0]**2+x[1]**2-4, x[0]**2-6*x[0]*x[1]-7*x[1]**2+80]\n",
    "\n",
    "s = fsolve(f,[1,2])  # o parâmetro [1,2] é a condição inicial\n",
    "\n",
    "print(s)"
   ]
  },
  {
   "cell_type": "markdown",
   "metadata": {},
   "source": [
    "Compare o resultado da função <font color='blue'> fsolve </font> com os resultados obtidos nos exercícios 5) e 6)."
   ]
  },
  {
   "cell_type": "code",
   "execution_count": null,
   "metadata": {},
   "outputs": [],
   "source": []
  }
 ],
 "metadata": {
  "kernelspec": {
   "display_name": "Python 3",
   "language": "python",
   "name": "python3"
  },
  "language_info": {
   "codemirror_mode": {
    "name": "ipython",
    "version": 3
   },
   "file_extension": ".py",
   "mimetype": "text/x-python",
   "name": "python",
   "nbconvert_exporter": "python",
   "pygments_lexer": "ipython3",
   "version": "3.7.1"
  }
 },
 "nbformat": 4,
 "nbformat_minor": 2
}
