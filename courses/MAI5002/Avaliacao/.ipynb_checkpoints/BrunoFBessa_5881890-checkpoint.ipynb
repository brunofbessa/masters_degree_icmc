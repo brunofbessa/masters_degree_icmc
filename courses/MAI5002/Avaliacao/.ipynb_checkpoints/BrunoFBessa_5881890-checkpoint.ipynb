{
 "cells": [
  {
   "cell_type": "markdown",
   "metadata": {},
   "source": [
    "# <font color='blue'>MAI5002 - Fundamentos de Matemática Aplicada</font>\n",
    "\n",
    "## Primeira Avaliação 02/10/2020\n",
    "\n",
    "### Prof. Luis Gustavo Nonato  \n",
    "\n",
    "ICMC-USP\n",
    "\n",
    "----"
   ]
  },
  {
   "cell_type": "markdown",
   "metadata": {},
   "source": [
    "<font color='red'> Não esqueça de renomear o arquivo com seu nome e número USP antes de fazer upload no Drive. <br><br>Por exemplo: <br><br> **Gustavo_Nonato_3223813.ipynb** <br><br> Insira também seu nome e número USP na célula abaixo.</font>\n",
    "\n",
    "---"
   ]
  },
  {
   "cell_type": "markdown",
   "metadata": {},
   "source": [
    "**Nome: Bruno Fernandes Bessa de Oliveira** \n",
    "\n",
    "**\\#USP: 5881890** \n",
    "\n",
    "---"
   ]
  },
  {
   "cell_type": "markdown",
   "metadata": {},
   "source": [
    "## <font color='blue'> Instruções para Avaliação 1</font>\n",
    "<font color='blue'> Os seguintes passos devem ser seguidos para realizar a avaliação:\n",
    "\n",
    "1. Assine a lista de presença disponível no arquivo `lista de presenca` disponível no arquivo que está no diretório _Avaliacao1/Entregas da Avaliacao_ do repositório Google Drive\n",
    "2. Baixe e renomeie o notebook `MAI5002 avaliacao 1.ipynb` com seu nome e número USP\n",
    "3. Uma vez que tenha concluído a avaliação, faça upload do notebook (renomeado) no diretório _Avaliacao1/Entregas da Avaliacao_\n",
    "\n",
    "O diretório _Avaliacao1/Entregas da Avaliacao_ estará aberto para upload até as 17h do dia 04/10, após esta data e horário não será possível fazer o upload.\n",
    "\n",
    "Nas questões 1), 2) e 3) você precisa marcar a alternariva correta e também incluir o código Python que calcula o resultado da questão. Para marcar a alternativa que julgue correta, inclua um sinal (X) na frente da mesma. Por exemplo:\n",
    "\n",
    "a) 123<br>\n",
    "b) 234 (X)<br>\n",
    "c) 345<br>\n",
    "d) 456\n",
    "\n",
    "Todas as questões da prova valem 2 pontos.\n",
    "</font>"
   ]
  },
  {
   "cell_type": "markdown",
   "metadata": {},
   "source": [
    "### Exercício 1) \n",
    "Considere a transformação linear dada pela matriz \n",
    "\n",
    "$$\n",
    "\\left(\\begin{array}{ccccccc}\n",
    "3 & 8 & 4 & 4 & 6 & 0 & 6 & 0 & 6\\\\\n",
    "3 & 4 & 5 & 2 & 6 & 0 & 0 & 5 & 6\\\\\n",
    "2 & 2 & 1 & 1 & 4 & 4 & 3 & 0 & 3\\\\\n",
    "0 & 6 & 8 & 3 & 0 & 0 & 3 & 4 & 6\n",
    "\\end{array}\\right)\n",
    "$$\n",
    "\n",
    "1.1) Qual a dimensão do espaço linha da matriz?<br>\n",
    "a) 3<br>\n",
    "b) 4 (X) <br>\n",
    "c) 5<br>\n",
    "d) 6\n",
    "\n",
    "1.2) Qual a dimensão do núcleo da transformação?<br>\n",
    "a) 3<br>\n",
    "b) 4<br>\n",
    "c) 5 (X) <br>\n",
    "d) 6\n",
    "\n",
    "**OBS**: Escreva um código ou argumentos que confirmem as respostas dadas acima."
   ]
  },
  {
   "cell_type": "code",
   "execution_count": 1,
   "metadata": {},
   "outputs": [],
   "source": [
    "import numpy as np\n",
    "\n",
    "A = np.asarray([[3, 8, 4, 4, 6, 0, 6, 0, 6],\n",
    "                [3, 4, 5, 2, 6, 0, 0, 5, 6],\n",
    "                [2, 2, 1, 1, 4, 4, 3, 0, 3],\n",
    "                [0, 6, 8, 3, 0, 0, 3, 4, 6]])"
   ]
  },
  {
   "cell_type": "markdown",
   "metadata": {},
   "source": [
    "A transformação <b>A</b> possui dimensões (4x9). O seu espaço imagem (espaço coluna) é gerado pelos vetores coluna. Somente vetores LI podem gerar um espaço. Logo, neste caso temos no máximo r=4 vetores coluna LI para a transformação <b>A</b>.\n",
    "\n",
    "Abaixo tomamos uma seleção arbitrária de 4 colunas (formando a matriz $\\mathbf{A}_4$) e calculamos seu determinante, que é diferente de 0, provando que há 4 vetores coluna na matriz <b>A</b>.\n"
   ]
  },
  {
   "cell_type": "code",
   "execution_count": 32,
   "metadata": {},
   "outputs": [
    {
     "name": "stdout",
     "output_type": "stream",
     "text": [
      "455.9999999999998\n"
     ]
    }
   ],
   "source": [
    "A4 = np.asarray([[3, 8, 4, 0],\n",
    "                 [3, 4, 5, 0],\n",
    "                 [2, 2, 1, 4],\n",
    "                 [0, 6, 8, 0]])\n",
    "\n",
    "print(np.linalg.det(A4))"
   ]
  },
  {
   "cell_type": "markdown",
   "metadata": {},
   "source": [
    "Sendo assim, dim(C(A)) = 4: a dimensão do espaço linha da matriz é 4.\n",
    "\n",
    "O Teorema do Núcleo e da Imagem nos garante que: <br>\n",
    "dim($\\mathcal{N}$(A)) + dim(C(A)) = k = 9 <br><br>\n",
    "Logo: dim($\\mathcal{N}$(A)) = 5: a dimensão do núcleo da transformação é 5"
   ]
  },
  {
   "cell_type": "markdown",
   "metadata": {},
   "source": [
    "### Exercício 2)\n",
    "Considere a função $f(x)=x^2\\cos(4x^2)$, $x\\in[0,1]$. Usando o método dos mínimos quadrados, aproxime a função $f(x)$ por um polinômio cúbico. Para calcular a aproximação, discretize o intervalo $[0,1]$ em 100 pontos igualmente espaçados (utilize o método <font color='blue'> linspace </font> do numpy). Qual o valor aproximado do polinômio no ponto $x=0.25$?\n",
    "\n",
    "a) 0.000<br>\n",
    "b) 0.127 (x)<br>\n",
    "c) 0.225<br>\n",
    "d) 0.060\n",
    "\n",
    "Inclua abaixo o código python que calcula a solução."
   ]
  },
  {
   "cell_type": "code",
   "execution_count": 27,
   "metadata": {},
   "outputs": [],
   "source": [
    "# Gerando os pontos do domínio da função e da imagem conforme a restrição:\n",
    "x = np.linspace(0,1,100)\n",
    "f = (x**2)*np.cos(4*x**2)\n",
    "\n",
    "# O polinômio cúbico será dado por:\n",
    "A = np.ones((x.shape[0],4))\n",
    "A[:,1] = x\n",
    "A[:,2] = x**2\n",
    "A[:,3] = x**3"
   ]
  },
  {
   "cell_type": "markdown",
   "metadata": {},
   "source": [
    "Na célula acima temos a função f(x) e os três graus do polinômio cúbico a ser ajustado, sendo que as colunas da matriz A formam um espaço. A aproximação da função f, com o conjunto de coeficientes a conveniente pode ser escrita de forma matricial:<br>\n",
    "$$\n",
    "\\mathbf{A}^\\top\\mathbf{A}\\mathbf{\\alpha}=\\mathbf{A}^\\top\\mathbf{f}\n",
    "$$"
   ]
  },
  {
   "cell_type": "code",
   "execution_count": 29,
   "metadata": {},
   "outputs": [
    {
     "name": "stdout",
     "output_type": "stream",
     "text": [
      "O valor aproximado da função pelo polinômio no ponto x=0.25 é 0.1276.\n"
     ]
    }
   ],
   "source": [
    "alpha = np.linalg.solve(np.dot(A.T,A),np.dot(A.T,f))\n",
    "\n",
    "x_teste = 0.25\n",
    "f_aprox = (alpha[0]\n",
    "           + alpha[1]*x_teste\n",
    "           + alpha[2]*x_teste**2\n",
    "           + alpha[3]*x_teste**3)\n",
    "\n",
    "print('O valor aproximado da função pelo polinômio no ponto x={x_teste} é {f_aprox:.4f}.'\n",
    "      .format(x_teste=x_teste, f_aprox=f_aprox))"
   ]
  },
  {
   "cell_type": "markdown",
   "metadata": {},
   "source": [
    "### Exercício 3)\n",
    "Considere o subespaço $S$ gerado pelos vetores \n",
    "$$\n",
    "\\mathbf{u_1} = \\left[\\begin{array}{c}\n",
    "                3 \\\\ 4 \\\\ 4 \\\\ 6 \\\\ 1\n",
    "                \\end{array}\\right] \\qquad               \n",
    "\\mathbf{u_2} = \\left[\\begin{array}{c}\n",
    "                7 \\\\ 1 \\\\ 0 \\\\ 2 \\\\ 1\n",
    "                \\end{array}\\right]\n",
    "$$\n",
    "\n",
    "A projeção do ponto $(4, 8, 7, 4, 3)$ no subespaço $S$ é aproximadamente: \n",
    "\n",
    "a) [1.29 -0.03]<br>\n",
    "b) [8.02 6.31]<br>\n",
    "c) [5.58 4.72 2.79 4.53 4.02]<br>\n",
    "d) [3.62 5.11 5.14 7.65 1.25] (X)\n",
    "\n",
    "**Obs**: Inclua abaixo um código que calcula a projeção."
   ]
  },
  {
   "cell_type": "markdown",
   "metadata": {},
   "source": [
    "Devemos encontrar uma base ortonormal para o subespaço $S$. Para tanto, Usemos o método de fatoração QR, implementado numericamente pela biblioteca numpy."
   ]
  },
  {
   "cell_type": "code",
   "execution_count": 5,
   "metadata": {},
   "outputs": [
    {
     "name": "stdout",
     "output_type": "stream",
     "text": [
      "A projeção é: [3.6208714  5.10892481 5.14265636 7.64652143 1.25193254]\n"
     ]
    }
   ],
   "source": [
    "# Solução\n",
    "u1 = np.array([3, 4, 4, 6, 1])\n",
    "u2 = np.array([7, 1, 0, 2, 1])\n",
    "\n",
    "A = np.array([u1, \n",
    "              u2]).T\n",
    "\n",
    "q, r = np.linalg.qr(A)\n",
    "\n",
    "p  = np.array([4, 8, 7, 4, 3])\n",
    "proj = np.dot(q.T[0],p)*q.T[0] + np.dot(q.T[1],p)*q.T[1]\n",
    "print('A projeção é: {}'.format(proj))"
   ]
  },
  {
   "cell_type": "markdown",
   "metadata": {},
   "source": [
    "### Exercício 4)\n",
    "Encontre uma base ortonormal que gere o espaço dado pela equação $x-2y+z-w=0$.\n",
    "\n",
    "**Dica**: A equação dá origem a um subspaço de dimensão 3 em $\\mathbf{R}^4$. Encontre uma base que gere o espaço e aplique Gram-Schmidt para ortonormalizar a base encontrada."
   ]
  },
  {
   "cell_type": "markdown",
   "metadata": {},
   "source": [
    "Vamos deixar um termo em função dos demais na equação dada.\n",
    "$$\n",
    "x = 2y -z + w \n",
    "$$\n",
    "De modo que pontos neste espaço estão dados pelos vetores:\n",
    "$$\n",
    "y[2, 1, 0, 0]^T + z[-1, 0, 1, 0]^T + w[1, 0, 0, 1]^T\n",
    "$$\n",
    "E os vetores que geram este espaço são:\n",
    "$$\n",
    "\\mathbf{u_1} = [2, 1, 0, 0]^T \\\\\n",
    "\\mathbf{u_2} = [-1, 0, 1, 0]^T \\\\\n",
    "\\mathbf{u_3} = [1, 1, 0, 1]^T \n",
    "$$\n",
    "O método de Gram-Shimidt consiste em encontrar uma base ortonormal projetando cada um dos vetores de entrada em um espaço através de produto interno. Usaremos a implementação do método em Python que recebe a matriz cujas linhas são os vetores de entrada.  "
   ]
  },
  {
   "cell_type": "code",
   "execution_count": 6,
   "metadata": {},
   "outputs": [],
   "source": [
    "# Implementação do método de Gram-Shimidt conforme material de aula:\n",
    "def gram_schmidt(x):\n",
    "    q = np.zeros(x.shape)  # matriz cujas colunas são os elementos da base ortonormal\n",
    "    \n",
    "    q[:,0] = x[:,0]/np.linalg.norm(x[:,0]) # primeiro elemento da base\n",
    "    for i in range(1,x.shape[1]):  # indice das colunas da base x\n",
    "        coefs = np.array([np.dot(x[:,i].T,q[:,j]) for j in range(i)]).reshape(-1,1) # gera os coeficiente <x_i.T,q_j>\n",
    "                                                                                    # e guarda em um vetor coluna\n",
    "        q[:,i:i+1] = x[:,i:i+1] - np.dot(q[:,:i],coefs)\n",
    "        q[:,i] = q[:,i]/np.linalg.norm(q[:,i])\n",
    "        \n",
    "    return(q)"
   ]
  },
  {
   "cell_type": "code",
   "execution_count": 7,
   "metadata": {},
   "outputs": [
    {
     "name": "stdout",
     "output_type": "stream",
     "text": [
      "A base ortonormal encontrada pelo método é:\n",
      " [[ 0.89442719 -0.18257419 -0.15430335]\n",
      " [ 0.4472136   0.36514837  0.3086067 ]\n",
      " [ 0.          0.91287093 -0.15430335]\n",
      " [ 0.          0.          0.9258201 ]]\n"
     ]
    }
   ],
   "source": [
    "# Solução\n",
    "\n",
    "u1 = np.array([ 2, 1, 0, 0])\n",
    "u2 = np.array([-1, 0, 1, 0])\n",
    "u3 = np.array([ 1, 1, 0, 1])\n",
    "\n",
    "A = np.array([u1,\n",
    "              u2,\n",
    "              u3]).T\n",
    "\n",
    "Q = gram_schmidt(A)\n",
    "print('A base ortonormal encontrada pelo método é:\\n {}'.format(Q))"
   ]
  },
  {
   "cell_type": "markdown",
   "metadata": {},
   "source": [
    "Para mostrar que trata-se de uma base ortonormal, vamos mostrar que vale a seguinte propriedade: $\\mathbf{Q}\\mathbf{Q}^\\top=\\mathbf{I}$, sendo <b>I</b> a matriz identidade. "
   ]
  },
  {
   "cell_type": "code",
   "execution_count": 8,
   "metadata": {},
   "outputs": [
    {
     "name": "stdout",
     "output_type": "stream",
     "text": [
      "[[ 1. -0.  0.]\n",
      " [-0.  1.  0.]\n",
      " [ 0.  0.  1.]]\n"
     ]
    }
   ],
   "source": [
    "np.set_printoptions(precision=2,suppress=True)\n",
    "print(np.dot(Q.T,Q))"
   ]
  },
  {
   "cell_type": "markdown",
   "metadata": {},
   "source": [
    "### Exercício 5)\n",
    "**5.1)**<br> \n",
    "Construa uma transformação linear $\\mathbf{A}:\\mathbb{R}^5\\rightarrow\\mathbb{R}^3$ tal que os vetores \n",
    "\n",
    "$$\n",
    "\\mathbf{v}_1 = \\begin{bmatrix} 1 \\\\ 1 \\\\ 0 \\\\ 1 \\\\ 1\\end{bmatrix}\\quad\n",
    "\\mathbf{v}_2 = \\begin{bmatrix} 1 \\\\ 0 \\\\ 1 \\\\ 0 \\\\ 1\\end{bmatrix}\\quad\n",
    "\\mathbf{v}_3 = \\begin{bmatrix} 0 \\\\ 0 \\\\ 1 \\\\ 1 \\\\ 0\\end{bmatrix}\n",
    "$$\n",
    "\n",
    "gerem o espaço nulo e os vetores \n",
    "\n",
    "$$\n",
    "\\mathbf{u}_1 = \\begin{bmatrix}  0 \\\\ 1 \\\\ 1\\end{bmatrix}\\quad\n",
    "\\mathbf{u}_2 = \\begin{bmatrix}  1 \\\\ 0 \\\\ 1\\end{bmatrix}\n",
    "$$\n",
    "\n",
    "gerem o espaço coluna. \n",
    "\n",
    "**5.2)**<br>\n",
    "Verifique que sua resposta está correta aplicando a transformação $\\mathbf{A}$  em uma combinação linear qualquer dos vetores $\\mathbf{v}_1$, $\\mathbf{v}_2$ e $\\mathbf{v}_3$, o que deve resultar em um vetor nulo (zero). \n",
    "\n",
    "**5.3)**<br>\n",
    "Verifique ainda que qualquer vetor mapeado por $\\mathbf{A}$ é uma combinação linear de $\\mathbf{u}_1$ e $\\mathbf{u}_2$.\n",
    "\n",
    "**Dicas**: \n",
    "1. Para encontrar a transformação garantindo que os vetores $\\mathbf{v}_1$, $\\mathbf{v}_2$ e $\\mathbf{v}_3$ estão no espaço nulo, você terá que resolver um sistema de equações com dois graus de liberdade. Utilize os graus de liberdade para garantir que os vetores $\\mathbf{u}_1$ e $\\mathbf{u}_2$ estão no espaço coluna.\n",
    "\n",
    "2. Para verificar que todo vetor mapeado pela transformação $\\mathbf{A}$ está no espaço gerado por $\\mathbf{u}_1$ e $\\mathbf{u}_2$, verifique que a projeção de um ponto mapeado sobre o espaço gerado por $\\mathbf{u}_1$ e $\\mathbf{u}_2$ é o próprio ponto."
   ]
  },
  {
   "cell_type": "markdown",
   "metadata": {},
   "source": [
    "Se os vetores $\\mathbf{v}_1, \\mathbf{v}_2, \\mathbf{v}_3$ geram o espaço nulo a partir de $\\mathbb{R}^5$, sendo k = 5 o número de entrada destes vetores, devemos encontrar mais 2 vetores (quantidade obtida do Teorema do Núcleo e da Imagem) em $\\mathbb{R}^5$ para a transformação A que sejam LI. <br>\n",
    "Para encontrar esses vetores que formam a transformação A $\\mathbf{a}_1$ e $\\mathbf{a}_2$ vamos crir um sistema de equações com o argumento de ortonormalidade:\n",
    "\n",
    "$$\n",
    "<\\mathbf{a}_i|\\mathbf{a}_j> = \\mathbf{\\delta}_{ij} \\\\\n",
    "<\\mathbf{a}_{1,2}|\\mathbf{v}_1> = 0 \\\\\n",
    "<\\mathbf{a}_{1,2}|\\mathbf{v}_2> = 0 \\\\\n",
    "<\\mathbf{a}_{1,2}|\\mathbf{v}_3> = 0 \\\\\n",
    "$$\n",
    "\n",
    "Tomemos $\\mathbf{a}=[a b c d e]^{T}$. Ao escevermos estas condições teremos um sistema linear de 10 incógnitas e 8 equações, resultando em 2 termos livres.\n",
    "\n",
    "Sendo assim, aplicando a ortogonalidade de $\\mathbf{a}_i$ com os vetores do espaço nulo:\n",
    "$$\n",
    "a + b + 0 + d + e = 0 \\\\\n",
    "a + 0 + c + 0 + e = 0 \\\\\n",
    "0 + 0 + c + d + 0 = 0 \\\\\n",
    "$$\n",
    "Logo:\n",
    "$$\n",
    "a = d - e \\\\\n",
    "b = -2d \\\\\n",
    "c = -d \\\\\n",
    "d = d \\\\\n",
    "e = e \\\\\n",
    "$$\n",
    "E temos os vetores $\\mathbf{a}$ escritos com a seguinte base:\n",
    "$$\n",
    "\\mathbf{a} = d{[1, -2, -1, 1, 0]}^{T} + e{[-1, 0, 0, 0, 1]}^{T} \\\\\n",
    "\\mathbf{a}_1 = [1, -2, -1, 1, 0]^{T} \\\\\n",
    "\\mathbf{a}_2 = [-1, 0, 0, 0, 1]^{T}\n",
    "$$\n",
    "Além destes vetores (que são LI), para que a transformação mapeie em $\\mathbb{R}^3$ é necessário mais um vetor LD com relação aos dois primeiros encontrados. Isso não altera a dimensão do espaço. Escolhemos $\\mathbf{a}_3 = \\mathbf{a}_1 - \\mathbf{a}_2$.\n",
    "Abaixo mostramos que vale a ortogonalidade:"
   ]
  },
  {
   "cell_type": "code",
   "execution_count": 9,
   "metadata": {},
   "outputs": [
    {
     "name": "stdout",
     "output_type": "stream",
     "text": [
      "Produto interno de a1 com v1: 0\n",
      "Produto interno de a1 com v2: 0\n",
      "Produto interno de a1 com v3: 0\n",
      "Produto interno de a2 com v1: 0\n",
      "Produto interno de a2 com v2: 0\n",
      "Produto interno de a2 com v3: 0\n",
      "Produto interno de a3 com v1: 0\n",
      "Produto interno de a3 com v2: 0\n",
      "Produto interno de a3 com v3: 0\n"
     ]
    }
   ],
   "source": [
    "v1 = np.array([1,1,0,1,1])\n",
    "v2 = np.array([1,0,1,0,1])\n",
    "v3 = np.array([0,0,1,1,0])\n",
    "\n",
    "a1 = np.array([ 1,-2,-1, 1, 0])\n",
    "a2 = np.array([-1, 0, 0, 0, 1])\n",
    "a3 = np.array([ 0,-2,-1, 1, 1])\n",
    "\n",
    "\n",
    "A = np.array([a1,\n",
    "              a2,\n",
    "              a3])\n",
    "\n",
    "print('Produto interno de a1 com v1: {}'.format(np.dot(a1,v1)))\n",
    "print('Produto interno de a1 com v2: {}'.format(np.dot(a1,v2)))\n",
    "print('Produto interno de a1 com v3: {}'.format(np.dot(a1,v3)))\n",
    "print('Produto interno de a2 com v1: {}'.format(np.dot(a2,v1)))\n",
    "print('Produto interno de a2 com v2: {}'.format(np.dot(a2,v1)))\n",
    "print('Produto interno de a2 com v3: {}'.format(np.dot(a2,v1)))\n",
    "print('Produto interno de a3 com v1: {}'.format(np.dot(a3,v1)))\n",
    "print('Produto interno de a3 com v2: {}'.format(np.dot(a3,v2)))\n",
    "print('Produto interno de a3 com v3: {}'.format(np.dot(a3,v3)))"
   ]
  },
  {
   "cell_type": "markdown",
   "metadata": {},
   "source": [
    "Verificando que a matriz A leva uma combinação linear de $\\mathbf{v}_1$, $\\mathbf{v}_2$ e $\\mathbf{v}_3$ no vetor nulo de $\\mathbb{R}^3$. Seja:\n",
    "$$\n",
    "\\mathbf{w} = \\alpha\\mathbf{v}_1 + \\beta\\mathbf{v}_2 + \\gamma\\mathbf{v}_3 \\\\\n",
    "\\alpha, \\beta, \\gamma \\in \\mathbb{R}\n",
    "$$"
   ]
  },
  {
   "cell_type": "code",
   "execution_count": 25,
   "metadata": {},
   "outputs": [
    {
     "name": "stdout",
     "output_type": "stream",
     "text": [
      "Mapeamento de uma combinação linear aleatória de v1, v2, v3\n",
      "\n",
      "w = 0.6521*[1 1 0 1 1] + 0.2127*[1 0 1 0 1] + 0.1832*[0 0 1 1 0]\n",
      "\n",
      "A.w resulta no vetor nulo de R^3: [0. 0. 0.]\n"
     ]
    }
   ],
   "source": [
    "alpha = np.random.uniform()\n",
    "beta  = np.random.uniform()\n",
    "gamma = np.random.uniform()\n",
    "\n",
    "w = alpha*v1 + beta*v2 + gamma*v3\n",
    "\n",
    "print('Mapeamento de uma combinação linear aleatória de v1, v2, v3\\n')\n",
    "print('w = {alpha:.4f}*{v1} + {beta:.4f}*{v2} + {gamma:.4f}*{v3}\\n'.format(alpha=alpha, v1=v1, beta=beta, v2=v2, gamma=gamma, v3=v3))\n",
    "print('A.w resulta no vetor nulo de R^3: {}'.format(np.dot(A, w)))"
   ]
  },
  {
   "cell_type": "markdown",
   "metadata": {},
   "source": [
    "Podemos verificar que, por exemplo $\\mathbf{e}_1$ da base euclidiana do $\\mathbb{R}^5$ é mapeado no espaço imagem como combinação linear de $\\mathbf{u}_1$ e $\\mathbf{u}_2$:\n",
    "$$\n",
    "A\\mathbf{e}_1 = [1, -1, 0]^T = -\\mathbf{u}_1 + \\mathbf{u}_2 \\\\\n",
    "$$"
   ]
  },
  {
   "cell_type": "code",
   "execution_count": 12,
   "metadata": {},
   "outputs": [
    {
     "name": "stdout",
     "output_type": "stream",
     "text": [
      "[ 1 -1  0]\n"
     ]
    }
   ],
   "source": [
    "e1 = np.array([1, 0, 0, 0, 0])\n",
    "print(np.dot(A,x))"
   ]
  },
  {
   "cell_type": "markdown",
   "metadata": {},
   "source": [
    "Porém, para mostrar que vale para <b>qualquer</b> vetor mapeado por <b>A</b>, tomemos um vetor $\\mathbf{z}$ ortogonal ao plano formado por $\\mathbf{u}_1$ e $\\mathbf{u}_2$, gerado através de produto vetorial entre estes:\n",
    "$$\n",
    "\\mathbf{z} = {\\mathbf{u}_1} \\times {\\mathbf{u}_2}\n",
    "$$\n",
    "Vamos verificar que vetores aleatórios, quando mapeados por <b>A</b>, também são ortogonais a $\\mathbf{z}$."
   ]
  },
  {
   "cell_type": "code",
   "execution_count": 21,
   "metadata": {},
   "outputs": [
    {
     "name": "stdout",
     "output_type": "stream",
     "text": [
      "Exemplo aleatório 1 (produto interno até 4 casas decimais): 0.0000\n",
      "Exemplo aleatório 2 (produto interno até 4 casas decimais): 0.0000\n",
      "Exemplo aleatório 3 (produto interno até 4 casas decimais): 0.0000\n",
      "Exemplo aleatório 4 (produto interno até 4 casas decimais): 0.0000\n",
      "Exemplo aleatório 5 (produto interno até 4 casas decimais): 0.0000\n",
      "Exemplo aleatório 6 (produto interno até 4 casas decimais): 0.0000\n",
      "Exemplo aleatório 7 (produto interno até 4 casas decimais): 0.0000\n",
      "Exemplo aleatório 8 (produto interno até 4 casas decimais): -0.0000\n",
      "Exemplo aleatório 9 (produto interno até 4 casas decimais): 0.0000\n",
      "Exemplo aleatório 10 (produto interno até 4 casas decimais): 0.0000\n"
     ]
    }
   ],
   "source": [
    "u1 = np.array([ 0, 1, 1])\n",
    "u2 = np.array([ 1, 0, 1])\n",
    "\n",
    "z = np.cross(u1,u2).reshape(3,1)\n",
    "\n",
    "# Gerando vetores aleatórios em R^5\n",
    "for i in range(10): \n",
    "    x = np.random.uniform(low=-1, high=1, size=(5,1))\n",
    "    # Cálculo da projeção\n",
    "    u = np.dot(A,x)\n",
    "    # Produto interno da projeção com o vetor z ortogonal ao plano u1Xu2\n",
    "    prod = float(np.dot(u.T,z))\n",
    "    print('Exemplo aleatório {} (produto interno até 4 casas decimais): {:.4f}'.format(i+1, prod))"
   ]
  }
 ],
 "metadata": {
  "kernelspec": {
   "display_name": "Python 3",
   "language": "python",
   "name": "python3"
  },
  "language_info": {
   "codemirror_mode": {
    "name": "ipython",
    "version": 3
   },
   "file_extension": ".py",
   "mimetype": "text/x-python",
   "name": "python",
   "nbconvert_exporter": "python",
   "pygments_lexer": "ipython3",
   "version": "3.8.3"
  }
 },
 "nbformat": 4,
 "nbformat_minor": 2
}
