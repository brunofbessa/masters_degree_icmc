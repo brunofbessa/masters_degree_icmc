{
 "cells": [
  {
   "cell_type": "markdown",
   "metadata": {},
   "source": [
    "# <font color='blue'>MAI5002 - Fundamentos de Matemática Aplicada</font>\n",
    "\n",
    "## <font color='blue'>Espaços Vetoriais - Exercícios </font>\n",
    "\n",
    "### Material produzido por Luis Gustavo Nonato \n",
    "\n",
    "ICMC-USP\n",
    "\n",
    "----"
   ]
  },
  {
   "cell_type": "code",
   "execution_count": null,
   "metadata": {},
   "outputs": [],
   "source": [
    "import numpy as np\n",
    "import matplotlib.pyplot as plt"
   ]
  },
  {
   "cell_type": "markdown",
   "metadata": {},
   "source": [
    "### Exercício 1)\n",
    "O código abaixo gera uma matriz $\\mathbf{X}$ cujas colunas são vetores em um espaço de dimensão 7. Construa uma matriz $\\mathbf{P}$ com 100 colunas onde cada coluna corresponde a um ponto no subespaço coluna de $\\mathbf{X}$.\n",
    "\n",
    "```python\n",
    "X = np.random.uniform(0,1,size=(7,3))\n",
    "```"
   ]
  },
  {
   "cell_type": "code",
   "execution_count": null,
   "metadata": {},
   "outputs": [],
   "source": [
    "# Solução"
   ]
  },
  {
   "cell_type": "markdown",
   "metadata": {},
   "source": [
    "### Exercício 2)\n",
    "O produto escalar entre dois vetores $\\mathbf{u}_1$ e $\\mathbf{u}_2$ pode ser utilizado para calcular o ângulo entre tais vetores atravéz da fórmula:\n",
    "\n",
    "$$\n",
    "\\cos(\\theta)=\\frac{<\\mathbf{u}_1,\\mathbf{u}_2>}{\\|\\mathbf{u}_1\\|\\,\\|\\mathbf{u}_2\\|}\n",
    "\\quad\\Longrightarrow\\quad\n",
    "\\theta = \\arccos\\left(\\frac{<\\mathbf{u}_1,\\mathbf{u}_2>}{\\|\\mathbf{u}_1\\|\\,\\|\\mathbf{u}_2\\|}\\right)\n",
    "$$\n",
    "\n",
    "Utilize o resultado acima para encontrar o menor ângulo entre as retas $y+x=1$ e $2y-x=1$."
   ]
  },
  {
   "cell_type": "code",
   "execution_count": null,
   "metadata": {},
   "outputs": [],
   "source": [
    "\n",
    "# plotando os eixos do plano\n",
    "plt.axes().set_aspect('equal')\n",
    "plt.plot([-2,2],[0,0],color='k')\n",
    "plt.plot([0,0],[-2,2],color='k')\n",
    "\n",
    "# desenhando as retas utilizando 2 pontos que pertencem as retas\n",
    "\n",
    "# pontos sobre a reta x+y=1\n",
    "r1p1 = np.array([1,0])\n",
    "r1p2 =  np.array([-1,2])\n",
    "\n",
    "# pontos sobre a reta 2y-x=1\n",
    "r2p1 =  np.array([1,1])\n",
    "r2p2 =  np.array([-1,0])\n",
    "\n",
    "# plotando as retas\n",
    "plt.plot([r1p1[0],r1p2[0]],[r1p1[1],r1p2[1]])\n",
    "plt.plot([r2p1[0],r2p2[0]],[r2p1[1],r2p2[1]])"
   ]
  },
  {
   "cell_type": "code",
   "execution_count": null,
   "metadata": {},
   "outputs": [],
   "source": [
    "# Solução\n",
    "\n"
   ]
  },
  {
   "cell_type": "markdown",
   "metadata": {},
   "source": [
    "### Exercício 3) \n",
    "Considere o subespaço $\\mathcal{S}$ gerado pelos vetores \n",
    "$$\n",
    "\\mathbf{u_1} = \\left[\\begin{array}{c}\n",
    "                3 \\\\ 4 \\\\ 4 \\\\ 6 \\\\ 1\n",
    "                \\end{array}\\right] \\qquad               \n",
    "\\mathbf{u_2} = \\left[\\begin{array}{c}\n",
    "                7 \\\\ 1 \\\\ 0 \\\\ 2 \\\\ 1\n",
    "                \\end{array}\\right]\n",
    "$$\n",
    "\n",
    "Construa uma transformação linear $\\mathbf{A}$ tal que $\\mathbf{A}:\\mathbb{R}^2\\rightarrow\\mathcal{S}\\subset\\mathbb{R}^5$, ou seja, a transformação $\\mathbf{A}$ leva vetores do espaço $\\mathbb{R}^2$ para o espaço $\\mathcal{S}$."
   ]
  },
  {
   "cell_type": "code",
   "execution_count": null,
   "metadata": {},
   "outputs": [],
   "source": [
    "#Solução\n",
    "\n"
   ]
  },
  {
   "cell_type": "markdown",
   "metadata": {},
   "source": [
    "### Exercício 4) \n",
    "Considere a transformação linear dada pela matriz \n",
    "\n",
    "$$\n",
    "\\left(\\begin{array}{ccccccc}\n",
    "3 & 8 & 4 & 4 & 6 & 0 & 6 & 0 & 6\\\\\n",
    "3 & 4 & 5 & 2 & 6 & 0 & 0 & 5 & 6\\\\\n",
    "2 & 2 & 1 & 1 & 4 & 4 & 3 & 0 & 3\\\\\n",
    "0 & 6 & 8 & 3 & 0 & 0 & 3 & 4 & 6\n",
    "\\end{array}\\right)\n",
    "$$\n",
    "\n",
    "Qual a dimensão do núcleo da transformação?"
   ]
  },
  {
   "cell_type": "code",
   "execution_count": null,
   "metadata": {},
   "outputs": [],
   "source": [
    "A = np.asarray([[3, 8, 4, 4, 6, 0, 6, 0, 6],\n",
    "                [3, 4, 5, 2, 6, 0, 0, 5, 6],\n",
    "                [2, 2, 1, 1, 4, 4, 3, 0, 3],\n",
    "                [0, 6, 8, 3, 0, 0, 3, 4, 6]])"
   ]
  },
  {
   "cell_type": "code",
   "execution_count": null,
   "metadata": {},
   "outputs": [],
   "source": [
    "#Solução\n",
    "\n"
   ]
  },
  {
   "cell_type": "markdown",
   "metadata": {},
   "source": [
    "### Exercício 5)\n",
    "Considere o conjunto de pontos X no espaço $\\mathbb{R}^3$ gerado no código abaixo.\n",
    "Tais pontos formam uma espiral em $\\mathbb{R}^3$, como ilustrado.\n",
    "Construa duas transformações lineares que mapeiam pontos de $\\mathbb{R}^3$ para $\\mathbb{R}^2$, sendo uma com espaço linha dado pelos vetores [1,1,1] e [-1,0,1]\n",
    "e outra com espaço linha gerado pelos vetores [1,1,1] e [1,1.3,1].\n",
    "\n",
    "Visualize as espirais mapeadas em  $\\mathbb{R}^2$. Você consegue explicar o que está acontecendo?"
   ]
  },
  {
   "cell_type": "code",
   "execution_count": null,
   "metadata": {},
   "outputs": [],
   "source": [
    "from mpl_toolkits.mplot3d import Axes3D\n",
    "\n",
    "X = np.zeros((3,100))\n",
    "t = np.linspace(0,10*np.pi,100)\n",
    "\n",
    "X[0,:] = t*np.cos(t)\n",
    "X[1,:] = t*np.sin(t)\n",
    "X[2,:] = t\n",
    "\n",
    "fig = plt.figure()\n",
    "ax = fig.add_subplot(111,projection='3d')\n",
    "plt.plot(X[0],X[1],X[2])\n"
   ]
  },
  {
   "cell_type": "code",
   "execution_count": null,
   "metadata": {},
   "outputs": [],
   "source": [
    "# Solução"
   ]
  }
 ],
 "metadata": {
  "kernelspec": {
   "display_name": "Python 3",
   "language": "python",
   "name": "python3"
  },
  "language_info": {
   "codemirror_mode": {
    "name": "ipython",
    "version": 3
   },
   "file_extension": ".py",
   "mimetype": "text/x-python",
   "name": "python",
   "nbconvert_exporter": "python",
   "pygments_lexer": "ipython3",
   "version": "3.8.3"
  }
 },
 "nbformat": 4,
 "nbformat_minor": 2
}
