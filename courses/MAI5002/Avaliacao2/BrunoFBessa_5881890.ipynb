{
 "cells": [
  {
   "cell_type": "markdown",
   "metadata": {
    "id": "3J8Vh1kwEk1V"
   },
   "source": [
    "# <font color='blue'>MAI5002 - Fundamentos de Matemática Aplicada</font>\n",
    "\n",
    "## Segunda Avaliação 06/11/2020\n",
    "\n",
    "### Prof. Luis Gustavo Nonato  \n",
    "\n",
    "ICMC-USP\n",
    "\n",
    "----"
   ]
  },
  {
   "cell_type": "markdown",
   "metadata": {
    "id": "85BABrsiEk1Z"
   },
   "source": [
    "## <font color='blue'> Instruções para Avaliação 2</font>\n",
    "<font color='blue'> Os seguintes passos devem ser seguidos para realizar a avaliação:\n",
    "\n",
    "1. Assine a lista de presença `lista de presenca` disponível no arquivo que está no diretório _Avaliacao 2/Entrega Avaliacao 2_ do repositório Google Drive\n",
    "2. Baixe e renomeie o notebook `MAI5002 avaliacao 2.ipynb` com seu nome e número USP\n",
    "3. Uma vez que tenha concluído a avaliação, faça upload do notebook (renomeado) no diretório _Avaliacao 2/Entrega Avaliacao 2_\n",
    "\n",
    "O diretório _Avaliacao 2/Entrega Avaliacao 2_ estará aberto para upload até as 17h do dia 08/11. Após esta data e horário não será possível fazer o upload.\n",
    "\n",
    "Nas questões 1), 2) e 3) você precisa marcar a alternariva correta e também incluir o código Python que calcula o resultado da questão. Para marcar a alternativa que julgue correta, inclua um sinal (X) na frente da mesma. Por exemplo:\n",
    "\n",
    "a) 123<br>\n",
    "b) 234 (X)<br>\n",
    "c) 345<br>\n",
    "d) 456\n",
    "\n",
    "Todas as questões da prova valem 2.5 pontos.\n",
    "</font>"
   ]
  },
  {
   "cell_type": "markdown",
   "metadata": {
    "id": "uc6pjyPrEk1b"
   },
   "source": [
    "<font color='red'> Não esqueça de renomear o notebook com seu nome e número USP antes de fazer upload no Drive. <br><br>Por exemplo: <br><br> **Gustavo_Nonato_3223813.ipynb** <br><br> Insira também seu nome e número USP na célula abaixo.</font>\n",
    "\n",
    "---"
   ]
  },
  {
   "cell_type": "markdown",
   "metadata": {
    "id": "c6j1NEduEk1d"
   },
   "source": [
    "**Nome:** Bruno Fernandes Bessa de Oliveira\n",
    "\n",
    "**\\#USP:** 5881890\n",
    "\n",
    "---"
   ]
  },
  {
   "cell_type": "markdown",
   "metadata": {
    "id": "e41G6ecQEk1f"
   },
   "source": [
    "### Questão 1) \n",
    "Considere a matriz \n",
    "\n",
    "$$\n",
    "\\mathbf{A} = \n",
    "\\begin{bmatrix}\n",
    "a & 1 & 0 & -1\\\\\n",
    "b & 2 & 1 & 0\\\\\n",
    "0 & c & d & 1\\\\\n",
    "-1 & 0 & 1 & 1\n",
    "\\end{bmatrix}\n",
    "$$\n",
    "\n",
    "Qual dos valores de $a,b,c$ e $d$ descritos nas alternativas abaixo torna a matriz $\\mathbf{A}$ definida positiva?\n",
    "\n",
    "a) $a = 1$, $b = 1$, $c = 1$, $d = 1$<br>\n",
    "b) $a = 1$, $b = 1$, $c = -1$, $d = 2$<br>\n",
    "c) $a = 3$, $b = 1$, $c = 1$, $d = 2 (X)$<br>\n",
    "d) $a = 1$, $b = 1$, $c = 1$, $d = 2$<br>"
   ]
  },
  {
   "cell_type": "markdown",
   "metadata": {},
   "source": [
    "Usemos as propriedades de uma matriz <b>A</b> definida positiva:<br>\n",
    "* Forma quadrática para qualquer vetor <x> é maior que zero: $\\mathbf{x}^\\top\\mathbf{A}\\mathbf{x} > 0$\n",
    "* Autovalores de A reais são positivos\n",
    "* det(<b>A</b>) > 0\n",
    "    \n",
    "Vamos verificar estas propriedades aplidacas à matriz <b>A</b> para encontrar a alternativa correta."
   ]
  },
  {
   "cell_type": "code",
   "execution_count": 1,
   "metadata": {},
   "outputs": [],
   "source": [
    "import numpy as np\n",
    "from sklearn.decomposition import PCA"
   ]
  },
  {
   "cell_type": "code",
   "execution_count": 162,
   "metadata": {
    "id": "DlhTxgWhEk1i",
    "scrolled": false
   },
   "outputs": [
    {
     "name": "stdout",
     "output_type": "stream",
     "text": [
      "O determinante da matriz A a seguir é zero.\n",
      "[[ 3  1  0 -1]\n",
      " [ 1  2  1  0]\n",
      " [ 0  1  2  1]\n",
      " [-1  0  1  1]]\n",
      "Seus autovalores são reais positivos:\n",
      "[0.1  0.82 3.9  3.18]\n",
      "\n",
      "\n",
      "Vetor aleatório x = [-0.56  0.8  -0.05  0.37]. Fórmula quadrática f=x^T.A.x = 1.76 > 0\n",
      "Vetor aleatório x = [-0.22  0.49 -0.2  -0.02]. Fórmula quadrática f=x^T.A.x = 0.29 > 0\n",
      "Vetor aleatório x = [0.03 0.28 1.   0.47]. Fórmula quadrática f=x^T.A.x = 3.86 > 0\n",
      "Vetor aleatório x = [ 0.52  0.45 -0.7  -0.32]. Fórmula quadrática f=x^T.A.x = 2.93 > 0\n",
      "Vetor aleatório x = [-0.29 -0.4   0.69  0.26]. Fórmula quadrática f=x^T.A.x = 1.79 > 0\n",
      "\n",
      "\n",
      "Os valores buscados são: a=3, b=1, c=1, d=2.\n"
     ]
    }
   ],
   "source": [
    "#Solução\n",
    "\n",
    "alternatives = [[1, 1, 1, 1], [1, 1,-1, 2], [3, 1, 1, 2], [1, 1, 1, 2]]\n",
    "\n",
    "for val in alternatives:\n",
    "    A = np.array([[val[0],      1,      0,-1],\n",
    "                  [val[1],      2,      1, 0],\n",
    "                  [0     , val[2], val[3], 1],\n",
    "                  [-1    ,      0,      1, 1]])\n",
    "    # Abaixo calculamos determinante e autovalores da matriz alternativa\n",
    "    # Além da forma quadrática para vetores aleatórios\n",
    "    det = np.linalg.det(A)\n",
    "    w, _ = np.linalg.eig(A)\n",
    " \n",
    "    # Teste para autovalores reais positivos e determinante positivo\n",
    "    if det > 0 and (not np.any(np.iscomplex(w))) and np.all(w) > 0:\n",
    "        print('O determinante da matriz A a seguir é zero.')\n",
    "        print(A)\n",
    "        print('Seus autovalores são reais positivos:')\n",
    "        print(w)\n",
    "        print('\\n')\n",
    "        # Gerando vetores aleatórios em R^4\n",
    "        # Demonstração de valor de forma quadrática positiva para x arbitrário\n",
    "        np.set_printoptions(precision=2, suppress=True)\n",
    "        for i in range(5): \n",
    "            x = np.random.uniform(low=-1, high=1, size=(4,1))\n",
    "            # Cálculo da forma quadrática\n",
    "            f = np.linalg.multi_dot([x.T,A,x])[0][0]        \n",
    "            print('Vetor aleatório x = {x}. Fórmula quadrática f=x^T.A.x = {f:.2f} > 0'.format(x=x.T[0], f=f))\n",
    "        print('\\n')\n",
    "        print('Os valores buscados são: a={val_0}, b={val_1}, c={val_2}, d={val_3}.'.format(val_0=val[0],\n",
    "                                                                                                  val_1=val[1],\n",
    "                                                                                                  val_2=val[2],\n",
    "                                                                                                  val_3=val[3]))"
   ]
  },
  {
   "cell_type": "markdown",
   "metadata": {
    "id": "gTA8T_08Ek1w"
   },
   "source": [
    "### Questão 2)\n",
    "Considere o conjunto de pontos definidos nas colunas da matriz $\\mathbf{X}$ abaixo. Quais são as coordenadas do ponto dado pela primeira coluna de $\\mathbf{X}$ quando projetado na duas primeiras direções principais?\n",
    "\n",
    "a) 0.33 0.12<br>\n",
    "b) -0.43  0.03 (X)<br>\n",
    "c) 0.11 -0.22<br>\n",
    "d) 1.01 0.56"
   ]
  },
  {
   "cell_type": "code",
   "execution_count": 3,
   "metadata": {
    "id": "rMS59-SgEk1x"
   },
   "outputs": [],
   "source": [
    "X = np.array([[ 0.35,  0.69,  0.39, -0.75, -0.86, -0.76, -0.14, -0.85, -0.44, -0.12],\n",
    "              [-0.07, -0.68,  0.68, -0.26, -0.6 , -0.39,  0.58, -0.85, -0.67, -0.28],\n",
    "              [ 0.51,  0.83,  0.81, -0.42,  0.83, -0.59, -0.14, -0.91,  0.02,  0.66],\n",
    "              [ 0.07,  0.78, -0.62, -0.53, -1.00,  0.53,  0.32,  0.85, -0.06, -0.84],\n",
    "              [-0.14,  0.87,  0.53,  0.70, -0.97, -0.07, -0.79, -0.42,  0.45, -0.29]])"
   ]
  },
  {
   "cell_type": "markdown",
   "metadata": {},
   "source": [
    "Em vez de calcularmos PCA para a matrix <b>X</b>, usaremos a vantagem da decomposição em SVD:\n",
    "\n",
    "$$\\mathbf{A}=\\mathbf{U}\\Sigma\\mathbf{V}^\\top$$\n",
    "\n",
    "que produz uma matrix <b>U</b> cujas colunas são os autovetores da matriz de covariância dos pontos de <b>X</b>: $\\mathbf{A}\\mathbf{A}^\\top$: ou seja, se tivermos o SVD da matriz, teremos as direções principais dadas por <b>U</b>."
   ]
  },
  {
   "cell_type": "code",
   "execution_count": 163,
   "metadata": {
    "id": "Ui7i3AAAEk14"
   },
   "outputs": [
    {
     "name": "stdout",
     "output_type": "stream",
     "text": [
      "A projeção do ponto p em U é dada por (tomar DUAS PRMEIRAS coordenadas):\n",
      "[-0.43  0.03  0.07  0.47 -0.01]\n"
     ]
    }
   ],
   "source": [
    "# Solução\n",
    "\n",
    "# Calculando SVD\n",
    "U, Sigma, V_T = np.linalg.svd(X)\n",
    "p = X[:, 0] # ponto dado pela primeira coluna de X\n",
    "\n",
    "print('A projeção do ponto p em U é dada por (tomar DUAS PRMEIRAS coordenadas):')\n",
    "print(np.dot(U.T, p))"
   ]
  },
  {
   "cell_type": "markdown",
   "metadata": {
    "id": "q-JckZRAEk2A"
   },
   "source": [
    "### Questão 3)\n",
    "Considere a matriz $\\mathbf{H}$ abaixo. Encontre a matriz com metade do posto de $\\mathbf{H}$ que melhor aproxima $\\mathbf{H}$. Qual o erro de aproximação na norma $L^2$?\n",
    "\n",
    "a) Erro $\\approx$ 230.54<br>\n",
    "b) Erro $\\approx$ 380.13<br>\n",
    "c) Erro $\\approx$ 630.18<br>\n",
    "d) Erro $\\approx$ 410.83 (X)<br>"
   ]
  },
  {
   "cell_type": "code",
   "execution_count": 65,
   "metadata": {
    "id": "kUwLf1yeEk2B"
   },
   "outputs": [],
   "source": [
    "H = np.array([[4, 0, 3, 9, 1, 1, 4, 5, 2, 0, 6, 8, 1, 8, 1, 0, 9, 5, 0, 2],\n",
    " [7, 3, 3, 9, 5, 4, 6, 5, 6, 4, 0, 0, 9, 8, 5, 2, 5, 7, 5, 8],\n",
    " [7, 0, 7, 7, 1, 7, 0, 5, 8, 8, 0, 8, 5, 0, 3, 2, 8, 7, 8, 8],\n",
    " [0, 5, 8, 9, 7, 4, 7, 2, 8, 1, 8, 3, 8, 7, 7, 7, 3, 6, 0, 6],\n",
    " [3, 6, 3, 6, 2, 4, 5, 6, 1, 3, 2, 3, 7, 6, 4, 4, 8, 4, 9, 5],\n",
    " [2, 3, 1, 0, 4, 4, 0, 2, 2, 5, 5, 7, 6, 2, 9, 6, 0, 8, 9, 7],\n",
    " [7, 7, 3, 7, 1, 8, 0, 6, 8, 7, 1, 4, 2, 8, 3, 5, 2, 8, 2, 1],\n",
    " [6, 2, 5, 9, 4, 6, 9, 5, 8, 5, 2, 7, 6, 9, 9, 4, 3, 6, 1, 1],\n",
    " [8, 2, 5, 2, 0, 0, 1, 2, 9, 2, 6, 7, 9, 6, 6, 9, 3, 6, 7, 7],\n",
    " [9, 6, 4, 4, 8, 1, 8, 8, 3, 0, 4, 2, 0, 2, 6, 7, 3, 7, 3, 3]])"
   ]
  },
  {
   "cell_type": "markdown",
   "metadata": {},
   "source": [
    "A matriz <b>H</b> tem posto 10. Devemos criar uma matriz aproximada pela decomposição de posto reduzido via SVD utilizando os r=5 primeiros elementos da decomposição. \n",
    "\n",
    "$$\n",
    "H_{red} = \\mathbf{U}_r\\Sigma_r\\mathbf{V}_r^\\top, r=5\n",
    "$$\n",
    "\n",
    "Para calcular o erro da aproximação norma $L^2$ simplesmente calculamos a diferença nas normas das matrizes original $H$ e aproximada de posto reduzido $H_{red}$\n"
   ]
  },
  {
   "cell_type": "code",
   "execution_count": 164,
   "metadata": {
    "id": "v4zA0obZEk2I"
   },
   "outputs": [
    {
     "name": "stdout",
     "output_type": "stream",
     "text": [
      "Posto da matriz H: rank(H)=10 e a matriz de posto reduzido H_red terá posto 5.0.\n",
      "A matriz de posto reduzido H_red é:\n",
      "[[ 2.89  0.16  4.28  9.8   1.39  1.93  5.59  4.2   3.13  0.61  3.16  4.62\n",
      "   3.87  7.12  0.95 -0.54  8.98  3.08  0.65  3.05]\n",
      " [ 6.49  3.95  4.57  7.89  4.03  4.28  5.52  6.26  5.24  3.59  3.06  4.83\n",
      "   5.2   6.3   5.16  4.18  6.27  6.93  4.86  5.1 ]\n",
      " [ 7.28  1.26  4.24  6.48 -0.74  6.5  -0.78  5.2   6.6   7.88  0.16  7.91\n",
      "   6.03  3.93  3.01  2.18  7.68  7.17  8.97  7.01]\n",
      " [ 2.64  3.64  6.09  7.73  5.57  2.22  7.61  2.37  7.59  0.46  7.93  4.84\n",
      "   7.96  9.12  8.08  7.12  2.49  6.03  0.32  4.51]\n",
      " [ 5.73  3.09  3.51  5.88  3.61  2.38  4.74  6.    2.21  2.31  2.89  4.28\n",
      "   5.    3.91  4.09  3.28  7.49  5.8   7.24  6.38]\n",
      " [ 4.18  3.34  2.98 -0.25  2.97  2.53  0.31  1.92  4.61  3.86  3.8   4.58\n",
      "   7.17  1.2   7.24  7.43  0.58  6.33  8.97  7.51]\n",
      " [ 7.61  4.51  3.83  7.05  2.11  7.99  2.1   5.59  8.73  7.47 -0.67  4.21\n",
      "   2.53  6.02  4.53  3.9   1.52  7.39  1.74  1.33]\n",
      " [ 5.84  4.25  5.65  9.68  4.12  5.75  6.17  5.08  8.78  4.14  3.72  5.01\n",
      "   5.24  9.16  6.1   4.98  3.58  7.17  0.26  2.67]\n",
      " [ 3.58  2.16  4.98  3.44  2.35  3.15  1.46  1.42  7.19  3.91  5.67  6.87\n",
      "   9.22  4.65  7.42  7.03  2.66  6.65  7.11  7.89]\n",
      " [ 6.78  7.21  2.53  4.63  7.87  2.4   8.25  7.52  1.74  0.98  2.69  0.17\n",
      "   2.23  4.01  6.47  6.07  2.62  6.54  4.07  3.2 ]]\n",
      "O erro da aproximação de posto reduzido é 410.83.\n"
     ]
    }
   ],
   "source": [
    "# Solução\n",
    "\n",
    "rank = np.linalg.matrix_rank(H)\n",
    "# Também seria possível obter essa dimensão pelo número de elementos da matriz Sigma do SVD.\n",
    "print('Posto da matriz H: rank(H)={rank} e a matriz de posto reduzido H_red terá posto {rank_red}.'.format(rank=rank, rank_red=rank/2))\n",
    "\n",
    "# SVD de H\n",
    "U, Sigma, V_T = np.linalg.svd(H)\n",
    "rank_red = int(rank/2)\n",
    "\n",
    "# Cálculo da aproximação\n",
    "H_red = np.linalg.multi_dot([U[:,:rank_red],\n",
    "                             np.diag(Sigma[:rank_red]),\n",
    "                             V_T[:rank_red,:]])\n",
    "# Cálculo do erro\n",
    "L2 = np.linalg.norm(H.ravel() - H_red.ravel())**2 \n",
    "\n",
    "print('A matriz de posto reduzido H_red é:')\n",
    "print(H_red)\n",
    "print('O erro da aproximação de posto reduzido é {L2:.2f}.'.format(L2=L2))"
   ]
  },
  {
   "cell_type": "markdown",
   "metadata": {
    "id": "M8cQUz6OEk2P"
   },
   "source": [
    "### Questão 4)\n",
    "Construa uma transformação linear $\\mathbf{A}:\\mathbb{R}^3\\rightarrow\\mathbb{R}^5$ que leve os vetores ortogonais $\\mathbf{x}_1=[1,1,1]$, $\\mathbf{x}_2=[1,-1,0]$ e $\\mathbf{x}_3=[1,1,-2]$ nos vetores ortogonais $\\mathbf{y}_1=[1,0,1,0,1]$, $\\mathbf{y}_2 = [1,0,-1,1,0]$ e $\\mathbf{y}_3=[1,1,0,-1,-1]$, respectivamente, ou seja\n",
    "\n",
    "$$\n",
    "\\mathbf{A}\\mathbf{x}_1=\\mathbf{y}_1\\\\\n",
    "\\mathbf{A}\\mathbf{x}_2=\\mathbf{y}_2\\\\\n",
    "\\mathbf{A}\\mathbf{x}_3=\\mathbf{y}_3\\\\\n",
    "$$\n",
    "\n",
    "**Dica**: Lembre-se da interpretação de transformações lineares via SVD."
   ]
  },
  {
   "cell_type": "code",
   "execution_count": 103,
   "metadata": {
    "id": "IQcvUG4SEk2P"
   },
   "outputs": [],
   "source": [
    "x1 = np.array([1,1,1])\n",
    "x2 = np.array([1,-1,0])\n",
    "x3 = np.array([1,1,-2])\n",
    "\n",
    "y1 = np.array([1,0,1,0,1])\n",
    "y2 = np.array([1,0,-1,1,0])\n",
    "y3 = np.array([1,1,0,-1,-1])"
   ]
  },
  {
   "cell_type": "markdown",
   "metadata": {},
   "source": [
    "Podemos construir uma transformação linear <b>A</b> através de SVD. Para isso, consideraremos a propriedade de uma transformação linear ser capaz mapear vetores ortogonais de uma base $x$ no espaço $\\mathbb{R}^3$ em vetores também ortogonais de uma base $y$ no espaço $\\mathbb{R}^5$.<br>\n",
    "Dada a diferença de dimensionalidade entre os espaços mencionados, dado o Teorema do Núcleo e da Imagem, a transformaçao desejada terá 3 colunas LI e duas colunas que poderão ser preenchidas por colunas LD.<br>\n",
    "Dado que obteremos $\\mathbf{A}=\\mathbf{U}\\Sigma\\mathbf{V}^\\top$ através de SVD, as colunas LD de $A$ serão dadas pelo preenchimento <b>com zero </b>dos últimos altovetores de $U$, autovalores de $\\Sigma$ e vetores de $\\mathbf{V}^\\top$, dada a diferença de dimensionalidade, de acordo com a fórmula abaixo:\n",
    "\n",
    "$$\n",
    "\\left[\n",
    "\\begin{array}{ccc}\n",
    " & & \\\\\n",
    " & \\mathbf{A} & \\\\ \n",
    "  & & \\\\\n",
    "  & & \\\\\n",
    "  & & \\\\\n",
    "  & & \n",
    "\\end{array}\\right]= \n",
    "\\left[\\begin{array}{ccc|ccc}\n",
    " & & & | & & | \\\\\n",
    " & \\mathbf{U} & & | & \\cdots & |\\\\ \n",
    " & & & | & & | \\\\\n",
    "  & & & | & & | \\\\\n",
    "   & & & | & & | \\\\\n",
    "    & & & | & & | \n",
    "\\end{array}\\right]\n",
    "\\left[\\begin{array}{ccc}\n",
    " & & \\\\\n",
    " & \\mathbf{\\Sigma} & \\\\ \n",
    " & & \\\\\\hline\n",
    "0 & &  \\\\\n",
    " & \\ddots &  \\\\\n",
    " & & 0\n",
    "\\end{array}\\right]\n",
    "\\left[\n",
    "\\begin{array}{ccc}\n",
    " & & \\\\\n",
    " & \\mathbf{V}^\\top & \\\\ \n",
    "  & & \n",
    "\\end{array}\\right]\n",
    "$$\n",
    "\n",
    "Para fazer uso de SVD para criar a matriz $A$ ainda devemos calcular os fatores de escala entre os vetores das baeses da transformação, dados pelas raízes dos autovetores de $\\mathbf{A}^\\top\\mathbf{A}$, na diagonal da matriz $\\Sigma$. Neste caso, serão dados pelas razões das <b>normas</b> dos vetores da base.\n",
    "$$\n",
    "\\mathbf{y}_{normalizado}=(\\sqrt{\\lambda_1}\\mathbf{v}_1^\\top\\mathbf{x}_{normalizado})\n",
    "\\begin{bmatrix}\n",
    "| \\\\ \\mathbf{u}_1 \\\\ |\n",
    "\\end{bmatrix}+\\cdots+\n",
    "(\\sqrt{\\lambda_n}\\mathbf{v}_n^\\top\\mathbf{x}_{normalizado})\n",
    "\\begin{bmatrix}\n",
    "| \\\\ \\mathbf{u}_n \\\\ |\n",
    "\\end{bmatrix}\n",
    "$$"
   ]
  },
  {
   "cell_type": "code",
   "execution_count": 165,
   "metadata": {
    "id": "u0Foh1AJEk2U"
   },
   "outputs": [
    {
     "name": "stdout",
     "output_type": "stream",
     "text": [
      "Dimensões das matrizes calculadas: U:(5, 5) Sigma:(5, 5) V_T:(5, 3)\n",
      "Matriz A = U.Sigma.V_T:\n",
      "[[ 1.    0.    0.  ]\n",
      " [ 0.17  0.17 -0.33]\n",
      " [-0.17  0.83  0.33]\n",
      " [ 0.33 -0.67  0.33]\n",
      " [ 0.17  0.17  0.67]]\n",
      "\n",
      "\n",
      "Verificando o mapeamento inicial:\n",
      "y1 = [1 0 1 0 1] = A.x1 = A.[1 1 1] = [ 1.  0.  1. -0.  1.]\n",
      "y2 = [ 1  0 -1  1  0] = A.x2 = A.[ 1 -1  0] = [ 1.  0. -1.  1.  0.]\n",
      "y3 = [ 1  1  0 -1 -1] = A.x3 = A.[ 1  1 -2] = [ 1.  1.  0. -1. -1.]\n"
     ]
    }
   ],
   "source": [
    "# Solução\n",
    "\n",
    "# Calculando as normas dos vetores das bases:\n",
    "norm_x1 = np.linalg.norm(x1)\n",
    "norm_x2 = np.linalg.norm(x2)\n",
    "norm_x3 = np.linalg.norm(x3)\n",
    "norm_y1 = np.linalg.norm(y1)\n",
    "norm_y2 = np.linalg.norm(y2)\n",
    "norm_y3 = np.linalg.norm(y3)\n",
    "\n",
    "# Montando as matrize U e V_T:\n",
    "U = np.zeros((5,5))\n",
    "U[:,0] = y1/norm_y1\n",
    "U[:,1] = y2/norm_y2\n",
    "U[:,2] = y3/norm_y3\n",
    "U[:,3] = np.zeros(np.size(y1))\n",
    "U[:,4] = np.zeros(np.size(y1))\n",
    "\n",
    "V_T = np.zeros((5,3))\n",
    "V_T[0,:] = x1/norm_x1\n",
    "V_T[1,:] = x2/norm_x2\n",
    "V_T[2,:] = x3/norm_x3\n",
    "V_T[3,:] = np.zeros(np.size(x1))\n",
    "V_T[4,:] = np.zeros(np.size(x1))\n",
    "\n",
    "# Calculando fatores de escala na matriz diagonal:\n",
    "# Últimas posiçoes preenchidas com zero por n construção\n",
    "Sigma = np.zeros((5))\n",
    "Sigma[0] = (norm_y1/norm_x1)**2\n",
    "Sigma[1] = (norm_y2/norm_x2)**2\n",
    "Sigma[2] = (norm_y3/norm_x3)**2\n",
    "Sigma = np.diag(np.sqrt(Sigma))\n",
    "\n",
    "np.set_printoptions(precision=2, suppress=True)\n",
    "print('Dimensões das matrizes calculadas: U:{U} Sigma:{Sigma} V_T:{V_T}'.format(U=U.shape, \n",
    "                                                                                Sigma=Sigma.shape, \n",
    "                                                                                V_T=V_T.shape))\n",
    "\n",
    "\n",
    "# Calculando a matriz A:\n",
    "A = np.linalg.multi_dot([U, Sigma, V_T])\n",
    "print('Matriz A = U.Sigma.V_T:')\n",
    "print(A)\n",
    "\n",
    "print('\\n')\n",
    "print('Verificando o mapeamento inicial:')\n",
    "print('y1 = {y} = A.x1 = A.{x} = {y_calc}'.format(y=y1, x=x1, y_calc=np.dot(A,x1)))\n",
    "print('y2 = {y} = A.x2 = A.{x} = {y_calc}'.format(y=y2, x=x2, y_calc=np.dot(A,x2)))\n",
    "print('y3 = {y} = A.x3 = A.{x} = {y_calc}'.format(y=y3, x=x3, y_calc=np.dot(A,x3)))"
   ]
  },
  {
   "cell_type": "markdown",
   "metadata": {
    "id": "ZijrPvSlEk2Z"
   },
   "source": [
    "Defina a variável que armazena a matriz calcula com a letra `A` e rode o código abaixo. O resultado deve ser \n",
    "\n",
    "```python\n",
    "A matrix calculada está corret? True\n",
    "```"
   ]
  },
  {
   "cell_type": "code",
   "execution_count": 161,
   "metadata": {
    "id": "8DrW58VfEk2a",
    "outputId": "65a65b63-a1ac-45ed-ac29-d7696886fad7"
   },
   "outputs": [
    {
     "name": "stdout",
     "output_type": "stream",
     "text": [
      "A matrix calculada está corret? True\n"
     ]
    }
   ],
   "source": [
    "tol = 1.0e-9\n",
    "\n",
    "e = np.zeros(3)\n",
    "e[0] = np.linalg.norm(np.dot(A,x1)-y1)\n",
    "e[1] = np.linalg.norm(np.dot(A,x2)-y2)\n",
    "e[2] = np.linalg.norm(np.dot(A,x3)-y3)\n",
    "\n",
    "print('A matrix calculada está corret?',np.all(np.sum(e) < tol))"
   ]
  }
 ],
 "metadata": {
  "colab": {
   "collapsed_sections": [],
   "name": "MAI5002 avaliacao 2.ipynb",
   "provenance": []
  },
  "kernelspec": {
   "display_name": "Python 3",
   "language": "python",
   "name": "python3"
  },
  "language_info": {
   "codemirror_mode": {
    "name": "ipython",
    "version": 3
   },
   "file_extension": ".py",
   "mimetype": "text/x-python",
   "name": "python",
   "nbconvert_exporter": "python",
   "pygments_lexer": "ipython3",
   "version": "3.8.5"
  }
 },
 "nbformat": 4,
 "nbformat_minor": 1
}
