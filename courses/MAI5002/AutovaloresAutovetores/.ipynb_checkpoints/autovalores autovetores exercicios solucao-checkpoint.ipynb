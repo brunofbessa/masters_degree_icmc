{
 "cells": [
  {
   "cell_type": "markdown",
   "metadata": {},
   "source": [
    "# <span style=\"color:blue\"> Metodos Espectrais e Decomposição de Matrizes</span>\n",
    "## <font color='blue'>Autovalores e Autovetores</font>\n",
    "\n",
    "## <span style=\"color:blue\">Solução dos Exercícios</span>\n",
    "**Material Produzido por Luis Gustavo Nonato**<br>\n",
    "**Cemeai - ICMC/USP São Carlos**"
   ]
  },
  {
   "cell_type": "markdown",
   "metadata": {},
   "source": [
    "### Exercício 1) \n",
    "Mostre que para qualquer matriz $\\mathbf{A}$ com colunas LI, a matriz $\\mathbf{A}^\\top\\mathbf{A}$ é simétrica e semi-definida positiva."
   ]
  },
  {
   "cell_type": "markdown",
   "metadata": {},
   "source": [
    "**Solução**\n",
    "\n",
    "A simetria é dada pela construção, pois o elemento da entrada ${ij}$ de $\\mathbf{A}^\\top\\mathbf{A}$ é dado pelo produto escalar $\\mathbf{a}_i^\\top\\mathbf{a}_j=\\mathbf{a}_j^\\top\\mathbf{a}_i$, logo é igual ao elemento da entrada $ji$.\n",
    "\n",
    "$$\n",
    "\\mathbf{x}^\\top\\mathbf{A}^\\top\\mathbf{A}\\mathbf{x} = (\\mathbf{A}\\mathbf{x})^\\top(\\mathbf{A}\\mathbf{x}) = \\|\\mathbf{A}\\mathbf{x}\\| \\geq 0\n",
    "$$\n",
    "\n",
    "Logo $\\mathbf{A}^\\top\\mathbf{A}$ é semi-definida positiva."
   ]
  },
  {
   "cell_type": "markdown",
   "metadata": {},
   "source": [
    "### Exercício 2)\n",
    "Construa uma matriz $\\mathbf{A}$ definida positiva  $10\\times 10$ e verifique que o produto $\\mathbf{x}^\\top\\mathbf{A}\\mathbf{x}>0$ para alguns vetores $\\mathbf{x}$."
   ]
  },
  {
   "cell_type": "markdown",
   "metadata": {},
   "source": [
    "**Solução**\n",
    "\n",
    "O teorema espectral diz que $\\mathbf{A}=\\mathbf{Q}\\mathbf{\\Lambda}\\mathbf{Q}^\\top$, onde $\\mathbf{Q}$ é ortogonal e $\\mathbf{\\Lambda}$ é diagonal com entradas diagonais positivas. Portanto,\n",
    "se constuirmos uma matriz $\\mathbf{\\Lambda}$ e uma $\\mathbf{Q}$ com as propriedades desejadas, o teorema espectral grante que $\\mathbf{A}$ será definida positiva ."
   ]
  },
  {
   "cell_type": "code",
   "execution_count": 8,
   "metadata": {},
   "outputs": [
    {
     "name": "stdout",
     "output_type": "stream",
     "text": [
      "Matrix é definida positiva? True\n"
     ]
    }
   ],
   "source": [
    "import numpy as np\n",
    "\n",
    "X = np.random.uniform(0,1,size=(10,10))  # X é uma matriz qualquer com colunas LI \n",
    "                                         # pois sao geradas randomicamente e é muito\n",
    "                                         # difícil serem linearmente dependentes\n",
    "\n",
    "# fatozendo a fatoração QR de X, obtendo portanto uma matriz ortonormal Q\n",
    "Q,R = np.linalg.qr(X)\n",
    "\n",
    "# construindo a matriz Lambda\n",
    "L = np.diag(np.random.uniform(0.1,2,10))\n",
    "\n",
    "# calculando A\n",
    "A = np.linalg.multi_dot([Q,L,Q.T])\n",
    "\n",
    "# testando se A é definida positiva para 20 vetores dados como colunas de X\n",
    "X = np.random.uniform(-1,1,size=(10,20))\n",
    "FQ = []\n",
    "for i in range(X.shape[1]):\n",
    "   FQ.append(np.linalg.multi_dot([X[:,i].T,A,X[:,i]]))\n",
    "\n",
    "print('Matrix é definida positiva?',np.all(np.array(FQ) > 0))"
   ]
  },
  {
   "cell_type": "markdown",
   "metadata": {},
   "source": [
    "### Exercício 3)\n",
    "Construa uma transformação linear que mapeia o vetor $\\mathbf{v}=[1,1,1,1,1]\\in\\mathbb{R}^5$ nele mesmo, ou seja, a transformação deve satisfazer \n",
    "\n",
    "$$\n",
    "\\mathbf{A}\\mathbf{v}=\\mathbf{v}\n",
    "$$"
   ]
  },
  {
   "cell_type": "code",
   "execution_count": 13,
   "metadata": {},
   "outputs": [
    {
     "name": "stdout",
     "output_type": "stream",
     "text": [
      "Construção bem sucedida\n",
      "A matriz de transformação é:\n",
      " [[ 1.09030425 -0.10298846  0.08537899  0.6269456  -0.69964038]\n",
      " [ 0.21324296  0.8556198   0.03025684  0.401891   -0.5010106 ]\n",
      " [ 0.21413481  0.05682829  0.83856217  0.26580719 -0.37533245]\n",
      " [ 0.26854643 -0.01822024  0.08333505  1.1712338  -0.50489504]\n",
      " [ 0.32241217 -0.1322609   0.12892678  0.57730649  0.10361546]]\n",
      "\n",
      " A imagem de [1,1,1,1,1] é: [1. 1. 1. 1. 1.]\n"
     ]
    }
   ],
   "source": [
    "# O vetor v=[1,1,1,1,1] deve ser um autovetor da transformação \n",
    "# com autovalor associado igual a 1.\n",
    "# Para isso, construimos uma matriz com colunas LI sendo v uma das colunas\n",
    "\n",
    "v = np.array([1,1,1,1,1])\n",
    "\n",
    "# construindo a matriz com colunas LI garantindo v como a primeira coluna\n",
    "S = np.random.randint(0,100,size=(5,5))\n",
    "S[:,0] = v\n",
    "\n",
    "det = np.linalg.det(S)\n",
    "if det == 0:\n",
    "    print('Gerar novos colunas randomicas para S, demos azar')\n",
    "else:\n",
    "    print('Construção bem sucedida')\n",
    "    S_1 = np.linalg.inv(S)\n",
    "    \n",
    "    # Construindo a matriz de autovalores sendo o autovalor 1 na primeira posição\n",
    "    d = np.random.uniform(0,1,5)\n",
    "    d[0] =1\n",
    "    L = np.diag(d)\n",
    "\n",
    "    # Constuindo a transformação\n",
    "    A = np.linalg.multi_dot([S,L,S_1])\n",
    "\n",
    "    # Garantindo que v é um autovetor\n",
    "    print('A matriz de transformação é:\\n',A)\n",
    "    print('\\n A imagem de [1,1,1,1,1] é:',np.dot(A,v))"
   ]
  },
  {
   "cell_type": "markdown",
   "metadata": {},
   "source": [
    "### Exercício 4) \n",
    "Encontre a equação de uma elipse cujo o eixo maior está na direção do vetor $[1,1]$."
   ]
  },
  {
   "cell_type": "markdown",
   "metadata": {},
   "source": [
    "**Solução**\n",
    "\n",
    "Os autovetores de uma matriz definida positiva $\\mathbf{A}$ definem a elipse $\\mathbf{x}^\\top\\mathbf{A}\\mathbf{x}=1$, sendo que o maior eixo está na direção do autovetor associado ao menor autovalor. Assim, precisamos constuir uma matriz definida positiva cujo vetor $[1,1]$ é o autovetor associado ao menor autovalor."
   ]
  },
  {
   "cell_type": "code",
   "execution_count": 50,
   "metadata": {},
   "outputs": [
    {
     "name": "stdout",
     "output_type": "stream",
     "text": [
      "A matriz definida positiva é\n",
      " [[ 0.55 -0.45]\n",
      " [-0.45  0.55]]\n",
      "A equação da elipse é\n",
      " 0.55 xˆ2 -0.90 xy +0.55 yˆ2\n"
     ]
    }
   ],
   "source": [
    "# Construindo uma matriz ortogonal 2x2 onde o vetor [1,1] (normalizado, ou seja, norma 1) é\n",
    "# um o autovetor associado ao menor autovalor\n",
    "\n",
    "# matriz ortonormal dos autovetores\n",
    "Q = np.array([[1,1],[-1,1]]).T  # matriz ortogonal com [1,1] como uma das colunas\n",
    "Q = Q/np.linalg.norm(Q,axis=0)  # normalizando as colunas para que tenham norma 1\n",
    "\n",
    "# matriz diagonal dos autovalores, sendo que o menor autovalor corresponde a primeira coluna de Q\n",
    "L = np.diag([0.1,1])\n",
    "\n",
    "# Matriz definida positiva com [1,1] como autovetor associado ao menor autovalor\n",
    "A = np.linalg.multi_dot([Q,L,Q.T])\n",
    "np.set_printoptions(precision=2)\n",
    "print('A matriz definida positiva é\\n',A)\n",
    "\n",
    "# Equação da elipse\n",
    "print('A equação da elipse é\\n','{:4.2f}'.format(A[0,0]),'xˆ2',\\\n",
    "      '{:4.2f}'.format(2*A[0,1]),'xy','+{:4.2f}'.format(A[1,1]),'yˆ2')"
   ]
  },
  {
   "cell_type": "code",
   "execution_count": 51,
   "metadata": {},
   "outputs": [
    {
     "data": {
      "image/png": "[encoded data removed]",
      "text/plain": [
       "<Figure size 432x288 with 1 Axes>"
      ]
     },
     "metadata": {
      "needs_background": "light"
     },
     "output_type": "display_data"
    }
   ],
   "source": [
    "# desenhando a elipse\n",
    "from sympy import symbols, Eq, plot_implicit\n",
    "\n",
    "x,y = symbols('x y')\n",
    "p1 = plot_implicit(Eq(A[0,0]*x**2+2*A[0,1]*x*y+A[1,1]*y**2,1))"
   ]
  },
  {
   "cell_type": "markdown",
   "metadata": {},
   "source": [
    "### Exercício 5)\n",
    "Encontre uma trasformação linear cujos autovetores são $v_1=[1,1]$ e $v_2=[1,-1]$ e os autovalores correspondentes são $a_1$ e $a_2$, respectivamente. Os valores de $a_1$ e $a_2$ devem ser escolhidos por você. Verifique graficamente o efeito desta transformação no círculo $x^2+y^2=1$.\n",
    "O que acontece quando $a = b$, $a > b$ e $a < b$?"
   ]
  },
  {
   "cell_type": "code",
   "execution_count": 74,
   "metadata": {},
   "outputs": [],
   "source": [
    "# os vetores v1 e v2 são LI, logo podemos considerá-los como autovetores da transformação\n",
    "# precisamos apenas definir os autovalores\n",
    "\n",
    "S = np.array([[1,1],[1,-1]]).T\n",
    "S_1 = np.linalg.inv(S)\n",
    "L = np.diag([0.1,0.5])\n",
    "\n",
    "# montando a transformação linear\n",
    "A = np.linalg.multi_dot([S,L,S_1])\n",
    "\n",
    "# gerando pontos no ciruclo\n",
    "n = 100 # numero de pontos sobre o circulo\n",
    "t = np.linspace(0,2*np.pi,n)\n",
    "X = np.zeros((2,n))\n",
    "X[0,:] = np.cos(t)\n",
    "X[1,:] = np.sin(t)\n",
    "\n",
    "# encontrando a transformacao de X\n",
    "AX = np.dot(A,X)"
   ]
  },
  {
   "cell_type": "code",
   "execution_count": 75,
   "metadata": {},
   "outputs": [
    {
     "data": {
      "text/plain": [
       "[<matplotlib.lines.Line2D at 0x10b97b9b0>]"
      ]
     },
     "execution_count": 75,
     "metadata": {},
     "output_type": "execute_result"
    },
    {
     "data": {
      "image/png": "[encoded data removed]",
      "text/plain": [
       "<Figure size 432x288 with 2 Axes>"
      ]
     },
     "metadata": {
      "needs_background": "light"
     },
     "output_type": "display_data"
    }
   ],
   "source": [
    "import matplotlib.pyplot as plt\n",
    "\n",
    "fig, (ax1,ax2) = plt.subplots(nrows=1,ncols=2)\n",
    "ax1.set_aspect('equal')\n",
    "ax1.plot(X[0,:],X[1,:])\n",
    "\n",
    "ax2.set_aspect('equal')\n",
    "ax2.plot(AX[0,:],AX[1,:])"
   ]
  },
  {
   "cell_type": "markdown",
   "metadata": {},
   "source": [
    "### Exercício 6)\n",
    "Em muitos problemas reais, o que se busca é contrar o maior autovalor de uma matriz e seu correspondente autovetor. Vamos denotar os autovalores de uma matriz $\\mathbf{A}$ em ordem decrescente $|\\lambda_n|<\\ldots\\leq|\\lambda_1|$ e analisar o efeito de aplicar $\\mathbf{A}$ sucessivamente a partir de um vetor qualquer (randomico) $\\mathbf{x}$. Sendo $\\mathbf{u}_n,\\ldots,\\mathbf{u}_1$ os autovalores correspondentes, temos que:\n",
    "\n",
    "$$\n",
    "\\mathbf{x}=c_n\\mathbf{u}_n+c_{n-1}\\mathbf{u}_{n-1}+\\cdots+c_1\\mathbf{u}_1\\\\\n",
    "\\downarrow\\\\\n",
    "\\mathbf{x}^1=\\mathbf{A}\\mathbf{x} = c_n\\mathbf{A}\\mathbf{u}_n+c_{n-1}\\mathbf{A}\\mathbf{u}_{n-1}+\\cdots+c_1\\mathbf{A}\\mathbf{u}_1 = c_n\\lambda_n\\mathbf{u}_n+c_{n-1}\\lambda_{n-1}\\mathbf{u}_{n-1}+\\cdots+c_1\\lambda_1\\mathbf{u}_1\\\\\n",
    "\\downarrow\\\\\n",
    "\\mathbf{x}^2=\\mathbf{A}\\mathbf{x}^1=c_n\\lambda_n^2\\mathbf{u}_n+c_{n-1}\\lambda_{n-1}^2\\mathbf{u}_{n-1}+\\cdots+c_1\\lambda_1^2\\mathbf{u}_1\\\\\n",
    "\\downarrow\\\\\n",
    "\\vdots\\\\\n",
    "\\downarrow\\\\\n",
    "\\mathbf{x}^k=\\mathbf{A}\\mathbf{x}^{k-1}=c_n\\lambda_n^k\\mathbf{u}_n+c_{n-1}\\lambda_{n-1}^{k}\\mathbf{u}_{n-1}+\\cdots+c_1\\lambda_1^k\\mathbf{u}_1 = \\\\\n",
    "\\lambda_n^k\\left(c_n\\mathbf{u}_n+(\\frac{\\lambda_{n-1}}{\\lambda_{n}})^k \\mathbf{u}_{n-1}+\\cdots+ (\\frac{\\lambda_{1}}{\\lambda_{n}})^k \\mathbf{u}_{1}  \\right)\n",
    "$$\n",
    "\n",
    "Como $\\frac{\\lambda_{i}}{\\lambda_{n}}<1$ temos que $(\\frac{\\lambda_{i}}{\\lambda_{n}})^k\\rightarrow 0$ quando $k\\rightarrow\\infty$. Assim:\n",
    "\n",
    "$$\n",
    "\\mathbf{x}^k=\\mathbf{A}\\mathbf{x}^{k-1}\\rightarrow \\lambda_n^k c_n\\mathbf{u}_n\n",
    "$$\n",
    "\n",
    "Ou seja, $\\mathbf{A}\\mathbf{x}^{k-1}$ converge para o autovetor $\\mathbf{u}_n$. Uma vez encontrada a aproximação do autovetor, podemos obter o autovalor pelo coeficiente de Rayleigh:\n",
    "\n",
    "$$\n",
    "\\lambda_n = \\frac{(\\mathbf{x}^k)^\\top\\mathbf{A}\\mathbf{x}^k}{(\\mathbf{x}^k)^\\top\\mathbf{x}^k}\n",
    "$$\n",
    "\n",
    "O método acima para calcular o maior autovetor e autovalor é chamado de **método das potências**.\n",
    "\n",
    "Implemente o método das potência e aplique-o para encontrar o maior autovetor e autovalor da  matriz $\\mathbf{A}$ descrita abaixo. Compare seu resultado com o obtido pelo método <font color='blue'> eigh </font> do <font color='blue'> numpy </font>."
   ]
  },
  {
   "cell_type": "code",
   "execution_count": 21,
   "metadata": {},
   "outputs": [],
   "source": [
    "A = np.array([[ 0.59,  0.14,  0.18,  0.04,  0.13],\n",
    "              [ 0.14,  1.14, -0.  ,  0.51,  0.45],\n",
    "              [ 0.18, -0.  ,  0.56,  0.17, -0.02],\n",
    "              [ 0.04,  0.51,  0.17,  0.99,  0.37],\n",
    "              [ 0.13,  0.45, -0.02,  0.37,  1.14]])"
   ]
  },
  {
   "cell_type": "code",
   "execution_count": 18,
   "metadata": {},
   "outputs": [],
   "source": [
    "def m_potencias(A,ninter=1000):  # realizamos 1000 iteracoes como padrão\n",
    "    x = np.random.uniform(0,1,size=(A.shape[0],1))\n",
    "    \n",
    "    for i in range(ninter):\n",
    "        x = np.dot(A,x)\n",
    "        \n",
    "    return(x)"
   ]
  },
  {
   "cell_type": "code",
   "execution_count": 19,
   "metadata": {},
   "outputs": [
    {
     "name": "stdout",
     "output_type": "stream",
     "text": [
      "[[1.17e+303]\n",
      " [5.34e+303]\n",
      " [6.11e+302]\n",
      " [4.56e+303]\n",
      " [4.84e+303]]\n",
      "[0.14 0.62 0.07 0.53 0.56]\n"
     ]
    }
   ],
   "source": [
    "Axn = m_potencias(A)\n",
    "print(Axn)\n",
    "\n",
    "L,S = np.linalg.eigh(A)\n",
    "print(S[:,-1])\n",
    "\n",
    "# Note que os resultados são muito diferentes, ou seja, o método das potências como \n",
    "# descrito acima não funciona como esperado (veja exercício 7)"
   ]
  },
  {
   "cell_type": "markdown",
   "metadata": {},
   "source": [
    "### Exercício 7)\n",
    "O método das potências como descrito no exercício 6) não funciona corretamente devido ao problema de overflow (ou underflow). A razão é que $\\mathbf{A}\\mathbf{x}^{k-1}\\rightarrow \\lambda_n^k c_n\\mathbf{u}_n$, ou seja, a convergência é para um múltiplo do maior autovetor com fator multiplicador dado por $\\lambda_n^k$. Portanto, se $\\lambda>1$, este termo tende para infinito (overflow) e se $\\lambda<1$ ele tende a zero (underflow). \n",
    "\n",
    "Para corrigir este problema, realiz-se uma normalização do vetor obtido a cada passo da iteração. \n",
    "\n",
    "Implemente a versão do método da potência com o termo de normalização e refaça os testes do exercício 6). "
   ]
  },
  {
   "cell_type": "code",
   "execution_count": 20,
   "metadata": {},
   "outputs": [],
   "source": [
    "def m_potencias_normalizado(A,ninter=1000):  # realizamos 1000 iteracoes como padrão\n",
    "    x = np.random.uniform(0,1,size=(A.shape[0],1))\n",
    "    \n",
    "    for i in range(ninter):\n",
    "        x = np.dot(A,x)\n",
    "        x = x/np.linalg.norm(x)\n",
    "        \n",
    "    return(x)"
   ]
  },
  {
   "cell_type": "code",
   "execution_count": 28,
   "metadata": {},
   "outputs": [
    {
     "name": "stdout",
     "output_type": "stream",
     "text": [
      "Autovetor\n",
      "\n",
      "Metodo das Potencias com Normalização\n",
      " [0.14 0.62 0.07 0.53 0.56]\n",
      "Metodo eigh do numpy\n",
      " [0.14 0.62 0.07 0.53 0.56]\n",
      "Autovalor\n",
      "\n",
      "None\n",
      "Metodo das Potencias com Normalização\n",
      " 2.0137861428570876\n",
      "Metodo eigh do numpy\n",
      " 2.0137861428570867\n"
     ]
    }
   ],
   "source": [
    "Axn = m_potencias_normalizado(A)\n",
    "Lxn = np.linalg.multi_dot([Axn.T,A,Axn])/np.dot(Axn.T,Axn)\n",
    "\n",
    "L,S = np.linalg.eigh(A)\n",
    "\n",
    "print('Autovetor\\n')\n",
    "print('Metodo das Potencias com Normalização\\n',Axn[:,0])\n",
    "print('Metodo eigh do numpy\\n',S[:,-1])\n",
    "\n",
    "print(print('Autovalor\\n'))\n",
    "print('Metodo das Potencias com Normalização\\n',Lxn[0,0])\n",
    "print('Metodo eigh do numpy\\n',L[-1])"
   ]
  }
 ],
 "metadata": {
  "kernelspec": {
   "display_name": "Python 3",
   "language": "python",
   "name": "python3"
  },
  "language_info": {
   "codemirror_mode": {
    "name": "ipython",
    "version": 3
   },
   "file_extension": ".py",
   "mimetype": "text/x-python",
   "name": "python",
   "nbconvert_exporter": "python",
   "pygments_lexer": "ipython3",
   "version": "3.7.1"
  }
 },
 "nbformat": 4,
 "nbformat_minor": 2
}
