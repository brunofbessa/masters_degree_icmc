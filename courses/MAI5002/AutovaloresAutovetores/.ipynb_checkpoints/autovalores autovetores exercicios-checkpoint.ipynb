{
 "cells": [
  {
   "cell_type": "markdown",
   "metadata": {},
   "source": [
    "# <span style=\"color:blue\"> Metodos Espectrais e Decomposição de Matrizes</span>\n",
    "## <font color='blue'>Autovalores e Autovetores</font>\n",
    "\n",
    "## <span style=\"color:blue\">Solução dos Exercícios</span>\n",
    "**Material Produzido por Luis Gustavo Nonato**<br>\n",
    "**Cemeai - ICMC/USP São Carlos**"
   ]
  },
  {
   "cell_type": "markdown",
   "metadata": {},
   "source": [
    "### Exercício 1) \n",
    "Mostre que para qualquer matriz $\\mathbf{A}$ com colunas LI, a matriz $\\mathbf{A}^\\top\\mathbf{A}$ é simétrica e semi-definida positiva."
   ]
  },
  {
   "cell_type": "markdown",
   "metadata": {},
   "source": []
  },
  {
   "cell_type": "markdown",
   "metadata": {},
   "source": [
    "### Exercício 2)\n",
    "Construa uma matriz $\\mathbf{A}$ definida positiva  $10\\times 10$ e verifique que o produto $\\mathbf{x}^\\top\\mathbf{A}\\mathbf{x}>0$ para alguns vetores $\\mathbf{x}$."
   ]
  },
  {
   "cell_type": "markdown",
   "metadata": {},
   "source": [
    "**Solução**\n",
    "\n"
   ]
  },
  {
   "cell_type": "markdown",
   "metadata": {},
   "source": [
    "### Exercício 3)\n",
    "Construa uma transformação linear que mapeia o vetor $\\mathbf{v}=[1,1,1,1,1]\\in\\mathbb{R}^5$ nele mesmo, ou seja, a transformação deve satisfazer \n",
    "\n",
    "$$\n",
    "\\mathbf{A}\\mathbf{v}=\\mathbf{v}\n",
    "$$"
   ]
  },
  {
   "cell_type": "code",
   "execution_count": 13,
   "metadata": {},
   "outputs": [
    {
     "name": "stdout",
     "output_type": "stream",
     "text": [
      "Construção bem sucedida\n",
      "A matriz de transformação é:\n",
      " [[ 1.09030425 -0.10298846  0.08537899  0.6269456  -0.69964038]\n",
      " [ 0.21324296  0.8556198   0.03025684  0.401891   -0.5010106 ]\n",
      " [ 0.21413481  0.05682829  0.83856217  0.26580719 -0.37533245]\n",
      " [ 0.26854643 -0.01822024  0.08333505  1.1712338  -0.50489504]\n",
      " [ 0.32241217 -0.1322609   0.12892678  0.57730649  0.10361546]]\n",
      "\n",
      " A imagem de [1,1,1,1,1] é: [1. 1. 1. 1. 1.]\n"
     ]
    }
   ],
   "source": []
  },
  {
   "cell_type": "markdown",
   "metadata": {},
   "source": [
    "### Exercício 4) \n",
    "Encontre a equação de uma elipse cujo o eixo maior está na direção do vetor $[1,1]$."
   ]
  },
  {
   "cell_type": "markdown",
   "metadata": {},
   "source": [
    "**Solução**\n",
    "\n"
   ]
  },
  {
   "cell_type": "markdown",
   "metadata": {},
   "source": [
    "### Exercício 5)\n",
    "Encontre uma trasformação linear cujos autovetores são $v_1=[1,1]$ e $v_2=[1,-1]$ e os autovalores correspondentes são $a_1$ e $a_2$, respectivamente. Os valores de $a_1$ e $a_2$ devem ser escolhidos por você. Verifique graficamente o efeito desta transformação no círculo $x^2+y^2=1$.\n",
    "O que acontece quando $a = b$, $a > b$ e $a < b$?"
   ]
  },
  {
   "cell_type": "code",
   "execution_count": 74,
   "metadata": {},
   "outputs": [],
   "source": []
  },
  {
   "cell_type": "markdown",
   "metadata": {},
   "source": [
    "### Exercício 6)\n",
    "Em muitos problemas reais, o que se busca é contrar o maior autovalor de uma matriz e seu correspondente autovetor. Vamos denotar os autovalores de uma matriz $\\mathbf{A}$ em ordem decrescente $|\\lambda_n|<\\ldots\\leq|\\lambda_1|$ e analisar o efeito de aplicar $\\mathbf{A}$ sucessivamente a partir de um vetor qualquer (randomico) $\\mathbf{x}$. Sendo $\\mathbf{u}_n,\\ldots,\\mathbf{u}_1$ os autovalores correspondentes, temos que:\n",
    "\n",
    "$$\n",
    "\\mathbf{x}=c_n\\mathbf{u}_n+c_{n-1}\\mathbf{u}_{n-1}+\\cdots+c_1\\mathbf{u}_1\\\\\n",
    "\\downarrow\\\\\n",
    "\\mathbf{x}^1=\\mathbf{A}\\mathbf{x} = c_n\\mathbf{A}\\mathbf{u}_n+c_{n-1}\\mathbf{A}\\mathbf{u}_{n-1}+\\cdots+c_1\\mathbf{A}\\mathbf{u}_1 = c_n\\lambda_n\\mathbf{u}_n+c_{n-1}\\lambda_{n-1}\\mathbf{u}_{n-1}+\\cdots+c_1\\lambda_1\\mathbf{u}_1\\\\\n",
    "\\downarrow\\\\\n",
    "\\mathbf{x}^2=\\mathbf{A}\\mathbf{x}^1=c_n\\lambda_n^2\\mathbf{u}_n+c_{n-1}\\lambda_{n-1}^2\\mathbf{u}_{n-1}+\\cdots+c_1\\lambda_1^2\\mathbf{u}_1\\\\\n",
    "\\downarrow\\\\\n",
    "\\vdots\\\\\n",
    "\\downarrow\\\\\n",
    "\\mathbf{x}^k=\\mathbf{A}\\mathbf{x}^{k-1}=c_n\\lambda_n^k\\mathbf{u}_n+c_{n-1}\\lambda_{n-1}^{k}\\mathbf{u}_{n-1}+\\cdots+c_1\\lambda_1^k\\mathbf{u}_1 = \\\\\n",
    "\\lambda_n^k\\left(c_n\\mathbf{u}_n+(\\frac{\\lambda_{n-1}}{\\lambda_{n}})^k \\mathbf{u}_{n-1}+\\cdots+ (\\frac{\\lambda_{1}}{\\lambda_{n}})^k \\mathbf{u}_{1}  \\right)\n",
    "$$\n",
    "\n",
    "Como $\\frac{\\lambda_{i}}{\\lambda_{n}}<1$ temos que $(\\frac{\\lambda_{i}}{\\lambda_{n}})^k\\rightarrow 0$ quando $k\\rightarrow\\infty$. Assim:\n",
    "\n",
    "$$\n",
    "\\mathbf{x}^k=\\mathbf{A}\\mathbf{x}^{k-1}\\rightarrow \\lambda_n^k c_n\\mathbf{u}_n\n",
    "$$\n",
    "\n",
    "Ou seja, $\\mathbf{A}\\mathbf{x}^{k-1}$ converge para o autovetor $\\mathbf{u}_n$. Uma vez encontrada a aproximação do autovetor, podemos obter o autovalor pelo coeficiente de Rayleigh:\n",
    "\n",
    "$$\n",
    "\\lambda_n = \\frac{(\\mathbf{x}^k)^\\top\\mathbf{A}\\mathbf{x}^k}{(\\mathbf{x}^k)^\\top\\mathbf{x}^k}\n",
    "$$\n",
    "\n",
    "O método acima para calcular o maior autovetor e autovalor é chamado de **método das potências**.\n",
    "\n",
    "Implemente o método das potência e aplique-o para encontrar o maior autovetor e autovalor da  matriz $\\mathbf{A}$ (simétrica) descrita abaixo. Compare seu resultado com o obtido pelo método <font color='blue'> eigh </font> do <font color='blue'> numpy </font>."
   ]
  },
  {
   "cell_type": "code",
   "execution_count": 21,
   "metadata": {},
   "outputs": [],
   "source": [
    "A = np.array([[ 0.59,  0.14,  0.18,  0.04,  0.13],\n",
    "              [ 0.14,  1.14, -0.  ,  0.51,  0.45],\n",
    "              [ 0.18, -0.  ,  0.56,  0.17, -0.02],\n",
    "              [ 0.04,  0.51,  0.17,  0.99,  0.37],\n",
    "              [ 0.13,  0.45, -0.02,  0.37,  1.14]])"
   ]
  },
  {
   "cell_type": "markdown",
   "metadata": {},
   "source": [
    "### Exercício 7)\n",
    "O método das potências como descrito no exercício 6) não funciona corretamente devido ao problema de overflow (ou underflow). A razão é que $\\mathbf{A}\\mathbf{x}^{k-1}\\rightarrow \\lambda_n^k c_n\\mathbf{u}_n$, ou seja, a convergência é para um múltiplo do maior autovetor com fator multiplicador dado por $\\lambda_n^k$. Portanto, se $\\lambda>1$, este termo tende para infinito (overflow) e se $\\lambda<1$ ele tende a zero (underflow). \n",
    "\n",
    "Para corrigir este problema, realiz-se uma normalização do vetor obtido a cada passo da iteração. \n",
    "\n",
    "Implemente a versão do método da potência com o termo de normalização e refaça os testes do exercício 6). "
   ]
  }
 ],
 "metadata": {
  "kernelspec": {
   "display_name": "Python 3",
   "language": "python",
   "name": "python3"
  },
  "language_info": {
   "codemirror_mode": {
    "name": "ipython",
    "version": 3
   },
   "file_extension": ".py",
   "mimetype": "text/x-python",
   "name": "python",
   "nbconvert_exporter": "python",
   "pygments_lexer": "ipython3",
   "version": "3.7.1"
  }
 },
 "nbformat": 4,
 "nbformat_minor": 2
}
