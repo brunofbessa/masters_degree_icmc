{
 "cells": [
  {
   "cell_type": "markdown",
   "metadata": {},
   "source": [
    "## SFI5904 - Complex Networks\n",
    "\n",
    "Project 7: Relationshio between topolody and dynamics in complex netwoks<br>\n",
    "First Semester of 2021\n",
    "\n",
    "Professor: Luciano da Fontoura Costa (luciano@ifsc.usp.br) <br>\n",
    "\n",
    "Student: Bruno F. Bessa (num. 5881890, bruno.fernandes.oliveira@usp.br) <br>\n",
    "Universidade de São Paulo, São Carlos, Brazil."
   ]
  },
  {
   "cell_type": "markdown",
   "metadata": {},
   "source": [
    "A: Obtain scatterplots and respective Pearson correation coefficients between th degree and the visit rae for each node of at least 300 nodes with average degree between 5 and 7. Use one networkfor each one of the models ER, BA, WS (with 3 probabilities of reconnection) as well as the three geometric models seen during the course.\n",
    "\n",
    "B: Make the networksused in (A) more and more directed, removing individual connections from hem and check the effect on the correlations."
   ]
  },
  {
   "cell_type": "code",
   "execution_count": 1,
   "metadata": {},
   "outputs": [],
   "source": [
    "import random\n",
    "import numpy as np\n",
    "import pandas as pd\n",
    "from scipy import signal\n",
    "import matplotlib.pyplot as plt\n",
    "import seaborn as sns\n",
    "sns.set_theme()"
   ]
  },
  {
   "cell_type": "code",
   "execution_count": null,
   "metadata": {},
   "outputs": [],
   "source": []
  },
  {
   "cell_type": "markdown",
   "metadata": {},
   "source": [
    "## Results"
   ]
  },
  {
   "cell_type": "code",
   "execution_count": null,
   "metadata": {},
   "outputs": [],
   "source": []
  }
 ],
 "metadata": {
  "kernelspec": {
   "display_name": "Python 3",
   "language": "python",
   "name": "python3"
  },
  "language_info": {
   "codemirror_mode": {
    "name": "ipython",
    "version": 3
   },
   "file_extension": ".py",
   "mimetype": "text/x-python",
   "name": "python",
   "nbconvert_exporter": "python",
   "pygments_lexer": "ipython3",
   "version": "3.8.5"
  }
 },
 "nbformat": 4,
 "nbformat_minor": 4
}
