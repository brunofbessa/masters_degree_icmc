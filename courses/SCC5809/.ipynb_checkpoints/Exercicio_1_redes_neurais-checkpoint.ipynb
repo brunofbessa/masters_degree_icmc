{
 "cells": [
  {
   "cell_type": "code",
   "execution_count": 1,
   "metadata": {
    "id": "imXD5XqFnXIa"
   },
   "outputs": [],
   "source": [
    "import matplotlib.pyplot as plt\n",
    "import numpy as np\n",
    "from tqdm import notebook"
   ]
  },
  {
   "cell_type": "markdown",
   "metadata": {
    "id": "xYBMvs5ymZ5H"
   },
   "source": [
    "# The perceptron class definition"
   ]
  },
  {
   "cell_type": "code",
   "execution_count": 2,
   "metadata": {
    "id": "D_oaNbWwo1-g"
   },
   "outputs": [],
   "source": [
    "class Perceptron():\n",
    "  def __init__(self, n_inputs, learn_rate, function, epochs):\n",
    "    self.n_inputs = n_inputs\n",
    "    self.learn_rate = learn_rate\n",
    "    self.function = function\n",
    "    self.epochs = epochs\n",
    "    self.weights = None\n",
    "\n",
    "  def fit(self, data_x, data_y):\n",
    "    self.weights = np.zeros(self.n_inputs+1)\n",
    "    bar = notebook.tqdm(range(self.epochs))\n",
    "    for epoch in bar:\n",
    "      bar.set_postfix({\"Accuracy model:\":str(self.accuracy(data_x, data_y))})\n",
    "      for i in range(len(data_x)):\n",
    "        v_predict = self.predict([data_x[i]])[0]\n",
    "        if v_predict != data_y[i]:\n",
    "          self.update_weights(data_x[i], data_y[i], v_predict)\n",
    "  \n",
    "  def accuracy(self, data_x, data_y):\n",
    "    return (np.array(self.predict(data_x)) == np.array(data_y)).sum()/len(data_x)\n",
    "\n",
    "  def add_bias(self, data_x):\n",
    "    return np.hstack((np.array([[1]]*len(data_x)), data_x))\n",
    "\n",
    "  def update_weights(self, data_x, v_expected, v_predict):\n",
    "    data_x = self.add_bias([data_x])[0]\n",
    "    for w in range(len(self.weights)):\n",
    "      self.weights[w] = self.weights[w] + self.learn_rate*(v_expected - v_predict)*data_x[w] \n",
    "\n",
    "  def predict(self, data):\n",
    "    predicts = []\n",
    "    data = self.add_bias(data)\n",
    "    for i in data:\n",
    "      predicts.append(self.function((self.weights*i).sum()))\n",
    "    return predicts\n",
    "      \n",
    "\n"
   ]
  },
  {
   "cell_type": "markdown",
   "metadata": {
    "id": "weZj7h9imwD5"
   },
   "source": [
    "# Using the perceptron to learn AND operator"
   ]
  },
  {
   "cell_type": "code",
   "execution_count": 3,
   "metadata": {
    "id": "G0CwwxdJpJdb"
   },
   "outputs": [],
   "source": [
    "linear_function = lambda x: x\n",
    "hard_function = lambda x: 1 if x > 0 else 0\n",
    "signal_function = lambda x: 1 if x > 0 else -1\n",
    "perceptron = Perceptron(2, .5, hard_function, 6)\n"
   ]
  },
  {
   "cell_type": "code",
   "execution_count": 4,
   "metadata": {
    "colab": {
     "base_uri": "https://localhost:8080/",
     "height": 49,
     "referenced_widgets": [
      "10d4b9e4599b4e199b649f706cde0788",
      "ffdd8f2469fb45efbcd52fd2f9c5b314",
      "e87d87c034734b28ba53b50d1739b1e1",
      "82bf386fdcb2479aac6ae6a5a016680e",
      "4f4d66de1b9c449cad904d89f9fc62a4",
      "e1f3c78e43aa4fb4be9144eab99d81d2",
      "8d8278f943a84f7ebf9682209f143ffa",
      "b042828eb02e407eaa00642ab5b8f1ea",
      "ec90b723aeec4d5daaab2f0c29acae44",
      "ed86062c8461435fb37afd90c667cc0e",
      "c6278afa97d743a9b020b3f670a5a32f"
     ]
    },
    "id": "yXilUbaB603o",
    "outputId": "61d98730-8624-4435-c148-0d9dc3eae702"
   },
   "outputs": [
    {
     "data": {
      "application/vnd.jupyter.widget-view+json": {
       "model_id": "35a5f7bf30334112927a184334391b0c",
       "version_major": 2,
       "version_minor": 0
      },
      "text/plain": [
       "HBox(children=(HTML(value=''), FloatProgress(value=0.0, max=6.0), HTML(value='')))"
      ]
     },
     "metadata": {},
     "output_type": "display_data"
    },
    {
     "name": "stdout",
     "output_type": "stream",
     "text": [
      "\n"
     ]
    }
   ],
   "source": [
    "perceptron.fit(np.array([[1,1],[0,1],[1,0],[0,0]]), np.array([1,0,0,0]))"
   ]
  },
  {
   "cell_type": "code",
   "execution_count": 5,
   "metadata": {
    "colab": {
     "base_uri": "https://localhost:8080/"
    },
    "id": "pn9FDvKx7OuB",
    "outputId": "3c267ff1-a3fd-4824-b68a-426ec8a7116d"
   },
   "outputs": [
    {
     "data": {
      "text/plain": [
       "[1, 0, 0]"
      ]
     },
     "execution_count": 5,
     "metadata": {},
     "output_type": "execute_result"
    }
   ],
   "source": [
    "perceptron.predict(np.array([[1,1],[1,0],[0,0]]))"
   ]
  },
  {
   "cell_type": "markdown",
   "metadata": {
    "id": "4NvGqi6BmD4L"
   },
   "source": [
    "# Methods to generate data.\n",
    " \n",
    "\n",
    "*   Function 'generete_a' return a matrix representation the letter 'A'\n",
    "*   Function 'generete_a_invert' return a matrix representation the letter 'A' inverted\n",
    "\n"
   ]
  },
  {
   "cell_type": "code",
   "execution_count": 6,
   "metadata": {
    "colab": {
     "base_uri": "https://localhost:8080/",
     "height": 298
    },
    "id": "Z1qbhYPl7xXC",
    "outputId": "f925296a-4f12-4cae-d44f-ca1ffde5b3eb"
   },
   "outputs": [
    {
     "data": {
      "text/plain": [
       "<matplotlib.image.AxesImage at 0x7fa95f61f640>"
      ]
     },
     "execution_count": 6,
     "metadata": {},
     "output_type": "execute_result"
    },
    {
     "data": {
      "image/png": "[encoded data removed]",
      "text/plain": [
       "<Figure size 432x288 with 1 Axes>"
      ]
     },
     "metadata": {
      "needs_background": "light"
     },
     "output_type": "display_data"
    }
   ],
   "source": [
    "def generate_a(size):\n",
    "  x = -np.ones((size,size))\n",
    "  for i in range(size):\n",
    "    x[size-1-i,i//2] = 1\n",
    "    x[(size-1-i),(size-1-i//2)] = 1\n",
    "  e = False\n",
    "  for i in range(size):\n",
    "    if x[size//2,i] > 0 and not e:\n",
    "      e = True\n",
    "      continue\n",
    "    if e:\n",
    "      if x[size//2,i] == -1:\n",
    "        x[size//2,i] = 1\n",
    "      else:\n",
    "        return x\n",
    "def generate_a_invert(size):\n",
    "  x = -np.ones((size,size))\n",
    "  for i in range(size):\n",
    "    x[i, i//2] = 1\n",
    "    x[i,(size-1-(i//2))] = 1\n",
    "  e = False\n",
    "  for i in range(size):\n",
    "    if x[size//2,i] > 0 and not e:\n",
    "      e = True\n",
    "      continue\n",
    "    if e:\n",
    "      if x[size//2,i] == -1:\n",
    "        x[size//2,i] = 1\n",
    "      else:\n",
    "        return x\n",
    "\n",
    "size = 50\n",
    "plt.title(\"Letter 'A' representation with ({size},{size}) size, without noise\".format(size=size))\n",
    "plt.imshow(generate_a(size))"
   ]
  },
  {
   "cell_type": "code",
   "execution_count": 7,
   "metadata": {
    "colab": {
     "base_uri": "https://localhost:8080/",
     "height": 298
    },
    "id": "HDt5BXmIQyde",
    "outputId": "6063142e-6dbc-4a2f-9943-73e4095596f4"
   },
   "outputs": [
    {
     "data": {
      "text/plain": [
       "<matplotlib.image.AxesImage at 0x7fa95f5c0d00>"
      ]
     },
     "execution_count": 7,
     "metadata": {},
     "output_type": "execute_result"
    },
    {
     "data": {
      "image/png": "[encoded data removed]",
      "text/plain": [
       "<Figure size 432x288 with 1 Axes>"
      ]
     },
     "metadata": {
      "needs_background": "light"
     },
     "output_type": "display_data"
    }
   ],
   "source": [
    "size = 50\n",
    "plt.title(\"Letter 'A' inverted representation with ({size},{size}) size, without noise\".format(size=size))\n",
    "plt.imshow(generate_a_invert(size))"
   ]
  },
  {
   "cell_type": "code",
   "execution_count": 8,
   "metadata": {
    "colab": {
     "base_uri": "https://localhost:8080/",
     "height": 298
    },
    "id": "s87HI9RSQ1tO",
    "outputId": "7c25be27-46dd-487f-98dd-9f24c1c7551d"
   },
   "outputs": [
    {
     "data": {
      "text/plain": [
       "<matplotlib.image.AxesImage at 0x7fa95f634d90>"
      ]
     },
     "execution_count": 8,
     "metadata": {},
     "output_type": "execute_result"
    },
    {
     "data": {
      "image/png": "[encoded data removed]",
      "text/plain": [
       "<Figure size 432x288 with 1 Axes>"
      ]
     },
     "metadata": {
      "needs_background": "light"
     },
     "output_type": "display_data"
    }
   ],
   "source": [
    "def introduce_noise(data, n_noise):\n",
    "  noise_points = [(np.random.randint(len(data)),np.random.randint(len(data))) for n in range(n_noise)]\n",
    "  for noise in noise_points:\n",
    "    data[noise] = -1 if data[noise] == 1 else 1 \n",
    "  return data\n",
    "\n",
    "size = 50\n",
    "n_noise = 50\n",
    "plt.title(\"Letter 'A' representation with ({size},{size}) size and {noise} points of noise\".format(size=size, noise=n_noise))\n",
    "plt.imshow(introduce_noise(generate_a(size),n_noise))"
   ]
  },
  {
   "cell_type": "code",
   "execution_count": 9,
   "metadata": {
    "colab": {
     "base_uri": "https://localhost:8080/",
     "height": 298
    },
    "id": "BHKxmNMmcO__",
    "outputId": "9252e89f-af3b-47fb-d4ba-7131f64a9ab7"
   },
   "outputs": [
    {
     "data": {
      "text/plain": [
       "<matplotlib.image.AxesImage at 0x7fa95f88b580>"
      ]
     },
     "execution_count": 9,
     "metadata": {},
     "output_type": "execute_result"
    },
    {
     "data": {
      "image/png": "[encoded data removed]",
      "text/plain": [
       "<Figure size 432x288 with 1 Axes>"
      ]
     },
     "metadata": {
      "needs_background": "light"
     },
     "output_type": "display_data"
    }
   ],
   "source": [
    "size = 50\n",
    "n_noise = 50\n",
    "plt.title(\"Letter 'A' inverted representation with ({size},{size}) size and {noise} points of noise\".format(size=size, noise=n_noise))\n",
    "plt.imshow(introduce_noise(generate_a_invert(size),(n_noise)))"
   ]
  },
  {
   "cell_type": "markdown",
   "metadata": {
    "id": "ahPyajm3lw7u"
   },
   "source": [
    "# Generate dataset to train perceptron\n"
   ]
  },
  {
   "cell_type": "code",
   "execution_count": 10,
   "metadata": {
    "id": "NLoauOdPTiUE"
   },
   "outputs": [],
   "source": [
    "size = 50\n",
    "noise = 1800\n",
    "n_examples = 10\n",
    "data_x = []\n",
    "data_y = []\n",
    "\n",
    "for i in range(n_examples):\n",
    "  d = generate_a(size)\n",
    "  d = introduce_noise(d,noise)\n",
    "  data_x.append(d.flatten())\n",
    "  data_y.append(1)\n",
    "\n",
    "\n",
    "for i in range(n_examples):\n",
    "  d = generate_a_invert(size)\n",
    "  d = introduce_noise(d,noise)\n",
    "  data_x.append(d.flatten())\n",
    "  data_y.append(-1)\n"
   ]
  },
  {
   "cell_type": "code",
   "execution_count": 11,
   "metadata": {
    "colab": {
     "base_uri": "https://localhost:8080/",
     "height": 49,
     "referenced_widgets": [
      "c352d5858e1e4480a1903fa5946ec43e",
      "ddf6e6eea5934ac692592623a35b1953",
      "2d55ff0257a14afea023328bc0fac938",
      "cf51093c8fae4f7cb7c68c5970b36f3a",
      "2c2a259f84e547af8a3e795d16e06522",
      "ab0d1ac0d9ab4d11bf5929fb1b2a9d7d",
      "6a974a1c03394ef4ab185d178f808692",
      "cdcd301b3ed340e886af21b0d8f31ca5",
      "68b37d72e61641a1875d912bd0a57f1c",
      "4f42cf8ceaee461985b9b59a4c2171ba",
      "814928785201421d921fe68110ed666c"
     ]
    },
    "id": "ZvkV0pgXTUlu",
    "outputId": "c9f2a186-253b-4f6f-ad46-dc1c81778939"
   },
   "outputs": [
    {
     "data": {
      "application/vnd.jupyter.widget-view+json": {
       "model_id": "6e827cc8a000418793da8da3a06dc8b7",
       "version_major": 2,
       "version_minor": 0
      },
      "text/plain": [
       "HBox(children=(HTML(value=''), FloatProgress(value=0.0), HTML(value='')))"
      ]
     },
     "metadata": {},
     "output_type": "display_data"
    },
    {
     "name": "stdout",
     "output_type": "stream",
     "text": [
      "\n"
     ]
    }
   ],
   "source": [
    "perceptron = Perceptron(len(data_x[0]**2), .5, signal_function, 100)\n",
    "perceptron.fit(data_x, data_y)"
   ]
  },
  {
   "cell_type": "code",
   "execution_count": null,
   "metadata": {
    "colab": {
     "base_uri": "https://localhost:8080/",
     "height": 35
    },
    "id": "Fr0m4LDbUkpC",
    "outputId": "b778590b-5b8b-400f-8cf7-4234f8c71b56"
   },
   "outputs": [],
   "source": [
    "size = 50\n",
    "noise = 1800\n",
    "n_examples = 1000\n",
    "data_x_test = []\n",
    "data_y_test = []\n",
    "imgs_x = []\n",
    "\n",
    "for i in range(n_examples):\n",
    "  d = generate_a(size)\n",
    "  d = introduce_noise(d,noise)\n",
    "  imgs_x.append((d, 'A'))\n",
    "  data_x_test.append(d.flatten())\n",
    "  data_y_test.append(1)\n",
    "\n",
    "\n",
    "for i in range(n_examples):\n",
    "  d = generate_a_invert(size)\n",
    "  d = introduce_noise(d,noise)\n",
    "  imgs_x.append((d, 'Ɐ'))\n",
    "  data_x_test.append(d.flatten())\n",
    "  data_y_test.append(-1)\n",
    "\n",
    "accuracy = perceptron.accuracy(data_x_test, data_y_test)\n",
    "\"Accuracy of the perceptron to classify 'A' and 'Ɐ' was {}\".format(accuracy)"
   ]
  },
  {
   "cell_type": "code",
   "execution_count": null,
   "metadata": {
    "colab": {
     "base_uri": "https://localhost:8080/",
     "height": 298
    },
    "id": "Ebw0e7fFWyOM",
    "outputId": "9217f5fb-135f-40d8-ffa3-001ff02120b1"
   },
   "outputs": [
    {
     "data": {
      "text/plain": [
       "<matplotlib.image.AxesImage at 0x7f16393b2290>"
      ]
     },
     "execution_count": 29,
     "metadata": {},
     "output_type": "execute_result"
    },
    {
     "data": {
      "image/png": "[encoded data removed]",
      "text/plain": [
       "<Figure size 432x288 with 1 Axes>"
      ]
     },
     "metadata": {
      "needs_background": "light"
     },
     "output_type": "display_data"
    }
   ],
   "source": [
    "image_test = generate_a(size)\n",
    "image_test = introduce_noise(image_test,noise)\n",
    "predict_value = perceptron.predict([image_test.flatten()])\n",
    "plt.title(\"Classified with value {}\".format(predict_value))\n",
    "plt.imshow(image_test)"
   ]
  },
  {
   "cell_type": "code",
   "execution_count": null,
   "metadata": {
    "colab": {
     "base_uri": "https://localhost:8080/",
     "height": 298
    },
    "id": "Zqdl-7_1k4aQ",
    "outputId": "d532be18-4195-4c6d-eb41-881cd3d3e633"
   },
   "outputs": [
    {
     "data": {
      "text/plain": [
       "<matplotlib.image.AxesImage at 0x7f1639392350>"
      ]
     },
     "execution_count": 30,
     "metadata": {},
     "output_type": "execute_result"
    },
    {
     "data": {
      "image/png": "[encoded data removed]",
      "text/plain": [
       "<Figure size 432x288 with 1 Axes>"
      ]
     },
     "metadata": {
      "needs_background": "light"
     },
     "output_type": "display_data"
    }
   ],
   "source": [
    "image_test = generate_a_invert(size)\n",
    "image_test = introduce_noise(image_test,noise)\n",
    "predict_value = perceptron.predict([image_test.flatten()])\n",
    "plt.title(\"Classified with value {}\".format(predict_value))\n",
    "plt.imshow(image_test)"
   ]
  },
  {
   "cell_type": "code",
   "execution_count": null,
   "metadata": {
    "id": "N4XbtGUsaFCy"
   },
   "outputs": [],
   "source": [
    "def print_examples(array, cols=5):\n",
    "  rows = (len(array) // cols)\n",
    "  fig, axs = plt.subplots(rows,cols)\n",
    "  fig.suptitle('A')\n",
    "\n",
    "  fig.set_figheight(20)\n",
    "  fig.set_figwidth(20)\n",
    "\n",
    "  row = 0\n",
    "  col = 0 \n",
    "\n",
    "  for img in range(0, len(array)):\n",
    "    \n",
    "    axs[row, col].imshow(array[img][0])\n",
    "    axs[row, col].title.set_text(array[img][1])\n",
    "    col += 1\n",
    "\n",
    "    if (col % cols) == 0:\n",
    "      col = 0\n",
    "      row += 1\n"
   ]
  },
  {
   "cell_type": "code",
   "execution_count": null,
   "metadata": {
    "colab": {
     "base_uri": "https://localhost:8080/",
     "height": 1000
    },
    "id": "_3aNHaiGQIM1",
    "outputId": "ad7f2b5a-202e-4eee-8618-365d0f591e1a"
   },
   "outputs": [
    {
     "data": {
      "image/png": "[encoded data removed]",
      "text/plain": [
       "<Figure size 1440x1440 with 2000 Axes>"
      ]
     },
     "metadata": {
      "needs_background": "light"
     },
     "output_type": "display_data"
    }
   ],
   "source": [
    "print_examples(imgs_x)\n",
    "\n",
    "  "
   ]
  }
 ],
 "metadata": {
  "colab": {
   "collapsed_sections": [],
   "name": "Exercicio_1_redes_neurais.ipynb",
   "provenance": []
  },
  "kernelspec": {
   "display_name": "Python 3",
   "language": "python",
   "name": "python3"
  },
  "language_info": {
   "codemirror_mode": {
    "name": "ipython",
    "version": 3
   },
   "file_extension": ".py",
   "mimetype": "text/x-python",
   "name": "python",
   "nbconvert_exporter": "python",
   "pygments_lexer": "ipython3",
   "version": "3.8.5"
  },
  "widgets": {
   "application/vnd.jupyter.widget-state+json": {
    "10d4b9e4599b4e199b649f706cde0788": {
     "model_module": "@jupyter-widgets/controls",
     "model_module_version": "1.5.0",
     "model_name": "HBoxModel",
     "state": {
      "_dom_classes": [],
      "_model_module": "@jupyter-widgets/controls",
      "_model_module_version": "1.5.0",
      "_model_name": "HBoxModel",
      "_view_count": null,
      "_view_module": "@jupyter-widgets/controls",
      "_view_module_version": "1.5.0",
      "_view_name": "HBoxView",
      "box_style": "",
      "children": [
       "IPY_MODEL_e87d87c034734b28ba53b50d1739b1e1",
       "IPY_MODEL_82bf386fdcb2479aac6ae6a5a016680e",
       "IPY_MODEL_4f4d66de1b9c449cad904d89f9fc62a4"
      ],
      "layout": "IPY_MODEL_ffdd8f2469fb45efbcd52fd2f9c5b314"
     }
    },
    "2c2a259f84e547af8a3e795d16e06522": {
     "model_module": "@jupyter-widgets/controls",
     "model_module_version": "1.5.0",
     "model_name": "HTMLModel",
     "state": {
      "_dom_classes": [],
      "_model_module": "@jupyter-widgets/controls",
      "_model_module_version": "1.5.0",
      "_model_name": "HTMLModel",
      "_view_count": null,
      "_view_module": "@jupyter-widgets/controls",
      "_view_module_version": "1.5.0",
      "_view_name": "HTMLView",
      "description": "",
      "description_tooltip": null,
      "layout": "IPY_MODEL_814928785201421d921fe68110ed666c",
      "placeholder": "​",
      "style": "IPY_MODEL_4f42cf8ceaee461985b9b59a4c2171ba",
      "value": " 100/100 [00:00&lt;00:00, 504.46it/s, Accuracy model:=1.0]"
     }
    },
    "2d55ff0257a14afea023328bc0fac938": {
     "model_module": "@jupyter-widgets/controls",
     "model_module_version": "1.5.0",
     "model_name": "HTMLModel",
     "state": {
      "_dom_classes": [],
      "_model_module": "@jupyter-widgets/controls",
      "_model_module_version": "1.5.0",
      "_model_name": "HTMLModel",
      "_view_count": null,
      "_view_module": "@jupyter-widgets/controls",
      "_view_module_version": "1.5.0",
      "_view_name": "HTMLView",
      "description": "",
      "description_tooltip": null,
      "layout": "IPY_MODEL_6a974a1c03394ef4ab185d178f808692",
      "placeholder": "​",
      "style": "IPY_MODEL_ab0d1ac0d9ab4d11bf5929fb1b2a9d7d",
      "value": "100%"
     }
    },
    "4f42cf8ceaee461985b9b59a4c2171ba": {
     "model_module": "@jupyter-widgets/controls",
     "model_module_version": "1.5.0",
     "model_name": "DescriptionStyleModel",
     "state": {
      "_model_module": "@jupyter-widgets/controls",
      "_model_module_version": "1.5.0",
      "_model_name": "DescriptionStyleModel",
      "_view_count": null,
      "_view_module": "@jupyter-widgets/base",
      "_view_module_version": "1.2.0",
      "_view_name": "StyleView",
      "description_width": ""
     }
    },
    "4f4d66de1b9c449cad904d89f9fc62a4": {
     "model_module": "@jupyter-widgets/controls",
     "model_module_version": "1.5.0",
     "model_name": "HTMLModel",
     "state": {
      "_dom_classes": [],
      "_model_module": "@jupyter-widgets/controls",
      "_model_module_version": "1.5.0",
      "_model_name": "HTMLModel",
      "_view_count": null,
      "_view_module": "@jupyter-widgets/controls",
      "_view_module_version": "1.5.0",
      "_view_name": "HTMLView",
      "description": "",
      "description_tooltip": null,
      "layout": "IPY_MODEL_c6278afa97d743a9b020b3f670a5a32f",
      "placeholder": "​",
      "style": "IPY_MODEL_ed86062c8461435fb37afd90c667cc0e",
      "value": " 6/6 [00:00&lt;00:00, 77.97it/s, Accuracy model:=1.0]"
     }
    },
    "68b37d72e61641a1875d912bd0a57f1c": {
     "model_module": "@jupyter-widgets/base",
     "model_module_version": "1.2.0",
     "model_name": "LayoutModel",
     "state": {
      "_model_module": "@jupyter-widgets/base",
      "_model_module_version": "1.2.0",
      "_model_name": "LayoutModel",
      "_view_count": null,
      "_view_module": "@jupyter-widgets/base",
      "_view_module_version": "1.2.0",
      "_view_name": "LayoutView",
      "align_content": null,
      "align_items": null,
      "align_self": null,
      "border": null,
      "bottom": null,
      "display": null,
      "flex": null,
      "flex_flow": null,
      "grid_area": null,
      "grid_auto_columns": null,
      "grid_auto_flow": null,
      "grid_auto_rows": null,
      "grid_column": null,
      "grid_gap": null,
      "grid_row": null,
      "grid_template_areas": null,
      "grid_template_columns": null,
      "grid_template_rows": null,
      "height": null,
      "justify_content": null,
      "justify_items": null,
      "left": null,
      "margin": null,
      "max_height": null,
      "max_width": null,
      "min_height": null,
      "min_width": null,
      "object_fit": null,
      "object_position": null,
      "order": null,
      "overflow": null,
      "overflow_x": null,
      "overflow_y": null,
      "padding": null,
      "right": null,
      "top": null,
      "visibility": null,
      "width": null
     }
    },
    "6a974a1c03394ef4ab185d178f808692": {
     "model_module": "@jupyter-widgets/base",
     "model_module_version": "1.2.0",
     "model_name": "LayoutModel",
     "state": {
      "_model_module": "@jupyter-widgets/base",
      "_model_module_version": "1.2.0",
      "_model_name": "LayoutModel",
      "_view_count": null,
      "_view_module": "@jupyter-widgets/base",
      "_view_module_version": "1.2.0",
      "_view_name": "LayoutView",
      "align_content": null,
      "align_items": null,
      "align_self": null,
      "border": null,
      "bottom": null,
      "display": null,
      "flex": null,
      "flex_flow": null,
      "grid_area": null,
      "grid_auto_columns": null,
      "grid_auto_flow": null,
      "grid_auto_rows": null,
      "grid_column": null,
      "grid_gap": null,
      "grid_row": null,
      "grid_template_areas": null,
      "grid_template_columns": null,
      "grid_template_rows": null,
      "height": null,
      "justify_content": null,
      "justify_items": null,
      "left": null,
      "margin": null,
      "max_height": null,
      "max_width": null,
      "min_height": null,
      "min_width": null,
      "object_fit": null,
      "object_position": null,
      "order": null,
      "overflow": null,
      "overflow_x": null,
      "overflow_y": null,
      "padding": null,
      "right": null,
      "top": null,
      "visibility": null,
      "width": null
     }
    },
    "814928785201421d921fe68110ed666c": {
     "model_module": "@jupyter-widgets/base",
     "model_module_version": "1.2.0",
     "model_name": "LayoutModel",
     "state": {
      "_model_module": "@jupyter-widgets/base",
      "_model_module_version": "1.2.0",
      "_model_name": "LayoutModel",
      "_view_count": null,
      "_view_module": "@jupyter-widgets/base",
      "_view_module_version": "1.2.0",
      "_view_name": "LayoutView",
      "align_content": null,
      "align_items": null,
      "align_self": null,
      "border": null,
      "bottom": null,
      "display": null,
      "flex": null,
      "flex_flow": null,
      "grid_area": null,
      "grid_auto_columns": null,
      "grid_auto_flow": null,
      "grid_auto_rows": null,
      "grid_column": null,
      "grid_gap": null,
      "grid_row": null,
      "grid_template_areas": null,
      "grid_template_columns": null,
      "grid_template_rows": null,
      "height": null,
      "justify_content": null,
      "justify_items": null,
      "left": null,
      "margin": null,
      "max_height": null,
      "max_width": null,
      "min_height": null,
      "min_width": null,
      "object_fit": null,
      "object_position": null,
      "order": null,
      "overflow": null,
      "overflow_x": null,
      "overflow_y": null,
      "padding": null,
      "right": null,
      "top": null,
      "visibility": null,
      "width": null
     }
    },
    "82bf386fdcb2479aac6ae6a5a016680e": {
     "model_module": "@jupyter-widgets/controls",
     "model_module_version": "1.5.0",
     "model_name": "FloatProgressModel",
     "state": {
      "_dom_classes": [],
      "_model_module": "@jupyter-widgets/controls",
      "_model_module_version": "1.5.0",
      "_model_name": "FloatProgressModel",
      "_view_count": null,
      "_view_module": "@jupyter-widgets/controls",
      "_view_module_version": "1.5.0",
      "_view_name": "ProgressView",
      "bar_style": "success",
      "description": "",
      "description_tooltip": null,
      "layout": "IPY_MODEL_ec90b723aeec4d5daaab2f0c29acae44",
      "max": 6,
      "min": 0,
      "orientation": "horizontal",
      "style": "IPY_MODEL_b042828eb02e407eaa00642ab5b8f1ea",
      "value": 6
     }
    },
    "8d8278f943a84f7ebf9682209f143ffa": {
     "model_module": "@jupyter-widgets/base",
     "model_module_version": "1.2.0",
     "model_name": "LayoutModel",
     "state": {
      "_model_module": "@jupyter-widgets/base",
      "_model_module_version": "1.2.0",
      "_model_name": "LayoutModel",
      "_view_count": null,
      "_view_module": "@jupyter-widgets/base",
      "_view_module_version": "1.2.0",
      "_view_name": "LayoutView",
      "align_content": null,
      "align_items": null,
      "align_self": null,
      "border": null,
      "bottom": null,
      "display": null,
      "flex": null,
      "flex_flow": null,
      "grid_area": null,
      "grid_auto_columns": null,
      "grid_auto_flow": null,
      "grid_auto_rows": null,
      "grid_column": null,
      "grid_gap": null,
      "grid_row": null,
      "grid_template_areas": null,
      "grid_template_columns": null,
      "grid_template_rows": null,
      "height": null,
      "justify_content": null,
      "justify_items": null,
      "left": null,
      "margin": null,
      "max_height": null,
      "max_width": null,
      "min_height": null,
      "min_width": null,
      "object_fit": null,
      "object_position": null,
      "order": null,
      "overflow": null,
      "overflow_x": null,
      "overflow_y": null,
      "padding": null,
      "right": null,
      "top": null,
      "visibility": null,
      "width": null
     }
    },
    "ab0d1ac0d9ab4d11bf5929fb1b2a9d7d": {
     "model_module": "@jupyter-widgets/controls",
     "model_module_version": "1.5.0",
     "model_name": "DescriptionStyleModel",
     "state": {
      "_model_module": "@jupyter-widgets/controls",
      "_model_module_version": "1.5.0",
      "_model_name": "DescriptionStyleModel",
      "_view_count": null,
      "_view_module": "@jupyter-widgets/base",
      "_view_module_version": "1.2.0",
      "_view_name": "StyleView",
      "description_width": ""
     }
    },
    "b042828eb02e407eaa00642ab5b8f1ea": {
     "model_module": "@jupyter-widgets/controls",
     "model_module_version": "1.5.0",
     "model_name": "ProgressStyleModel",
     "state": {
      "_model_module": "@jupyter-widgets/controls",
      "_model_module_version": "1.5.0",
      "_model_name": "ProgressStyleModel",
      "_view_count": null,
      "_view_module": "@jupyter-widgets/base",
      "_view_module_version": "1.2.0",
      "_view_name": "StyleView",
      "bar_color": null,
      "description_width": ""
     }
    },
    "c352d5858e1e4480a1903fa5946ec43e": {
     "model_module": "@jupyter-widgets/controls",
     "model_module_version": "1.5.0",
     "model_name": "HBoxModel",
     "state": {
      "_dom_classes": [],
      "_model_module": "@jupyter-widgets/controls",
      "_model_module_version": "1.5.0",
      "_model_name": "HBoxModel",
      "_view_count": null,
      "_view_module": "@jupyter-widgets/controls",
      "_view_module_version": "1.5.0",
      "_view_name": "HBoxView",
      "box_style": "",
      "children": [
       "IPY_MODEL_2d55ff0257a14afea023328bc0fac938",
       "IPY_MODEL_cf51093c8fae4f7cb7c68c5970b36f3a",
       "IPY_MODEL_2c2a259f84e547af8a3e795d16e06522"
      ],
      "layout": "IPY_MODEL_ddf6e6eea5934ac692592623a35b1953"
     }
    },
    "c6278afa97d743a9b020b3f670a5a32f": {
     "model_module": "@jupyter-widgets/base",
     "model_module_version": "1.2.0",
     "model_name": "LayoutModel",
     "state": {
      "_model_module": "@jupyter-widgets/base",
      "_model_module_version": "1.2.0",
      "_model_name": "LayoutModel",
      "_view_count": null,
      "_view_module": "@jupyter-widgets/base",
      "_view_module_version": "1.2.0",
      "_view_name": "LayoutView",
      "align_content": null,
      "align_items": null,
      "align_self": null,
      "border": null,
      "bottom": null,
      "display": null,
      "flex": null,
      "flex_flow": null,
      "grid_area": null,
      "grid_auto_columns": null,
      "grid_auto_flow": null,
      "grid_auto_rows": null,
      "grid_column": null,
      "grid_gap": null,
      "grid_row": null,
      "grid_template_areas": null,
      "grid_template_columns": null,
      "grid_template_rows": null,
      "height": null,
      "justify_content": null,
      "justify_items": null,
      "left": null,
      "margin": null,
      "max_height": null,
      "max_width": null,
      "min_height": null,
      "min_width": null,
      "object_fit": null,
      "object_position": null,
      "order": null,
      "overflow": null,
      "overflow_x": null,
      "overflow_y": null,
      "padding": null,
      "right": null,
      "top": null,
      "visibility": null,
      "width": null
     }
    },
    "cdcd301b3ed340e886af21b0d8f31ca5": {
     "model_module": "@jupyter-widgets/controls",
     "model_module_version": "1.5.0",
     "model_name": "ProgressStyleModel",
     "state": {
      "_model_module": "@jupyter-widgets/controls",
      "_model_module_version": "1.5.0",
      "_model_name": "ProgressStyleModel",
      "_view_count": null,
      "_view_module": "@jupyter-widgets/base",
      "_view_module_version": "1.2.0",
      "_view_name": "StyleView",
      "bar_color": null,
      "description_width": ""
     }
    },
    "cf51093c8fae4f7cb7c68c5970b36f3a": {
     "model_module": "@jupyter-widgets/controls",
     "model_module_version": "1.5.0",
     "model_name": "FloatProgressModel",
     "state": {
      "_dom_classes": [],
      "_model_module": "@jupyter-widgets/controls",
      "_model_module_version": "1.5.0",
      "_model_name": "FloatProgressModel",
      "_view_count": null,
      "_view_module": "@jupyter-widgets/controls",
      "_view_module_version": "1.5.0",
      "_view_name": "ProgressView",
      "bar_style": "success",
      "description": "",
      "description_tooltip": null,
      "layout": "IPY_MODEL_68b37d72e61641a1875d912bd0a57f1c",
      "max": 100,
      "min": 0,
      "orientation": "horizontal",
      "style": "IPY_MODEL_cdcd301b3ed340e886af21b0d8f31ca5",
      "value": 100
     }
    },
    "ddf6e6eea5934ac692592623a35b1953": {
     "model_module": "@jupyter-widgets/base",
     "model_module_version": "1.2.0",
     "model_name": "LayoutModel",
     "state": {
      "_model_module": "@jupyter-widgets/base",
      "_model_module_version": "1.2.0",
      "_model_name": "LayoutModel",
      "_view_count": null,
      "_view_module": "@jupyter-widgets/base",
      "_view_module_version": "1.2.0",
      "_view_name": "LayoutView",
      "align_content": null,
      "align_items": null,
      "align_self": null,
      "border": null,
      "bottom": null,
      "display": null,
      "flex": null,
      "flex_flow": null,
      "grid_area": null,
      "grid_auto_columns": null,
      "grid_auto_flow": null,
      "grid_auto_rows": null,
      "grid_column": null,
      "grid_gap": null,
      "grid_row": null,
      "grid_template_areas": null,
      "grid_template_columns": null,
      "grid_template_rows": null,
      "height": null,
      "justify_content": null,
      "justify_items": null,
      "left": null,
      "margin": null,
      "max_height": null,
      "max_width": null,
      "min_height": null,
      "min_width": null,
      "object_fit": null,
      "object_position": null,
      "order": null,
      "overflow": null,
      "overflow_x": null,
      "overflow_y": null,
      "padding": null,
      "right": null,
      "top": null,
      "visibility": null,
      "width": null
     }
    },
    "e1f3c78e43aa4fb4be9144eab99d81d2": {
     "model_module": "@jupyter-widgets/controls",
     "model_module_version": "1.5.0",
     "model_name": "DescriptionStyleModel",
     "state": {
      "_model_module": "@jupyter-widgets/controls",
      "_model_module_version": "1.5.0",
      "_model_name": "DescriptionStyleModel",
      "_view_count": null,
      "_view_module": "@jupyter-widgets/base",
      "_view_module_version": "1.2.0",
      "_view_name": "StyleView",
      "description_width": ""
     }
    },
    "e87d87c034734b28ba53b50d1739b1e1": {
     "model_module": "@jupyter-widgets/controls",
     "model_module_version": "1.5.0",
     "model_name": "HTMLModel",
     "state": {
      "_dom_classes": [],
      "_model_module": "@jupyter-widgets/controls",
      "_model_module_version": "1.5.0",
      "_model_name": "HTMLModel",
      "_view_count": null,
      "_view_module": "@jupyter-widgets/controls",
      "_view_module_version": "1.5.0",
      "_view_name": "HTMLView",
      "description": "",
      "description_tooltip": null,
      "layout": "IPY_MODEL_8d8278f943a84f7ebf9682209f143ffa",
      "placeholder": "​",
      "style": "IPY_MODEL_e1f3c78e43aa4fb4be9144eab99d81d2",
      "value": "100%"
     }
    },
    "ec90b723aeec4d5daaab2f0c29acae44": {
     "model_module": "@jupyter-widgets/base",
     "model_module_version": "1.2.0",
     "model_name": "LayoutModel",
     "state": {
      "_model_module": "@jupyter-widgets/base",
      "_model_module_version": "1.2.0",
      "_model_name": "LayoutModel",
      "_view_count": null,
      "_view_module": "@jupyter-widgets/base",
      "_view_module_version": "1.2.0",
      "_view_name": "LayoutView",
      "align_content": null,
      "align_items": null,
      "align_self": null,
      "border": null,
      "bottom": null,
      "display": null,
      "flex": null,
      "flex_flow": null,
      "grid_area": null,
      "grid_auto_columns": null,
      "grid_auto_flow": null,
      "grid_auto_rows": null,
      "grid_column": null,
      "grid_gap": null,
      "grid_row": null,
      "grid_template_areas": null,
      "grid_template_columns": null,
      "grid_template_rows": null,
      "height": null,
      "justify_content": null,
      "justify_items": null,
      "left": null,
      "margin": null,
      "max_height": null,
      "max_width": null,
      "min_height": null,
      "min_width": null,
      "object_fit": null,
      "object_position": null,
      "order": null,
      "overflow": null,
      "overflow_x": null,
      "overflow_y": null,
      "padding": null,
      "right": null,
      "top": null,
      "visibility": null,
      "width": null
     }
    },
    "ed86062c8461435fb37afd90c667cc0e": {
     "model_module": "@jupyter-widgets/controls",
     "model_module_version": "1.5.0",
     "model_name": "DescriptionStyleModel",
     "state": {
      "_model_module": "@jupyter-widgets/controls",
      "_model_module_version": "1.5.0",
      "_model_name": "DescriptionStyleModel",
      "_view_count": null,
      "_view_module": "@jupyter-widgets/base",
      "_view_module_version": "1.2.0",
      "_view_name": "StyleView",
      "description_width": ""
     }
    },
    "ffdd8f2469fb45efbcd52fd2f9c5b314": {
     "model_module": "@jupyter-widgets/base",
     "model_module_version": "1.2.0",
     "model_name": "LayoutModel",
     "state": {
      "_model_module": "@jupyter-widgets/base",
      "_model_module_version": "1.2.0",
      "_model_name": "LayoutModel",
      "_view_count": null,
      "_view_module": "@jupyter-widgets/base",
      "_view_module_version": "1.2.0",
      "_view_name": "LayoutView",
      "align_content": null,
      "align_items": null,
      "align_self": null,
      "border": null,
      "bottom": null,
      "display": null,
      "flex": null,
      "flex_flow": null,
      "grid_area": null,
      "grid_auto_columns": null,
      "grid_auto_flow": null,
      "grid_auto_rows": null,
      "grid_column": null,
      "grid_gap": null,
      "grid_row": null,
      "grid_template_areas": null,
      "grid_template_columns": null,
      "grid_template_rows": null,
      "height": null,
      "justify_content": null,
      "justify_items": null,
      "left": null,
      "margin": null,
      "max_height": null,
      "max_width": null,
      "min_height": null,
      "min_width": null,
      "object_fit": null,
      "object_position": null,
      "order": null,
      "overflow": null,
      "overflow_x": null,
      "overflow_y": null,
      "padding": null,
      "right": null,
      "top": null,
      "visibility": null,
      "width": null
     }
    }
   }
  }
 },
 "nbformat": 4,
 "nbformat_minor": 1
}
