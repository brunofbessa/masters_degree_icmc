{
 "cells": [
  {
   "cell_type": "markdown",
   "metadata": {},
   "source": [
    "## Complex Networks: Introduction to NetworkX\n",
    "\n",
    "This notebook is based on the lecture material of the Complex Networks course (SME0130) from professor Francisco Aparecido Rodrigues (https://sites.icmc.usp.br/francisco), from Universidade de São Paulo, São Carlos, Brazil.\n",
    "\n",
    "Course taken in authum of 2021.\n",
    "\n"
   ]
  },
  {
   "cell_type": "code",
   "execution_count": 10,
   "metadata": {},
   "outputs": [
    {
     "data": {
      "text/plain": [
       "networkx.classes.graph.Graph"
      ]
     },
     "execution_count": 10,
     "metadata": {},
     "output_type": "execute_result"
    }
   ],
   "source": [
    "import networkx as nx\n",
    "import matplotlib.pyplot as plt\n",
    "\n",
    "\n",
    "G = nx.Graph()\n",
    "\n",
    "type(G)"
   ]
  },
  {
   "cell_type": "markdown",
   "metadata": {},
   "source": [
    "G is an object from the Graph class. It has many out of the box methods for manipulating this kind of data structure. The documentation says it accepts many datatypes for graph representation. The extensive list of attributes and methods of this class is availavble with the call of dir, like: dir(G)."
   ]
  },
  {
   "cell_type": "code",
   "execution_count": 9,
   "metadata": {},
   "outputs": [],
   "source": [
    "# cincluding sme edges in the graph:\n",
    "\n",
    "G.add_edge('a', 'b', weight=0.2)\n",
    "G.add_edge('a', 'c', weight=1)\n",
    "G.add_edge('b', 'c', weight=0.6)\n",
    "G.add_edge('a', 'd', weight=0.4)"
   ]
  },
  {
   "cell_type": "code",
   "execution_count": 17,
   "metadata": {},
   "outputs": [
    {
     "data": {
      "image/png": "[encoded data removed]",
      "text/plain": [
       "<Figure size 432x288 with 1 Axes>"
      ]
     },
     "metadata": {},
     "output_type": "display_data"
    },
    {
     "name": "stdout",
     "output_type": "stream",
     "text": [
      "\n"
     ]
    }
   ],
   "source": [
    "# Vislualizing the network\n",
    "\n",
    "def plot_graph(G):\n",
    "    pos = nx.spring_layout(G)\n",
    "    nx.draw(G, with_labels=True, node_color='r', node_size='100', font_size = 16, width=6)\n",
    "    # Use default edge labels\n",
    "    nx.draw_networkx_edge_labels(G, pos)\n",
    "    plt.savefig('graph_{G}.pdf'.format(G=G))\n",
    "    plt.show(True)\n",
    "    print(G)\n",
    "    \n",
    "plot_graph(G)"
   ]
  },
  {
   "cell_type": "code",
   "execution_count": 18,
   "metadata": {},
   "outputs": [
    {
     "data": {
      "image/png": "[encoded data removed]",
      "text/plain": [
       "<Figure size 432x288 with 1 Axes>"
      ]
     },
     "metadata": {},
     "output_type": "display_data"
    },
    {
     "name": "stdout",
     "output_type": "stream",
     "text": [
      "\n"
     ]
    }
   ],
   "source": [
    "pos = nx.spring_layout(G)\n",
    "nx.draw(G, with_labels=True, node_color='r', node_size='100', font_size = 16, width=6)\n",
    "# Use default edge labels\n",
    "nx.draw_networkx_edge_labels(G, pos)\n",
    "plt.savefig('graph_{G}.pdf'.format(G=G))\n",
    "plt.show(True)\n",
    "print(G)"
   ]
  },
  {
   "cell_type": "code",
   "execution_count": 19,
   "metadata": {},
   "outputs": [
    {
     "data": {
      "image/png": "[encoded data removed]",
      "text/plain": [
       "<Figure size 432x288 with 1 Axes>"
      ]
     },
     "metadata": {},
     "output_type": "display_data"
    }
   ],
   "source": [
    "labels = G.nodes()\n",
    "pos=nx.spring_layout(G)\n",
    "nx.draw(G, with_labels = True, node_color = 'r', \n",
    "        node_size=500, font_size=16, pos=pos, width=6)\n",
    "# use default edge labels\n",
    "nx.draw_networkx_edge_labels(G,pos)\n",
    "plt.savefig('graph.pdf')\n",
    "plt.show(True)"
   ]
  },
  {
   "cell_type": "code",
   "execution_count": 20,
   "metadata": {},
   "outputs": [
    {
     "data": {
      "text/plain": [
       "<networkx.classes.graph.Graph at 0x7ff7b4c81af0>"
      ]
     },
     "execution_count": 20,
     "metadata": {},
     "output_type": "execute_result"
    }
   ],
   "source": [
    "G"
   ]
  },
  {
   "cell_type": "code",
   "execution_count": 21,
   "metadata": {},
   "outputs": [
    {
     "data": {
      "text/plain": [
       "<matplotlib.axes._subplots.AxesSubplot at 0x7ff7b5b5fdc0>"
      ]
     },
     "execution_count": 21,
     "metadata": {},
     "output_type": "execute_result"
    },
    {
     "data": {
      "image/png": "[encoded data removed]",
      "text/plain": [
       "<Figure size 432x288 with 1 Axes>"
      ]
     },
     "metadata": {
      "needs_background": "light"
     },
     "output_type": "display_data"
    }
   ],
   "source": [
    "G = nx.petersen_graph()\n",
    "plt.subplot(121)"
   ]
  },
  {
   "cell_type": "code",
   "execution_count": null,
   "metadata": {},
   "outputs": [],
   "source": []
  }
 ],
 "metadata": {
  "kernelspec": {
   "display_name": "Python 3",
   "language": "python",
   "name": "python3"
  },
  "language_info": {
   "codemirror_mode": {
    "name": "ipython",
    "version": 3
   },
   "file_extension": ".py",
   "mimetype": "text/x-python",
   "name": "python",
   "nbconvert_exporter": "python",
   "pygments_lexer": "ipython3",
   "version": "3.8.3"
  }
 },
 "nbformat": 4,
 "nbformat_minor": 4
}
