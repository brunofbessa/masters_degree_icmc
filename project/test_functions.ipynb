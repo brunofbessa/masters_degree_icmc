{
 "cells": [
  {
   "cell_type": "code",
   "execution_count": 1,
   "id": "e9cc1c27",
   "metadata": {},
   "outputs": [],
   "source": [
    "from functions import *\n",
    "import seaborn as sns\n",
    "import matplotlib.pyplot as plt\n",
    "sns.set_theme(style=\"ticks\", color_codes=True)\n",
    "import pickle\n",
    "\n",
    "seed_everything(seed=42)"
   ]
  },
  {
   "cell_type": "code",
   "execution_count": 6,
   "id": "5965d424",
   "metadata": {},
   "outputs": [
    {
     "name": "stderr",
     "output_type": "stream",
     "text": [
      "[INFO][2023-06-02 03:31:23 - Mod: functions - Func: load_data - Line: 600]: Loaded data for classic4. 4 classes: ['med', 'cisi', 'cran', 'cacm']. Number of documents: 7095.\n",
      "INFO:log_functions:Loaded data for classic4. 4 classes: ['med', 'cisi', 'cran', 'cacm']. Number of documents: 7095.\n"
     ]
    },
    {
     "name": "stdout",
     "output_type": "stream",
     "text": [
      "preprocessing train...\n",
      "language: en\n"
     ]
    },
    {
     "data": {
      "text/html": [
       "\n",
       "<style>\n",
       "    /* Turns off some styling */\n",
       "    progress {\n",
       "        /* gets rid of default border in Firefox and Opera. */\n",
       "        border: none;\n",
       "        /* Needs to be in here for Safari polyfill so background images work as expected. */\n",
       "        background-size: auto;\n",
       "    }\n",
       "    progress:not([value]), progress:not([value])::-webkit-progress-bar {\n",
       "        background: repeating-linear-gradient(45deg, #7e7e7e, #7e7e7e 10px, #5c5c5c 10px, #5c5c5c 20px);\n",
       "    }\n",
       "    .progress-bar-interrupted, .progress-bar-interrupted::-webkit-progress-bar {\n",
       "        background: #F44336;\n",
       "    }\n",
       "</style>\n"
      ],
      "text/plain": [
       "<IPython.core.display.HTML object>"
      ]
     },
     "metadata": {},
     "output_type": "display_data"
    },
    {
     "data": {
      "text/html": [
       "done."
      ],
      "text/plain": [
       "<IPython.core.display.HTML object>"
      ]
     },
     "metadata": {},
     "output_type": "display_data"
    },
    {
     "name": "stdout",
     "output_type": "stream",
     "text": [
      "Is Multi-Label? False\n",
      "preprocessing test...\n",
      "language: en\n"
     ]
    },
    {
     "data": {
      "text/html": [
       "\n",
       "<style>\n",
       "    /* Turns off some styling */\n",
       "    progress {\n",
       "        /* gets rid of default border in Firefox and Opera. */\n",
       "        border: none;\n",
       "        /* Needs to be in here for Safari polyfill so background images work as expected. */\n",
       "        background-size: auto;\n",
       "    }\n",
       "    progress:not([value]), progress:not([value])::-webkit-progress-bar {\n",
       "        background: repeating-linear-gradient(45deg, #7e7e7e, #7e7e7e 10px, #5c5c5c 10px, #5c5c5c 20px);\n",
       "    }\n",
       "    .progress-bar-interrupted, .progress-bar-interrupted::-webkit-progress-bar {\n",
       "        background: #F44336;\n",
       "    }\n",
       "</style>\n"
      ],
      "text/plain": [
       "<IPython.core.display.HTML object>"
      ]
     },
     "metadata": {},
     "output_type": "display_data"
    },
    {
     "data": {
      "text/html": [
       "done."
      ],
      "text/plain": [
       "<IPython.core.display.HTML object>"
      ]
     },
     "metadata": {},
     "output_type": "display_data"
    },
    {
     "name": "stdout",
     "output_type": "stream",
     "text": [
      "task: text classification\n",
      "Is Multi-Label? False\n",
      "maxlen is 350\n",
      "done.\n",
      "\n",
      "\n",
      "begin training using onecycle policy with max lr of 2e-05...\n",
      "Epoch 1/4\n",
      "710/710 [==============================] - 5144s 7s/step - loss: 0.3218 - accuracy: 0.9011\n",
      "Epoch 2/4\n",
      "710/710 [==============================] - 5138s 7s/step - loss: 0.0536 - accuracy: 0.9836\n",
      "Epoch 3/4\n",
      "710/710 [==============================] - 5145s 7s/step - loss: 0.0250 - accuracy: 0.9925\n",
      "Epoch 4/4\n",
      "710/710 [==============================] - 5154s 7s/step - loss: 0.0048 - accuracy: 0.9984\n"
     ]
    },
    {
     "name": "stderr",
     "output_type": "stream",
     "text": [
      "WARNING:absl:Function `_wrapped_model` contains input name(s) Input-Token, Input-Segment with unsupported characters which will be renamed to input_token, input_segment in the SavedModel.\n",
      "WARNING:absl:<keras_layer_normalization.layer_normalization.LayerNormalization object at 0x7f923b233130> has the same name 'LayerNormalization' as a built-in Keras object. Consider renaming <class 'keras_layer_normalization.layer_normalization.LayerNormalization'> to avoid naming conflicts when loading with `tf.keras.models.load_model`. If renaming is not possible, pass the object in the `custom_objects` parameter of the load function.\n",
      "WARNING:absl:<keras_multi_head.multi_head_attention.MultiHeadAttention object at 0x7f924a117520> has the same name 'MultiHeadAttention' as a built-in Keras object. Consider renaming <class 'keras_multi_head.multi_head_attention.MultiHeadAttention'> to avoid naming conflicts when loading with `tf.keras.models.load_model`. If renaming is not possible, pass the object in the `custom_objects` parameter of the load function.\n",
      "WARNING:absl:<keras_layer_normalization.layer_normalization.LayerNormalization object at 0x7f923d2b1df0> has the same name 'LayerNormalization' as a built-in Keras object. Consider renaming <class 'keras_layer_normalization.layer_normalization.LayerNormalization'> to avoid naming conflicts when loading with `tf.keras.models.load_model`. If renaming is not possible, pass the object in the `custom_objects` parameter of the load function.\n",
      "WARNING:absl:<keras_layer_normalization.layer_normalization.LayerNormalization object at 0x7f913f73d610> has the same name 'LayerNormalization' as a built-in Keras object. Consider renaming <class 'keras_layer_normalization.layer_normalization.LayerNormalization'> to avoid naming conflicts when loading with `tf.keras.models.load_model`. If renaming is not possible, pass the object in the `custom_objects` parameter of the load function.\n",
      "WARNING:absl:<keras_multi_head.multi_head_attention.MultiHeadAttention object at 0x7f90b078a070> has the same name 'MultiHeadAttention' as a built-in Keras object. Consider renaming <class 'keras_multi_head.multi_head_attention.MultiHeadAttention'> to avoid naming conflicts when loading with `tf.keras.models.load_model`. If renaming is not possible, pass the object in the `custom_objects` parameter of the load function.\n",
      "WARNING:absl:<keras_layer_normalization.layer_normalization.LayerNormalization object at 0x7f921e84de50> has the same name 'LayerNormalization' as a built-in Keras object. Consider renaming <class 'keras_layer_normalization.layer_normalization.LayerNormalization'> to avoid naming conflicts when loading with `tf.keras.models.load_model`. If renaming is not possible, pass the object in the `custom_objects` parameter of the load function.\n",
      "WARNING:absl:<keras_layer_normalization.layer_normalization.LayerNormalization object at 0x7f90b077ed00> has the same name 'LayerNormalization' as a built-in Keras object. Consider renaming <class 'keras_layer_normalization.layer_normalization.LayerNormalization'> to avoid naming conflicts when loading with `tf.keras.models.load_model`. If renaming is not possible, pass the object in the `custom_objects` parameter of the load function.\n",
      "WARNING:absl:<keras_multi_head.multi_head_attention.MultiHeadAttention object at 0x7f924a117e80> has the same name 'MultiHeadAttention' as a built-in Keras object. Consider renaming <class 'keras_multi_head.multi_head_attention.MultiHeadAttention'> to avoid naming conflicts when loading with `tf.keras.models.load_model`. If renaming is not possible, pass the object in the `custom_objects` parameter of the load function.\n",
      "WARNING:absl:<keras_layer_normalization.layer_normalization.LayerNormalization object at 0x7f921a49bb80> has the same name 'LayerNormalization' as a built-in Keras object. Consider renaming <class 'keras_layer_normalization.layer_normalization.LayerNormalization'> to avoid naming conflicts when loading with `tf.keras.models.load_model`. If renaming is not possible, pass the object in the `custom_objects` parameter of the load function.\n",
      "WARNING:absl:<keras_layer_normalization.layer_normalization.LayerNormalization object at 0x7f9235838880> has the same name 'LayerNormalization' as a built-in Keras object. Consider renaming <class 'keras_layer_normalization.layer_normalization.LayerNormalization'> to avoid naming conflicts when loading with `tf.keras.models.load_model`. If renaming is not possible, pass the object in the `custom_objects` parameter of the load function.\n",
      "WARNING:absl:<keras_multi_head.multi_head_attention.MultiHeadAttention object at 0x7f91468c3220> has the same name 'MultiHeadAttention' as a built-in Keras object. Consider renaming <class 'keras_multi_head.multi_head_attention.MultiHeadAttention'> to avoid naming conflicts when loading with `tf.keras.models.load_model`. If renaming is not possible, pass the object in the `custom_objects` parameter of the load function.\n",
      "WARNING:absl:<keras_layer_normalization.layer_normalization.LayerNormalization object at 0x7f9248b49880> has the same name 'LayerNormalization' as a built-in Keras object. Consider renaming <class 'keras_layer_normalization.layer_normalization.LayerNormalization'> to avoid naming conflicts when loading with `tf.keras.models.load_model`. If renaming is not possible, pass the object in the `custom_objects` parameter of the load function.\n",
      "WARNING:absl:<keras_layer_normalization.layer_normalization.LayerNormalization object at 0x7f9248b54b20> has the same name 'LayerNormalization' as a built-in Keras object. Consider renaming <class 'keras_layer_normalization.layer_normalization.LayerNormalization'> to avoid naming conflicts when loading with `tf.keras.models.load_model`. If renaming is not possible, pass the object in the `custom_objects` parameter of the load function.\n",
      "WARNING:absl:<keras_multi_head.multi_head_attention.MultiHeadAttention object at 0x7f92499a8c40> has the same name 'MultiHeadAttention' as a built-in Keras object. Consider renaming <class 'keras_multi_head.multi_head_attention.MultiHeadAttention'> to avoid naming conflicts when loading with `tf.keras.models.load_model`. If renaming is not possible, pass the object in the `custom_objects` parameter of the load function.\n",
      "WARNING:absl:<keras_layer_normalization.layer_normalization.LayerNormalization object at 0x7f914689e0a0> has the same name 'LayerNormalization' as a built-in Keras object. Consider renaming <class 'keras_layer_normalization.layer_normalization.LayerNormalization'> to avoid naming conflicts when loading with `tf.keras.models.load_model`. If renaming is not possible, pass the object in the `custom_objects` parameter of the load function.\n",
      "WARNING:absl:<keras_layer_normalization.layer_normalization.LayerNormalization object at 0x7f913b23f4f0> has the same name 'LayerNormalization' as a built-in Keras object. Consider renaming <class 'keras_layer_normalization.layer_normalization.LayerNormalization'> to avoid naming conflicts when loading with `tf.keras.models.load_model`. If renaming is not possible, pass the object in the `custom_objects` parameter of the load function.\n",
      "WARNING:absl:<keras_multi_head.multi_head_attention.MultiHeadAttention object at 0x7f913fecaeb0> has the same name 'MultiHeadAttention' as a built-in Keras object. Consider renaming <class 'keras_multi_head.multi_head_attention.MultiHeadAttention'> to avoid naming conflicts when loading with `tf.keras.models.load_model`. If renaming is not possible, pass the object in the `custom_objects` parameter of the load function.\n",
      "WARNING:absl:<keras_layer_normalization.layer_normalization.LayerNormalization object at 0x7f921ddbd1c0> has the same name 'LayerNormalization' as a built-in Keras object. Consider renaming <class 'keras_layer_normalization.layer_normalization.LayerNormalization'> to avoid naming conflicts when loading with `tf.keras.models.load_model`. If renaming is not possible, pass the object in the `custom_objects` parameter of the load function.\n",
      "WARNING:absl:<keras_layer_normalization.layer_normalization.LayerNormalization object at 0x7f9248e47970> has the same name 'LayerNormalization' as a built-in Keras object. Consider renaming <class 'keras_layer_normalization.layer_normalization.LayerNormalization'> to avoid naming conflicts when loading with `tf.keras.models.load_model`. If renaming is not possible, pass the object in the `custom_objects` parameter of the load function.\n"
     ]
    },
    {
     "name": "stderr",
     "output_type": "stream",
     "text": [
      "WARNING:absl:<keras_multi_head.multi_head_attention.MultiHeadAttention object at 0x7f921ce5e670> has the same name 'MultiHeadAttention' as a built-in Keras object. Consider renaming <class 'keras_multi_head.multi_head_attention.MultiHeadAttention'> to avoid naming conflicts when loading with `tf.keras.models.load_model`. If renaming is not possible, pass the object in the `custom_objects` parameter of the load function.\n",
      "WARNING:absl:<keras_layer_normalization.layer_normalization.LayerNormalization object at 0x7f9248b7dca0> has the same name 'LayerNormalization' as a built-in Keras object. Consider renaming <class 'keras_layer_normalization.layer_normalization.LayerNormalization'> to avoid naming conflicts when loading with `tf.keras.models.load_model`. If renaming is not possible, pass the object in the `custom_objects` parameter of the load function.\n",
      "WARNING:absl:<keras_layer_normalization.layer_normalization.LayerNormalization object at 0x7f921e8daeb0> has the same name 'LayerNormalization' as a built-in Keras object. Consider renaming <class 'keras_layer_normalization.layer_normalization.LayerNormalization'> to avoid naming conflicts when loading with `tf.keras.models.load_model`. If renaming is not possible, pass the object in the `custom_objects` parameter of the load function.\n",
      "WARNING:absl:<keras_multi_head.multi_head_attention.MultiHeadAttention object at 0x7f921e8af5b0> has the same name 'MultiHeadAttention' as a built-in Keras object. Consider renaming <class 'keras_multi_head.multi_head_attention.MultiHeadAttention'> to avoid naming conflicts when loading with `tf.keras.models.load_model`. If renaming is not possible, pass the object in the `custom_objects` parameter of the load function.\n",
      "WARNING:absl:<keras_layer_normalization.layer_normalization.LayerNormalization object at 0x7f91412d3c40> has the same name 'LayerNormalization' as a built-in Keras object. Consider renaming <class 'keras_layer_normalization.layer_normalization.LayerNormalization'> to avoid naming conflicts when loading with `tf.keras.models.load_model`. If renaming is not possible, pass the object in the `custom_objects` parameter of the load function.\n",
      "WARNING:absl:<keras_layer_normalization.layer_normalization.LayerNormalization object at 0x7f923911b8b0> has the same name 'LayerNormalization' as a built-in Keras object. Consider renaming <class 'keras_layer_normalization.layer_normalization.LayerNormalization'> to avoid naming conflicts when loading with `tf.keras.models.load_model`. If renaming is not possible, pass the object in the `custom_objects` parameter of the load function.\n",
      "WARNING:absl:<keras_multi_head.multi_head_attention.MultiHeadAttention object at 0x7f924c726040> has the same name 'MultiHeadAttention' as a built-in Keras object. Consider renaming <class 'keras_multi_head.multi_head_attention.MultiHeadAttention'> to avoid naming conflicts when loading with `tf.keras.models.load_model`. If renaming is not possible, pass the object in the `custom_objects` parameter of the load function.\n",
      "WARNING:absl:<keras_layer_normalization.layer_normalization.LayerNormalization object at 0x7f9222dddd60> has the same name 'LayerNormalization' as a built-in Keras object. Consider renaming <class 'keras_layer_normalization.layer_normalization.LayerNormalization'> to avoid naming conflicts when loading with `tf.keras.models.load_model`. If renaming is not possible, pass the object in the `custom_objects` parameter of the load function.\n",
      "WARNING:absl:<keras_layer_normalization.layer_normalization.LayerNormalization object at 0x7f923d2b3dc0> has the same name 'LayerNormalization' as a built-in Keras object. Consider renaming <class 'keras_layer_normalization.layer_normalization.LayerNormalization'> to avoid naming conflicts when loading with `tf.keras.models.load_model`. If renaming is not possible, pass the object in the `custom_objects` parameter of the load function.\n",
      "WARNING:absl:<keras_multi_head.multi_head_attention.MultiHeadAttention object at 0x7f923d2b7bb0> has the same name 'MultiHeadAttention' as a built-in Keras object. Consider renaming <class 'keras_multi_head.multi_head_attention.MultiHeadAttention'> to avoid naming conflicts when loading with `tf.keras.models.load_model`. If renaming is not possible, pass the object in the `custom_objects` parameter of the load function.\n",
      "WARNING:absl:<keras_layer_normalization.layer_normalization.LayerNormalization object at 0x7f92357e96d0> has the same name 'LayerNormalization' as a built-in Keras object. Consider renaming <class 'keras_layer_normalization.layer_normalization.LayerNormalization'> to avoid naming conflicts when loading with `tf.keras.models.load_model`. If renaming is not possible, pass the object in the `custom_objects` parameter of the load function.\n",
      "WARNING:absl:<keras_layer_normalization.layer_normalization.LayerNormalization object at 0x7f90b0797070> has the same name 'LayerNormalization' as a built-in Keras object. Consider renaming <class 'keras_layer_normalization.layer_normalization.LayerNormalization'> to avoid naming conflicts when loading with `tf.keras.models.load_model`. If renaming is not possible, pass the object in the `custom_objects` parameter of the load function.\n",
      "WARNING:absl:<keras_multi_head.multi_head_attention.MultiHeadAttention object at 0x7f923d2b3c40> has the same name 'MultiHeadAttention' as a built-in Keras object. Consider renaming <class 'keras_multi_head.multi_head_attention.MultiHeadAttention'> to avoid naming conflicts when loading with `tf.keras.models.load_model`. If renaming is not possible, pass the object in the `custom_objects` parameter of the load function.\n",
      "WARNING:absl:<keras_layer_normalization.layer_normalization.LayerNormalization object at 0x7f91459fc6d0> has the same name 'LayerNormalization' as a built-in Keras object. Consider renaming <class 'keras_layer_normalization.layer_normalization.LayerNormalization'> to avoid naming conflicts when loading with `tf.keras.models.load_model`. If renaming is not possible, pass the object in the `custom_objects` parameter of the load function.\n",
      "WARNING:absl:<keras_layer_normalization.layer_normalization.LayerNormalization object at 0x7f9216eee520> has the same name 'LayerNormalization' as a built-in Keras object. Consider renaming <class 'keras_layer_normalization.layer_normalization.LayerNormalization'> to avoid naming conflicts when loading with `tf.keras.models.load_model`. If renaming is not possible, pass the object in the `custom_objects` parameter of the load function.\n",
      "WARNING:absl:<keras_multi_head.multi_head_attention.MultiHeadAttention object at 0x7f921e83c1f0> has the same name 'MultiHeadAttention' as a built-in Keras object. Consider renaming <class 'keras_multi_head.multi_head_attention.MultiHeadAttention'> to avoid naming conflicts when loading with `tf.keras.models.load_model`. If renaming is not possible, pass the object in the `custom_objects` parameter of the load function.\n",
      "WARNING:absl:<keras_layer_normalization.layer_normalization.LayerNormalization object at 0x7f923a457880> has the same name 'LayerNormalization' as a built-in Keras object. Consider renaming <class 'keras_layer_normalization.layer_normalization.LayerNormalization'> to avoid naming conflicts when loading with `tf.keras.models.load_model`. If renaming is not possible, pass the object in the `custom_objects` parameter of the load function.\n",
      "WARNING:absl:<keras_layer_normalization.layer_normalization.LayerNormalization object at 0x7f9232332ac0> has the same name 'LayerNormalization' as a built-in Keras object. Consider renaming <class 'keras_layer_normalization.layer_normalization.LayerNormalization'> to avoid naming conflicts when loading with `tf.keras.models.load_model`. If renaming is not possible, pass the object in the `custom_objects` parameter of the load function.\n",
      "[INFO][2023-06-02 09:15:08 - Mod: functions - Func: load_bert - Line: 997]: Fitted BERT model on dataset classic4.\n",
      "INFO:log_functions:Fitted BERT model on dataset classic4.\n"
     ]
    },
    {
     "name": "stdout",
     "output_type": "stream",
     "text": [
      "89/89 [==============================] - 1036s 12s/step\n",
      "              precision    recall  f1-score   support\n",
      "\n",
      "         med       1.00      0.99      0.99       413\n",
      "        cisi       0.98      0.97      0.98       584\n",
      "        cran       1.00      0.99      0.99       559\n",
      "        cacm       0.98      0.99      0.99      1282\n",
      "\n",
      "    accuracy                           0.99      2838\n",
      "   macro avg       0.99      0.99      0.99      2838\n",
      "weighted avg       0.99      0.99      0.99      2838\n",
      "\n"
     ]
    },
    {
     "data": {
      "text/plain": [
       "array([[ 408,    4,    1,    0],\n",
       "       [   0,  567,    0,   17],\n",
       "       [   0,    1,  554,    4],\n",
       "       [   0,    6,    1, 1275]])"
      ]
     },
     "execution_count": 6,
     "metadata": {},
     "output_type": "execute_result"
    }
   ],
   "source": [
    "load_bert(database_name='classic4')\n"
   ]
  },
  {
   "cell_type": "code",
   "execution_count": 7,
   "id": "5db96a27",
   "metadata": {},
   "outputs": [
    {
     "name": "stderr",
     "output_type": "stream",
     "text": [
      "[INFO][2023-06-02 09:32:24 - Mod: functions - Func: load_data - Line: 600]: Loaded data for bbc. 5 classes: ['business', 'politics', 'sport', 'entertainment', 'tech']. Number of documents: 2225.\n",
      "INFO:log_functions:Loaded data for bbc. 5 classes: ['business', 'politics', 'sport', 'entertainment', 'tech']. Number of documents: 2225.\n"
     ]
    },
    {
     "name": "stdout",
     "output_type": "stream",
     "text": [
      "preprocessing train...\n",
      "language: en\n"
     ]
    },
    {
     "data": {
      "text/html": [
       "\n",
       "<style>\n",
       "    /* Turns off some styling */\n",
       "    progress {\n",
       "        /* gets rid of default border in Firefox and Opera. */\n",
       "        border: none;\n",
       "        /* Needs to be in here for Safari polyfill so background images work as expected. */\n",
       "        background-size: auto;\n",
       "    }\n",
       "    progress:not([value]), progress:not([value])::-webkit-progress-bar {\n",
       "        background: repeating-linear-gradient(45deg, #7e7e7e, #7e7e7e 10px, #5c5c5c 10px, #5c5c5c 20px);\n",
       "    }\n",
       "    .progress-bar-interrupted, .progress-bar-interrupted::-webkit-progress-bar {\n",
       "        background: #F44336;\n",
       "    }\n",
       "</style>\n"
      ],
      "text/plain": [
       "<IPython.core.display.HTML object>"
      ]
     },
     "metadata": {},
     "output_type": "display_data"
    },
    {
     "data": {
      "text/html": [
       "done."
      ],
      "text/plain": [
       "<IPython.core.display.HTML object>"
      ]
     },
     "metadata": {},
     "output_type": "display_data"
    },
    {
     "name": "stdout",
     "output_type": "stream",
     "text": [
      "Is Multi-Label? False\n",
      "preprocessing test...\n",
      "language: en\n"
     ]
    },
    {
     "data": {
      "text/html": [
       "\n",
       "<style>\n",
       "    /* Turns off some styling */\n",
       "    progress {\n",
       "        /* gets rid of default border in Firefox and Opera. */\n",
       "        border: none;\n",
       "        /* Needs to be in here for Safari polyfill so background images work as expected. */\n",
       "        background-size: auto;\n",
       "    }\n",
       "    progress:not([value]), progress:not([value])::-webkit-progress-bar {\n",
       "        background: repeating-linear-gradient(45deg, #7e7e7e, #7e7e7e 10px, #5c5c5c 10px, #5c5c5c 20px);\n",
       "    }\n",
       "    .progress-bar-interrupted, .progress-bar-interrupted::-webkit-progress-bar {\n",
       "        background: #F44336;\n",
       "    }\n",
       "</style>\n"
      ],
      "text/plain": [
       "<IPython.core.display.HTML object>"
      ]
     },
     "metadata": {},
     "output_type": "display_data"
    },
    {
     "data": {
      "text/html": [
       "done."
      ],
      "text/plain": [
       "<IPython.core.display.HTML object>"
      ]
     },
     "metadata": {},
     "output_type": "display_data"
    },
    {
     "name": "stdout",
     "output_type": "stream",
     "text": [
      "task: text classification\n",
      "Is Multi-Label? False\n",
      "maxlen is 350\n",
      "done.\n",
      "\n",
      "\n",
      "begin training using onecycle policy with max lr of 2e-05...\n",
      "Epoch 1/4\n",
      "223/223 [==============================] - 1637s 7s/step - loss: 0.8580 - accuracy: 0.7213\n",
      "Epoch 2/4\n",
      "223/223 [==============================] - 1622s 7s/step - loss: 0.1097 - accuracy: 0.9745\n",
      "Epoch 3/4\n",
      "223/223 [==============================] - 1638s 7s/step - loss: 0.0309 - accuracy: 0.9933\n",
      "Epoch 4/4\n",
      "223/223 [==============================] - 1621s 7s/step - loss: 0.0150 - accuracy: 0.9963\n"
     ]
    },
    {
     "name": "stderr",
     "output_type": "stream",
     "text": [
      "WARNING:absl:Function `_wrapped_model` contains input name(s) Input-Token, Input-Segment with unsupported characters which will be renamed to input_token, input_segment in the SavedModel.\n",
      "WARNING:absl:<keras_layer_normalization.layer_normalization.LayerNormalization object at 0x7f93687bd580> has the same name 'LayerNormalization' as a built-in Keras object. Consider renaming <class 'keras_layer_normalization.layer_normalization.LayerNormalization'> to avoid naming conflicts when loading with `tf.keras.models.load_model`. If renaming is not possible, pass the object in the `custom_objects` parameter of the load function.\n",
      "WARNING:absl:<keras_multi_head.multi_head_attention.MultiHeadAttention object at 0x7f936878e550> has the same name 'MultiHeadAttention' as a built-in Keras object. Consider renaming <class 'keras_multi_head.multi_head_attention.MultiHeadAttention'> to avoid naming conflicts when loading with `tf.keras.models.load_model`. If renaming is not possible, pass the object in the `custom_objects` parameter of the load function.\n",
      "WARNING:absl:<keras_layer_normalization.layer_normalization.LayerNormalization object at 0x7f936878e1f0> has the same name 'LayerNormalization' as a built-in Keras object. Consider renaming <class 'keras_layer_normalization.layer_normalization.LayerNormalization'> to avoid naming conflicts when loading with `tf.keras.models.load_model`. If renaming is not possible, pass the object in the `custom_objects` parameter of the load function.\n",
      "WARNING:absl:<keras_layer_normalization.layer_normalization.LayerNormalization object at 0x7f9146c067c0> has the same name 'LayerNormalization' as a built-in Keras object. Consider renaming <class 'keras_layer_normalization.layer_normalization.LayerNormalization'> to avoid naming conflicts when loading with `tf.keras.models.load_model`. If renaming is not possible, pass the object in the `custom_objects` parameter of the load function.\n",
      "WARNING:absl:<keras_multi_head.multi_head_attention.MultiHeadAttention object at 0x7f9368786b80> has the same name 'MultiHeadAttention' as a built-in Keras object. Consider renaming <class 'keras_multi_head.multi_head_attention.MultiHeadAttention'> to avoid naming conflicts when loading with `tf.keras.models.load_model`. If renaming is not possible, pass the object in the `custom_objects` parameter of the load function.\n",
      "WARNING:absl:<keras_layer_normalization.layer_normalization.LayerNormalization object at 0x7f9398a6f460> has the same name 'LayerNormalization' as a built-in Keras object. Consider renaming <class 'keras_layer_normalization.layer_normalization.LayerNormalization'> to avoid naming conflicts when loading with `tf.keras.models.load_model`. If renaming is not possible, pass the object in the `custom_objects` parameter of the load function.\n",
      "WARNING:absl:<keras_layer_normalization.layer_normalization.LayerNormalization object at 0x7f92357d3ac0> has the same name 'LayerNormalization' as a built-in Keras object. Consider renaming <class 'keras_layer_normalization.layer_normalization.LayerNormalization'> to avoid naming conflicts when loading with `tf.keras.models.load_model`. If renaming is not possible, pass the object in the `custom_objects` parameter of the load function.\n",
      "WARNING:absl:<keras_multi_head.multi_head_attention.MultiHeadAttention object at 0x7f923d2b76a0> has the same name 'MultiHeadAttention' as a built-in Keras object. Consider renaming <class 'keras_multi_head.multi_head_attention.MultiHeadAttention'> to avoid naming conflicts when loading with `tf.keras.models.load_model`. If renaming is not possible, pass the object in the `custom_objects` parameter of the load function.\n",
      "WARNING:absl:<keras_layer_normalization.layer_normalization.LayerNormalization object at 0x7f9398a4a460> has the same name 'LayerNormalization' as a built-in Keras object. Consider renaming <class 'keras_layer_normalization.layer_normalization.LayerNormalization'> to avoid naming conflicts when loading with `tf.keras.models.load_model`. If renaming is not possible, pass the object in the `custom_objects` parameter of the load function.\n",
      "WARNING:absl:<keras_layer_normalization.layer_normalization.LayerNormalization object at 0x7f91408700d0> has the same name 'LayerNormalization' as a built-in Keras object. Consider renaming <class 'keras_layer_normalization.layer_normalization.LayerNormalization'> to avoid naming conflicts when loading with `tf.keras.models.load_model`. If renaming is not possible, pass the object in the `custom_objects` parameter of the load function.\n",
      "WARNING:absl:<keras_multi_head.multi_head_attention.MultiHeadAttention object at 0x7f921e331a60> has the same name 'MultiHeadAttention' as a built-in Keras object. Consider renaming <class 'keras_multi_head.multi_head_attention.MultiHeadAttention'> to avoid naming conflicts when loading with `tf.keras.models.load_model`. If renaming is not possible, pass the object in the `custom_objects` parameter of the load function.\n",
      "WARNING:absl:<keras_layer_normalization.layer_normalization.LayerNormalization object at 0x7f9398a7a2b0> has the same name 'LayerNormalization' as a built-in Keras object. Consider renaming <class 'keras_layer_normalization.layer_normalization.LayerNormalization'> to avoid naming conflicts when loading with `tf.keras.models.load_model`. If renaming is not possible, pass the object in the `custom_objects` parameter of the load function.\n",
      "WARNING:absl:<keras_layer_normalization.layer_normalization.LayerNormalization object at 0x7f93683122b0> has the same name 'LayerNormalization' as a built-in Keras object. Consider renaming <class 'keras_layer_normalization.layer_normalization.LayerNormalization'> to avoid naming conflicts when loading with `tf.keras.models.load_model`. If renaming is not possible, pass the object in the `custom_objects` parameter of the load function.\n",
      "WARNING:absl:<keras_multi_head.multi_head_attention.MultiHeadAttention object at 0x7f9398a4ad60> has the same name 'MultiHeadAttention' as a built-in Keras object. Consider renaming <class 'keras_multi_head.multi_head_attention.MultiHeadAttention'> to avoid naming conflicts when loading with `tf.keras.models.load_model`. If renaming is not possible, pass the object in the `custom_objects` parameter of the load function.\n",
      "WARNING:absl:<keras_layer_normalization.layer_normalization.LayerNormalization object at 0x7f939b663b50> has the same name 'LayerNormalization' as a built-in Keras object. Consider renaming <class 'keras_layer_normalization.layer_normalization.LayerNormalization'> to avoid naming conflicts when loading with `tf.keras.models.load_model`. If renaming is not possible, pass the object in the `custom_objects` parameter of the load function.\n",
      "WARNING:absl:<keras_layer_normalization.layer_normalization.LayerNormalization object at 0x7f92357fe580> has the same name 'LayerNormalization' as a built-in Keras object. Consider renaming <class 'keras_layer_normalization.layer_normalization.LayerNormalization'> to avoid naming conflicts when loading with `tf.keras.models.load_model`. If renaming is not possible, pass the object in the `custom_objects` parameter of the load function.\n",
      "WARNING:absl:<keras_multi_head.multi_head_attention.MultiHeadAttention object at 0x7f939d02cbe0> has the same name 'MultiHeadAttention' as a built-in Keras object. Consider renaming <class 'keras_multi_head.multi_head_attention.MultiHeadAttention'> to avoid naming conflicts when loading with `tf.keras.models.load_model`. If renaming is not possible, pass the object in the `custom_objects` parameter of the load function.\n",
      "WARNING:absl:<keras_layer_normalization.layer_normalization.LayerNormalization object at 0x7f921d136400> has the same name 'LayerNormalization' as a built-in Keras object. Consider renaming <class 'keras_layer_normalization.layer_normalization.LayerNormalization'> to avoid naming conflicts when loading with `tf.keras.models.load_model`. If renaming is not possible, pass the object in the `custom_objects` parameter of the load function.\n",
      "WARNING:absl:<keras_layer_normalization.layer_normalization.LayerNormalization object at 0x7f921e302ca0> has the same name 'LayerNormalization' as a built-in Keras object. Consider renaming <class 'keras_layer_normalization.layer_normalization.LayerNormalization'> to avoid naming conflicts when loading with `tf.keras.models.load_model`. If renaming is not possible, pass the object in the `custom_objects` parameter of the load function.\n"
     ]
    },
    {
     "name": "stderr",
     "output_type": "stream",
     "text": [
      "WARNING:absl:<keras_multi_head.multi_head_attention.MultiHeadAttention object at 0x7f939b689850> has the same name 'MultiHeadAttention' as a built-in Keras object. Consider renaming <class 'keras_multi_head.multi_head_attention.MultiHeadAttention'> to avoid naming conflicts when loading with `tf.keras.models.load_model`. If renaming is not possible, pass the object in the `custom_objects` parameter of the load function.\n",
      "WARNING:absl:<keras_layer_normalization.layer_normalization.LayerNormalization object at 0x7f939b689970> has the same name 'LayerNormalization' as a built-in Keras object. Consider renaming <class 'keras_layer_normalization.layer_normalization.LayerNormalization'> to avoid naming conflicts when loading with `tf.keras.models.load_model`. If renaming is not possible, pass the object in the `custom_objects` parameter of the load function.\n",
      "WARNING:absl:<keras_layer_normalization.layer_normalization.LayerNormalization object at 0x7f93989f2d90> has the same name 'LayerNormalization' as a built-in Keras object. Consider renaming <class 'keras_layer_normalization.layer_normalization.LayerNormalization'> to avoid naming conflicts when loading with `tf.keras.models.load_model`. If renaming is not possible, pass the object in the `custom_objects` parameter of the load function.\n",
      "WARNING:absl:<keras_multi_head.multi_head_attention.MultiHeadAttention object at 0x7f921a4a3220> has the same name 'MultiHeadAttention' as a built-in Keras object. Consider renaming <class 'keras_multi_head.multi_head_attention.MultiHeadAttention'> to avoid naming conflicts when loading with `tf.keras.models.load_model`. If renaming is not possible, pass the object in the `custom_objects` parameter of the load function.\n",
      "WARNING:absl:<keras_layer_normalization.layer_normalization.LayerNormalization object at 0x7f9143d10a60> has the same name 'LayerNormalization' as a built-in Keras object. Consider renaming <class 'keras_layer_normalization.layer_normalization.LayerNormalization'> to avoid naming conflicts when loading with `tf.keras.models.load_model`. If renaming is not possible, pass the object in the `custom_objects` parameter of the load function.\n",
      "WARNING:absl:<keras_layer_normalization.layer_normalization.LayerNormalization object at 0x7f924b53b730> has the same name 'LayerNormalization' as a built-in Keras object. Consider renaming <class 'keras_layer_normalization.layer_normalization.LayerNormalization'> to avoid naming conflicts when loading with `tf.keras.models.load_model`. If renaming is not possible, pass the object in the `custom_objects` parameter of the load function.\n",
      "WARNING:absl:<keras_multi_head.multi_head_attention.MultiHeadAttention object at 0x7f91459fc760> has the same name 'MultiHeadAttention' as a built-in Keras object. Consider renaming <class 'keras_multi_head.multi_head_attention.MultiHeadAttention'> to avoid naming conflicts when loading with `tf.keras.models.load_model`. If renaming is not possible, pass the object in the `custom_objects` parameter of the load function.\n",
      "WARNING:absl:<keras_layer_normalization.layer_normalization.LayerNormalization object at 0x7f9143605280> has the same name 'LayerNormalization' as a built-in Keras object. Consider renaming <class 'keras_layer_normalization.layer_normalization.LayerNormalization'> to avoid naming conflicts when loading with `tf.keras.models.load_model`. If renaming is not possible, pass the object in the `custom_objects` parameter of the load function.\n",
      "WARNING:absl:<keras_layer_normalization.layer_normalization.LayerNormalization object at 0x7f936945d3a0> has the same name 'LayerNormalization' as a built-in Keras object. Consider renaming <class 'keras_layer_normalization.layer_normalization.LayerNormalization'> to avoid naming conflicts when loading with `tf.keras.models.load_model`. If renaming is not possible, pass the object in the `custom_objects` parameter of the load function.\n",
      "WARNING:absl:<keras_multi_head.multi_head_attention.MultiHeadAttention object at 0x7f924b372a30> has the same name 'MultiHeadAttention' as a built-in Keras object. Consider renaming <class 'keras_multi_head.multi_head_attention.MultiHeadAttention'> to avoid naming conflicts when loading with `tf.keras.models.load_model`. If renaming is not possible, pass the object in the `custom_objects` parameter of the load function.\n",
      "WARNING:absl:<keras_layer_normalization.layer_normalization.LayerNormalization object at 0x7f9216f2e820> has the same name 'LayerNormalization' as a built-in Keras object. Consider renaming <class 'keras_layer_normalization.layer_normalization.LayerNormalization'> to avoid naming conflicts when loading with `tf.keras.models.load_model`. If renaming is not possible, pass the object in the `custom_objects` parameter of the load function.\n",
      "WARNING:absl:<keras_layer_normalization.layer_normalization.LayerNormalization object at 0x7f92412a6a60> has the same name 'LayerNormalization' as a built-in Keras object. Consider renaming <class 'keras_layer_normalization.layer_normalization.LayerNormalization'> to avoid naming conflicts when loading with `tf.keras.models.load_model`. If renaming is not possible, pass the object in the `custom_objects` parameter of the load function.\n",
      "WARNING:absl:<keras_multi_head.multi_head_attention.MultiHeadAttention object at 0x7f92412b43a0> has the same name 'MultiHeadAttention' as a built-in Keras object. Consider renaming <class 'keras_multi_head.multi_head_attention.MultiHeadAttention'> to avoid naming conflicts when loading with `tf.keras.models.load_model`. If renaming is not possible, pass the object in the `custom_objects` parameter of the load function.\n",
      "WARNING:absl:<keras_layer_normalization.layer_normalization.LayerNormalization object at 0x7f924236f460> has the same name 'LayerNormalization' as a built-in Keras object. Consider renaming <class 'keras_layer_normalization.layer_normalization.LayerNormalization'> to avoid naming conflicts when loading with `tf.keras.models.load_model`. If renaming is not possible, pass the object in the `custom_objects` parameter of the load function.\n",
      "WARNING:absl:<keras_layer_normalization.layer_normalization.LayerNormalization object at 0x7f93c4bdafa0> has the same name 'LayerNormalization' as a built-in Keras object. Consider renaming <class 'keras_layer_normalization.layer_normalization.LayerNormalization'> to avoid naming conflicts when loading with `tf.keras.models.load_model`. If renaming is not possible, pass the object in the `custom_objects` parameter of the load function.\n",
      "WARNING:absl:<keras_multi_head.multi_head_attention.MultiHeadAttention object at 0x7f921fe57400> has the same name 'MultiHeadAttention' as a built-in Keras object. Consider renaming <class 'keras_multi_head.multi_head_attention.MultiHeadAttention'> to avoid naming conflicts when loading with `tf.keras.models.load_model`. If renaming is not possible, pass the object in the `custom_objects` parameter of the load function.\n",
      "WARNING:absl:<keras_layer_normalization.layer_normalization.LayerNormalization object at 0x7f9216d635e0> has the same name 'LayerNormalization' as a built-in Keras object. Consider renaming <class 'keras_layer_normalization.layer_normalization.LayerNormalization'> to avoid naming conflicts when loading with `tf.keras.models.load_model`. If renaming is not possible, pass the object in the `custom_objects` parameter of the load function.\n",
      "WARNING:absl:<keras_layer_normalization.layer_normalization.LayerNormalization object at 0x7f93692b37f0> has the same name 'LayerNormalization' as a built-in Keras object. Consider renaming <class 'keras_layer_normalization.layer_normalization.LayerNormalization'> to avoid naming conflicts when loading with `tf.keras.models.load_model`. If renaming is not possible, pass the object in the `custom_objects` parameter of the load function.\n",
      "[INFO][2023-06-02 11:21:45 - Mod: functions - Func: load_bert - Line: 997]: Fitted BERT model on dataset bbc.\n",
      "INFO:log_functions:Fitted BERT model on dataset bbc.\n"
     ]
    },
    {
     "name": "stdout",
     "output_type": "stream",
     "text": [
      "28/28 [==============================] - 327s 12s/step\n",
      "               precision    recall  f1-score   support\n",
      "\n",
      "     business       0.99      0.97      0.98       204\n",
      "     politics       0.96      0.99      0.97       167\n",
      "        sport       1.00      1.00      1.00       204\n",
      "entertainment       0.99      0.99      0.99       154\n",
      "         tech       0.99      0.99      0.99       161\n",
      "\n",
      "     accuracy                           0.99       890\n",
      "    macro avg       0.99      0.99      0.99       890\n",
      " weighted avg       0.99      0.99      0.99       890\n",
      "\n"
     ]
    },
    {
     "data": {
      "text/plain": [
       "array([[197,   5,   0,   1,   1],\n",
       "       [  1, 165,   1,   0,   0],\n",
       "       [  0,   0, 204,   0,   0],\n",
       "       [  0,   1,   0, 153,   0],\n",
       "       [  0,   1,   0,   0, 160]])"
      ]
     },
     "execution_count": 7,
     "metadata": {},
     "output_type": "execute_result"
    }
   ],
   "source": [
    "#'bbc', 'classic4', 'cstr', 'dmoz_computers', 'dmoz_health', 'dmoz_science', 'dmoz_sports', 're8'\n",
    "# processed with error: 'nsf'\n",
    "\n",
    "load_bert(database_name='bbc')"
   ]
  },
  {
   "cell_type": "code",
   "execution_count": 8,
   "id": "95aab869",
   "metadata": {},
   "outputs": [
    {
     "name": "stderr",
     "output_type": "stream",
     "text": [
      "[INFO][2023-06-02 11:27:12 - Mod: functions - Func: load_data - Line: 600]: Loaded data for cstr. 4 classes: ['ArtificiallIntelligence', 'Robotics', 'Systems', 'Theory']. Number of documents: 299.\n",
      "INFO:log_functions:Loaded data for cstr. 4 classes: ['ArtificiallIntelligence', 'Robotics', 'Systems', 'Theory']. Number of documents: 299.\n"
     ]
    },
    {
     "name": "stdout",
     "output_type": "stream",
     "text": [
      "preprocessing train...\n",
      "language: en\n"
     ]
    },
    {
     "data": {
      "text/html": [
       "\n",
       "<style>\n",
       "    /* Turns off some styling */\n",
       "    progress {\n",
       "        /* gets rid of default border in Firefox and Opera. */\n",
       "        border: none;\n",
       "        /* Needs to be in here for Safari polyfill so background images work as expected. */\n",
       "        background-size: auto;\n",
       "    }\n",
       "    progress:not([value]), progress:not([value])::-webkit-progress-bar {\n",
       "        background: repeating-linear-gradient(45deg, #7e7e7e, #7e7e7e 10px, #5c5c5c 10px, #5c5c5c 20px);\n",
       "    }\n",
       "    .progress-bar-interrupted, .progress-bar-interrupted::-webkit-progress-bar {\n",
       "        background: #F44336;\n",
       "    }\n",
       "</style>\n"
      ],
      "text/plain": [
       "<IPython.core.display.HTML object>"
      ]
     },
     "metadata": {},
     "output_type": "display_data"
    },
    {
     "data": {
      "text/html": [
       "done."
      ],
      "text/plain": [
       "<IPython.core.display.HTML object>"
      ]
     },
     "metadata": {},
     "output_type": "display_data"
    },
    {
     "name": "stdout",
     "output_type": "stream",
     "text": [
      "Is Multi-Label? False\n",
      "preprocessing test...\n",
      "language: en\n"
     ]
    },
    {
     "data": {
      "text/html": [
       "\n",
       "<style>\n",
       "    /* Turns off some styling */\n",
       "    progress {\n",
       "        /* gets rid of default border in Firefox and Opera. */\n",
       "        border: none;\n",
       "        /* Needs to be in here for Safari polyfill so background images work as expected. */\n",
       "        background-size: auto;\n",
       "    }\n",
       "    progress:not([value]), progress:not([value])::-webkit-progress-bar {\n",
       "        background: repeating-linear-gradient(45deg, #7e7e7e, #7e7e7e 10px, #5c5c5c 10px, #5c5c5c 20px);\n",
       "    }\n",
       "    .progress-bar-interrupted, .progress-bar-interrupted::-webkit-progress-bar {\n",
       "        background: #F44336;\n",
       "    }\n",
       "</style>\n"
      ],
      "text/plain": [
       "<IPython.core.display.HTML object>"
      ]
     },
     "metadata": {},
     "output_type": "display_data"
    },
    {
     "data": {
      "text/html": [
       "done."
      ],
      "text/plain": [
       "<IPython.core.display.HTML object>"
      ]
     },
     "metadata": {},
     "output_type": "display_data"
    },
    {
     "name": "stdout",
     "output_type": "stream",
     "text": [
      "task: text classification\n",
      "Is Multi-Label? False\n",
      "maxlen is 350\n",
      "done.\n",
      "\n",
      "\n",
      "begin training using onecycle policy with max lr of 2e-05...\n",
      "Epoch 1/4\n",
      "30/30 [==============================] - 228s 7s/step - loss: 1.4900 - accuracy: 0.3128\n",
      "Epoch 2/4\n",
      "30/30 [==============================] - 216s 7s/step - loss: 1.0360 - accuracy: 0.5363\n",
      "Epoch 3/4\n",
      "30/30 [==============================] - 217s 7s/step - loss: 0.7016 - accuracy: 0.7263\n",
      "Epoch 4/4\n",
      "30/30 [==============================] - 216s 7s/step - loss: 0.4362 - accuracy: 0.8212\n"
     ]
    },
    {
     "name": "stderr",
     "output_type": "stream",
     "text": [
      "WARNING:absl:Function `_wrapped_model` contains input name(s) Input-Token, Input-Segment with unsupported characters which will be renamed to input_token, input_segment in the SavedModel.\n",
      "WARNING:absl:<keras_layer_normalization.layer_normalization.LayerNormalization object at 0x7f9222d5db50> has the same name 'LayerNormalization' as a built-in Keras object. Consider renaming <class 'keras_layer_normalization.layer_normalization.LayerNormalization'> to avoid naming conflicts when loading with `tf.keras.models.load_model`. If renaming is not possible, pass the object in the `custom_objects` parameter of the load function.\n",
      "WARNING:absl:<keras_multi_head.multi_head_attention.MultiHeadAttention object at 0x7f924e799be0> has the same name 'MultiHeadAttention' as a built-in Keras object. Consider renaming <class 'keras_multi_head.multi_head_attention.MultiHeadAttention'> to avoid naming conflicts when loading with `tf.keras.models.load_model`. If renaming is not possible, pass the object in the `custom_objects` parameter of the load function.\n",
      "WARNING:absl:<keras_layer_normalization.layer_normalization.LayerNormalization object at 0x7f9217afcca0> has the same name 'LayerNormalization' as a built-in Keras object. Consider renaming <class 'keras_layer_normalization.layer_normalization.LayerNormalization'> to avoid naming conflicts when loading with `tf.keras.models.load_model`. If renaming is not possible, pass the object in the `custom_objects` parameter of the load function.\n",
      "WARNING:absl:<keras_layer_normalization.layer_normalization.LayerNormalization object at 0x7f9143c77af0> has the same name 'LayerNormalization' as a built-in Keras object. Consider renaming <class 'keras_layer_normalization.layer_normalization.LayerNormalization'> to avoid naming conflicts when loading with `tf.keras.models.load_model`. If renaming is not possible, pass the object in the `custom_objects` parameter of the load function.\n",
      "WARNING:absl:<keras_multi_head.multi_head_attention.MultiHeadAttention object at 0x7f93691e92e0> has the same name 'MultiHeadAttention' as a built-in Keras object. Consider renaming <class 'keras_multi_head.multi_head_attention.MultiHeadAttention'> to avoid naming conflicts when loading with `tf.keras.models.load_model`. If renaming is not possible, pass the object in the `custom_objects` parameter of the load function.\n",
      "WARNING:absl:<keras_layer_normalization.layer_normalization.LayerNormalization object at 0x7f9368b05310> has the same name 'LayerNormalization' as a built-in Keras object. Consider renaming <class 'keras_layer_normalization.layer_normalization.LayerNormalization'> to avoid naming conflicts when loading with `tf.keras.models.load_model`. If renaming is not possible, pass the object in the `custom_objects` parameter of the load function.\n",
      "WARNING:absl:<keras_layer_normalization.layer_normalization.LayerNormalization object at 0x7f913e88a190> has the same name 'LayerNormalization' as a built-in Keras object. Consider renaming <class 'keras_layer_normalization.layer_normalization.LayerNormalization'> to avoid naming conflicts when loading with `tf.keras.models.load_model`. If renaming is not possible, pass the object in the `custom_objects` parameter of the load function.\n",
      "WARNING:absl:<keras_multi_head.multi_head_attention.MultiHeadAttention object at 0x7f9141b04310> has the same name 'MultiHeadAttention' as a built-in Keras object. Consider renaming <class 'keras_multi_head.multi_head_attention.MultiHeadAttention'> to avoid naming conflicts when loading with `tf.keras.models.load_model`. If renaming is not possible, pass the object in the `custom_objects` parameter of the load function.\n",
      "WARNING:absl:<keras_layer_normalization.layer_normalization.LayerNormalization object at 0x7f923221beb0> has the same name 'LayerNormalization' as a built-in Keras object. Consider renaming <class 'keras_layer_normalization.layer_normalization.LayerNormalization'> to avoid naming conflicts when loading with `tf.keras.models.load_model`. If renaming is not possible, pass the object in the `custom_objects` parameter of the load function.\n",
      "WARNING:absl:<keras_layer_normalization.layer_normalization.LayerNormalization object at 0x7f939892afa0> has the same name 'LayerNormalization' as a built-in Keras object. Consider renaming <class 'keras_layer_normalization.layer_normalization.LayerNormalization'> to avoid naming conflicts when loading with `tf.keras.models.load_model`. If renaming is not possible, pass the object in the `custom_objects` parameter of the load function.\n",
      "WARNING:absl:<keras_multi_head.multi_head_attention.MultiHeadAttention object at 0x7f905d72b1c0> has the same name 'MultiHeadAttention' as a built-in Keras object. Consider renaming <class 'keras_multi_head.multi_head_attention.MultiHeadAttention'> to avoid naming conflicts when loading with `tf.keras.models.load_model`. If renaming is not possible, pass the object in the `custom_objects` parameter of the load function.\n",
      "WARNING:absl:<keras_layer_normalization.layer_normalization.LayerNormalization object at 0x7f939c2353d0> has the same name 'LayerNormalization' as a built-in Keras object. Consider renaming <class 'keras_layer_normalization.layer_normalization.LayerNormalization'> to avoid naming conflicts when loading with `tf.keras.models.load_model`. If renaming is not possible, pass the object in the `custom_objects` parameter of the load function.\n",
      "WARNING:absl:<keras_layer_normalization.layer_normalization.LayerNormalization object at 0x7f921a4cd1c0> has the same name 'LayerNormalization' as a built-in Keras object. Consider renaming <class 'keras_layer_normalization.layer_normalization.LayerNormalization'> to avoid naming conflicts when loading with `tf.keras.models.load_model`. If renaming is not possible, pass the object in the `custom_objects` parameter of the load function.\n",
      "WARNING:absl:<keras_multi_head.multi_head_attention.MultiHeadAttention object at 0x7f924a6bf880> has the same name 'MultiHeadAttention' as a built-in Keras object. Consider renaming <class 'keras_multi_head.multi_head_attention.MultiHeadAttention'> to avoid naming conflicts when loading with `tf.keras.models.load_model`. If renaming is not possible, pass the object in the `custom_objects` parameter of the load function.\n",
      "WARNING:absl:<keras_layer_normalization.layer_normalization.LayerNormalization object at 0x7f924c823940> has the same name 'LayerNormalization' as a built-in Keras object. Consider renaming <class 'keras_layer_normalization.layer_normalization.LayerNormalization'> to avoid naming conflicts when loading with `tf.keras.models.load_model`. If renaming is not possible, pass the object in the `custom_objects` parameter of the load function.\n",
      "WARNING:absl:<keras_layer_normalization.layer_normalization.LayerNormalization object at 0x7f913c8b5160> has the same name 'LayerNormalization' as a built-in Keras object. Consider renaming <class 'keras_layer_normalization.layer_normalization.LayerNormalization'> to avoid naming conflicts when loading with `tf.keras.models.load_model`. If renaming is not possible, pass the object in the `custom_objects` parameter of the load function.\n",
      "WARNING:absl:<keras_multi_head.multi_head_attention.MultiHeadAttention object at 0x7f93694157f0> has the same name 'MultiHeadAttention' as a built-in Keras object. Consider renaming <class 'keras_multi_head.multi_head_attention.MultiHeadAttention'> to avoid naming conflicts when loading with `tf.keras.models.load_model`. If renaming is not possible, pass the object in the `custom_objects` parameter of the load function.\n",
      "WARNING:absl:<keras_layer_normalization.layer_normalization.LayerNormalization object at 0x7f913c8bfe80> has the same name 'LayerNormalization' as a built-in Keras object. Consider renaming <class 'keras_layer_normalization.layer_normalization.LayerNormalization'> to avoid naming conflicts when loading with `tf.keras.models.load_model`. If renaming is not possible, pass the object in the `custom_objects` parameter of the load function.\n",
      "WARNING:absl:<keras_layer_normalization.layer_normalization.LayerNormalization object at 0x7f921d955f70> has the same name 'LayerNormalization' as a built-in Keras object. Consider renaming <class 'keras_layer_normalization.layer_normalization.LayerNormalization'> to avoid naming conflicts when loading with `tf.keras.models.load_model`. If renaming is not possible, pass the object in the `custom_objects` parameter of the load function.\n"
     ]
    },
    {
     "name": "stderr",
     "output_type": "stream",
     "text": [
      "WARNING:absl:<keras_multi_head.multi_head_attention.MultiHeadAttention object at 0x7f92391463a0> has the same name 'MultiHeadAttention' as a built-in Keras object. Consider renaming <class 'keras_multi_head.multi_head_attention.MultiHeadAttention'> to avoid naming conflicts when loading with `tf.keras.models.load_model`. If renaming is not possible, pass the object in the `custom_objects` parameter of the load function.\n",
      "WARNING:absl:<keras_layer_normalization.layer_normalization.LayerNormalization object at 0x7f9248ecc400> has the same name 'LayerNormalization' as a built-in Keras object. Consider renaming <class 'keras_layer_normalization.layer_normalization.LayerNormalization'> to avoid naming conflicts when loading with `tf.keras.models.load_model`. If renaming is not possible, pass the object in the `custom_objects` parameter of the load function.\n",
      "WARNING:absl:<keras_layer_normalization.layer_normalization.LayerNormalization object at 0x7f939d07cf10> has the same name 'LayerNormalization' as a built-in Keras object. Consider renaming <class 'keras_layer_normalization.layer_normalization.LayerNormalization'> to avoid naming conflicts when loading with `tf.keras.models.load_model`. If renaming is not possible, pass the object in the `custom_objects` parameter of the load function.\n",
      "WARNING:absl:<keras_multi_head.multi_head_attention.MultiHeadAttention object at 0x7f9239159ac0> has the same name 'MultiHeadAttention' as a built-in Keras object. Consider renaming <class 'keras_multi_head.multi_head_attention.MultiHeadAttention'> to avoid naming conflicts when loading with `tf.keras.models.load_model`. If renaming is not possible, pass the object in the `custom_objects` parameter of the load function.\n",
      "WARNING:absl:<keras_layer_normalization.layer_normalization.LayerNormalization object at 0x7f905bf997c0> has the same name 'LayerNormalization' as a built-in Keras object. Consider renaming <class 'keras_layer_normalization.layer_normalization.LayerNormalization'> to avoid naming conflicts when loading with `tf.keras.models.load_model`. If renaming is not possible, pass the object in the `custom_objects` parameter of the load function.\n",
      "WARNING:absl:<keras_layer_normalization.layer_normalization.LayerNormalization object at 0x7f921ddd21f0> has the same name 'LayerNormalization' as a built-in Keras object. Consider renaming <class 'keras_layer_normalization.layer_normalization.LayerNormalization'> to avoid naming conflicts when loading with `tf.keras.models.load_model`. If renaming is not possible, pass the object in the `custom_objects` parameter of the load function.\n",
      "WARNING:absl:<keras_multi_head.multi_head_attention.MultiHeadAttention object at 0x7f924b04c0a0> has the same name 'MultiHeadAttention' as a built-in Keras object. Consider renaming <class 'keras_multi_head.multi_head_attention.MultiHeadAttention'> to avoid naming conflicts when loading with `tf.keras.models.load_model`. If renaming is not possible, pass the object in the `custom_objects` parameter of the load function.\n",
      "WARNING:absl:<keras_layer_normalization.layer_normalization.LayerNormalization object at 0x7f9223704880> has the same name 'LayerNormalization' as a built-in Keras object. Consider renaming <class 'keras_layer_normalization.layer_normalization.LayerNormalization'> to avoid naming conflicts when loading with `tf.keras.models.load_model`. If renaming is not possible, pass the object in the `custom_objects` parameter of the load function.\n",
      "WARNING:absl:<keras_layer_normalization.layer_normalization.LayerNormalization object at 0x7f923a4f18b0> has the same name 'LayerNormalization' as a built-in Keras object. Consider renaming <class 'keras_layer_normalization.layer_normalization.LayerNormalization'> to avoid naming conflicts when loading with `tf.keras.models.load_model`. If renaming is not possible, pass the object in the `custom_objects` parameter of the load function.\n",
      "WARNING:absl:<keras_multi_head.multi_head_attention.MultiHeadAttention object at 0x7f923a4de1c0> has the same name 'MultiHeadAttention' as a built-in Keras object. Consider renaming <class 'keras_multi_head.multi_head_attention.MultiHeadAttention'> to avoid naming conflicts when loading with `tf.keras.models.load_model`. If renaming is not possible, pass the object in the `custom_objects` parameter of the load function.\n",
      "WARNING:absl:<keras_layer_normalization.layer_normalization.LayerNormalization object at 0x7f914091b670> has the same name 'LayerNormalization' as a built-in Keras object. Consider renaming <class 'keras_layer_normalization.layer_normalization.LayerNormalization'> to avoid naming conflicts when loading with `tf.keras.models.load_model`. If renaming is not possible, pass the object in the `custom_objects` parameter of the load function.\n",
      "WARNING:absl:<keras_layer_normalization.layer_normalization.LayerNormalization object at 0x7f92396c46a0> has the same name 'LayerNormalization' as a built-in Keras object. Consider renaming <class 'keras_layer_normalization.layer_normalization.LayerNormalization'> to avoid naming conflicts when loading with `tf.keras.models.load_model`. If renaming is not possible, pass the object in the `custom_objects` parameter of the load function.\n",
      "WARNING:absl:<keras_multi_head.multi_head_attention.MultiHeadAttention object at 0x7f905c75ee20> has the same name 'MultiHeadAttention' as a built-in Keras object. Consider renaming <class 'keras_multi_head.multi_head_attention.MultiHeadAttention'> to avoid naming conflicts when loading with `tf.keras.models.load_model`. If renaming is not possible, pass the object in the `custom_objects` parameter of the load function.\n",
      "WARNING:absl:<keras_layer_normalization.layer_normalization.LayerNormalization object at 0x7f921e0a7580> has the same name 'LayerNormalization' as a built-in Keras object. Consider renaming <class 'keras_layer_normalization.layer_normalization.LayerNormalization'> to avoid naming conflicts when loading with `tf.keras.models.load_model`. If renaming is not possible, pass the object in the `custom_objects` parameter of the load function.\n",
      "WARNING:absl:<keras_layer_normalization.layer_normalization.LayerNormalization object at 0x7f921d923550> has the same name 'LayerNormalization' as a built-in Keras object. Consider renaming <class 'keras_layer_normalization.layer_normalization.LayerNormalization'> to avoid naming conflicts when loading with `tf.keras.models.load_model`. If renaming is not possible, pass the object in the `custom_objects` parameter of the load function.\n",
      "WARNING:absl:<keras_multi_head.multi_head_attention.MultiHeadAttention object at 0x7f921e077730> has the same name 'MultiHeadAttention' as a built-in Keras object. Consider renaming <class 'keras_multi_head.multi_head_attention.MultiHeadAttention'> to avoid naming conflicts when loading with `tf.keras.models.load_model`. If renaming is not possible, pass the object in the `custom_objects` parameter of the load function.\n",
      "WARNING:absl:<keras_layer_normalization.layer_normalization.LayerNormalization object at 0x7f922172a100> has the same name 'LayerNormalization' as a built-in Keras object. Consider renaming <class 'keras_layer_normalization.layer_normalization.LayerNormalization'> to avoid naming conflicts when loading with `tf.keras.models.load_model`. If renaming is not possible, pass the object in the `custom_objects` parameter of the load function.\n",
      "WARNING:absl:<keras_layer_normalization.layer_normalization.LayerNormalization object at 0x7f921ce544f0> has the same name 'LayerNormalization' as a built-in Keras object. Consider renaming <class 'keras_layer_normalization.layer_normalization.LayerNormalization'> to avoid naming conflicts when loading with `tf.keras.models.load_model`. If renaming is not possible, pass the object in the `custom_objects` parameter of the load function.\n",
      "[INFO][2023-06-02 11:42:24 - Mod: functions - Func: load_bert - Line: 997]: Fitted BERT model on dataset cstr.\n",
      "INFO:log_functions:Fitted BERT model on dataset cstr.\n"
     ]
    },
    {
     "name": "stdout",
     "output_type": "stream",
     "text": [
      "4/4 [==============================] - 46s 11s/step\n",
      "                         precision    recall  f1-score   support\n",
      "\n",
      "ArtificiallIntelligence       0.88      0.75      0.81        51\n",
      "               Robotics       0.64      0.95      0.77        40\n",
      "                Systems       0.00      0.00      0.00        10\n",
      "                 Theory       0.89      0.84      0.86        19\n",
      "\n",
      "               accuracy                           0.77       120\n",
      "              macro avg       0.60      0.63      0.61       120\n",
      "           weighted avg       0.73      0.77      0.74       120\n",
      "\n"
     ]
    },
    {
     "name": "stderr",
     "output_type": "stream",
     "text": [
      "/Users/brunofbessa/opt/anaconda3/lib/python3.9/site-packages/sklearn/metrics/_classification.py:1344: UndefinedMetricWarning: Precision and F-score are ill-defined and being set to 0.0 in labels with no predicted samples. Use `zero_division` parameter to control this behavior.\n",
      "  _warn_prf(average, modifier, msg_start, len(result))\n",
      "/Users/brunofbessa/opt/anaconda3/lib/python3.9/site-packages/sklearn/metrics/_classification.py:1344: UndefinedMetricWarning: Precision and F-score are ill-defined and being set to 0.0 in labels with no predicted samples. Use `zero_division` parameter to control this behavior.\n",
      "  _warn_prf(average, modifier, msg_start, len(result))\n",
      "/Users/brunofbessa/opt/anaconda3/lib/python3.9/site-packages/sklearn/metrics/_classification.py:1344: UndefinedMetricWarning: Precision and F-score are ill-defined and being set to 0.0 in labels with no predicted samples. Use `zero_division` parameter to control this behavior.\n",
      "  _warn_prf(average, modifier, msg_start, len(result))\n"
     ]
    },
    {
     "data": {
      "text/plain": [
       "array([[38, 11,  0,  2],\n",
       "       [ 2, 38,  0,  0],\n",
       "       [ 1,  9,  0,  0],\n",
       "       [ 2,  1,  0, 16]])"
      ]
     },
     "execution_count": 8,
     "metadata": {},
     "output_type": "execute_result"
    }
   ],
   "source": [
    "load_bert(database_name='cstr')"
   ]
  },
  {
   "cell_type": "code",
   "execution_count": 9,
   "id": "35dc9f51",
   "metadata": {},
   "outputs": [
    {
     "name": "stderr",
     "output_type": "stream",
     "text": [
      "[INFO][2023-06-02 11:43:10 - Mod: functions - Func: load_data - Line: 600]: Loaded data for dmoz_computers. 5 classes: ['Software', 'Education', 'Security', 'Graphics', 'Hardware']. Number of documents: 2500.\n",
      "INFO:log_functions:Loaded data for dmoz_computers. 5 classes: ['Software', 'Education', 'Security', 'Graphics', 'Hardware']. Number of documents: 2500.\n"
     ]
    },
    {
     "name": "stdout",
     "output_type": "stream",
     "text": [
      "preprocessing train...\n",
      "language: en\n"
     ]
    },
    {
     "data": {
      "text/html": [
       "\n",
       "<style>\n",
       "    /* Turns off some styling */\n",
       "    progress {\n",
       "        /* gets rid of default border in Firefox and Opera. */\n",
       "        border: none;\n",
       "        /* Needs to be in here for Safari polyfill so background images work as expected. */\n",
       "        background-size: auto;\n",
       "    }\n",
       "    progress:not([value]), progress:not([value])::-webkit-progress-bar {\n",
       "        background: repeating-linear-gradient(45deg, #7e7e7e, #7e7e7e 10px, #5c5c5c 10px, #5c5c5c 20px);\n",
       "    }\n",
       "    .progress-bar-interrupted, .progress-bar-interrupted::-webkit-progress-bar {\n",
       "        background: #F44336;\n",
       "    }\n",
       "</style>\n"
      ],
      "text/plain": [
       "<IPython.core.display.HTML object>"
      ]
     },
     "metadata": {},
     "output_type": "display_data"
    },
    {
     "data": {
      "text/html": [
       "done."
      ],
      "text/plain": [
       "<IPython.core.display.HTML object>"
      ]
     },
     "metadata": {},
     "output_type": "display_data"
    },
    {
     "name": "stdout",
     "output_type": "stream",
     "text": [
      "Is Multi-Label? False\n",
      "preprocessing test...\n",
      "language: en\n"
     ]
    },
    {
     "data": {
      "text/html": [
       "\n",
       "<style>\n",
       "    /* Turns off some styling */\n",
       "    progress {\n",
       "        /* gets rid of default border in Firefox and Opera. */\n",
       "        border: none;\n",
       "        /* Needs to be in here for Safari polyfill so background images work as expected. */\n",
       "        background-size: auto;\n",
       "    }\n",
       "    progress:not([value]), progress:not([value])::-webkit-progress-bar {\n",
       "        background: repeating-linear-gradient(45deg, #7e7e7e, #7e7e7e 10px, #5c5c5c 10px, #5c5c5c 20px);\n",
       "    }\n",
       "    .progress-bar-interrupted, .progress-bar-interrupted::-webkit-progress-bar {\n",
       "        background: #F44336;\n",
       "    }\n",
       "</style>\n"
      ],
      "text/plain": [
       "<IPython.core.display.HTML object>"
      ]
     },
     "metadata": {},
     "output_type": "display_data"
    },
    {
     "data": {
      "text/html": [
       "done."
      ],
      "text/plain": [
       "<IPython.core.display.HTML object>"
      ]
     },
     "metadata": {},
     "output_type": "display_data"
    },
    {
     "name": "stdout",
     "output_type": "stream",
     "text": [
      "task: text classification\n",
      "Is Multi-Label? False\n",
      "maxlen is 350\n",
      "done.\n",
      "\n",
      "\n",
      "begin training using onecycle policy with max lr of 2e-05...\n",
      "Epoch 1/4\n",
      "250/250 [==============================] - 1804s 7s/step - loss: 1.1857 - accuracy: 0.5520\n",
      "Epoch 2/4\n",
      "250/250 [==============================] - 1788s 7s/step - loss: 0.4483 - accuracy: 0.8493\n",
      "Epoch 3/4\n",
      "250/250 [==============================] - 1788s 7s/step - loss: 0.1995 - accuracy: 0.9333\n",
      "Epoch 4/4\n",
      "250/250 [==============================] - 1784s 7s/step - loss: 0.0724 - accuracy: 0.9827\n"
     ]
    },
    {
     "name": "stderr",
     "output_type": "stream",
     "text": [
      "WARNING:absl:Function `_wrapped_model` contains input name(s) Input-Token, Input-Segment with unsupported characters which will be renamed to input_token, input_segment in the SavedModel.\n",
      "WARNING:absl:<keras_layer_normalization.layer_normalization.LayerNormalization object at 0x7f922177b430> has the same name 'LayerNormalization' as a built-in Keras object. Consider renaming <class 'keras_layer_normalization.layer_normalization.LayerNormalization'> to avoid naming conflicts when loading with `tf.keras.models.load_model`. If renaming is not possible, pass the object in the `custom_objects` parameter of the load function.\n",
      "WARNING:absl:<keras_multi_head.multi_head_attention.MultiHeadAttention object at 0x7f9380fb0910> has the same name 'MultiHeadAttention' as a built-in Keras object. Consider renaming <class 'keras_multi_head.multi_head_attention.MultiHeadAttention'> to avoid naming conflicts when loading with `tf.keras.models.load_model`. If renaming is not possible, pass the object in the `custom_objects` parameter of the load function.\n",
      "WARNING:absl:<keras_layer_normalization.layer_normalization.LayerNormalization object at 0x7f9398a192b0> has the same name 'LayerNormalization' as a built-in Keras object. Consider renaming <class 'keras_layer_normalization.layer_normalization.LayerNormalization'> to avoid naming conflicts when loading with `tf.keras.models.load_model`. If renaming is not possible, pass the object in the `custom_objects` parameter of the load function.\n",
      "WARNING:absl:<keras_layer_normalization.layer_normalization.LayerNormalization object at 0x7f9143c5c160> has the same name 'LayerNormalization' as a built-in Keras object. Consider renaming <class 'keras_layer_normalization.layer_normalization.LayerNormalization'> to avoid naming conflicts when loading with `tf.keras.models.load_model`. If renaming is not possible, pass the object in the `custom_objects` parameter of the load function.\n",
      "WARNING:absl:<keras_multi_head.multi_head_attention.MultiHeadAttention object at 0x7f923a4cad30> has the same name 'MultiHeadAttention' as a built-in Keras object. Consider renaming <class 'keras_multi_head.multi_head_attention.MultiHeadAttention'> to avoid naming conflicts when loading with `tf.keras.models.load_model`. If renaming is not possible, pass the object in the `custom_objects` parameter of the load function.\n",
      "WARNING:absl:<keras_layer_normalization.layer_normalization.LayerNormalization object at 0x7f924b36f520> has the same name 'LayerNormalization' as a built-in Keras object. Consider renaming <class 'keras_layer_normalization.layer_normalization.LayerNormalization'> to avoid naming conflicts when loading with `tf.keras.models.load_model`. If renaming is not possible, pass the object in the `custom_objects` parameter of the load function.\n",
      "WARNING:absl:<keras_layer_normalization.layer_normalization.LayerNormalization object at 0x7f9369415190> has the same name 'LayerNormalization' as a built-in Keras object. Consider renaming <class 'keras_layer_normalization.layer_normalization.LayerNormalization'> to avoid naming conflicts when loading with `tf.keras.models.load_model`. If renaming is not possible, pass the object in the `custom_objects` parameter of the load function.\n",
      "WARNING:absl:<keras_multi_head.multi_head_attention.MultiHeadAttention object at 0x7f9240f03730> has the same name 'MultiHeadAttention' as a built-in Keras object. Consider renaming <class 'keras_multi_head.multi_head_attention.MultiHeadAttention'> to avoid naming conflicts when loading with `tf.keras.models.load_model`. If renaming is not possible, pass the object in the `custom_objects` parameter of the load function.\n",
      "WARNING:absl:<keras_layer_normalization.layer_normalization.LayerNormalization object at 0x7f93d1dfe2e0> has the same name 'LayerNormalization' as a built-in Keras object. Consider renaming <class 'keras_layer_normalization.layer_normalization.LayerNormalization'> to avoid naming conflicts when loading with `tf.keras.models.load_model`. If renaming is not possible, pass the object in the `custom_objects` parameter of the load function.\n",
      "WARNING:absl:<keras_layer_normalization.layer_normalization.LayerNormalization object at 0x7f93b56bc5e0> has the same name 'LayerNormalization' as a built-in Keras object. Consider renaming <class 'keras_layer_normalization.layer_normalization.LayerNormalization'> to avoid naming conflicts when loading with `tf.keras.models.load_model`. If renaming is not possible, pass the object in the `custom_objects` parameter of the load function.\n",
      "WARNING:absl:<keras_multi_head.multi_head_attention.MultiHeadAttention object at 0x7f9146880d30> has the same name 'MultiHeadAttention' as a built-in Keras object. Consider renaming <class 'keras_multi_head.multi_head_attention.MultiHeadAttention'> to avoid naming conflicts when loading with `tf.keras.models.load_model`. If renaming is not possible, pass the object in the `custom_objects` parameter of the load function.\n",
      "WARNING:absl:<keras_layer_normalization.layer_normalization.LayerNormalization object at 0x7f93b56b7eb0> has the same name 'LayerNormalization' as a built-in Keras object. Consider renaming <class 'keras_layer_normalization.layer_normalization.LayerNormalization'> to avoid naming conflicts when loading with `tf.keras.models.load_model`. If renaming is not possible, pass the object in the `custom_objects` parameter of the load function.\n",
      "WARNING:absl:<keras_layer_normalization.layer_normalization.LayerNormalization object at 0x7f93b56874f0> has the same name 'LayerNormalization' as a built-in Keras object. Consider renaming <class 'keras_layer_normalization.layer_normalization.LayerNormalization'> to avoid naming conflicts when loading with `tf.keras.models.load_model`. If renaming is not possible, pass the object in the `custom_objects` parameter of the load function.\n",
      "WARNING:absl:<keras_multi_head.multi_head_attention.MultiHeadAttention object at 0x7f913f353cd0> has the same name 'MultiHeadAttention' as a built-in Keras object. Consider renaming <class 'keras_multi_head.multi_head_attention.MultiHeadAttention'> to avoid naming conflicts when loading with `tf.keras.models.load_model`. If renaming is not possible, pass the object in the `custom_objects` parameter of the load function.\n",
      "WARNING:absl:<keras_layer_normalization.layer_normalization.LayerNormalization object at 0x7f93686250d0> has the same name 'LayerNormalization' as a built-in Keras object. Consider renaming <class 'keras_layer_normalization.layer_normalization.LayerNormalization'> to avoid naming conflicts when loading with `tf.keras.models.load_model`. If renaming is not possible, pass the object in the `custom_objects` parameter of the load function.\n",
      "WARNING:absl:<keras_layer_normalization.layer_normalization.LayerNormalization object at 0x7f90b07ddac0> has the same name 'LayerNormalization' as a built-in Keras object. Consider renaming <class 'keras_layer_normalization.layer_normalization.LayerNormalization'> to avoid naming conflicts when loading with `tf.keras.models.load_model`. If renaming is not possible, pass the object in the `custom_objects` parameter of the load function.\n",
      "WARNING:absl:<keras_multi_head.multi_head_attention.MultiHeadAttention object at 0x7f905f4336d0> has the same name 'MultiHeadAttention' as a built-in Keras object. Consider renaming <class 'keras_multi_head.multi_head_attention.MultiHeadAttention'> to avoid naming conflicts when loading with `tf.keras.models.load_model`. If renaming is not possible, pass the object in the `custom_objects` parameter of the load function.\n",
      "WARNING:absl:<keras_layer_normalization.layer_normalization.LayerNormalization object at 0x7f924de92f40> has the same name 'LayerNormalization' as a built-in Keras object. Consider renaming <class 'keras_layer_normalization.layer_normalization.LayerNormalization'> to avoid naming conflicts when loading with `tf.keras.models.load_model`. If renaming is not possible, pass the object in the `custom_objects` parameter of the load function.\n",
      "WARNING:absl:<keras_layer_normalization.layer_normalization.LayerNormalization object at 0x7f9239493a30> has the same name 'LayerNormalization' as a built-in Keras object. Consider renaming <class 'keras_layer_normalization.layer_normalization.LayerNormalization'> to avoid naming conflicts when loading with `tf.keras.models.load_model`. If renaming is not possible, pass the object in the `custom_objects` parameter of the load function.\n"
     ]
    },
    {
     "name": "stderr",
     "output_type": "stream",
     "text": [
      "WARNING:absl:<keras_multi_head.multi_head_attention.MultiHeadAttention object at 0x7f9221794400> has the same name 'MultiHeadAttention' as a built-in Keras object. Consider renaming <class 'keras_multi_head.multi_head_attention.MultiHeadAttention'> to avoid naming conflicts when loading with `tf.keras.models.load_model`. If renaming is not possible, pass the object in the `custom_objects` parameter of the load function.\n",
      "WARNING:absl:<keras_layer_normalization.layer_normalization.LayerNormalization object at 0x7f9215971820> has the same name 'LayerNormalization' as a built-in Keras object. Consider renaming <class 'keras_layer_normalization.layer_normalization.LayerNormalization'> to avoid naming conflicts when loading with `tf.keras.models.load_model`. If renaming is not possible, pass the object in the `custom_objects` parameter of the load function.\n",
      "WARNING:absl:<keras_layer_normalization.layer_normalization.LayerNormalization object at 0x7f92217ab880> has the same name 'LayerNormalization' as a built-in Keras object. Consider renaming <class 'keras_layer_normalization.layer_normalization.LayerNormalization'> to avoid naming conflicts when loading with `tf.keras.models.load_model`. If renaming is not possible, pass the object in the `custom_objects` parameter of the load function.\n",
      "WARNING:absl:<keras_multi_head.multi_head_attention.MultiHeadAttention object at 0x7f91469c1d30> has the same name 'MultiHeadAttention' as a built-in Keras object. Consider renaming <class 'keras_multi_head.multi_head_attention.MultiHeadAttention'> to avoid naming conflicts when loading with `tf.keras.models.load_model`. If renaming is not possible, pass the object in the `custom_objects` parameter of the load function.\n",
      "WARNING:absl:<keras_layer_normalization.layer_normalization.LayerNormalization object at 0x7f9143a1ca90> has the same name 'LayerNormalization' as a built-in Keras object. Consider renaming <class 'keras_layer_normalization.layer_normalization.LayerNormalization'> to avoid naming conflicts when loading with `tf.keras.models.load_model`. If renaming is not possible, pass the object in the `custom_objects` parameter of the load function.\n",
      "WARNING:absl:<keras_layer_normalization.layer_normalization.LayerNormalization object at 0x7f924de55eb0> has the same name 'LayerNormalization' as a built-in Keras object. Consider renaming <class 'keras_layer_normalization.layer_normalization.LayerNormalization'> to avoid naming conflicts when loading with `tf.keras.models.load_model`. If renaming is not possible, pass the object in the `custom_objects` parameter of the load function.\n",
      "WARNING:absl:<keras_multi_head.multi_head_attention.MultiHeadAttention object at 0x7f921d04fc10> has the same name 'MultiHeadAttention' as a built-in Keras object. Consider renaming <class 'keras_multi_head.multi_head_attention.MultiHeadAttention'> to avoid naming conflicts when loading with `tf.keras.models.load_model`. If renaming is not possible, pass the object in the `custom_objects` parameter of the load function.\n",
      "WARNING:absl:<keras_layer_normalization.layer_normalization.LayerNormalization object at 0x7f9140e65160> has the same name 'LayerNormalization' as a built-in Keras object. Consider renaming <class 'keras_layer_normalization.layer_normalization.LayerNormalization'> to avoid naming conflicts when loading with `tf.keras.models.load_model`. If renaming is not possible, pass the object in the `custom_objects` parameter of the load function.\n",
      "WARNING:absl:<keras_layer_normalization.layer_normalization.LayerNormalization object at 0x7f921a623220> has the same name 'LayerNormalization' as a built-in Keras object. Consider renaming <class 'keras_layer_normalization.layer_normalization.LayerNormalization'> to avoid naming conflicts when loading with `tf.keras.models.load_model`. If renaming is not possible, pass the object in the `custom_objects` parameter of the load function.\n",
      "WARNING:absl:<keras_multi_head.multi_head_attention.MultiHeadAttention object at 0x7f9221750040> has the same name 'MultiHeadAttention' as a built-in Keras object. Consider renaming <class 'keras_multi_head.multi_head_attention.MultiHeadAttention'> to avoid naming conflicts when loading with `tf.keras.models.load_model`. If renaming is not possible, pass the object in the `custom_objects` parameter of the load function.\n",
      "WARNING:absl:<keras_layer_normalization.layer_normalization.LayerNormalization object at 0x7f9221750a00> has the same name 'LayerNormalization' as a built-in Keras object. Consider renaming <class 'keras_layer_normalization.layer_normalization.LayerNormalization'> to avoid naming conflicts when loading with `tf.keras.models.load_model`. If renaming is not possible, pass the object in the `custom_objects` parameter of the load function.\n",
      "WARNING:absl:<keras_layer_normalization.layer_normalization.LayerNormalization object at 0x7f924b53b310> has the same name 'LayerNormalization' as a built-in Keras object. Consider renaming <class 'keras_layer_normalization.layer_normalization.LayerNormalization'> to avoid naming conflicts when loading with `tf.keras.models.load_model`. If renaming is not possible, pass the object in the `custom_objects` parameter of the load function.\n",
      "WARNING:absl:<keras_multi_head.multi_head_attention.MultiHeadAttention object at 0x7f924b53b6d0> has the same name 'MultiHeadAttention' as a built-in Keras object. Consider renaming <class 'keras_multi_head.multi_head_attention.MultiHeadAttention'> to avoid naming conflicts when loading with `tf.keras.models.load_model`. If renaming is not possible, pass the object in the `custom_objects` parameter of the load function.\n",
      "WARNING:absl:<keras_layer_normalization.layer_normalization.LayerNormalization object at 0x7f93991d35e0> has the same name 'LayerNormalization' as a built-in Keras object. Consider renaming <class 'keras_layer_normalization.layer_normalization.LayerNormalization'> to avoid naming conflicts when loading with `tf.keras.models.load_model`. If renaming is not possible, pass the object in the `custom_objects` parameter of the load function.\n",
      "WARNING:absl:<keras_layer_normalization.layer_normalization.LayerNormalization object at 0x7f92412b4d00> has the same name 'LayerNormalization' as a built-in Keras object. Consider renaming <class 'keras_layer_normalization.layer_normalization.LayerNormalization'> to avoid naming conflicts when loading with `tf.keras.models.load_model`. If renaming is not possible, pass the object in the `custom_objects` parameter of the load function.\n",
      "WARNING:absl:<keras_multi_head.multi_head_attention.MultiHeadAttention object at 0x7f924c4bd820> has the same name 'MultiHeadAttention' as a built-in Keras object. Consider renaming <class 'keras_multi_head.multi_head_attention.MultiHeadAttention'> to avoid naming conflicts when loading with `tf.keras.models.load_model`. If renaming is not possible, pass the object in the `custom_objects` parameter of the load function.\n",
      "WARNING:absl:<keras_layer_normalization.layer_normalization.LayerNormalization object at 0x7f93b4439bb0> has the same name 'LayerNormalization' as a built-in Keras object. Consider renaming <class 'keras_layer_normalization.layer_normalization.LayerNormalization'> to avoid naming conflicts when loading with `tf.keras.models.load_model`. If renaming is not possible, pass the object in the `custom_objects` parameter of the load function.\n",
      "WARNING:absl:<keras_layer_normalization.layer_normalization.LayerNormalization object at 0x7f93694dda90> has the same name 'LayerNormalization' as a built-in Keras object. Consider renaming <class 'keras_layer_normalization.layer_normalization.LayerNormalization'> to avoid naming conflicts when loading with `tf.keras.models.load_model`. If renaming is not possible, pass the object in the `custom_objects` parameter of the load function.\n",
      "[INFO][2023-06-02 13:43:09 - Mod: functions - Func: load_bert - Line: 997]: Fitted BERT model on dataset dmoz_computers.\n",
      "INFO:log_functions:Fitted BERT model on dataset dmoz_computers.\n"
     ]
    },
    {
     "name": "stdout",
     "output_type": "stream",
     "text": [
      "32/32 [==============================] - 373s 12s/step\n",
      "              precision    recall  f1-score   support\n",
      "\n",
      "    Software       0.76      0.77      0.77       200\n",
      "   Education       0.97      0.93      0.95       200\n",
      "    Security       0.87      0.87      0.87       200\n",
      "    Graphics       0.94      0.96      0.95       200\n",
      "    Hardware       0.88      0.90      0.89       200\n",
      "\n",
      "    accuracy                           0.88      1000\n",
      "   macro avg       0.88      0.88      0.88      1000\n",
      "weighted avg       0.88      0.88      0.88      1000\n",
      "\n"
     ]
    },
    {
     "data": {
      "text/plain": [
       "array([[154,   3,  15,  12,  16],\n",
       "       [  6, 185,   5,   0,   4],\n",
       "       [ 20,   2, 174,   0,   4],\n",
       "       [  7,   0,   1, 192,   0],\n",
       "       [ 15,   1,   5,   0, 179]])"
      ]
     },
     "execution_count": 9,
     "metadata": {},
     "output_type": "execute_result"
    }
   ],
   "source": [
    "load_bert(database_name='dmoz_computers')"
   ]
  },
  {
   "cell_type": "code",
   "execution_count": 10,
   "id": "0fa246e2",
   "metadata": {},
   "outputs": [
    {
     "name": "stderr",
     "output_type": "stream",
     "text": [
      "[INFO][2023-06-02 13:49:22 - Mod: functions - Func: load_data - Line: 600]: Loaded data for dmoz_health. 5 classes: ['Animal', 'Pharmacy', 'Public', 'Mental', 'Medicine']. Number of documents: 2500.\n",
      "INFO:log_functions:Loaded data for dmoz_health. 5 classes: ['Animal', 'Pharmacy', 'Public', 'Mental', 'Medicine']. Number of documents: 2500.\n"
     ]
    },
    {
     "name": "stdout",
     "output_type": "stream",
     "text": [
      "preprocessing train...\n",
      "language: en\n"
     ]
    },
    {
     "data": {
      "text/html": [
       "\n",
       "<style>\n",
       "    /* Turns off some styling */\n",
       "    progress {\n",
       "        /* gets rid of default border in Firefox and Opera. */\n",
       "        border: none;\n",
       "        /* Needs to be in here for Safari polyfill so background images work as expected. */\n",
       "        background-size: auto;\n",
       "    }\n",
       "    progress:not([value]), progress:not([value])::-webkit-progress-bar {\n",
       "        background: repeating-linear-gradient(45deg, #7e7e7e, #7e7e7e 10px, #5c5c5c 10px, #5c5c5c 20px);\n",
       "    }\n",
       "    .progress-bar-interrupted, .progress-bar-interrupted::-webkit-progress-bar {\n",
       "        background: #F44336;\n",
       "    }\n",
       "</style>\n"
      ],
      "text/plain": [
       "<IPython.core.display.HTML object>"
      ]
     },
     "metadata": {},
     "output_type": "display_data"
    },
    {
     "data": {
      "text/html": [
       "done."
      ],
      "text/plain": [
       "<IPython.core.display.HTML object>"
      ]
     },
     "metadata": {},
     "output_type": "display_data"
    },
    {
     "name": "stdout",
     "output_type": "stream",
     "text": [
      "Is Multi-Label? False\n",
      "preprocessing test...\n",
      "language: en\n"
     ]
    },
    {
     "data": {
      "text/html": [
       "\n",
       "<style>\n",
       "    /* Turns off some styling */\n",
       "    progress {\n",
       "        /* gets rid of default border in Firefox and Opera. */\n",
       "        border: none;\n",
       "        /* Needs to be in here for Safari polyfill so background images work as expected. */\n",
       "        background-size: auto;\n",
       "    }\n",
       "    progress:not([value]), progress:not([value])::-webkit-progress-bar {\n",
       "        background: repeating-linear-gradient(45deg, #7e7e7e, #7e7e7e 10px, #5c5c5c 10px, #5c5c5c 20px);\n",
       "    }\n",
       "    .progress-bar-interrupted, .progress-bar-interrupted::-webkit-progress-bar {\n",
       "        background: #F44336;\n",
       "    }\n",
       "</style>\n"
      ],
      "text/plain": [
       "<IPython.core.display.HTML object>"
      ]
     },
     "metadata": {},
     "output_type": "display_data"
    },
    {
     "data": {
      "text/html": [
       "done."
      ],
      "text/plain": [
       "<IPython.core.display.HTML object>"
      ]
     },
     "metadata": {},
     "output_type": "display_data"
    },
    {
     "name": "stdout",
     "output_type": "stream",
     "text": [
      "task: text classification\n",
      "Is Multi-Label? False\n",
      "maxlen is 350\n",
      "done.\n",
      "\n",
      "\n",
      "begin training using onecycle policy with max lr of 2e-05...\n",
      "Epoch 1/4\n",
      "250/250 [==============================] - 1806s 7s/step - loss: 1.0302 - accuracy: 0.6267\n",
      "Epoch 2/4\n",
      "250/250 [==============================] - 1800s 7s/step - loss: 0.1823 - accuracy: 0.9533\n",
      "Epoch 3/4\n",
      "250/250 [==============================] - 1796s 7s/step - loss: 0.0585 - accuracy: 0.9833\n",
      "Epoch 4/4\n",
      "250/250 [==============================] - 1794s 7s/step - loss: 0.0133 - accuracy: 0.9973\n"
     ]
    },
    {
     "name": "stderr",
     "output_type": "stream",
     "text": [
      "WARNING:absl:Function `_wrapped_model` contains input name(s) Input-Token, Input-Segment with unsupported characters which will be renamed to input_token, input_segment in the SavedModel.\n",
      "WARNING:absl:<keras_layer_normalization.layer_normalization.LayerNormalization object at 0x7f939e434ca0> has the same name 'LayerNormalization' as a built-in Keras object. Consider renaming <class 'keras_layer_normalization.layer_normalization.LayerNormalization'> to avoid naming conflicts when loading with `tf.keras.models.load_model`. If renaming is not possible, pass the object in the `custom_objects` parameter of the load function.\n",
      "WARNING:absl:<keras_multi_head.multi_head_attention.MultiHeadAttention object at 0x7f921ceaf430> has the same name 'MultiHeadAttention' as a built-in Keras object. Consider renaming <class 'keras_multi_head.multi_head_attention.MultiHeadAttention'> to avoid naming conflicts when loading with `tf.keras.models.load_model`. If renaming is not possible, pass the object in the `custom_objects` parameter of the load function.\n",
      "WARNING:absl:<keras_layer_normalization.layer_normalization.LayerNormalization object at 0x7f921d1b3d00> has the same name 'LayerNormalization' as a built-in Keras object. Consider renaming <class 'keras_layer_normalization.layer_normalization.LayerNormalization'> to avoid naming conflicts when loading with `tf.keras.models.load_model`. If renaming is not possible, pass the object in the `custom_objects` parameter of the load function.\n",
      "WARNING:absl:<keras_layer_normalization.layer_normalization.LayerNormalization object at 0x7f9369486400> has the same name 'LayerNormalization' as a built-in Keras object. Consider renaming <class 'keras_layer_normalization.layer_normalization.LayerNormalization'> to avoid naming conflicts when loading with `tf.keras.models.load_model`. If renaming is not possible, pass the object in the `custom_objects` parameter of the load function.\n",
      "WARNING:absl:<keras_multi_head.multi_head_attention.MultiHeadAttention object at 0x7f9368c16610> has the same name 'MultiHeadAttention' as a built-in Keras object. Consider renaming <class 'keras_multi_head.multi_head_attention.MultiHeadAttention'> to avoid naming conflicts when loading with `tf.keras.models.load_model`. If renaming is not possible, pass the object in the `custom_objects` parameter of the load function.\n",
      "WARNING:absl:<keras_layer_normalization.layer_normalization.LayerNormalization object at 0x7f924a4550d0> has the same name 'LayerNormalization' as a built-in Keras object. Consider renaming <class 'keras_layer_normalization.layer_normalization.LayerNormalization'> to avoid naming conflicts when loading with `tf.keras.models.load_model`. If renaming is not possible, pass the object in the `custom_objects` parameter of the load function.\n",
      "WARNING:absl:<keras_layer_normalization.layer_normalization.LayerNormalization object at 0x7f9232360a90> has the same name 'LayerNormalization' as a built-in Keras object. Consider renaming <class 'keras_layer_normalization.layer_normalization.LayerNormalization'> to avoid naming conflicts when loading with `tf.keras.models.load_model`. If renaming is not possible, pass the object in the `custom_objects` parameter of the load function.\n",
      "WARNING:absl:<keras_multi_head.multi_head_attention.MultiHeadAttention object at 0x7f924e1403a0> has the same name 'MultiHeadAttention' as a built-in Keras object. Consider renaming <class 'keras_multi_head.multi_head_attention.MultiHeadAttention'> to avoid naming conflicts when loading with `tf.keras.models.load_model`. If renaming is not possible, pass the object in the `custom_objects` parameter of the load function.\n",
      "WARNING:absl:<keras_layer_normalization.layer_normalization.LayerNormalization object at 0x7f9368b72700> has the same name 'LayerNormalization' as a built-in Keras object. Consider renaming <class 'keras_layer_normalization.layer_normalization.LayerNormalization'> to avoid naming conflicts when loading with `tf.keras.models.load_model`. If renaming is not possible, pass the object in the `custom_objects` parameter of the load function.\n",
      "WARNING:absl:<keras_layer_normalization.layer_normalization.LayerNormalization object at 0x7f93959c1a00> has the same name 'LayerNormalization' as a built-in Keras object. Consider renaming <class 'keras_layer_normalization.layer_normalization.LayerNormalization'> to avoid naming conflicts when loading with `tf.keras.models.load_model`. If renaming is not possible, pass the object in the `custom_objects` parameter of the load function.\n",
      "WARNING:absl:<keras_multi_head.multi_head_attention.MultiHeadAttention object at 0x7f93959e4340> has the same name 'MultiHeadAttention' as a built-in Keras object. Consider renaming <class 'keras_multi_head.multi_head_attention.MultiHeadAttention'> to avoid naming conflicts when loading with `tf.keras.models.load_model`. If renaming is not possible, pass the object in the `custom_objects` parameter of the load function.\n",
      "WARNING:absl:<keras_layer_normalization.layer_normalization.LayerNormalization object at 0x7f9368b72e50> has the same name 'LayerNormalization' as a built-in Keras object. Consider renaming <class 'keras_layer_normalization.layer_normalization.LayerNormalization'> to avoid naming conflicts when loading with `tf.keras.models.load_model`. If renaming is not possible, pass the object in the `custom_objects` parameter of the load function.\n",
      "WARNING:absl:<keras_layer_normalization.layer_normalization.LayerNormalization object at 0x7f913f3381f0> has the same name 'LayerNormalization' as a built-in Keras object. Consider renaming <class 'keras_layer_normalization.layer_normalization.LayerNormalization'> to avoid naming conflicts when loading with `tf.keras.models.load_model`. If renaming is not possible, pass the object in the `custom_objects` parameter of the load function.\n",
      "WARNING:absl:<keras_multi_head.multi_head_attention.MultiHeadAttention object at 0x7f913efc2280> has the same name 'MultiHeadAttention' as a built-in Keras object. Consider renaming <class 'keras_multi_head.multi_head_attention.MultiHeadAttention'> to avoid naming conflicts when loading with `tf.keras.models.load_model`. If renaming is not possible, pass the object in the `custom_objects` parameter of the load function.\n",
      "WARNING:absl:<keras_layer_normalization.layer_normalization.LayerNormalization object at 0x7f921ced9760> has the same name 'LayerNormalization' as a built-in Keras object. Consider renaming <class 'keras_layer_normalization.layer_normalization.LayerNormalization'> to avoid naming conflicts when loading with `tf.keras.models.load_model`. If renaming is not possible, pass the object in the `custom_objects` parameter of the load function.\n",
      "WARNING:absl:<keras_layer_normalization.layer_normalization.LayerNormalization object at 0x7f923a4b1970> has the same name 'LayerNormalization' as a built-in Keras object. Consider renaming <class 'keras_layer_normalization.layer_normalization.LayerNormalization'> to avoid naming conflicts when loading with `tf.keras.models.load_model`. If renaming is not possible, pass the object in the `custom_objects` parameter of the load function.\n",
      "WARNING:absl:<keras_multi_head.multi_head_attention.MultiHeadAttention object at 0x7f92357eaac0> has the same name 'MultiHeadAttention' as a built-in Keras object. Consider renaming <class 'keras_multi_head.multi_head_attention.MultiHeadAttention'> to avoid naming conflicts when loading with `tf.keras.models.load_model`. If renaming is not possible, pass the object in the `custom_objects` parameter of the load function.\n",
      "WARNING:absl:<keras_layer_normalization.layer_normalization.LayerNormalization object at 0x7f9239120c70> has the same name 'LayerNormalization' as a built-in Keras object. Consider renaming <class 'keras_layer_normalization.layer_normalization.LayerNormalization'> to avoid naming conflicts when loading with `tf.keras.models.load_model`. If renaming is not possible, pass the object in the `custom_objects` parameter of the load function.\n",
      "WARNING:absl:<keras_layer_normalization.layer_normalization.LayerNormalization object at 0x7f9222d0c640> has the same name 'LayerNormalization' as a built-in Keras object. Consider renaming <class 'keras_layer_normalization.layer_normalization.LayerNormalization'> to avoid naming conflicts when loading with `tf.keras.models.load_model`. If renaming is not possible, pass the object in the `custom_objects` parameter of the load function.\n"
     ]
    },
    {
     "name": "stderr",
     "output_type": "stream",
     "text": [
      "WARNING:absl:<keras_multi_head.multi_head_attention.MultiHeadAttention object at 0x7f9237fcdf70> has the same name 'MultiHeadAttention' as a built-in Keras object. Consider renaming <class 'keras_multi_head.multi_head_attention.MultiHeadAttention'> to avoid naming conflicts when loading with `tf.keras.models.load_model`. If renaming is not possible, pass the object in the `custom_objects` parameter of the load function.\n",
      "WARNING:absl:<keras_layer_normalization.layer_normalization.LayerNormalization object at 0x7f924b0a66d0> has the same name 'LayerNormalization' as a built-in Keras object. Consider renaming <class 'keras_layer_normalization.layer_normalization.LayerNormalization'> to avoid naming conflicts when loading with `tf.keras.models.load_model`. If renaming is not possible, pass the object in the `custom_objects` parameter of the load function.\n",
      "WARNING:absl:<keras_layer_normalization.layer_normalization.LayerNormalization object at 0x7f9222ce96d0> has the same name 'LayerNormalization' as a built-in Keras object. Consider renaming <class 'keras_layer_normalization.layer_normalization.LayerNormalization'> to avoid naming conflicts when loading with `tf.keras.models.load_model`. If renaming is not possible, pass the object in the `custom_objects` parameter of the load function.\n",
      "WARNING:absl:<keras_multi_head.multi_head_attention.MultiHeadAttention object at 0x7f9237fc2670> has the same name 'MultiHeadAttention' as a built-in Keras object. Consider renaming <class 'keras_multi_head.multi_head_attention.MultiHeadAttention'> to avoid naming conflicts when loading with `tf.keras.models.load_model`. If renaming is not possible, pass the object in the `custom_objects` parameter of the load function.\n",
      "WARNING:absl:<keras_layer_normalization.layer_normalization.LayerNormalization object at 0x7f9222d0c550> has the same name 'LayerNormalization' as a built-in Keras object. Consider renaming <class 'keras_layer_normalization.layer_normalization.LayerNormalization'> to avoid naming conflicts when loading with `tf.keras.models.load_model`. If renaming is not possible, pass the object in the `custom_objects` parameter of the load function.\n",
      "WARNING:absl:<keras_layer_normalization.layer_normalization.LayerNormalization object at 0x7f924a60a940> has the same name 'LayerNormalization' as a built-in Keras object. Consider renaming <class 'keras_layer_normalization.layer_normalization.LayerNormalization'> to avoid naming conflicts when loading with `tf.keras.models.load_model`. If renaming is not possible, pass the object in the `custom_objects` parameter of the load function.\n",
      "WARNING:absl:<keras_multi_head.multi_head_attention.MultiHeadAttention object at 0x7f913ecbfe20> has the same name 'MultiHeadAttention' as a built-in Keras object. Consider renaming <class 'keras_multi_head.multi_head_attention.MultiHeadAttention'> to avoid naming conflicts when loading with `tf.keras.models.load_model`. If renaming is not possible, pass the object in the `custom_objects` parameter of the load function.\n",
      "WARNING:absl:<keras_layer_normalization.layer_normalization.LayerNormalization object at 0x7f924a4a96a0> has the same name 'LayerNormalization' as a built-in Keras object. Consider renaming <class 'keras_layer_normalization.layer_normalization.LayerNormalization'> to avoid naming conflicts when loading with `tf.keras.models.load_model`. If renaming is not possible, pass the object in the `custom_objects` parameter of the load function.\n",
      "WARNING:absl:<keras_layer_normalization.layer_normalization.LayerNormalization object at 0x7f9222d172b0> has the same name 'LayerNormalization' as a built-in Keras object. Consider renaming <class 'keras_layer_normalization.layer_normalization.LayerNormalization'> to avoid naming conflicts when loading with `tf.keras.models.load_model`. If renaming is not possible, pass the object in the `custom_objects` parameter of the load function.\n",
      "WARNING:absl:<keras_multi_head.multi_head_attention.MultiHeadAttention object at 0x7f924a4a28b0> has the same name 'MultiHeadAttention' as a built-in Keras object. Consider renaming <class 'keras_multi_head.multi_head_attention.MultiHeadAttention'> to avoid naming conflicts when loading with `tf.keras.models.load_model`. If renaming is not possible, pass the object in the `custom_objects` parameter of the load function.\n",
      "WARNING:absl:<keras_layer_normalization.layer_normalization.LayerNormalization object at 0x7f921dd18ca0> has the same name 'LayerNormalization' as a built-in Keras object. Consider renaming <class 'keras_layer_normalization.layer_normalization.LayerNormalization'> to avoid naming conflicts when loading with `tf.keras.models.load_model`. If renaming is not possible, pass the object in the `custom_objects` parameter of the load function.\n",
      "WARNING:absl:<keras_layer_normalization.layer_normalization.LayerNormalization object at 0x7f924a699f10> has the same name 'LayerNormalization' as a built-in Keras object. Consider renaming <class 'keras_layer_normalization.layer_normalization.LayerNormalization'> to avoid naming conflicts when loading with `tf.keras.models.load_model`. If renaming is not possible, pass the object in the `custom_objects` parameter of the load function.\n",
      "WARNING:absl:<keras_multi_head.multi_head_attention.MultiHeadAttention object at 0x7f921e3ffd30> has the same name 'MultiHeadAttention' as a built-in Keras object. Consider renaming <class 'keras_multi_head.multi_head_attention.MultiHeadAttention'> to avoid naming conflicts when loading with `tf.keras.models.load_model`. If renaming is not possible, pass the object in the `custom_objects` parameter of the load function.\n",
      "WARNING:absl:<keras_layer_normalization.layer_normalization.LayerNormalization object at 0x7f9145926190> has the same name 'LayerNormalization' as a built-in Keras object. Consider renaming <class 'keras_layer_normalization.layer_normalization.LayerNormalization'> to avoid naming conflicts when loading with `tf.keras.models.load_model`. If renaming is not possible, pass the object in the `custom_objects` parameter of the load function.\n",
      "WARNING:absl:<keras_layer_normalization.layer_normalization.LayerNormalization object at 0x7f93ac34e190> has the same name 'LayerNormalization' as a built-in Keras object. Consider renaming <class 'keras_layer_normalization.layer_normalization.LayerNormalization'> to avoid naming conflicts when loading with `tf.keras.models.load_model`. If renaming is not possible, pass the object in the `custom_objects` parameter of the load function.\n",
      "WARNING:absl:<keras_multi_head.multi_head_attention.MultiHeadAttention object at 0x7f921e3e0610> has the same name 'MultiHeadAttention' as a built-in Keras object. Consider renaming <class 'keras_multi_head.multi_head_attention.MultiHeadAttention'> to avoid naming conflicts when loading with `tf.keras.models.load_model`. If renaming is not possible, pass the object in the `custom_objects` parameter of the load function.\n",
      "WARNING:absl:<keras_layer_normalization.layer_normalization.LayerNormalization object at 0x7f9145869df0> has the same name 'LayerNormalization' as a built-in Keras object. Consider renaming <class 'keras_layer_normalization.layer_normalization.LayerNormalization'> to avoid naming conflicts when loading with `tf.keras.models.load_model`. If renaming is not possible, pass the object in the `custom_objects` parameter of the load function.\n",
      "WARNING:absl:<keras_layer_normalization.layer_normalization.LayerNormalization object at 0x7f939d20c6d0> has the same name 'LayerNormalization' as a built-in Keras object. Consider renaming <class 'keras_layer_normalization.layer_normalization.LayerNormalization'> to avoid naming conflicts when loading with `tf.keras.models.load_model`. If renaming is not possible, pass the object in the `custom_objects` parameter of the load function.\n",
      "[INFO][2023-06-02 15:49:52 - Mod: functions - Func: load_bert - Line: 997]: Fitted BERT model on dataset dmoz_health.\n",
      "INFO:log_functions:Fitted BERT model on dataset dmoz_health.\n"
     ]
    },
    {
     "name": "stdout",
     "output_type": "stream",
     "text": [
      "32/32 [==============================] - 370s 11s/step\n",
      "              precision    recall  f1-score   support\n",
      "\n",
      "      Animal       0.99      0.99      0.99       200\n",
      "    Pharmacy       0.95      0.97      0.96       200\n",
      "      Public       0.93      0.94      0.94       200\n",
      "      Mental       0.97      0.88      0.92       200\n",
      "    Medicine       0.88      0.93      0.90       200\n",
      "\n",
      "    accuracy                           0.94      1000\n",
      "   macro avg       0.94      0.94      0.94      1000\n",
      "weighted avg       0.94      0.94      0.94      1000\n",
      "\n"
     ]
    },
    {
     "data": {
      "text/plain": [
       "array([[198,   1,   0,   0,   1],\n",
       "       [  0, 195,   1,   2,   2],\n",
       "       [  1,   3, 189,   0,   7],\n",
       "       [  2,   2,   5, 175,  16],\n",
       "       [  0,   4,   8,   3, 185]])"
      ]
     },
     "execution_count": 10,
     "metadata": {},
     "output_type": "execute_result"
    }
   ],
   "source": [
    "load_bert(database_name='dmoz_health')"
   ]
  },
  {
   "cell_type": "code",
   "execution_count": 11,
   "id": "6f153d73",
   "metadata": {},
   "outputs": [
    {
     "name": "stderr",
     "output_type": "stream",
     "text": [
      "[INFO][2023-06-02 15:56:02 - Mod: functions - Func: load_data - Line: 600]: Loaded data for dmoz_science. 5 classes: ['Science', 'Environment', 'Chemistry', 'Instruments', 'Earth']. Number of documents: 2500.\n",
      "INFO:log_functions:Loaded data for dmoz_science. 5 classes: ['Science', 'Environment', 'Chemistry', 'Instruments', 'Earth']. Number of documents: 2500.\n"
     ]
    },
    {
     "name": "stdout",
     "output_type": "stream",
     "text": [
      "preprocessing train...\n",
      "language: en\n"
     ]
    },
    {
     "data": {
      "text/html": [
       "\n",
       "<style>\n",
       "    /* Turns off some styling */\n",
       "    progress {\n",
       "        /* gets rid of default border in Firefox and Opera. */\n",
       "        border: none;\n",
       "        /* Needs to be in here for Safari polyfill so background images work as expected. */\n",
       "        background-size: auto;\n",
       "    }\n",
       "    progress:not([value]), progress:not([value])::-webkit-progress-bar {\n",
       "        background: repeating-linear-gradient(45deg, #7e7e7e, #7e7e7e 10px, #5c5c5c 10px, #5c5c5c 20px);\n",
       "    }\n",
       "    .progress-bar-interrupted, .progress-bar-interrupted::-webkit-progress-bar {\n",
       "        background: #F44336;\n",
       "    }\n",
       "</style>\n"
      ],
      "text/plain": [
       "<IPython.core.display.HTML object>"
      ]
     },
     "metadata": {},
     "output_type": "display_data"
    },
    {
     "data": {
      "text/html": [
       "done."
      ],
      "text/plain": [
       "<IPython.core.display.HTML object>"
      ]
     },
     "metadata": {},
     "output_type": "display_data"
    },
    {
     "name": "stdout",
     "output_type": "stream",
     "text": [
      "Is Multi-Label? False\n",
      "preprocessing test...\n",
      "language: en\n"
     ]
    },
    {
     "data": {
      "text/html": [
       "\n",
       "<style>\n",
       "    /* Turns off some styling */\n",
       "    progress {\n",
       "        /* gets rid of default border in Firefox and Opera. */\n",
       "        border: none;\n",
       "        /* Needs to be in here for Safari polyfill so background images work as expected. */\n",
       "        background-size: auto;\n",
       "    }\n",
       "    progress:not([value]), progress:not([value])::-webkit-progress-bar {\n",
       "        background: repeating-linear-gradient(45deg, #7e7e7e, #7e7e7e 10px, #5c5c5c 10px, #5c5c5c 20px);\n",
       "    }\n",
       "    .progress-bar-interrupted, .progress-bar-interrupted::-webkit-progress-bar {\n",
       "        background: #F44336;\n",
       "    }\n",
       "</style>\n"
      ],
      "text/plain": [
       "<IPython.core.display.HTML object>"
      ]
     },
     "metadata": {},
     "output_type": "display_data"
    },
    {
     "data": {
      "text/html": [
       "done."
      ],
      "text/plain": [
       "<IPython.core.display.HTML object>"
      ]
     },
     "metadata": {},
     "output_type": "display_data"
    },
    {
     "name": "stdout",
     "output_type": "stream",
     "text": [
      "task: text classification\n",
      "Is Multi-Label? False\n",
      "maxlen is 350\n",
      "done.\n",
      "\n",
      "\n",
      "begin training using onecycle policy with max lr of 2e-05...\n",
      "Epoch 1/4\n",
      "250/250 [==============================] - 1805s 7s/step - loss: 1.1451 - accuracy: 0.5927\n",
      "Epoch 2/4\n",
      "250/250 [==============================] - 1802s 7s/step - loss: 0.3790 - accuracy: 0.8793\n",
      "Epoch 3/4\n",
      "250/250 [==============================] - 1812s 7s/step - loss: 0.1595 - accuracy: 0.9513\n",
      "Epoch 4/4\n",
      "250/250 [==============================] - 1831s 7s/step - loss: 0.0469 - accuracy: 0.9900\n"
     ]
    },
    {
     "name": "stderr",
     "output_type": "stream",
     "text": [
      "WARNING:absl:Function `_wrapped_model` contains input name(s) Input-Token, Input-Segment with unsupported characters which will be renamed to input_token, input_segment in the SavedModel.\n",
      "WARNING:absl:<keras_layer_normalization.layer_normalization.LayerNormalization object at 0x7f9235800eb0> has the same name 'LayerNormalization' as a built-in Keras object. Consider renaming <class 'keras_layer_normalization.layer_normalization.LayerNormalization'> to avoid naming conflicts when loading with `tf.keras.models.load_model`. If renaming is not possible, pass the object in the `custom_objects` parameter of the load function.\n",
      "WARNING:absl:<keras_multi_head.multi_head_attention.MultiHeadAttention object at 0x7f924b586130> has the same name 'MultiHeadAttention' as a built-in Keras object. Consider renaming <class 'keras_multi_head.multi_head_attention.MultiHeadAttention'> to avoid naming conflicts when loading with `tf.keras.models.load_model`. If renaming is not possible, pass the object in the `custom_objects` parameter of the load function.\n",
      "WARNING:absl:<keras_layer_normalization.layer_normalization.LayerNormalization object at 0x7f923581df70> has the same name 'LayerNormalization' as a built-in Keras object. Consider renaming <class 'keras_layer_normalization.layer_normalization.LayerNormalization'> to avoid naming conflicts when loading with `tf.keras.models.load_model`. If renaming is not possible, pass the object in the `custom_objects` parameter of the load function.\n",
      "WARNING:absl:<keras_layer_normalization.layer_normalization.LayerNormalization object at 0x7f914697fd60> has the same name 'LayerNormalization' as a built-in Keras object. Consider renaming <class 'keras_layer_normalization.layer_normalization.LayerNormalization'> to avoid naming conflicts when loading with `tf.keras.models.load_model`. If renaming is not possible, pass the object in the `custom_objects` parameter of the load function.\n",
      "WARNING:absl:<keras_multi_head.multi_head_attention.MultiHeadAttention object at 0x7f93959c26a0> has the same name 'MultiHeadAttention' as a built-in Keras object. Consider renaming <class 'keras_multi_head.multi_head_attention.MultiHeadAttention'> to avoid naming conflicts when loading with `tf.keras.models.load_model`. If renaming is not possible, pass the object in the `custom_objects` parameter of the load function.\n",
      "WARNING:absl:<keras_layer_normalization.layer_normalization.LayerNormalization object at 0x7f9145990730> has the same name 'LayerNormalization' as a built-in Keras object. Consider renaming <class 'keras_layer_normalization.layer_normalization.LayerNormalization'> to avoid naming conflicts when loading with `tf.keras.models.load_model`. If renaming is not possible, pass the object in the `custom_objects` parameter of the load function.\n",
      "WARNING:absl:<keras_layer_normalization.layer_normalization.LayerNormalization object at 0x7f924b586850> has the same name 'LayerNormalization' as a built-in Keras object. Consider renaming <class 'keras_layer_normalization.layer_normalization.LayerNormalization'> to avoid naming conflicts when loading with `tf.keras.models.load_model`. If renaming is not possible, pass the object in the `custom_objects` parameter of the load function.\n",
      "WARNING:absl:<keras_multi_head.multi_head_attention.MultiHeadAttention object at 0x7f90b1533220> has the same name 'MultiHeadAttention' as a built-in Keras object. Consider renaming <class 'keras_multi_head.multi_head_attention.MultiHeadAttention'> to avoid naming conflicts when loading with `tf.keras.models.load_model`. If renaming is not possible, pass the object in the `custom_objects` parameter of the load function.\n",
      "WARNING:absl:<keras_layer_normalization.layer_normalization.LayerNormalization object at 0x7f923a4b1f10> has the same name 'LayerNormalization' as a built-in Keras object. Consider renaming <class 'keras_layer_normalization.layer_normalization.LayerNormalization'> to avoid naming conflicts when loading with `tf.keras.models.load_model`. If renaming is not possible, pass the object in the `custom_objects` parameter of the load function.\n",
      "WARNING:absl:<keras_layer_normalization.layer_normalization.LayerNormalization object at 0x7f9240db39d0> has the same name 'LayerNormalization' as a built-in Keras object. Consider renaming <class 'keras_layer_normalization.layer_normalization.LayerNormalization'> to avoid naming conflicts when loading with `tf.keras.models.load_model`. If renaming is not possible, pass the object in the `custom_objects` parameter of the load function.\n",
      "WARNING:absl:<keras_multi_head.multi_head_attention.MultiHeadAttention object at 0x7f93ac2c82e0> has the same name 'MultiHeadAttention' as a built-in Keras object. Consider renaming <class 'keras_multi_head.multi_head_attention.MultiHeadAttention'> to avoid naming conflicts when loading with `tf.keras.models.load_model`. If renaming is not possible, pass the object in the `custom_objects` parameter of the load function.\n",
      "WARNING:absl:<keras_layer_normalization.layer_normalization.LayerNormalization object at 0x7f9143382b20> has the same name 'LayerNormalization' as a built-in Keras object. Consider renaming <class 'keras_layer_normalization.layer_normalization.LayerNormalization'> to avoid naming conflicts when loading with `tf.keras.models.load_model`. If renaming is not possible, pass the object in the `custom_objects` parameter of the load function.\n",
      "WARNING:absl:<keras_layer_normalization.layer_normalization.LayerNormalization object at 0x7f924e67f580> has the same name 'LayerNormalization' as a built-in Keras object. Consider renaming <class 'keras_layer_normalization.layer_normalization.LayerNormalization'> to avoid naming conflicts when loading with `tf.keras.models.load_model`. If renaming is not possible, pass the object in the `custom_objects` parameter of the load function.\n",
      "WARNING:absl:<keras_multi_head.multi_head_attention.MultiHeadAttention object at 0x7f914595f310> has the same name 'MultiHeadAttention' as a built-in Keras object. Consider renaming <class 'keras_multi_head.multi_head_attention.MultiHeadAttention'> to avoid naming conflicts when loading with `tf.keras.models.load_model`. If renaming is not possible, pass the object in the `custom_objects` parameter of the load function.\n",
      "WARNING:absl:<keras_layer_normalization.layer_normalization.LayerNormalization object at 0x7f90a8dab490> has the same name 'LayerNormalization' as a built-in Keras object. Consider renaming <class 'keras_layer_normalization.layer_normalization.LayerNormalization'> to avoid naming conflicts when loading with `tf.keras.models.load_model`. If renaming is not possible, pass the object in the `custom_objects` parameter of the load function.\n",
      "WARNING:absl:<keras_layer_normalization.layer_normalization.LayerNormalization object at 0x7f939c743550> has the same name 'LayerNormalization' as a built-in Keras object. Consider renaming <class 'keras_layer_normalization.layer_normalization.LayerNormalization'> to avoid naming conflicts when loading with `tf.keras.models.load_model`. If renaming is not possible, pass the object in the `custom_objects` parameter of the load function.\n",
      "WARNING:absl:<keras_multi_head.multi_head_attention.MultiHeadAttention object at 0x7f9368629850> has the same name 'MultiHeadAttention' as a built-in Keras object. Consider renaming <class 'keras_multi_head.multi_head_attention.MultiHeadAttention'> to avoid naming conflicts when loading with `tf.keras.models.load_model`. If renaming is not possible, pass the object in the `custom_objects` parameter of the load function.\n",
      "WARNING:absl:<keras_layer_normalization.layer_normalization.LayerNormalization object at 0x7f9145990460> has the same name 'LayerNormalization' as a built-in Keras object. Consider renaming <class 'keras_layer_normalization.layer_normalization.LayerNormalization'> to avoid naming conflicts when loading with `tf.keras.models.load_model`. If renaming is not possible, pass the object in the `custom_objects` parameter of the load function.\n",
      "WARNING:absl:<keras_layer_normalization.layer_normalization.LayerNormalization object at 0x7f924b5b3400> has the same name 'LayerNormalization' as a built-in Keras object. Consider renaming <class 'keras_layer_normalization.layer_normalization.LayerNormalization'> to avoid naming conflicts when loading with `tf.keras.models.load_model`. If renaming is not possible, pass the object in the `custom_objects` parameter of the load function.\n"
     ]
    },
    {
     "name": "stderr",
     "output_type": "stream",
     "text": [
      "WARNING:absl:<keras_multi_head.multi_head_attention.MultiHeadAttention object at 0x7f924a432a00> has the same name 'MultiHeadAttention' as a built-in Keras object. Consider renaming <class 'keras_multi_head.multi_head_attention.MultiHeadAttention'> to avoid naming conflicts when loading with `tf.keras.models.load_model`. If renaming is not possible, pass the object in the `custom_objects` parameter of the load function.\n",
      "WARNING:absl:<keras_layer_normalization.layer_normalization.LayerNormalization object at 0x7f905747f580> has the same name 'LayerNormalization' as a built-in Keras object. Consider renaming <class 'keras_layer_normalization.layer_normalization.LayerNormalization'> to avoid naming conflicts when loading with `tf.keras.models.load_model`. If renaming is not possible, pass the object in the `custom_objects` parameter of the load function.\n",
      "WARNING:absl:<keras_layer_normalization.layer_normalization.LayerNormalization object at 0x7f9222d5bf40> has the same name 'LayerNormalization' as a built-in Keras object. Consider renaming <class 'keras_layer_normalization.layer_normalization.LayerNormalization'> to avoid naming conflicts when loading with `tf.keras.models.load_model`. If renaming is not possible, pass the object in the `custom_objects` parameter of the load function.\n",
      "WARNING:absl:<keras_multi_head.multi_head_attention.MultiHeadAttention object at 0x7f936847f070> has the same name 'MultiHeadAttention' as a built-in Keras object. Consider renaming <class 'keras_multi_head.multi_head_attention.MultiHeadAttention'> to avoid naming conflicts when loading with `tf.keras.models.load_model`. If renaming is not possible, pass the object in the `custom_objects` parameter of the load function.\n",
      "WARNING:absl:<keras_layer_normalization.layer_normalization.LayerNormalization object at 0x7f939d211b80> has the same name 'LayerNormalization' as a built-in Keras object. Consider renaming <class 'keras_layer_normalization.layer_normalization.LayerNormalization'> to avoid naming conflicts when loading with `tf.keras.models.load_model`. If renaming is not possible, pass the object in the `custom_objects` parameter of the load function.\n",
      "WARNING:absl:<keras_layer_normalization.layer_normalization.LayerNormalization object at 0x7f921db011f0> has the same name 'LayerNormalization' as a built-in Keras object. Consider renaming <class 'keras_layer_normalization.layer_normalization.LayerNormalization'> to avoid naming conflicts when loading with `tf.keras.models.load_model`. If renaming is not possible, pass the object in the `custom_objects` parameter of the load function.\n",
      "WARNING:absl:<keras_multi_head.multi_head_attention.MultiHeadAttention object at 0x7f921db01670> has the same name 'MultiHeadAttention' as a built-in Keras object. Consider renaming <class 'keras_multi_head.multi_head_attention.MultiHeadAttention'> to avoid naming conflicts when loading with `tf.keras.models.load_model`. If renaming is not possible, pass the object in the `custom_objects` parameter of the load function.\n",
      "WARNING:absl:<keras_layer_normalization.layer_normalization.LayerNormalization object at 0x7f921d4287c0> has the same name 'LayerNormalization' as a built-in Keras object. Consider renaming <class 'keras_layer_normalization.layer_normalization.LayerNormalization'> to avoid naming conflicts when loading with `tf.keras.models.load_model`. If renaming is not possible, pass the object in the `custom_objects` parameter of the load function.\n",
      "WARNING:absl:<keras_layer_normalization.layer_normalization.LayerNormalization object at 0x7f921d41cac0> has the same name 'LayerNormalization' as a built-in Keras object. Consider renaming <class 'keras_layer_normalization.layer_normalization.LayerNormalization'> to avoid naming conflicts when loading with `tf.keras.models.load_model`. If renaming is not possible, pass the object in the `custom_objects` parameter of the load function.\n",
      "WARNING:absl:<keras_multi_head.multi_head_attention.MultiHeadAttention object at 0x7f924a4156d0> has the same name 'MultiHeadAttention' as a built-in Keras object. Consider renaming <class 'keras_multi_head.multi_head_attention.MultiHeadAttention'> to avoid naming conflicts when loading with `tf.keras.models.load_model`. If renaming is not possible, pass the object in the `custom_objects` parameter of the load function.\n",
      "WARNING:absl:<keras_layer_normalization.layer_normalization.LayerNormalization object at 0x7f914585ec70> has the same name 'LayerNormalization' as a built-in Keras object. Consider renaming <class 'keras_layer_normalization.layer_normalization.LayerNormalization'> to avoid naming conflicts when loading with `tf.keras.models.load_model`. If renaming is not possible, pass the object in the `custom_objects` parameter of the load function.\n",
      "WARNING:absl:<keras_layer_normalization.layer_normalization.LayerNormalization object at 0x7f923a41a1c0> has the same name 'LayerNormalization' as a built-in Keras object. Consider renaming <class 'keras_layer_normalization.layer_normalization.LayerNormalization'> to avoid naming conflicts when loading with `tf.keras.models.load_model`. If renaming is not possible, pass the object in the `custom_objects` parameter of the load function.\n",
      "WARNING:absl:<keras_multi_head.multi_head_attention.MultiHeadAttention object at 0x7f923a4052e0> has the same name 'MultiHeadAttention' as a built-in Keras object. Consider renaming <class 'keras_multi_head.multi_head_attention.MultiHeadAttention'> to avoid naming conflicts when loading with `tf.keras.models.load_model`. If renaming is not possible, pass the object in the `custom_objects` parameter of the load function.\n",
      "WARNING:absl:<keras_layer_normalization.layer_normalization.LayerNormalization object at 0x7f921e3136d0> has the same name 'LayerNormalization' as a built-in Keras object. Consider renaming <class 'keras_layer_normalization.layer_normalization.LayerNormalization'> to avoid naming conflicts when loading with `tf.keras.models.load_model`. If renaming is not possible, pass the object in the `custom_objects` parameter of the load function.\n",
      "WARNING:absl:<keras_layer_normalization.layer_normalization.LayerNormalization object at 0x7f9230741ee0> has the same name 'LayerNormalization' as a built-in Keras object. Consider renaming <class 'keras_layer_normalization.layer_normalization.LayerNormalization'> to avoid naming conflicts when loading with `tf.keras.models.load_model`. If renaming is not possible, pass the object in the `custom_objects` parameter of the load function.\n",
      "WARNING:absl:<keras_multi_head.multi_head_attention.MultiHeadAttention object at 0x7f921e3278b0> has the same name 'MultiHeadAttention' as a built-in Keras object. Consider renaming <class 'keras_multi_head.multi_head_attention.MultiHeadAttention'> to avoid naming conflicts when loading with `tf.keras.models.load_model`. If renaming is not possible, pass the object in the `custom_objects` parameter of the load function.\n",
      "WARNING:absl:<keras_layer_normalization.layer_normalization.LayerNormalization object at 0x7f921e313ee0> has the same name 'LayerNormalization' as a built-in Keras object. Consider renaming <class 'keras_layer_normalization.layer_normalization.LayerNormalization'> to avoid naming conflicts when loading with `tf.keras.models.load_model`. If renaming is not possible, pass the object in the `custom_objects` parameter of the load function.\n",
      "WARNING:absl:<keras_layer_normalization.layer_normalization.LayerNormalization object at 0x7f9368b0c5e0> has the same name 'LayerNormalization' as a built-in Keras object. Consider renaming <class 'keras_layer_normalization.layer_normalization.LayerNormalization'> to avoid naming conflicts when loading with `tf.keras.models.load_model`. If renaming is not possible, pass the object in the `custom_objects` parameter of the load function.\n",
      "[INFO][2023-06-02 17:57:27 - Mod: functions - Func: load_bert - Line: 997]: Fitted BERT model on dataset dmoz_science.\n",
      "INFO:log_functions:Fitted BERT model on dataset dmoz_science.\n"
     ]
    },
    {
     "name": "stdout",
     "output_type": "stream",
     "text": [
      "32/32 [==============================] - 372s 12s/step\n",
      "              precision    recall  f1-score   support\n",
      "\n",
      "     Science       0.96      0.95      0.96       200\n",
      " Environment       0.84      0.91      0.87       200\n",
      "   Chemistry       0.92      0.89      0.90       200\n",
      " Instruments       0.91      0.87      0.89       200\n",
      "       Earth       0.93      0.93      0.93       200\n",
      "\n",
      "    accuracy                           0.91      1000\n",
      "   macro avg       0.91      0.91      0.91      1000\n",
      "weighted avg       0.91      0.91      0.91      1000\n",
      "\n"
     ]
    },
    {
     "data": {
      "text/plain": [
       "array([[191,   2,   4,   2,   1],\n",
       "       [  1, 182,   1,   5,  11],\n",
       "       [  5,   8, 178,   9,   0],\n",
       "       [  0,  14,  10, 174,   2],\n",
       "       [  2,  10,   1,   1, 186]])"
      ]
     },
     "execution_count": 11,
     "metadata": {},
     "output_type": "execute_result"
    }
   ],
   "source": [
    "load_bert(database_name='dmoz_science')"
   ]
  },
  {
   "cell_type": "code",
   "execution_count": 12,
   "id": "0b7b3ad1",
   "metadata": {},
   "outputs": [
    {
     "name": "stderr",
     "output_type": "stream",
     "text": [
      "[INFO][2023-06-02 18:03:39 - Mod: functions - Func: load_data - Line: 600]: Loaded data for dmoz_sports. 5 classes: ['Wrestling', 'Cycling', 'Golf', 'Paintball', 'Running']. Number of documents: 2500.\n",
      "INFO:log_functions:Loaded data for dmoz_sports. 5 classes: ['Wrestling', 'Cycling', 'Golf', 'Paintball', 'Running']. Number of documents: 2500.\n"
     ]
    },
    {
     "name": "stdout",
     "output_type": "stream",
     "text": [
      "preprocessing train...\n",
      "language: en\n"
     ]
    },
    {
     "data": {
      "text/html": [
       "\n",
       "<style>\n",
       "    /* Turns off some styling */\n",
       "    progress {\n",
       "        /* gets rid of default border in Firefox and Opera. */\n",
       "        border: none;\n",
       "        /* Needs to be in here for Safari polyfill so background images work as expected. */\n",
       "        background-size: auto;\n",
       "    }\n",
       "    progress:not([value]), progress:not([value])::-webkit-progress-bar {\n",
       "        background: repeating-linear-gradient(45deg, #7e7e7e, #7e7e7e 10px, #5c5c5c 10px, #5c5c5c 20px);\n",
       "    }\n",
       "    .progress-bar-interrupted, .progress-bar-interrupted::-webkit-progress-bar {\n",
       "        background: #F44336;\n",
       "    }\n",
       "</style>\n"
      ],
      "text/plain": [
       "<IPython.core.display.HTML object>"
      ]
     },
     "metadata": {},
     "output_type": "display_data"
    },
    {
     "data": {
      "text/html": [
       "done."
      ],
      "text/plain": [
       "<IPython.core.display.HTML object>"
      ]
     },
     "metadata": {},
     "output_type": "display_data"
    },
    {
     "name": "stdout",
     "output_type": "stream",
     "text": [
      "Is Multi-Label? False\n",
      "preprocessing test...\n",
      "language: en\n"
     ]
    },
    {
     "data": {
      "text/html": [
       "\n",
       "<style>\n",
       "    /* Turns off some styling */\n",
       "    progress {\n",
       "        /* gets rid of default border in Firefox and Opera. */\n",
       "        border: none;\n",
       "        /* Needs to be in here for Safari polyfill so background images work as expected. */\n",
       "        background-size: auto;\n",
       "    }\n",
       "    progress:not([value]), progress:not([value])::-webkit-progress-bar {\n",
       "        background: repeating-linear-gradient(45deg, #7e7e7e, #7e7e7e 10px, #5c5c5c 10px, #5c5c5c 20px);\n",
       "    }\n",
       "    .progress-bar-interrupted, .progress-bar-interrupted::-webkit-progress-bar {\n",
       "        background: #F44336;\n",
       "    }\n",
       "</style>\n"
      ],
      "text/plain": [
       "<IPython.core.display.HTML object>"
      ]
     },
     "metadata": {},
     "output_type": "display_data"
    },
    {
     "data": {
      "text/html": [
       "done."
      ],
      "text/plain": [
       "<IPython.core.display.HTML object>"
      ]
     },
     "metadata": {},
     "output_type": "display_data"
    },
    {
     "name": "stdout",
     "output_type": "stream",
     "text": [
      "task: text classification\n",
      "Is Multi-Label? False\n",
      "maxlen is 350\n",
      "done.\n",
      "\n",
      "\n",
      "begin training using onecycle policy with max lr of 2e-05...\n",
      "Epoch 1/4\n",
      "250/250 [==============================] - 1817s 7s/step - loss: 0.7930 - accuracy: 0.7380\n",
      "Epoch 2/4\n",
      "250/250 [==============================] - 1816s 7s/step - loss: 0.0997 - accuracy: 0.9733\n",
      "Epoch 3/4\n",
      "250/250 [==============================] - 1811s 7s/step - loss: 0.0379 - accuracy: 0.9893\n",
      "Epoch 4/4\n",
      "250/250 [==============================] - 1811s 7s/step - loss: 0.0121 - accuracy: 0.9980\n"
     ]
    },
    {
     "name": "stderr",
     "output_type": "stream",
     "text": [
      "WARNING:absl:Function `_wrapped_model` contains input name(s) Input-Token, Input-Segment with unsupported characters which will be renamed to input_token, input_segment in the SavedModel.\n",
      "WARNING:absl:<keras_layer_normalization.layer_normalization.LayerNormalization object at 0x7f93ab4b31f0> has the same name 'LayerNormalization' as a built-in Keras object. Consider renaming <class 'keras_layer_normalization.layer_normalization.LayerNormalization'> to avoid naming conflicts when loading with `tf.keras.models.load_model`. If renaming is not possible, pass the object in the `custom_objects` parameter of the load function.\n",
      "WARNING:absl:<keras_multi_head.multi_head_attention.MultiHeadAttention object at 0x7f921ce4ca30> has the same name 'MultiHeadAttention' as a built-in Keras object. Consider renaming <class 'keras_multi_head.multi_head_attention.MultiHeadAttention'> to avoid naming conflicts when loading with `tf.keras.models.load_model`. If renaming is not possible, pass the object in the `custom_objects` parameter of the load function.\n",
      "WARNING:absl:<keras_layer_normalization.layer_normalization.LayerNormalization object at 0x7f9215983c40> has the same name 'LayerNormalization' as a built-in Keras object. Consider renaming <class 'keras_layer_normalization.layer_normalization.LayerNormalization'> to avoid naming conflicts when loading with `tf.keras.models.load_model`. If renaming is not possible, pass the object in the `custom_objects` parameter of the load function.\n",
      "WARNING:absl:<keras_layer_normalization.layer_normalization.LayerNormalization object at 0x7f939e417640> has the same name 'LayerNormalization' as a built-in Keras object. Consider renaming <class 'keras_layer_normalization.layer_normalization.LayerNormalization'> to avoid naming conflicts when loading with `tf.keras.models.load_model`. If renaming is not possible, pass the object in the `custom_objects` parameter of the load function.\n",
      "WARNING:absl:<keras_multi_head.multi_head_attention.MultiHeadAttention object at 0x7f921a63efa0> has the same name 'MultiHeadAttention' as a built-in Keras object. Consider renaming <class 'keras_multi_head.multi_head_attention.MultiHeadAttention'> to avoid naming conflicts when loading with `tf.keras.models.load_model`. If renaming is not possible, pass the object in the `custom_objects` parameter of the load function.\n",
      "WARNING:absl:<keras_layer_normalization.layer_normalization.LayerNormalization object at 0x7f936831c8b0> has the same name 'LayerNormalization' as a built-in Keras object. Consider renaming <class 'keras_layer_normalization.layer_normalization.LayerNormalization'> to avoid naming conflicts when loading with `tf.keras.models.load_model`. If renaming is not possible, pass the object in the `custom_objects` parameter of the load function.\n",
      "WARNING:absl:<keras_layer_normalization.layer_normalization.LayerNormalization object at 0x7f9249ef03a0> has the same name 'LayerNormalization' as a built-in Keras object. Consider renaming <class 'keras_layer_normalization.layer_normalization.LayerNormalization'> to avoid naming conflicts when loading with `tf.keras.models.load_model`. If renaming is not possible, pass the object in the `custom_objects` parameter of the load function.\n",
      "WARNING:absl:<keras_multi_head.multi_head_attention.MultiHeadAttention object at 0x7f939d33efd0> has the same name 'MultiHeadAttention' as a built-in Keras object. Consider renaming <class 'keras_multi_head.multi_head_attention.MultiHeadAttention'> to avoid naming conflicts when loading with `tf.keras.models.load_model`. If renaming is not possible, pass the object in the `custom_objects` parameter of the load function.\n",
      "WARNING:absl:<keras_layer_normalization.layer_normalization.LayerNormalization object at 0x7f939d33eca0> has the same name 'LayerNormalization' as a built-in Keras object. Consider renaming <class 'keras_layer_normalization.layer_normalization.LayerNormalization'> to avoid naming conflicts when loading with `tf.keras.models.load_model`. If renaming is not possible, pass the object in the `custom_objects` parameter of the load function.\n",
      "WARNING:absl:<keras_layer_normalization.layer_normalization.LayerNormalization object at 0x7f914361c0d0> has the same name 'LayerNormalization' as a built-in Keras object. Consider renaming <class 'keras_layer_normalization.layer_normalization.LayerNormalization'> to avoid naming conflicts when loading with `tf.keras.models.load_model`. If renaming is not possible, pass the object in the `custom_objects` parameter of the load function.\n",
      "WARNING:absl:<keras_multi_head.multi_head_attention.MultiHeadAttention object at 0x7f905707f220> has the same name 'MultiHeadAttention' as a built-in Keras object. Consider renaming <class 'keras_multi_head.multi_head_attention.MultiHeadAttention'> to avoid naming conflicts when loading with `tf.keras.models.load_model`. If renaming is not possible, pass the object in the `custom_objects` parameter of the load function.\n",
      "WARNING:absl:<keras_layer_normalization.layer_normalization.LayerNormalization object at 0x7f905de66370> has the same name 'LayerNormalization' as a built-in Keras object. Consider renaming <class 'keras_layer_normalization.layer_normalization.LayerNormalization'> to avoid naming conflicts when loading with `tf.keras.models.load_model`. If renaming is not possible, pass the object in the `custom_objects` parameter of the load function.\n",
      "WARNING:absl:<keras_layer_normalization.layer_normalization.LayerNormalization object at 0x7f924b352070> has the same name 'LayerNormalization' as a built-in Keras object. Consider renaming <class 'keras_layer_normalization.layer_normalization.LayerNormalization'> to avoid naming conflicts when loading with `tf.keras.models.load_model`. If renaming is not possible, pass the object in the `custom_objects` parameter of the load function.\n",
      "WARNING:absl:<keras_multi_head.multi_head_attention.MultiHeadAttention object at 0x7f9143c2bd30> has the same name 'MultiHeadAttention' as a built-in Keras object. Consider renaming <class 'keras_multi_head.multi_head_attention.MultiHeadAttention'> to avoid naming conflicts when loading with `tf.keras.models.load_model`. If renaming is not possible, pass the object in the `custom_objects` parameter of the load function.\n",
      "WARNING:absl:<keras_layer_normalization.layer_normalization.LayerNormalization object at 0x7f924c02a880> has the same name 'LayerNormalization' as a built-in Keras object. Consider renaming <class 'keras_layer_normalization.layer_normalization.LayerNormalization'> to avoid naming conflicts when loading with `tf.keras.models.load_model`. If renaming is not possible, pass the object in the `custom_objects` parameter of the load function.\n",
      "WARNING:absl:<keras_layer_normalization.layer_normalization.LayerNormalization object at 0x7f914361c310> has the same name 'LayerNormalization' as a built-in Keras object. Consider renaming <class 'keras_layer_normalization.layer_normalization.LayerNormalization'> to avoid naming conflicts when loading with `tf.keras.models.load_model`. If renaming is not possible, pass the object in the `custom_objects` parameter of the load function.\n",
      "WARNING:absl:<keras_multi_head.multi_head_attention.MultiHeadAttention object at 0x7f924c01c730> has the same name 'MultiHeadAttention' as a built-in Keras object. Consider renaming <class 'keras_multi_head.multi_head_attention.MultiHeadAttention'> to avoid naming conflicts when loading with `tf.keras.models.load_model`. If renaming is not possible, pass the object in the `custom_objects` parameter of the load function.\n",
      "WARNING:absl:<keras_layer_normalization.layer_normalization.LayerNormalization object at 0x7f924a4c5490> has the same name 'LayerNormalization' as a built-in Keras object. Consider renaming <class 'keras_layer_normalization.layer_normalization.LayerNormalization'> to avoid naming conflicts when loading with `tf.keras.models.load_model`. If renaming is not possible, pass the object in the `custom_objects` parameter of the load function.\n",
      "WARNING:absl:<keras_layer_normalization.layer_normalization.LayerNormalization object at 0x7f9222d94e80> has the same name 'LayerNormalization' as a built-in Keras object. Consider renaming <class 'keras_layer_normalization.layer_normalization.LayerNormalization'> to avoid naming conflicts when loading with `tf.keras.models.load_model`. If renaming is not possible, pass the object in the `custom_objects` parameter of the load function.\n"
     ]
    },
    {
     "name": "stderr",
     "output_type": "stream",
     "text": [
      "WARNING:absl:<keras_multi_head.multi_head_attention.MultiHeadAttention object at 0x7f9249ce8d60> has the same name 'MultiHeadAttention' as a built-in Keras object. Consider renaming <class 'keras_multi_head.multi_head_attention.MultiHeadAttention'> to avoid naming conflicts when loading with `tf.keras.models.load_model`. If renaming is not possible, pass the object in the `custom_objects` parameter of the load function.\n",
      "WARNING:absl:<keras_layer_normalization.layer_normalization.LayerNormalization object at 0x7f93ab50d790> has the same name 'LayerNormalization' as a built-in Keras object. Consider renaming <class 'keras_layer_normalization.layer_normalization.LayerNormalization'> to avoid naming conflicts when loading with `tf.keras.models.load_model`. If renaming is not possible, pass the object in the `custom_objects` parameter of the load function.\n",
      "WARNING:absl:<keras_layer_normalization.layer_normalization.LayerNormalization object at 0x7f92423629a0> has the same name 'LayerNormalization' as a built-in Keras object. Consider renaming <class 'keras_layer_normalization.layer_normalization.LayerNormalization'> to avoid naming conflicts when loading with `tf.keras.models.load_model`. If renaming is not possible, pass the object in the `custom_objects` parameter of the load function.\n",
      "WARNING:absl:<keras_multi_head.multi_head_attention.MultiHeadAttention object at 0x7f924a4031c0> has the same name 'MultiHeadAttention' as a built-in Keras object. Consider renaming <class 'keras_multi_head.multi_head_attention.MultiHeadAttention'> to avoid naming conflicts when loading with `tf.keras.models.load_model`. If renaming is not possible, pass the object in the `custom_objects` parameter of the load function.\n",
      "WARNING:absl:<keras_layer_normalization.layer_normalization.LayerNormalization object at 0x7f921e3ffd30> has the same name 'LayerNormalization' as a built-in Keras object. Consider renaming <class 'keras_layer_normalization.layer_normalization.LayerNormalization'> to avoid naming conflicts when loading with `tf.keras.models.load_model`. If renaming is not possible, pass the object in the `custom_objects` parameter of the load function.\n",
      "WARNING:absl:<keras_layer_normalization.layer_normalization.LayerNormalization object at 0x7f93989f24c0> has the same name 'LayerNormalization' as a built-in Keras object. Consider renaming <class 'keras_layer_normalization.layer_normalization.LayerNormalization'> to avoid naming conflicts when loading with `tf.keras.models.load_model`. If renaming is not possible, pass the object in the `custom_objects` parameter of the load function.\n",
      "WARNING:absl:<keras_multi_head.multi_head_attention.MultiHeadAttention object at 0x7f92355b74c0> has the same name 'MultiHeadAttention' as a built-in Keras object. Consider renaming <class 'keras_multi_head.multi_head_attention.MultiHeadAttention'> to avoid naming conflicts when loading with `tf.keras.models.load_model`. If renaming is not possible, pass the object in the `custom_objects` parameter of the load function.\n",
      "WARNING:absl:<keras_layer_normalization.layer_normalization.LayerNormalization object at 0x7f905de4abe0> has the same name 'LayerNormalization' as a built-in Keras object. Consider renaming <class 'keras_layer_normalization.layer_normalization.LayerNormalization'> to avoid naming conflicts when loading with `tf.keras.models.load_model`. If renaming is not possible, pass the object in the `custom_objects` parameter of the load function.\n",
      "WARNING:absl:<keras_layer_normalization.layer_normalization.LayerNormalization object at 0x7f9369445b20> has the same name 'LayerNormalization' as a built-in Keras object. Consider renaming <class 'keras_layer_normalization.layer_normalization.LayerNormalization'> to avoid naming conflicts when loading with `tf.keras.models.load_model`. If renaming is not possible, pass the object in the `custom_objects` parameter of the load function.\n",
      "WARNING:absl:<keras_multi_head.multi_head_attention.MultiHeadAttention object at 0x7f9397604070> has the same name 'MultiHeadAttention' as a built-in Keras object. Consider renaming <class 'keras_multi_head.multi_head_attention.MultiHeadAttention'> to avoid naming conflicts when loading with `tf.keras.models.load_model`. If renaming is not possible, pass the object in the `custom_objects` parameter of the load function.\n",
      "WARNING:absl:<keras_layer_normalization.layer_normalization.LayerNormalization object at 0x7f921a611fd0> has the same name 'LayerNormalization' as a built-in Keras object. Consider renaming <class 'keras_layer_normalization.layer_normalization.LayerNormalization'> to avoid naming conflicts when loading with `tf.keras.models.load_model`. If renaming is not possible, pass the object in the `custom_objects` parameter of the load function.\n",
      "WARNING:absl:<keras_layer_normalization.layer_normalization.LayerNormalization object at 0x7f939c285790> has the same name 'LayerNormalization' as a built-in Keras object. Consider renaming <class 'keras_layer_normalization.layer_normalization.LayerNormalization'> to avoid naming conflicts when loading with `tf.keras.models.load_model`. If renaming is not possible, pass the object in the `custom_objects` parameter of the load function.\n",
      "WARNING:absl:<keras_multi_head.multi_head_attention.MultiHeadAttention object at 0x7f924e3125b0> has the same name 'MultiHeadAttention' as a built-in Keras object. Consider renaming <class 'keras_multi_head.multi_head_attention.MultiHeadAttention'> to avoid naming conflicts when loading with `tf.keras.models.load_model`. If renaming is not possible, pass the object in the `custom_objects` parameter of the load function.\n",
      "WARNING:absl:<keras_layer_normalization.layer_normalization.LayerNormalization object at 0x7f939c2364f0> has the same name 'LayerNormalization' as a built-in Keras object. Consider renaming <class 'keras_layer_normalization.layer_normalization.LayerNormalization'> to avoid naming conflicts when loading with `tf.keras.models.load_model`. If renaming is not possible, pass the object in the `custom_objects` parameter of the load function.\n",
      "WARNING:absl:<keras_layer_normalization.layer_normalization.LayerNormalization object at 0x7f93c4bdd2b0> has the same name 'LayerNormalization' as a built-in Keras object. Consider renaming <class 'keras_layer_normalization.layer_normalization.LayerNormalization'> to avoid naming conflicts when loading with `tf.keras.models.load_model`. If renaming is not possible, pass the object in the `custom_objects` parameter of the load function.\n",
      "WARNING:absl:<keras_multi_head.multi_head_attention.MultiHeadAttention object at 0x7f9221750c70> has the same name 'MultiHeadAttention' as a built-in Keras object. Consider renaming <class 'keras_multi_head.multi_head_attention.MultiHeadAttention'> to avoid naming conflicts when loading with `tf.keras.models.load_model`. If renaming is not possible, pass the object in the `custom_objects` parameter of the load function.\n",
      "WARNING:absl:<keras_layer_normalization.layer_normalization.LayerNormalization object at 0x7f9237f2e7c0> has the same name 'LayerNormalization' as a built-in Keras object. Consider renaming <class 'keras_layer_normalization.layer_normalization.LayerNormalization'> to avoid naming conflicts when loading with `tf.keras.models.load_model`. If renaming is not possible, pass the object in the `custom_objects` parameter of the load function.\n",
      "WARNING:absl:<keras_layer_normalization.layer_normalization.LayerNormalization object at 0x7f939e438b80> has the same name 'LayerNormalization' as a built-in Keras object. Consider renaming <class 'keras_layer_normalization.layer_normalization.LayerNormalization'> to avoid naming conflicts when loading with `tf.keras.models.load_model`. If renaming is not possible, pass the object in the `custom_objects` parameter of the load function.\n",
      "[INFO][2023-06-02 20:05:09 - Mod: functions - Func: load_bert - Line: 997]: Fitted BERT model on dataset dmoz_sports.\n",
      "INFO:log_functions:Fitted BERT model on dataset dmoz_sports.\n"
     ]
    },
    {
     "name": "stdout",
     "output_type": "stream",
     "text": [
      "32/32 [==============================] - 371s 12s/step\n",
      "              precision    recall  f1-score   support\n",
      "\n",
      "   Wrestling       0.97      0.99      0.98       200\n",
      "     Cycling       0.96      0.97      0.97       200\n",
      "        Golf       1.00      0.98      0.99       200\n",
      "   Paintball       0.98      0.96      0.97       200\n",
      "     Running       0.98      0.98      0.98       200\n",
      "\n",
      "    accuracy                           0.98      1000\n",
      "   macro avg       0.98      0.98      0.98      1000\n",
      "weighted avg       0.98      0.98      0.98      1000\n",
      "\n"
     ]
    },
    {
     "data": {
      "text/plain": [
       "array([[198,   1,   0,   0,   1],\n",
       "       [  2, 195,   0,   1,   2],\n",
       "       [  0,   1, 197,   2,   0],\n",
       "       [  5,   2,   0, 193,   0],\n",
       "       [  0,   4,   0,   0, 196]])"
      ]
     },
     "execution_count": 12,
     "metadata": {},
     "output_type": "execute_result"
    }
   ],
   "source": [
    "load_bert(database_name='dmoz_sports')"
   ]
  },
  {
   "cell_type": "code",
   "execution_count": 3,
   "id": "25856de0",
   "metadata": {},
   "outputs": [
    {
     "name": "stderr",
     "output_type": "stream",
     "text": [
      "[INFO][2023-06-01 11:07:58 - Mod: functions - Func: load_data - Line: 600]: Loaded data for re8. 8 classes: ['earn', 'acq', 'crude', 'trade', 'interest', 'ship', 'money', 'grain']. Number of documents: 7674.\n",
      "INFO:log_functions:Loaded data for re8. 8 classes: ['earn', 'acq', 'crude', 'trade', 'interest', 'ship', 'money', 'grain']. Number of documents: 7674.\n"
     ]
    },
    {
     "name": "stdout",
     "output_type": "stream",
     "text": [
      "preprocessing train...\n",
      "language: en\n"
     ]
    },
    {
     "data": {
      "text/html": [
       "\n",
       "<style>\n",
       "    /* Turns off some styling */\n",
       "    progress {\n",
       "        /* gets rid of default border in Firefox and Opera. */\n",
       "        border: none;\n",
       "        /* Needs to be in here for Safari polyfill so background images work as expected. */\n",
       "        background-size: auto;\n",
       "    }\n",
       "    progress:not([value]), progress:not([value])::-webkit-progress-bar {\n",
       "        background: repeating-linear-gradient(45deg, #7e7e7e, #7e7e7e 10px, #5c5c5c 10px, #5c5c5c 20px);\n",
       "    }\n",
       "    .progress-bar-interrupted, .progress-bar-interrupted::-webkit-progress-bar {\n",
       "        background: #F44336;\n",
       "    }\n",
       "</style>\n"
      ],
      "text/plain": [
       "<IPython.core.display.HTML object>"
      ]
     },
     "metadata": {},
     "output_type": "display_data"
    },
    {
     "data": {
      "text/html": [
       "done."
      ],
      "text/plain": [
       "<IPython.core.display.HTML object>"
      ]
     },
     "metadata": {},
     "output_type": "display_data"
    },
    {
     "name": "stdout",
     "output_type": "stream",
     "text": [
      "Is Multi-Label? False\n",
      "preprocessing test...\n",
      "language: en\n"
     ]
    },
    {
     "data": {
      "text/html": [
       "\n",
       "<style>\n",
       "    /* Turns off some styling */\n",
       "    progress {\n",
       "        /* gets rid of default border in Firefox and Opera. */\n",
       "        border: none;\n",
       "        /* Needs to be in here for Safari polyfill so background images work as expected. */\n",
       "        background-size: auto;\n",
       "    }\n",
       "    progress:not([value]), progress:not([value])::-webkit-progress-bar {\n",
       "        background: repeating-linear-gradient(45deg, #7e7e7e, #7e7e7e 10px, #5c5c5c 10px, #5c5c5c 20px);\n",
       "    }\n",
       "    .progress-bar-interrupted, .progress-bar-interrupted::-webkit-progress-bar {\n",
       "        background: #F44336;\n",
       "    }\n",
       "</style>\n"
      ],
      "text/plain": [
       "<IPython.core.display.HTML object>"
      ]
     },
     "metadata": {},
     "output_type": "display_data"
    },
    {
     "data": {
      "text/html": [
       "done."
      ],
      "text/plain": [
       "<IPython.core.display.HTML object>"
      ]
     },
     "metadata": {},
     "output_type": "display_data"
    },
    {
     "name": "stdout",
     "output_type": "stream",
     "text": [
      "task: text classification\n",
      "Is Multi-Label? False\n",
      "maxlen is 350\n",
      "done.\n",
      "\n",
      "\n",
      "begin training using onecycle policy with max lr of 2e-05...\n",
      "Epoch 1/4\n",
      "768/768 [==============================] - 5604s 7s/step - loss: 0.5427 - accuracy: 0.8260\n",
      "Epoch 2/4\n",
      "768/768 [==============================] - 5667s 7s/step - loss: 0.0965 - accuracy: 0.9733\n",
      "Epoch 3/4\n",
      "768/768 [==============================] - 6036s 8s/step - loss: 0.0393 - accuracy: 0.9878\n",
      "Epoch 4/4\n",
      "768/768 [==============================] - 6271s 8s/step - loss: 0.0141 - accuracy: 0.9959\n"
     ]
    },
    {
     "name": "stderr",
     "output_type": "stream",
     "text": [
      "WARNING:absl:Function `_wrapped_model` contains input name(s) Input-Token, Input-Segment with unsupported characters which will be renamed to input_token, input_segment in the SavedModel.\n",
      "WARNING:absl:<keras_layer_normalization.layer_normalization.LayerNormalization object at 0x7f93b5673c10> has the same name 'LayerNormalization' as a built-in Keras object. Consider renaming <class 'keras_layer_normalization.layer_normalization.LayerNormalization'> to avoid naming conflicts when loading with `tf.keras.models.load_model`. If renaming is not possible, pass the object in the `custom_objects` parameter of the load function.\n",
      "WARNING:absl:<keras_multi_head.multi_head_attention.MultiHeadAttention object at 0x7f9249ebae80> has the same name 'MultiHeadAttention' as a built-in Keras object. Consider renaming <class 'keras_multi_head.multi_head_attention.MultiHeadAttention'> to avoid naming conflicts when loading with `tf.keras.models.load_model`. If renaming is not possible, pass the object in the `custom_objects` parameter of the load function.\n",
      "WARNING:absl:<keras_layer_normalization.layer_normalization.LayerNormalization object at 0x7f92391fc970> has the same name 'LayerNormalization' as a built-in Keras object. Consider renaming <class 'keras_layer_normalization.layer_normalization.LayerNormalization'> to avoid naming conflicts when loading with `tf.keras.models.load_model`. If renaming is not possible, pass the object in the `custom_objects` parameter of the load function.\n",
      "WARNING:absl:<keras_layer_normalization.layer_normalization.LayerNormalization object at 0x7f9239408160> has the same name 'LayerNormalization' as a built-in Keras object. Consider renaming <class 'keras_layer_normalization.layer_normalization.LayerNormalization'> to avoid naming conflicts when loading with `tf.keras.models.load_model`. If renaming is not possible, pass the object in the `custom_objects` parameter of the load function.\n",
      "WARNING:absl:<keras_multi_head.multi_head_attention.MultiHeadAttention object at 0x7f92394218e0> has the same name 'MultiHeadAttention' as a built-in Keras object. Consider renaming <class 'keras_multi_head.multi_head_attention.MultiHeadAttention'> to avoid naming conflicts when loading with `tf.keras.models.load_model`. If renaming is not possible, pass the object in the `custom_objects` parameter of the load function.\n",
      "WARNING:absl:<keras_layer_normalization.layer_normalization.LayerNormalization object at 0x7f93692abac0> has the same name 'LayerNormalization' as a built-in Keras object. Consider renaming <class 'keras_layer_normalization.layer_normalization.LayerNormalization'> to avoid naming conflicts when loading with `tf.keras.models.load_model`. If renaming is not possible, pass the object in the `custom_objects` parameter of the load function.\n",
      "WARNING:absl:<keras_layer_normalization.layer_normalization.LayerNormalization object at 0x7f9239493400> has the same name 'LayerNormalization' as a built-in Keras object. Consider renaming <class 'keras_layer_normalization.layer_normalization.LayerNormalization'> to avoid naming conflicts when loading with `tf.keras.models.load_model`. If renaming is not possible, pass the object in the `custom_objects` parameter of the load function.\n",
      "WARNING:absl:<keras_multi_head.multi_head_attention.MultiHeadAttention object at 0x7f92394abeb0> has the same name 'MultiHeadAttention' as a built-in Keras object. Consider renaming <class 'keras_multi_head.multi_head_attention.MultiHeadAttention'> to avoid naming conflicts when loading with `tf.keras.models.load_model`. If renaming is not possible, pass the object in the `custom_objects` parameter of the load function.\n",
      "WARNING:absl:<keras_layer_normalization.layer_normalization.LayerNormalization object at 0x7f92394ab340> has the same name 'LayerNormalization' as a built-in Keras object. Consider renaming <class 'keras_layer_normalization.layer_normalization.LayerNormalization'> to avoid naming conflicts when loading with `tf.keras.models.load_model`. If renaming is not possible, pass the object in the `custom_objects` parameter of the load function.\n",
      "WARNING:absl:<keras_layer_normalization.layer_normalization.LayerNormalization object at 0x7f936924ad00> has the same name 'LayerNormalization' as a built-in Keras object. Consider renaming <class 'keras_layer_normalization.layer_normalization.LayerNormalization'> to avoid naming conflicts when loading with `tf.keras.models.load_model`. If renaming is not possible, pass the object in the `custom_objects` parameter of the load function.\n",
      "WARNING:absl:<keras_multi_head.multi_head_attention.MultiHeadAttention object at 0x7f92357e78e0> has the same name 'MultiHeadAttention' as a built-in Keras object. Consider renaming <class 'keras_multi_head.multi_head_attention.MultiHeadAttention'> to avoid naming conflicts when loading with `tf.keras.models.load_model`. If renaming is not possible, pass the object in the `custom_objects` parameter of the load function.\n",
      "WARNING:absl:<keras_layer_normalization.layer_normalization.LayerNormalization object at 0x7f9216d411c0> has the same name 'LayerNormalization' as a built-in Keras object. Consider renaming <class 'keras_layer_normalization.layer_normalization.LayerNormalization'> to avoid naming conflicts when loading with `tf.keras.models.load_model`. If renaming is not possible, pass the object in the `custom_objects` parameter of the load function.\n",
      "WARNING:absl:<keras_layer_normalization.layer_normalization.LayerNormalization object at 0x7f9249cdb610> has the same name 'LayerNormalization' as a built-in Keras object. Consider renaming <class 'keras_layer_normalization.layer_normalization.LayerNormalization'> to avoid naming conflicts when loading with `tf.keras.models.load_model`. If renaming is not possible, pass the object in the `custom_objects` parameter of the load function.\n",
      "WARNING:absl:<keras_multi_head.multi_head_attention.MultiHeadAttention object at 0x7f92499d1310> has the same name 'MultiHeadAttention' as a built-in Keras object. Consider renaming <class 'keras_multi_head.multi_head_attention.MultiHeadAttention'> to avoid naming conflicts when loading with `tf.keras.models.load_model`. If renaming is not possible, pass the object in the `custom_objects` parameter of the load function.\n",
      "WARNING:absl:<keras_layer_normalization.layer_normalization.LayerNormalization object at 0x7f9249cdbd90> has the same name 'LayerNormalization' as a built-in Keras object. Consider renaming <class 'keras_layer_normalization.layer_normalization.LayerNormalization'> to avoid naming conflicts when loading with `tf.keras.models.load_model`. If renaming is not possible, pass the object in the `custom_objects` parameter of the load function.\n",
      "WARNING:absl:<keras_layer_normalization.layer_normalization.LayerNormalization object at 0x7f9249e77af0> has the same name 'LayerNormalization' as a built-in Keras object. Consider renaming <class 'keras_layer_normalization.layer_normalization.LayerNormalization'> to avoid naming conflicts when loading with `tf.keras.models.load_model`. If renaming is not possible, pass the object in the `custom_objects` parameter of the load function.\n",
      "WARNING:absl:<keras_multi_head.multi_head_attention.MultiHeadAttention object at 0x7f9249eba610> has the same name 'MultiHeadAttention' as a built-in Keras object. Consider renaming <class 'keras_multi_head.multi_head_attention.MultiHeadAttention'> to avoid naming conflicts when loading with `tf.keras.models.load_model`. If renaming is not possible, pass the object in the `custom_objects` parameter of the load function.\n",
      "WARNING:absl:<keras_layer_normalization.layer_normalization.LayerNormalization object at 0x7f9249c52610> has the same name 'LayerNormalization' as a built-in Keras object. Consider renaming <class 'keras_layer_normalization.layer_normalization.LayerNormalization'> to avoid naming conflicts when loading with `tf.keras.models.load_model`. If renaming is not possible, pass the object in the `custom_objects` parameter of the load function.\n",
      "WARNING:absl:<keras_layer_normalization.layer_normalization.LayerNormalization object at 0x7f923963fcd0> has the same name 'LayerNormalization' as a built-in Keras object. Consider renaming <class 'keras_layer_normalization.layer_normalization.LayerNormalization'> to avoid naming conflicts when loading with `tf.keras.models.load_model`. If renaming is not possible, pass the object in the `custom_objects` parameter of the load function.\n"
     ]
    },
    {
     "name": "stderr",
     "output_type": "stream",
     "text": [
      "WARNING:absl:<keras_multi_head.multi_head_attention.MultiHeadAttention object at 0x7f923961f670> has the same name 'MultiHeadAttention' as a built-in Keras object. Consider renaming <class 'keras_multi_head.multi_head_attention.MultiHeadAttention'> to avoid naming conflicts when loading with `tf.keras.models.load_model`. If renaming is not possible, pass the object in the `custom_objects` parameter of the load function.\n",
      "WARNING:absl:<keras_layer_normalization.layer_normalization.LayerNormalization object at 0x7f92499214c0> has the same name 'LayerNormalization' as a built-in Keras object. Consider renaming <class 'keras_layer_normalization.layer_normalization.LayerNormalization'> to avoid naming conflicts when loading with `tf.keras.models.load_model`. If renaming is not possible, pass the object in the `custom_objects` parameter of the load function.\n",
      "WARNING:absl:<keras_layer_normalization.layer_normalization.LayerNormalization object at 0x7f92394b9f70> has the same name 'LayerNormalization' as a built-in Keras object. Consider renaming <class 'keras_layer_normalization.layer_normalization.LayerNormalization'> to avoid naming conflicts when loading with `tf.keras.models.load_model`. If renaming is not possible, pass the object in the `custom_objects` parameter of the load function.\n",
      "WARNING:absl:<keras_multi_head.multi_head_attention.MultiHeadAttention object at 0x7f923949f160> has the same name 'MultiHeadAttention' as a built-in Keras object. Consider renaming <class 'keras_multi_head.multi_head_attention.MultiHeadAttention'> to avoid naming conflicts when loading with `tf.keras.models.load_model`. If renaming is not possible, pass the object in the `custom_objects` parameter of the load function.\n",
      "WARNING:absl:<keras_layer_normalization.layer_normalization.LayerNormalization object at 0x7f923940c280> has the same name 'LayerNormalization' as a built-in Keras object. Consider renaming <class 'keras_layer_normalization.layer_normalization.LayerNormalization'> to avoid naming conflicts when loading with `tf.keras.models.load_model`. If renaming is not possible, pass the object in the `custom_objects` parameter of the load function.\n",
      "WARNING:absl:<keras_layer_normalization.layer_normalization.LayerNormalization object at 0x7f923949fbb0> has the same name 'LayerNormalization' as a built-in Keras object. Consider renaming <class 'keras_layer_normalization.layer_normalization.LayerNormalization'> to avoid naming conflicts when loading with `tf.keras.models.load_model`. If renaming is not possible, pass the object in the `custom_objects` parameter of the load function.\n",
      "WARNING:absl:<keras_multi_head.multi_head_attention.MultiHeadAttention object at 0x7f92394b9340> has the same name 'MultiHeadAttention' as a built-in Keras object. Consider renaming <class 'keras_multi_head.multi_head_attention.MultiHeadAttention'> to avoid naming conflicts when loading with `tf.keras.models.load_model`. If renaming is not possible, pass the object in the `custom_objects` parameter of the load function.\n",
      "WARNING:absl:<keras_layer_normalization.layer_normalization.LayerNormalization object at 0x7f921d123a90> has the same name 'LayerNormalization' as a built-in Keras object. Consider renaming <class 'keras_layer_normalization.layer_normalization.LayerNormalization'> to avoid naming conflicts when loading with `tf.keras.models.load_model`. If renaming is not possible, pass the object in the `custom_objects` parameter of the load function.\n",
      "WARNING:absl:<keras_layer_normalization.layer_normalization.LayerNormalization object at 0x7f921ce55f70> has the same name 'LayerNormalization' as a built-in Keras object. Consider renaming <class 'keras_layer_normalization.layer_normalization.LayerNormalization'> to avoid naming conflicts when loading with `tf.keras.models.load_model`. If renaming is not possible, pass the object in the `custom_objects` parameter of the load function.\n",
      "WARNING:absl:<keras_multi_head.multi_head_attention.MultiHeadAttention object at 0x7f921fe57250> has the same name 'MultiHeadAttention' as a built-in Keras object. Consider renaming <class 'keras_multi_head.multi_head_attention.MultiHeadAttention'> to avoid naming conflicts when loading with `tf.keras.models.load_model`. If renaming is not possible, pass the object in the `custom_objects` parameter of the load function.\n",
      "WARNING:absl:<keras_layer_normalization.layer_normalization.LayerNormalization object at 0x7f923c9ad2e0> has the same name 'LayerNormalization' as a built-in Keras object. Consider renaming <class 'keras_layer_normalization.layer_normalization.LayerNormalization'> to avoid naming conflicts when loading with `tf.keras.models.load_model`. If renaming is not possible, pass the object in the `custom_objects` parameter of the load function.\n",
      "WARNING:absl:<keras_layer_normalization.layer_normalization.LayerNormalization object at 0x7f92217422b0> has the same name 'LayerNormalization' as a built-in Keras object. Consider renaming <class 'keras_layer_normalization.layer_normalization.LayerNormalization'> to avoid naming conflicts when loading with `tf.keras.models.load_model`. If renaming is not possible, pass the object in the `custom_objects` parameter of the load function.\n",
      "WARNING:absl:<keras_multi_head.multi_head_attention.MultiHeadAttention object at 0x7f9249ee6fa0> has the same name 'MultiHeadAttention' as a built-in Keras object. Consider renaming <class 'keras_multi_head.multi_head_attention.MultiHeadAttention'> to avoid naming conflicts when loading with `tf.keras.models.load_model`. If renaming is not possible, pass the object in the `custom_objects` parameter of the load function.\n",
      "WARNING:absl:<keras_layer_normalization.layer_normalization.LayerNormalization object at 0x7f923912eb50> has the same name 'LayerNormalization' as a built-in Keras object. Consider renaming <class 'keras_layer_normalization.layer_normalization.LayerNormalization'> to avoid naming conflicts when loading with `tf.keras.models.load_model`. If renaming is not possible, pass the object in the `custom_objects` parameter of the load function.\n",
      "WARNING:absl:<keras_layer_normalization.layer_normalization.LayerNormalization object at 0x7f922174ca60> has the same name 'LayerNormalization' as a built-in Keras object. Consider renaming <class 'keras_layer_normalization.layer_normalization.LayerNormalization'> to avoid naming conflicts when loading with `tf.keras.models.load_model`. If renaming is not possible, pass the object in the `custom_objects` parameter of the load function.\n",
      "WARNING:absl:<keras_multi_head.multi_head_attention.MultiHeadAttention object at 0x7f921ff20f70> has the same name 'MultiHeadAttention' as a built-in Keras object. Consider renaming <class 'keras_multi_head.multi_head_attention.MultiHeadAttention'> to avoid naming conflicts when loading with `tf.keras.models.load_model`. If renaming is not possible, pass the object in the `custom_objects` parameter of the load function.\n",
      "WARNING:absl:<keras_layer_normalization.layer_normalization.LayerNormalization object at 0x7f93d2023580> has the same name 'LayerNormalization' as a built-in Keras object. Consider renaming <class 'keras_layer_normalization.layer_normalization.LayerNormalization'> to avoid naming conflicts when loading with `tf.keras.models.load_model`. If renaming is not possible, pass the object in the `custom_objects` parameter of the load function.\n",
      "WARNING:absl:<keras_layer_normalization.layer_normalization.LayerNormalization object at 0x7f9369434670> has the same name 'LayerNormalization' as a built-in Keras object. Consider renaming <class 'keras_layer_normalization.layer_normalization.LayerNormalization'> to avoid naming conflicts when loading with `tf.keras.models.load_model`. If renaming is not possible, pass the object in the `custom_objects` parameter of the load function.\n",
      "[INFO][2023-06-01 17:41:46 - Mod: functions - Func: load_bert - Line: 997]: Fitted BERT model on dataset re8.\n",
      "INFO:log_functions:Fitted BERT model on dataset re8.\n"
     ]
    },
    {
     "name": "stdout",
     "output_type": "stream",
     "text": [
      "96/96 [==============================] - 1329s 14s/step\n",
      "              precision    recall  f1-score   support\n",
      "\n",
      "        earn       0.99      0.99      0.99      1569\n",
      "         acq       0.98      0.99      0.98       917\n",
      "       crude       0.99      0.97      0.98       150\n",
      "       trade       0.98      0.99      0.98       131\n",
      "    interest       0.86      0.91      0.88       108\n",
      "        ship       0.98      0.97      0.97        58\n",
      "       money       0.93      0.88      0.90       117\n",
      "       grain       1.00      1.00      1.00        20\n",
      "\n",
      "    accuracy                           0.98      3070\n",
      "   macro avg       0.96      0.96      0.96      3070\n",
      "weighted avg       0.98      0.98      0.98      3070\n",
      "\n"
     ]
    },
    {
     "data": {
      "text/plain": [
       "array([[1553,   16,    0,    0,    0,    0,    0,    0],\n",
       "       [   7,  907,    0,    1,    2,    0,    0,    0],\n",
       "       [   2,    2,  145,    0,    1,    0,    0,    0],\n",
       "       [   0,    0,    0,  130,    0,    1,    0,    0],\n",
       "       [   0,    0,    0,    2,   98,    0,    8,    0],\n",
       "       [   0,    1,    1,    0,    0,   56,    0,    0],\n",
       "       [   1,    0,    0,    0,   13,    0,  103,    0],\n",
       "       [   0,    0,    0,    0,    0,    0,    0,   20]])"
      ]
     },
     "execution_count": 3,
     "metadata": {},
     "output_type": "execute_result"
    }
   ],
   "source": [
    "load_bert(database_name='re8')"
   ]
  },
  {
   "cell_type": "code",
   "execution_count": 4,
   "id": "b86d7a64",
   "metadata": {},
   "outputs": [
    {
     "name": "stderr",
     "output_type": "stream",
     "text": [
      "[INFO][2023-06-01 18:03:55 - Mod: functions - Func: load_data - Line: 600]: Loaded data for nsf. 5 classes: ['data', 'politic', 'ecology', 'oceanography', 'theory']. Number of documents: 3326.\n",
      "INFO:log_functions:Loaded data for nsf. 5 classes: ['data', 'politic', 'ecology', 'oceanography', 'theory']. Number of documents: 3326.\n"
     ]
    },
    {
     "name": "stdout",
     "output_type": "stream",
     "text": [
      "preprocessing train...\n",
      "language: en\n"
     ]
    },
    {
     "data": {
      "text/html": [
       "\n",
       "<style>\n",
       "    /* Turns off some styling */\n",
       "    progress {\n",
       "        /* gets rid of default border in Firefox and Opera. */\n",
       "        border: none;\n",
       "        /* Needs to be in here for Safari polyfill so background images work as expected. */\n",
       "        background-size: auto;\n",
       "    }\n",
       "    progress:not([value]), progress:not([value])::-webkit-progress-bar {\n",
       "        background: repeating-linear-gradient(45deg, #7e7e7e, #7e7e7e 10px, #5c5c5c 10px, #5c5c5c 20px);\n",
       "    }\n",
       "    .progress-bar-interrupted, .progress-bar-interrupted::-webkit-progress-bar {\n",
       "        background: #F44336;\n",
       "    }\n",
       "</style>\n"
      ],
      "text/plain": [
       "<IPython.core.display.HTML object>"
      ]
     },
     "metadata": {},
     "output_type": "display_data"
    },
    {
     "data": {
      "text/html": [
       "done."
      ],
      "text/plain": [
       "<IPython.core.display.HTML object>"
      ]
     },
     "metadata": {},
     "output_type": "display_data"
    },
    {
     "name": "stdout",
     "output_type": "stream",
     "text": [
      "Is Multi-Label? False\n",
      "preprocessing test...\n",
      "language: en\n"
     ]
    },
    {
     "data": {
      "text/html": [
       "\n",
       "<style>\n",
       "    /* Turns off some styling */\n",
       "    progress {\n",
       "        /* gets rid of default border in Firefox and Opera. */\n",
       "        border: none;\n",
       "        /* Needs to be in here for Safari polyfill so background images work as expected. */\n",
       "        background-size: auto;\n",
       "    }\n",
       "    progress:not([value]), progress:not([value])::-webkit-progress-bar {\n",
       "        background: repeating-linear-gradient(45deg, #7e7e7e, #7e7e7e 10px, #5c5c5c 10px, #5c5c5c 20px);\n",
       "    }\n",
       "    .progress-bar-interrupted, .progress-bar-interrupted::-webkit-progress-bar {\n",
       "        background: #F44336;\n",
       "    }\n",
       "</style>\n"
      ],
      "text/plain": [
       "<IPython.core.display.HTML object>"
      ]
     },
     "metadata": {},
     "output_type": "display_data"
    },
    {
     "data": {
      "text/html": [
       "done."
      ],
      "text/plain": [
       "<IPython.core.display.HTML object>"
      ]
     },
     "metadata": {},
     "output_type": "display_data"
    },
    {
     "name": "stdout",
     "output_type": "stream",
     "text": [
      "task: text classification\n",
      "Is Multi-Label? False\n",
      "maxlen is 350\n",
      "done.\n",
      "\n",
      "\n",
      "begin training using onecycle policy with max lr of 2e-05...\n",
      "Epoch 1/4\n",
      "333/333 [==============================] - 2566s 8s/step - loss: 0.8121 - accuracy: 0.6877\n",
      "Epoch 2/4\n",
      "333/333 [==============================] - 2422s 7s/step - loss: 0.2327 - accuracy: 0.9238\n",
      "Epoch 3/4\n",
      "333/333 [==============================] - 2487s 7s/step - loss: 0.1140 - accuracy: 0.9619\n",
      "Epoch 4/4\n",
      "333/333 [==============================] - 2460s 7s/step - loss: 0.0284 - accuracy: 0.9915\n"
     ]
    },
    {
     "name": "stderr",
     "output_type": "stream",
     "text": [
      "WARNING:absl:Function `_wrapped_model` contains input name(s) Input-Token, Input-Segment with unsupported characters which will be renamed to input_token, input_segment in the SavedModel.\n",
      "WARNING:absl:<keras_layer_normalization.layer_normalization.LayerNormalization object at 0x7f923945a6a0> has the same name 'LayerNormalization' as a built-in Keras object. Consider renaming <class 'keras_layer_normalization.layer_normalization.LayerNormalization'> to avoid naming conflicts when loading with `tf.keras.models.load_model`. If renaming is not possible, pass the object in the `custom_objects` parameter of the load function.\n",
      "WARNING:absl:<keras_multi_head.multi_head_attention.MultiHeadAttention object at 0x7f923b27a610> has the same name 'MultiHeadAttention' as a built-in Keras object. Consider renaming <class 'keras_multi_head.multi_head_attention.MultiHeadAttention'> to avoid naming conflicts when loading with `tf.keras.models.load_model`. If renaming is not possible, pass the object in the `custom_objects` parameter of the load function.\n",
      "WARNING:absl:<keras_layer_normalization.layer_normalization.LayerNormalization object at 0x7f939c4ee430> has the same name 'LayerNormalization' as a built-in Keras object. Consider renaming <class 'keras_layer_normalization.layer_normalization.LayerNormalization'> to avoid naming conflicts when loading with `tf.keras.models.load_model`. If renaming is not possible, pass the object in the `custom_objects` parameter of the load function.\n",
      "WARNING:absl:<keras_layer_normalization.layer_normalization.LayerNormalization object at 0x7f921d0ce2b0> has the same name 'LayerNormalization' as a built-in Keras object. Consider renaming <class 'keras_layer_normalization.layer_normalization.LayerNormalization'> to avoid naming conflicts when loading with `tf.keras.models.load_model`. If renaming is not possible, pass the object in the `custom_objects` parameter of the load function.\n",
      "WARNING:absl:<keras_multi_head.multi_head_attention.MultiHeadAttention object at 0x7f924e157bb0> has the same name 'MultiHeadAttention' as a built-in Keras object. Consider renaming <class 'keras_multi_head.multi_head_attention.MultiHeadAttention'> to avoid naming conflicts when loading with `tf.keras.models.load_model`. If renaming is not possible, pass the object in the `custom_objects` parameter of the load function.\n",
      "WARNING:absl:<keras_layer_normalization.layer_normalization.LayerNormalization object at 0x7f936877bd90> has the same name 'LayerNormalization' as a built-in Keras object. Consider renaming <class 'keras_layer_normalization.layer_normalization.LayerNormalization'> to avoid naming conflicts when loading with `tf.keras.models.load_model`. If renaming is not possible, pass the object in the `custom_objects` parameter of the load function.\n",
      "WARNING:absl:<keras_layer_normalization.layer_normalization.LayerNormalization object at 0x7f9367a41f10> has the same name 'LayerNormalization' as a built-in Keras object. Consider renaming <class 'keras_layer_normalization.layer_normalization.LayerNormalization'> to avoid naming conflicts when loading with `tf.keras.models.load_model`. If renaming is not possible, pass the object in the `custom_objects` parameter of the load function.\n",
      "WARNING:absl:<keras_multi_head.multi_head_attention.MultiHeadAttention object at 0x7f92499ab4f0> has the same name 'MultiHeadAttention' as a built-in Keras object. Consider renaming <class 'keras_multi_head.multi_head_attention.MultiHeadAttention'> to avoid naming conflicts when loading with `tf.keras.models.load_model`. If renaming is not possible, pass the object in the `custom_objects` parameter of the load function.\n",
      "WARNING:absl:<keras_layer_normalization.layer_normalization.LayerNormalization object at 0x7f913e837c40> has the same name 'LayerNormalization' as a built-in Keras object. Consider renaming <class 'keras_layer_normalization.layer_normalization.LayerNormalization'> to avoid naming conflicts when loading with `tf.keras.models.load_model`. If renaming is not possible, pass the object in the `custom_objects` parameter of the load function.\n",
      "WARNING:absl:<keras_layer_normalization.layer_normalization.LayerNormalization object at 0x7f913e0c5ac0> has the same name 'LayerNormalization' as a built-in Keras object. Consider renaming <class 'keras_layer_normalization.layer_normalization.LayerNormalization'> to avoid naming conflicts when loading with `tf.keras.models.load_model`. If renaming is not possible, pass the object in the `custom_objects` parameter of the load function.\n",
      "WARNING:absl:<keras_multi_head.multi_head_attention.MultiHeadAttention object at 0x7f913de11d90> has the same name 'MultiHeadAttention' as a built-in Keras object. Consider renaming <class 'keras_multi_head.multi_head_attention.MultiHeadAttention'> to avoid naming conflicts when loading with `tf.keras.models.load_model`. If renaming is not possible, pass the object in the `custom_objects` parameter of the load function.\n",
      "WARNING:absl:<keras_layer_normalization.layer_normalization.LayerNormalization object at 0x7f921db96220> has the same name 'LayerNormalization' as a built-in Keras object. Consider renaming <class 'keras_layer_normalization.layer_normalization.LayerNormalization'> to avoid naming conflicts when loading with `tf.keras.models.load_model`. If renaming is not possible, pass the object in the `custom_objects` parameter of the load function.\n",
      "WARNING:absl:<keras_layer_normalization.layer_normalization.LayerNormalization object at 0x7f921db961c0> has the same name 'LayerNormalization' as a built-in Keras object. Consider renaming <class 'keras_layer_normalization.layer_normalization.LayerNormalization'> to avoid naming conflicts when loading with `tf.keras.models.load_model`. If renaming is not possible, pass the object in the `custom_objects` parameter of the load function.\n",
      "WARNING:absl:<keras_multi_head.multi_head_attention.MultiHeadAttention object at 0x7f923077d5b0> has the same name 'MultiHeadAttention' as a built-in Keras object. Consider renaming <class 'keras_multi_head.multi_head_attention.MultiHeadAttention'> to avoid naming conflicts when loading with `tf.keras.models.load_model`. If renaming is not possible, pass the object in the `custom_objects` parameter of the load function.\n",
      "WARNING:absl:<keras_layer_normalization.layer_normalization.LayerNormalization object at 0x7f9240ac4160> has the same name 'LayerNormalization' as a built-in Keras object. Consider renaming <class 'keras_layer_normalization.layer_normalization.LayerNormalization'> to avoid naming conflicts when loading with `tf.keras.models.load_model`. If renaming is not possible, pass the object in the `custom_objects` parameter of the load function.\n",
      "WARNING:absl:<keras_layer_normalization.layer_normalization.LayerNormalization object at 0x7f9240f8f370> has the same name 'LayerNormalization' as a built-in Keras object. Consider renaming <class 'keras_layer_normalization.layer_normalization.LayerNormalization'> to avoid naming conflicts when loading with `tf.keras.models.load_model`. If renaming is not possible, pass the object in the `custom_objects` parameter of the load function.\n",
      "WARNING:absl:<keras_multi_head.multi_head_attention.MultiHeadAttention object at 0x7f9143a21ee0> has the same name 'MultiHeadAttention' as a built-in Keras object. Consider renaming <class 'keras_multi_head.multi_head_attention.MultiHeadAttention'> to avoid naming conflicts when loading with `tf.keras.models.load_model`. If renaming is not possible, pass the object in the `custom_objects` parameter of the load function.\n",
      "WARNING:absl:<keras_layer_normalization.layer_normalization.LayerNormalization object at 0x7f913d693d00> has the same name 'LayerNormalization' as a built-in Keras object. Consider renaming <class 'keras_layer_normalization.layer_normalization.LayerNormalization'> to avoid naming conflicts when loading with `tf.keras.models.load_model`. If renaming is not possible, pass the object in the `custom_objects` parameter of the load function.\n",
      "WARNING:absl:<keras_layer_normalization.layer_normalization.LayerNormalization object at 0x7f913de01760> has the same name 'LayerNormalization' as a built-in Keras object. Consider renaming <class 'keras_layer_normalization.layer_normalization.LayerNormalization'> to avoid naming conflicts when loading with `tf.keras.models.load_model`. If renaming is not possible, pass the object in the `custom_objects` parameter of the load function.\n"
     ]
    },
    {
     "name": "stderr",
     "output_type": "stream",
     "text": [
      "WARNING:absl:<keras_multi_head.multi_head_attention.MultiHeadAttention object at 0x7f913d02cb20> has the same name 'MultiHeadAttention' as a built-in Keras object. Consider renaming <class 'keras_multi_head.multi_head_attention.MultiHeadAttention'> to avoid naming conflicts when loading with `tf.keras.models.load_model`. If renaming is not possible, pass the object in the `custom_objects` parameter of the load function.\n",
      "WARNING:absl:<keras_layer_normalization.layer_normalization.LayerNormalization object at 0x7f921ea3b640> has the same name 'LayerNormalization' as a built-in Keras object. Consider renaming <class 'keras_layer_normalization.layer_normalization.LayerNormalization'> to avoid naming conflicts when loading with `tf.keras.models.load_model`. If renaming is not possible, pass the object in the `custom_objects` parameter of the load function.\n",
      "WARNING:absl:<keras_layer_normalization.layer_normalization.LayerNormalization object at 0x7f913d634d60> has the same name 'LayerNormalization' as a built-in Keras object. Consider renaming <class 'keras_layer_normalization.layer_normalization.LayerNormalization'> to avoid naming conflicts when loading with `tf.keras.models.load_model`. If renaming is not possible, pass the object in the `custom_objects` parameter of the load function.\n",
      "WARNING:absl:<keras_multi_head.multi_head_attention.MultiHeadAttention object at 0x7f913d3fc130> has the same name 'MultiHeadAttention' as a built-in Keras object. Consider renaming <class 'keras_multi_head.multi_head_attention.MultiHeadAttention'> to avoid naming conflicts when loading with `tf.keras.models.load_model`. If renaming is not possible, pass the object in the `custom_objects` parameter of the load function.\n",
      "WARNING:absl:<keras_layer_normalization.layer_normalization.LayerNormalization object at 0x7f913de3c520> has the same name 'LayerNormalization' as a built-in Keras object. Consider renaming <class 'keras_layer_normalization.layer_normalization.LayerNormalization'> to avoid naming conflicts when loading with `tf.keras.models.load_model`. If renaming is not possible, pass the object in the `custom_objects` parameter of the load function.\n",
      "WARNING:absl:<keras_layer_normalization.layer_normalization.LayerNormalization object at 0x7f923b250df0> has the same name 'LayerNormalization' as a built-in Keras object. Consider renaming <class 'keras_layer_normalization.layer_normalization.LayerNormalization'> to avoid naming conflicts when loading with `tf.keras.models.load_model`. If renaming is not possible, pass the object in the `custom_objects` parameter of the load function.\n",
      "WARNING:absl:<keras_multi_head.multi_head_attention.MultiHeadAttention object at 0x7f939c4e5160> has the same name 'MultiHeadAttention' as a built-in Keras object. Consider renaming <class 'keras_multi_head.multi_head_attention.MultiHeadAttention'> to avoid naming conflicts when loading with `tf.keras.models.load_model`. If renaming is not possible, pass the object in the `custom_objects` parameter of the load function.\n",
      "WARNING:absl:<keras_layer_normalization.layer_normalization.LayerNormalization object at 0x7f923b26d280> has the same name 'LayerNormalization' as a built-in Keras object. Consider renaming <class 'keras_layer_normalization.layer_normalization.LayerNormalization'> to avoid naming conflicts when loading with `tf.keras.models.load_model`. If renaming is not possible, pass the object in the `custom_objects` parameter of the load function.\n",
      "WARNING:absl:<keras_layer_normalization.layer_normalization.LayerNormalization object at 0x7f921d0f6970> has the same name 'LayerNormalization' as a built-in Keras object. Consider renaming <class 'keras_layer_normalization.layer_normalization.LayerNormalization'> to avoid naming conflicts when loading with `tf.keras.models.load_model`. If renaming is not possible, pass the object in the `custom_objects` parameter of the load function.\n",
      "WARNING:absl:<keras_multi_head.multi_head_attention.MultiHeadAttention object at 0x7f921d0cec70> has the same name 'MultiHeadAttention' as a built-in Keras object. Consider renaming <class 'keras_multi_head.multi_head_attention.MultiHeadAttention'> to avoid naming conflicts when loading with `tf.keras.models.load_model`. If renaming is not possible, pass the object in the `custom_objects` parameter of the load function.\n",
      "WARNING:absl:<keras_layer_normalization.layer_normalization.LayerNormalization object at 0x7f939d3432b0> has the same name 'LayerNormalization' as a built-in Keras object. Consider renaming <class 'keras_layer_normalization.layer_normalization.LayerNormalization'> to avoid naming conflicts when loading with `tf.keras.models.load_model`. If renaming is not possible, pass the object in the `custom_objects` parameter of the load function.\n",
      "WARNING:absl:<keras_layer_normalization.layer_normalization.LayerNormalization object at 0x7f921e042610> has the same name 'LayerNormalization' as a built-in Keras object. Consider renaming <class 'keras_layer_normalization.layer_normalization.LayerNormalization'> to avoid naming conflicts when loading with `tf.keras.models.load_model`. If renaming is not possible, pass the object in the `custom_objects` parameter of the load function.\n",
      "WARNING:absl:<keras_multi_head.multi_head_attention.MultiHeadAttention object at 0x7f921d0d4d90> has the same name 'MultiHeadAttention' as a built-in Keras object. Consider renaming <class 'keras_multi_head.multi_head_attention.MultiHeadAttention'> to avoid naming conflicts when loading with `tf.keras.models.load_model`. If renaming is not possible, pass the object in the `custom_objects` parameter of the load function.\n",
      "WARNING:absl:<keras_layer_normalization.layer_normalization.LayerNormalization object at 0x7f93b56ed310> has the same name 'LayerNormalization' as a built-in Keras object. Consider renaming <class 'keras_layer_normalization.layer_normalization.LayerNormalization'> to avoid naming conflicts when loading with `tf.keras.models.load_model`. If renaming is not possible, pass the object in the `custom_objects` parameter of the load function.\n",
      "WARNING:absl:<keras_layer_normalization.layer_normalization.LayerNormalization object at 0x7f924b3907c0> has the same name 'LayerNormalization' as a built-in Keras object. Consider renaming <class 'keras_layer_normalization.layer_normalization.LayerNormalization'> to avoid naming conflicts when loading with `tf.keras.models.load_model`. If renaming is not possible, pass the object in the `custom_objects` parameter of the load function.\n",
      "WARNING:absl:<keras_multi_head.multi_head_attention.MultiHeadAttention object at 0x7f924a4794c0> has the same name 'MultiHeadAttention' as a built-in Keras object. Consider renaming <class 'keras_multi_head.multi_head_attention.MultiHeadAttention'> to avoid naming conflicts when loading with `tf.keras.models.load_model`. If renaming is not possible, pass the object in the `custom_objects` parameter of the load function.\n",
      "WARNING:absl:<keras_layer_normalization.layer_normalization.LayerNormalization object at 0x7f939c79d4f0> has the same name 'LayerNormalization' as a built-in Keras object. Consider renaming <class 'keras_layer_normalization.layer_normalization.LayerNormalization'> to avoid naming conflicts when loading with `tf.keras.models.load_model`. If renaming is not possible, pass the object in the `custom_objects` parameter of the load function.\n",
      "WARNING:absl:<keras_layer_normalization.layer_normalization.LayerNormalization object at 0x7f9240fa6460> has the same name 'LayerNormalization' as a built-in Keras object. Consider renaming <class 'keras_layer_normalization.layer_normalization.LayerNormalization'> to avoid naming conflicts when loading with `tf.keras.models.load_model`. If renaming is not possible, pass the object in the `custom_objects` parameter of the load function.\n",
      "[INFO][2023-06-01 20:50:10 - Mod: functions - Func: load_bert - Line: 997]: Fitted BERT model on dataset nsf.\n",
      "INFO:log_functions:Fitted BERT model on dataset nsf.\n"
     ]
    },
    {
     "name": "stdout",
     "output_type": "stream",
     "text": [
      "42/42 [==============================] - 497s 12s/step\n",
      "              precision    recall  f1-score   support\n",
      "\n",
      "        data       0.94      0.91      0.92       161\n",
      "     politic       0.98      0.96      0.97       241\n",
      "     ecology       0.92      0.91      0.92       356\n",
      "oceanography       0.92      0.94      0.93       396\n",
      "      theory       0.92      0.97      0.94       177\n",
      "\n",
      "    accuracy                           0.93      1331\n",
      "   macro avg       0.94      0.94      0.94      1331\n",
      "weighted avg       0.93      0.93      0.93      1331\n",
      "\n"
     ]
    },
    {
     "data": {
      "text/plain": [
       "array([[146,   1,   1,   1,  12],\n",
       "       [  5, 231,   3,   0,   2],\n",
       "       [  1,   1, 323,  31,   0],\n",
       "       [  0,   2,  23, 371,   0],\n",
       "       [  4,   1,   0,   1, 171]])"
      ]
     },
     "execution_count": 4,
     "metadata": {},
     "output_type": "execute_result"
    }
   ],
   "source": [
    "load_bert(database_name='nsf')"
   ]
  },
  {
   "cell_type": "code",
   "execution_count": 5,
   "id": "901accda",
   "metadata": {},
   "outputs": [
    {
     "name": "stderr",
     "output_type": "stream",
     "text": [
      "[INFO][2023-06-01 21:34:11 - Mod: functions - Func: load_data - Line: 600]: Loaded data for webkb. 5 classes: ['other', 'course', 'student', 'department', 'staff']. Number of documents: 6654.\n",
      "INFO:log_functions:Loaded data for webkb. 5 classes: ['other', 'course', 'student', 'department', 'staff']. Number of documents: 6654.\n"
     ]
    },
    {
     "name": "stdout",
     "output_type": "stream",
     "text": [
      "preprocessing train...\n",
      "language: en\n"
     ]
    },
    {
     "data": {
      "text/html": [
       "\n",
       "<style>\n",
       "    /* Turns off some styling */\n",
       "    progress {\n",
       "        /* gets rid of default border in Firefox and Opera. */\n",
       "        border: none;\n",
       "        /* Needs to be in here for Safari polyfill so background images work as expected. */\n",
       "        background-size: auto;\n",
       "    }\n",
       "    progress:not([value]), progress:not([value])::-webkit-progress-bar {\n",
       "        background: repeating-linear-gradient(45deg, #7e7e7e, #7e7e7e 10px, #5c5c5c 10px, #5c5c5c 20px);\n",
       "    }\n",
       "    .progress-bar-interrupted, .progress-bar-interrupted::-webkit-progress-bar {\n",
       "        background: #F44336;\n",
       "    }\n",
       "</style>\n"
      ],
      "text/plain": [
       "<IPython.core.display.HTML object>"
      ]
     },
     "metadata": {},
     "output_type": "display_data"
    },
    {
     "data": {
      "text/html": [
       "done."
      ],
      "text/plain": [
       "<IPython.core.display.HTML object>"
      ]
     },
     "metadata": {},
     "output_type": "display_data"
    },
    {
     "name": "stdout",
     "output_type": "stream",
     "text": [
      "Is Multi-Label? False\n",
      "preprocessing test...\n",
      "language: en\n"
     ]
    },
    {
     "data": {
      "text/html": [
       "\n",
       "<style>\n",
       "    /* Turns off some styling */\n",
       "    progress {\n",
       "        /* gets rid of default border in Firefox and Opera. */\n",
       "        border: none;\n",
       "        /* Needs to be in here for Safari polyfill so background images work as expected. */\n",
       "        background-size: auto;\n",
       "    }\n",
       "    progress:not([value]), progress:not([value])::-webkit-progress-bar {\n",
       "        background: repeating-linear-gradient(45deg, #7e7e7e, #7e7e7e 10px, #5c5c5c 10px, #5c5c5c 20px);\n",
       "    }\n",
       "    .progress-bar-interrupted, .progress-bar-interrupted::-webkit-progress-bar {\n",
       "        background: #F44336;\n",
       "    }\n",
       "</style>\n"
      ],
      "text/plain": [
       "<IPython.core.display.HTML object>"
      ]
     },
     "metadata": {},
     "output_type": "display_data"
    },
    {
     "data": {
      "text/html": [
       "done."
      ],
      "text/plain": [
       "<IPython.core.display.HTML object>"
      ]
     },
     "metadata": {},
     "output_type": "display_data"
    },
    {
     "name": "stdout",
     "output_type": "stream",
     "text": [
      "task: text classification\n",
      "Is Multi-Label? False\n",
      "maxlen is 350\n",
      "done.\n",
      "\n",
      "\n",
      "begin training using onecycle policy with max lr of 2e-05...\n",
      "Epoch 1/4\n",
      "666/666 [==============================] - 5586s 8s/step - loss: 0.7138 - accuracy: 0.7295\n",
      "Epoch 2/4\n",
      "666/666 [==============================] - 5162s 8s/step - loss: 0.3031 - accuracy: 0.8943\n",
      "Epoch 3/4\n",
      "666/666 [==============================] - 4816s 7s/step - loss: 0.1439 - accuracy: 0.9529\n",
      "Epoch 4/4\n",
      "666/666 [==============================] - 4819s 7s/step - loss: 0.0518 - accuracy: 0.9825\n"
     ]
    },
    {
     "name": "stderr",
     "output_type": "stream",
     "text": [
      "WARNING:absl:Function `_wrapped_model` contains input name(s) Input-Token, Input-Segment with unsupported characters which will be renamed to input_token, input_segment in the SavedModel.\n",
      "WARNING:absl:<keras_layer_normalization.layer_normalization.LayerNormalization object at 0x7f921dba7790> has the same name 'LayerNormalization' as a built-in Keras object. Consider renaming <class 'keras_layer_normalization.layer_normalization.LayerNormalization'> to avoid naming conflicts when loading with `tf.keras.models.load_model`. If renaming is not possible, pass the object in the `custom_objects` parameter of the load function.\n",
      "WARNING:absl:<keras_multi_head.multi_head_attention.MultiHeadAttention object at 0x7f923a473040> has the same name 'MultiHeadAttention' as a built-in Keras object. Consider renaming <class 'keras_multi_head.multi_head_attention.MultiHeadAttention'> to avoid naming conflicts when loading with `tf.keras.models.load_model`. If renaming is not possible, pass the object in the `custom_objects` parameter of the load function.\n",
      "WARNING:absl:<keras_layer_normalization.layer_normalization.LayerNormalization object at 0x7f9395956b50> has the same name 'LayerNormalization' as a built-in Keras object. Consider renaming <class 'keras_layer_normalization.layer_normalization.LayerNormalization'> to avoid naming conflicts when loading with `tf.keras.models.load_model`. If renaming is not possible, pass the object in the `custom_objects` parameter of the load function.\n",
      "WARNING:absl:<keras_layer_normalization.layer_normalization.LayerNormalization object at 0x7f936921cc40> has the same name 'LayerNormalization' as a built-in Keras object. Consider renaming <class 'keras_layer_normalization.layer_normalization.LayerNormalization'> to avoid naming conflicts when loading with `tf.keras.models.load_model`. If renaming is not possible, pass the object in the `custom_objects` parameter of the load function.\n",
      "WARNING:absl:<keras_multi_head.multi_head_attention.MultiHeadAttention object at 0x7f9216275a90> has the same name 'MultiHeadAttention' as a built-in Keras object. Consider renaming <class 'keras_multi_head.multi_head_attention.MultiHeadAttention'> to avoid naming conflicts when loading with `tf.keras.models.load_model`. If renaming is not possible, pass the object in the `custom_objects` parameter of the load function.\n",
      "WARNING:absl:<keras_layer_normalization.layer_normalization.LayerNormalization object at 0x7f924e7b63d0> has the same name 'LayerNormalization' as a built-in Keras object. Consider renaming <class 'keras_layer_normalization.layer_normalization.LayerNormalization'> to avoid naming conflicts when loading with `tf.keras.models.load_model`. If renaming is not possible, pass the object in the `custom_objects` parameter of the load function.\n",
      "WARNING:absl:<keras_layer_normalization.layer_normalization.LayerNormalization object at 0x7f9368730250> has the same name 'LayerNormalization' as a built-in Keras object. Consider renaming <class 'keras_layer_normalization.layer_normalization.LayerNormalization'> to avoid naming conflicts when loading with `tf.keras.models.load_model`. If renaming is not possible, pass the object in the `custom_objects` parameter of the load function.\n",
      "WARNING:absl:<keras_multi_head.multi_head_attention.MultiHeadAttention object at 0x7f936912fbe0> has the same name 'MultiHeadAttention' as a built-in Keras object. Consider renaming <class 'keras_multi_head.multi_head_attention.MultiHeadAttention'> to avoid naming conflicts when loading with `tf.keras.models.load_model`. If renaming is not possible, pass the object in the `custom_objects` parameter of the load function.\n",
      "WARNING:absl:<keras_layer_normalization.layer_normalization.LayerNormalization object at 0x7f921db5e340> has the same name 'LayerNormalization' as a built-in Keras object. Consider renaming <class 'keras_layer_normalization.layer_normalization.LayerNormalization'> to avoid naming conflicts when loading with `tf.keras.models.load_model`. If renaming is not possible, pass the object in the `custom_objects` parameter of the load function.\n",
      "WARNING:absl:<keras_layer_normalization.layer_normalization.LayerNormalization object at 0x7f921ea00970> has the same name 'LayerNormalization' as a built-in Keras object. Consider renaming <class 'keras_layer_normalization.layer_normalization.LayerNormalization'> to avoid naming conflicts when loading with `tf.keras.models.load_model`. If renaming is not possible, pass the object in the `custom_objects` parameter of the load function.\n",
      "WARNING:absl:<keras_multi_head.multi_head_attention.MultiHeadAttention object at 0x7f9216f25ee0> has the same name 'MultiHeadAttention' as a built-in Keras object. Consider renaming <class 'keras_multi_head.multi_head_attention.MultiHeadAttention'> to avoid naming conflicts when loading with `tf.keras.models.load_model`. If renaming is not possible, pass the object in the `custom_objects` parameter of the load function.\n",
      "WARNING:absl:<keras_layer_normalization.layer_normalization.LayerNormalization object at 0x7f924a4ba340> has the same name 'LayerNormalization' as a built-in Keras object. Consider renaming <class 'keras_layer_normalization.layer_normalization.LayerNormalization'> to avoid naming conflicts when loading with `tf.keras.models.load_model`. If renaming is not possible, pass the object in the `custom_objects` parameter of the load function.\n",
      "WARNING:absl:<keras_layer_normalization.layer_normalization.LayerNormalization object at 0x7f9240f121f0> has the same name 'LayerNormalization' as a built-in Keras object. Consider renaming <class 'keras_layer_normalization.layer_normalization.LayerNormalization'> to avoid naming conflicts when loading with `tf.keras.models.load_model`. If renaming is not possible, pass the object in the `custom_objects` parameter of the load function.\n",
      "WARNING:absl:<keras_multi_head.multi_head_attention.MultiHeadAttention object at 0x7f9240f3e1f0> has the same name 'MultiHeadAttention' as a built-in Keras object. Consider renaming <class 'keras_multi_head.multi_head_attention.MultiHeadAttention'> to avoid naming conflicts when loading with `tf.keras.models.load_model`. If renaming is not possible, pass the object in the `custom_objects` parameter of the load function.\n",
      "WARNING:absl:<keras_layer_normalization.layer_normalization.LayerNormalization object at 0x7f9240f00cd0> has the same name 'LayerNormalization' as a built-in Keras object. Consider renaming <class 'keras_layer_normalization.layer_normalization.LayerNormalization'> to avoid naming conflicts when loading with `tf.keras.models.load_model`. If renaming is not possible, pass the object in the `custom_objects` parameter of the load function.\n",
      "WARNING:absl:<keras_layer_normalization.layer_normalization.LayerNormalization object at 0x7f921d121eb0> has the same name 'LayerNormalization' as a built-in Keras object. Consider renaming <class 'keras_layer_normalization.layer_normalization.LayerNormalization'> to avoid naming conflicts when loading with `tf.keras.models.load_model`. If renaming is not possible, pass the object in the `custom_objects` parameter of the load function.\n",
      "WARNING:absl:<keras_multi_head.multi_head_attention.MultiHeadAttention object at 0x7f92323163a0> has the same name 'MultiHeadAttention' as a built-in Keras object. Consider renaming <class 'keras_multi_head.multi_head_attention.MultiHeadAttention'> to avoid naming conflicts when loading with `tf.keras.models.load_model`. If renaming is not possible, pass the object in the `custom_objects` parameter of the load function.\n",
      "WARNING:absl:<keras_layer_normalization.layer_normalization.LayerNormalization object at 0x7f924c8525e0> has the same name 'LayerNormalization' as a built-in Keras object. Consider renaming <class 'keras_layer_normalization.layer_normalization.LayerNormalization'> to avoid naming conflicts when loading with `tf.keras.models.load_model`. If renaming is not possible, pass the object in the `custom_objects` parameter of the load function.\n",
      "WARNING:absl:<keras_layer_normalization.layer_normalization.LayerNormalization object at 0x7f9237f65eb0> has the same name 'LayerNormalization' as a built-in Keras object. Consider renaming <class 'keras_layer_normalization.layer_normalization.LayerNormalization'> to avoid naming conflicts when loading with `tf.keras.models.load_model`. If renaming is not possible, pass the object in the `custom_objects` parameter of the load function.\n"
     ]
    },
    {
     "name": "stderr",
     "output_type": "stream",
     "text": [
      "WARNING:absl:<keras_multi_head.multi_head_attention.MultiHeadAttention object at 0x7f9237f6d040> has the same name 'MultiHeadAttention' as a built-in Keras object. Consider renaming <class 'keras_multi_head.multi_head_attention.MultiHeadAttention'> to avoid naming conflicts when loading with `tf.keras.models.load_model`. If renaming is not possible, pass the object in the `custom_objects` parameter of the load function.\n",
      "WARNING:absl:<keras_layer_normalization.layer_normalization.LayerNormalization object at 0x7f9145924af0> has the same name 'LayerNormalization' as a built-in Keras object. Consider renaming <class 'keras_layer_normalization.layer_normalization.LayerNormalization'> to avoid naming conflicts when loading with `tf.keras.models.load_model`. If renaming is not possible, pass the object in the `custom_objects` parameter of the load function.\n",
      "WARNING:absl:<keras_layer_normalization.layer_normalization.LayerNormalization object at 0x7f939c204910> has the same name 'LayerNormalization' as a built-in Keras object. Consider renaming <class 'keras_layer_normalization.layer_normalization.LayerNormalization'> to avoid naming conflicts when loading with `tf.keras.models.load_model`. If renaming is not possible, pass the object in the `custom_objects` parameter of the load function.\n",
      "WARNING:absl:<keras_multi_head.multi_head_attention.MultiHeadAttention object at 0x7f923a400ee0> has the same name 'MultiHeadAttention' as a built-in Keras object. Consider renaming <class 'keras_multi_head.multi_head_attention.MultiHeadAttention'> to avoid naming conflicts when loading with `tf.keras.models.load_model`. If renaming is not possible, pass the object in the `custom_objects` parameter of the load function.\n",
      "WARNING:absl:<keras_layer_normalization.layer_normalization.LayerNormalization object at 0x7f923074af40> has the same name 'LayerNormalization' as a built-in Keras object. Consider renaming <class 'keras_layer_normalization.layer_normalization.LayerNormalization'> to avoid naming conflicts when loading with `tf.keras.models.load_model`. If renaming is not possible, pass the object in the `custom_objects` parameter of the load function.\n",
      "WARNING:absl:<keras_layer_normalization.layer_normalization.LayerNormalization object at 0x7f923233d6d0> has the same name 'LayerNormalization' as a built-in Keras object. Consider renaming <class 'keras_layer_normalization.layer_normalization.LayerNormalization'> to avoid naming conflicts when loading with `tf.keras.models.load_model`. If renaming is not possible, pass the object in the `custom_objects` parameter of the load function.\n",
      "WARNING:absl:<keras_multi_head.multi_head_attention.MultiHeadAttention object at 0x7f923233ff10> has the same name 'MultiHeadAttention' as a built-in Keras object. Consider renaming <class 'keras_multi_head.multi_head_attention.MultiHeadAttention'> to avoid naming conflicts when loading with `tf.keras.models.load_model`. If renaming is not possible, pass the object in the `custom_objects` parameter of the load function.\n",
      "WARNING:absl:<keras_layer_normalization.layer_normalization.LayerNormalization object at 0x7f9215ea9190> has the same name 'LayerNormalization' as a built-in Keras object. Consider renaming <class 'keras_layer_normalization.layer_normalization.LayerNormalization'> to avoid naming conflicts when loading with `tf.keras.models.load_model`. If renaming is not possible, pass the object in the `custom_objects` parameter of the load function.\n",
      "WARNING:absl:<keras_layer_normalization.layer_normalization.LayerNormalization object at 0x7f93959776a0> has the same name 'LayerNormalization' as a built-in Keras object. Consider renaming <class 'keras_layer_normalization.layer_normalization.LayerNormalization'> to avoid naming conflicts when loading with `tf.keras.models.load_model`. If renaming is not possible, pass the object in the `custom_objects` parameter of the load function.\n",
      "WARNING:absl:<keras_multi_head.multi_head_attention.MultiHeadAttention object at 0x7f9215e93cd0> has the same name 'MultiHeadAttention' as a built-in Keras object. Consider renaming <class 'keras_multi_head.multi_head_attention.MultiHeadAttention'> to avoid naming conflicts when loading with `tf.keras.models.load_model`. If renaming is not possible, pass the object in the `custom_objects` parameter of the load function.\n",
      "WARNING:absl:<keras_layer_normalization.layer_normalization.LayerNormalization object at 0x7f913ec419a0> has the same name 'LayerNormalization' as a built-in Keras object. Consider renaming <class 'keras_layer_normalization.layer_normalization.LayerNormalization'> to avoid naming conflicts when loading with `tf.keras.models.load_model`. If renaming is not possible, pass the object in the `custom_objects` parameter of the load function.\n",
      "WARNING:absl:<keras_layer_normalization.layer_normalization.LayerNormalization object at 0x7f939b43da00> has the same name 'LayerNormalization' as a built-in Keras object. Consider renaming <class 'keras_layer_normalization.layer_normalization.LayerNormalization'> to avoid naming conflicts when loading with `tf.keras.models.load_model`. If renaming is not possible, pass the object in the `custom_objects` parameter of the load function.\n",
      "WARNING:absl:<keras_multi_head.multi_head_attention.MultiHeadAttention object at 0x7f913f361160> has the same name 'MultiHeadAttention' as a built-in Keras object. Consider renaming <class 'keras_multi_head.multi_head_attention.MultiHeadAttention'> to avoid naming conflicts when loading with `tf.keras.models.load_model`. If renaming is not possible, pass the object in the `custom_objects` parameter of the load function.\n",
      "WARNING:absl:<keras_layer_normalization.layer_normalization.LayerNormalization object at 0x7f914086f6a0> has the same name 'LayerNormalization' as a built-in Keras object. Consider renaming <class 'keras_layer_normalization.layer_normalization.LayerNormalization'> to avoid naming conflicts when loading with `tf.keras.models.load_model`. If renaming is not possible, pass the object in the `custom_objects` parameter of the load function.\n",
      "WARNING:absl:<keras_layer_normalization.layer_normalization.LayerNormalization object at 0x7f923a4665b0> has the same name 'LayerNormalization' as a built-in Keras object. Consider renaming <class 'keras_layer_normalization.layer_normalization.LayerNormalization'> to avoid naming conflicts when loading with `tf.keras.models.load_model`. If renaming is not possible, pass the object in the `custom_objects` parameter of the load function.\n",
      "WARNING:absl:<keras_multi_head.multi_head_attention.MultiHeadAttention object at 0x7f921ea0ce80> has the same name 'MultiHeadAttention' as a built-in Keras object. Consider renaming <class 'keras_multi_head.multi_head_attention.MultiHeadAttention'> to avoid naming conflicts when loading with `tf.keras.models.load_model`. If renaming is not possible, pass the object in the `custom_objects` parameter of the load function.\n",
      "WARNING:absl:<keras_layer_normalization.layer_normalization.LayerNormalization object at 0x7f921e886070> has the same name 'LayerNormalization' as a built-in Keras object. Consider renaming <class 'keras_layer_normalization.layer_normalization.LayerNormalization'> to avoid naming conflicts when loading with `tf.keras.models.load_model`. If renaming is not possible, pass the object in the `custom_objects` parameter of the load function.\n",
      "WARNING:absl:<keras_layer_normalization.layer_normalization.LayerNormalization object at 0x7f93694a08b0> has the same name 'LayerNormalization' as a built-in Keras object. Consider renaming <class 'keras_layer_normalization.layer_normalization.LayerNormalization'> to avoid naming conflicts when loading with `tf.keras.models.load_model`. If renaming is not possible, pass the object in the `custom_objects` parameter of the load function.\n",
      "[INFO][2023-06-02 03:15:01 - Mod: functions - Func: load_bert - Line: 997]: Fitted BERT model on dataset webkb.\n",
      "INFO:log_functions:Fitted BERT model on dataset webkb.\n"
     ]
    },
    {
     "name": "stdout",
     "output_type": "stream",
     "text": [
      "84/84 [==============================] - 981s 12s/step\n",
      "              precision    recall  f1-score   support\n",
      "\n",
      "       other       0.96      0.94      0.95      1506\n",
      "      course       0.89      0.93      0.91       372\n",
      "     student       0.92      0.95      0.93       656\n",
      "  department       0.91      0.95      0.93        73\n",
      "       staff       0.73      0.69      0.71        55\n",
      "\n",
      "    accuracy                           0.93      2662\n",
      "   macro avg       0.88      0.89      0.89      2662\n",
      "weighted avg       0.93      0.93      0.93      2662\n",
      "\n"
     ]
    },
    {
     "data": {
      "text/plain": [
       "array([[1410,   41,   43,    7,    5],\n",
       "       [  27,  345,    0,    0,    0],\n",
       "       [  25,    0,  622,    0,    9],\n",
       "       [   4,    0,    0,   69,    0],\n",
       "       [   3,    0,   14,    0,   38]])"
      ]
     },
     "execution_count": 5,
     "metadata": {},
     "output_type": "execute_result"
    }
   ],
   "source": [
    "load_bert(database_name='webkb')"
   ]
  }
 ],
 "metadata": {
  "kernelspec": {
   "display_name": "Python 3 (ipykernel)",
   "language": "python",
   "name": "python3"
  },
  "language_info": {
   "codemirror_mode": {
    "name": "ipython",
    "version": 3
   },
   "file_extension": ".py",
   "mimetype": "text/x-python",
   "name": "python",
   "nbconvert_exporter": "python",
   "pygments_lexer": "ipython3",
   "version": "3.9.12"
  }
 },
 "nbformat": 4,
 "nbformat_minor": 5
}
